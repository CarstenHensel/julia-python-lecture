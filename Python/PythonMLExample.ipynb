{
 "cells": [
  {
   "cell_type": "markdown",
   "id": "b0662494-cbcc-430f-a3bb-69e441c594ce",
   "metadata": {},
   "source": [
    "# Python ML Example with Keras\n",
    "(based on https://elitedatascience.com/keras-tutorial-deep-learning-in-python)"
   ]
  },
  {
   "cell_type": "markdown",
   "id": "d3884101-f102-4efe-9b20-bbe7c5321e95",
   "metadata": {},
   "source": [
    "### Why Keras?"
   ]
  },
  {
   "cell_type": "markdown",
   "id": "3e45c158-2363-4d2e-bbb1-b04bb9ab6755",
   "metadata": {},
   "source": [
    "- Keras recommended library for deep learning in Python, especially for beginners. - Its minimalistic, modular approach makes it a breeze to get deep neural networks up and running.\n",
    "- You can read more about it here:\n",
    "\n",
    "https://elitedatascience.com/python-deep-learning-libraries#keras"
   ]
  },
  {
   "cell_type": "markdown",
   "id": "bc91a72e-962d-4012-9bb3-545ef69452c7",
   "metadata": {},
   "source": [
    "### What is Deep Learning?"
   ]
  },
  {
   "cell_type": "markdown",
   "id": "212ae0d3-c648-441d-b70e-16f5f205780a",
   "metadata": {},
   "source": [
    "- **Deep learning** refers to neural networks with multiple hidden layers that can learn increasingly abstract representations of the input data.\n",
    "    - This is obviously an oversimplification, but it’s a practical definition for us right now.\n",
    "\n",
    "- For example, deep learning has led to major advances in computer vision.\n",
    "- We’re now able to classify images, find objects in them, and even label them with captions.\n",
    "- To do so, deep neural networks with many hidden layers can sequentially learn more complex features from the raw input image:\n",
    "    - The first hidden layers might only learn local edge patterns.\n",
    "    - Then, each subsequent layer (or filter) learns more complex representations.\n",
    "    - Finally, the last layer can classify the image as a cat or kangaroo.\n",
    "- These types of deep neural networks are called **Convolutional Neural Networks**."
   ]
  },
  {
   "cell_type": "markdown",
   "id": "9448fd5f-9d05-4901-8321-a649b34e411b",
   "metadata": {},
   "source": [
    "### What are Convolutional Neural Networks?"
   ]
  },
  {
   "cell_type": "markdown",
   "id": "d6e61c50-107f-49d3-b5ce-d051f70cda37",
   "metadata": {},
   "source": [
    "- Convolutional Neural Networks (CNN’s) are multi-layer neural networks (sometimes up to 17 or more layers) that assume the input data to be images."
   ]
  },
  {
   "cell_type": "markdown",
   "id": "e56e22ca-7f31-4053-99a0-851e0da96f4d",
   "metadata": {},
   "source": [
    "![](Images/typical_cnn_architecture.png)"
   ]
  },
  {
   "cell_type": "markdown",
   "id": "90966227-bf16-4566-8e3e-64d430f890c8",
   "metadata": {},
   "source": [
    "- By making this requirement, CNN’s can drastically reduce the number of parameters that need to be tuned.\n",
    "- Therefore, CNN’s can efficiently handle the high dimensionality of raw images.\n",
    "\n",
    "- Their underlying mechanics are beyond the scope of this tutorial.\n",
    "  (https://cs231n.github.io/convolutional-networks/)"
   ]
  },
  {
   "cell_type": "markdown",
   "id": "a45cf697-0e53-46af-a6ea-199f72004263",
   "metadata": {},
   "source": [
    "### What we can't offer in this tutorial..."
   ]
  },
  {
   "cell_type": "markdown",
   "id": "4fad8720-6bb7-40a4-8dd2-4170c320897f",
   "metadata": {},
   "source": [
    "- This is not a complete course on deep learning.\n",
    "- Instead, this tutorial is meant to get you from zero to your first Convolutional Neural Network with as little headache as possible!\n",
    "- It demonstrates the power of Python and serves as an use case example for Python."
   ]
  },
  {
   "cell_type": "markdown",
   "id": "ed7e090d-2b8d-416c-93d9-05065b2afc1a",
   "metadata": {},
   "source": [
    "# 7 Steps towards a first CNN"
   ]
  },
  {
   "cell_type": "markdown",
   "id": "8e222ee8-5f63-406e-9cb3-bc682d1774e3",
   "metadata": {},
   "source": [
    "### Step 1: Import libraries"
   ]
  },
  {
   "cell_type": "markdown",
   "id": "6fe392f8-b8e4-46e2-b831-b4486f0aa874",
   "metadata": {},
   "source": [
    "- Let’s start by importing matplotlib and numpy. \n",
    "- Then set a seed for the computer’s pseudorandom number generator. "
   ]
  },
  {
   "cell_type": "code",
   "execution_count": 1,
   "id": "9ccada2e",
   "metadata": {},
   "outputs": [],
   "source": [
    "import matplotlib\n",
    "import numpy as np\n",
    "np.random.seed(123)"
   ]
  },
  {
   "cell_type": "markdown",
   "id": "03279eac-da54-470c-b165-1f0a977da88d",
   "metadata": {},
   "source": [
    "- Next, we’ll import the Sequential model type from Keras.\n",
    "- This is simply a linear stack of neural network layers.\n",
    "- It’s perfect for the type of feed-forward CNN we’re building in this tutorial."
   ]
  },
  {
   "cell_type": "code",
   "execution_count": 2,
   "id": "1482b696",
   "metadata": {},
   "outputs": [
    {
     "ename": "ModuleNotFoundError",
     "evalue": "No module named 'tensorflow'",
     "output_type": "error",
     "traceback": [
      "\u001b[0;31m---------------------------------------------------------------------------\u001b[0m",
      "\u001b[0;31mModuleNotFoundError\u001b[0m                       Traceback (most recent call last)",
      "Cell \u001b[0;32mIn[2], line 1\u001b[0m\n\u001b[0;32m----> 1\u001b[0m \u001b[38;5;28;01mfrom\u001b[39;00m \u001b[38;5;21;01mkeras\u001b[39;00m\u001b[38;5;21;01m.\u001b[39;00m\u001b[38;5;21;01mmodels\u001b[39;00m \u001b[38;5;28;01mimport\u001b[39;00m Sequential\n",
      "File \u001b[0;32m~/opt/miniconda3/envs/pythonlecture/lib/python3.11/site-packages/keras/__init__.py:21\u001b[0m\n\u001b[1;32m     15\u001b[0m \u001b[38;5;124;03m\"\"\"Implementation of the Keras API, the high-level API of TensorFlow.\u001b[39;00m\n\u001b[1;32m     16\u001b[0m \n\u001b[1;32m     17\u001b[0m \u001b[38;5;124;03mDetailed documentation and user guides are available at\u001b[39;00m\n\u001b[1;32m     18\u001b[0m \u001b[38;5;124;03m[keras.io](https://keras.io).\u001b[39;00m\n\u001b[1;32m     19\u001b[0m \u001b[38;5;124;03m\"\"\"\u001b[39;00m\n\u001b[1;32m     20\u001b[0m \u001b[38;5;28;01mfrom\u001b[39;00m \u001b[38;5;21;01mkeras\u001b[39;00m \u001b[38;5;28;01mimport\u001b[39;00m distribute\n\u001b[0;32m---> 21\u001b[0m \u001b[38;5;28;01mfrom\u001b[39;00m \u001b[38;5;21;01mkeras\u001b[39;00m \u001b[38;5;28;01mimport\u001b[39;00m models\n\u001b[1;32m     22\u001b[0m \u001b[38;5;28;01mfrom\u001b[39;00m \u001b[38;5;21;01mkeras\u001b[39;00m\u001b[38;5;21;01m.\u001b[39;00m\u001b[38;5;21;01mengine\u001b[39;00m\u001b[38;5;21;01m.\u001b[39;00m\u001b[38;5;21;01minput_layer\u001b[39;00m \u001b[38;5;28;01mimport\u001b[39;00m Input\n\u001b[1;32m     23\u001b[0m \u001b[38;5;28;01mfrom\u001b[39;00m \u001b[38;5;21;01mkeras\u001b[39;00m\u001b[38;5;21;01m.\u001b[39;00m\u001b[38;5;21;01mengine\u001b[39;00m\u001b[38;5;21;01m.\u001b[39;00m\u001b[38;5;21;01msequential\u001b[39;00m \u001b[38;5;28;01mimport\u001b[39;00m Sequential\n",
      "File \u001b[0;32m~/opt/miniconda3/envs/pythonlecture/lib/python3.11/site-packages/keras/models/__init__.py:18\u001b[0m\n\u001b[1;32m      1\u001b[0m \u001b[38;5;66;03m# Copyright 2022 The TensorFlow Authors. All Rights Reserved.\u001b[39;00m\n\u001b[1;32m      2\u001b[0m \u001b[38;5;66;03m#\u001b[39;00m\n\u001b[1;32m      3\u001b[0m \u001b[38;5;66;03m# Licensed under the Apache License, Version 2.0 (the \"License\");\u001b[39;00m\n\u001b[0;32m   (...)\u001b[0m\n\u001b[1;32m     13\u001b[0m \u001b[38;5;66;03m# limitations under the License.\u001b[39;00m\n\u001b[1;32m     14\u001b[0m \u001b[38;5;66;03m# ==============================================================================\u001b[39;00m\n\u001b[1;32m     15\u001b[0m \u001b[38;5;124;03m\"\"\"Keras models API.\"\"\"\u001b[39;00m\n\u001b[0;32m---> 18\u001b[0m \u001b[38;5;28;01mfrom\u001b[39;00m \u001b[38;5;21;01mkeras\u001b[39;00m\u001b[38;5;21;01m.\u001b[39;00m\u001b[38;5;21;01mengine\u001b[39;00m\u001b[38;5;21;01m.\u001b[39;00m\u001b[38;5;21;01mfunctional\u001b[39;00m \u001b[38;5;28;01mimport\u001b[39;00m Functional\n\u001b[1;32m     19\u001b[0m \u001b[38;5;28;01mfrom\u001b[39;00m \u001b[38;5;21;01mkeras\u001b[39;00m\u001b[38;5;21;01m.\u001b[39;00m\u001b[38;5;21;01mengine\u001b[39;00m\u001b[38;5;21;01m.\u001b[39;00m\u001b[38;5;21;01msequential\u001b[39;00m \u001b[38;5;28;01mimport\u001b[39;00m Sequential\n\u001b[1;32m     20\u001b[0m \u001b[38;5;28;01mfrom\u001b[39;00m \u001b[38;5;21;01mkeras\u001b[39;00m\u001b[38;5;21;01m.\u001b[39;00m\u001b[38;5;21;01mengine\u001b[39;00m\u001b[38;5;21;01m.\u001b[39;00m\u001b[38;5;21;01mtraining\u001b[39;00m \u001b[38;5;28;01mimport\u001b[39;00m Model\n",
      "File \u001b[0;32m~/opt/miniconda3/envs/pythonlecture/lib/python3.11/site-packages/keras/engine/functional.py:24\u001b[0m\n\u001b[1;32m     21\u001b[0m \u001b[38;5;28;01mimport\u001b[39;00m \u001b[38;5;21;01mitertools\u001b[39;00m\n\u001b[1;32m     22\u001b[0m \u001b[38;5;28;01mimport\u001b[39;00m \u001b[38;5;21;01mwarnings\u001b[39;00m\n\u001b[0;32m---> 24\u001b[0m \u001b[38;5;28;01mimport\u001b[39;00m \u001b[38;5;21;01mtensorflow\u001b[39;00m\u001b[38;5;21;01m.\u001b[39;00m\u001b[38;5;21;01mcompat\u001b[39;00m\u001b[38;5;21;01m.\u001b[39;00m\u001b[38;5;21;01mv2\u001b[39;00m \u001b[38;5;28;01mas\u001b[39;00m \u001b[38;5;21;01mtf\u001b[39;00m\n\u001b[1;32m     26\u001b[0m \u001b[38;5;28;01mfrom\u001b[39;00m \u001b[38;5;21;01mkeras\u001b[39;00m \u001b[38;5;28;01mimport\u001b[39;00m backend\n\u001b[1;32m     27\u001b[0m \u001b[38;5;28;01mfrom\u001b[39;00m \u001b[38;5;21;01mkeras\u001b[39;00m\u001b[38;5;21;01m.\u001b[39;00m\u001b[38;5;21;01mdtensor\u001b[39;00m \u001b[38;5;28;01mimport\u001b[39;00m layout_map \u001b[38;5;28;01mas\u001b[39;00m layout_map_lib\n",
      "\u001b[0;31mModuleNotFoundError\u001b[0m: No module named 'tensorflow'"
     ]
    }
   ],
   "source": [
    "from keras.models import Sequential"
   ]
  },
  {
   "cell_type": "markdown",
   "id": "e72376c1-4989-4229-9654-43303f8755ed",
   "metadata": {},
   "source": [
    "- Next, let’s import the “core” layers from Keras.\n",
    "- These are the layers that are used in almost any neural network:"
   ]
  },
  {
   "cell_type": "code",
   "execution_count": null,
   "id": "68d2e0f9-611a-4867-ab11-cf18a106bcfb",
   "metadata": {},
   "outputs": [],
   "source": [
    "from keras.layers import Dense, Dropout, Activation, Flatten"
   ]
  },
  {
   "cell_type": "markdown",
   "id": "4ee1db5a-f0e0-46a9-9de7-e5d4d407943f",
   "metadata": {},
   "source": [
    "- Then, we’ll import the CNN layers from Keras.\n",
    "- These are the convolutional layers that will help us efficiently train on image data:"
   ]
  },
  {
   "cell_type": "code",
   "execution_count": null,
   "id": "7e438d4d-43bb-4469-9d24-15d2ea5e46de",
   "metadata": {},
   "outputs": [],
   "source": [
    "from keras.layers import Convolution2D, MaxPooling2D"
   ]
  },
  {
   "cell_type": "markdown",
   "id": "56ba2b35-a842-45c2-9843-056b719e15b5",
   "metadata": {},
   "source": [
    "- Finally, we’ll import some utilities. This will help us transform our data later:"
   ]
  },
  {
   "cell_type": "code",
   "execution_count": null,
   "id": "ea1c0505-dcc8-4d67-bae9-80dc5f6bc6a5",
   "metadata": {},
   "outputs": [],
   "source": [
    "from keras.utils import np_utils"
   ]
  },
  {
   "cell_type": "markdown",
   "id": "04b9c068-12bc-4ce6-8adf-051079baafb0",
   "metadata": {},
   "source": [
    "### Step 2: Load image data from MNIST."
   ]
  },
  {
   "cell_type": "markdown",
   "id": "d2957bb4-e469-41ba-a4e7-2771e1f560a3",
   "metadata": {},
   "source": [
    "- MNIST is a great dataset for getting started with deep learning and computer vision.\n",
    "- It’s a big enough challenge to warrant neural networks, but it’s manageable on a single computer.\n",
    "- That makes it perfect for this Keras tutorial."
   ]
  },
  {
   "cell_type": "markdown",
   "id": "4eab9637-01c9-4c8f-938d-a82fc38fb42c",
   "metadata": {},
   "source": [
    "- The Keras library conveniently includes it already. We can load it like so:"
   ]
  },
  {
   "cell_type": "code",
   "execution_count": null,
   "id": "74a9b4ea-0f3a-42c3-ac7b-49b42418cb3c",
   "metadata": {},
   "outputs": [],
   "source": [
    "from keras.datasets import mnist\n",
    " \n",
    "# Load pre-shuffled MNIST data into train and test sets\n",
    "(X_train, y_train), (X_test, y_test) = mnist.load_data()\n"
   ]
  },
  {
   "cell_type": "code",
   "execution_count": null,
   "id": "6c24c7fe-7b9d-4d04-a598-22e995b149ab",
   "metadata": {},
   "outputs": [],
   "source": []
  },
  {
   "cell_type": "code",
   "execution_count": null,
   "id": "1a0416e7-2e12-4a6b-8816-cee0fd4de818",
   "metadata": {},
   "outputs": [],
   "source": [
    "print( X_train.shape )"
   ]
  },
  {
   "cell_type": "code",
   "execution_count": null,
   "id": "6b567b2b-4ed7-4c8d-9018-23541c50e481",
   "metadata": {},
   "outputs": [],
   "source": []
  },
  {
   "cell_type": "code",
   "execution_count": null,
   "id": "a015b93e-fa64-4999-8d53-b977bba20b7f",
   "metadata": {},
   "outputs": [],
   "source": [
    "from matplotlib import pyplot as plt\n",
    "plt.imshow(X_train[0])"
   ]
  },
  {
   "cell_type": "code",
   "execution_count": null,
   "id": "aa10053b-5811-4287-b6be-cd3569fbae6f",
   "metadata": {},
   "outputs": [],
   "source": []
  },
  {
   "cell_type": "code",
   "execution_count": null,
   "id": "0b010a8b-742c-4890-927e-0f6ccd96646b",
   "metadata": {},
   "outputs": [],
   "source": [
    "X_train = X_train.reshape(X_train.shape[0], 28, 28, 1)\n",
    "X_test = X_test.reshape(X_test.shape[0], 28, 28, 1)"
   ]
  },
  {
   "cell_type": "code",
   "execution_count": null,
   "id": "0f0de42b-081d-49c9-b7be-db2234e6fc84",
   "metadata": {},
   "outputs": [],
   "source": []
  },
  {
   "cell_type": "code",
   "execution_count": null,
   "id": "e73e43c1-5cc9-4558-a336-c0ea40369792",
   "metadata": {},
   "outputs": [],
   "source": [
    "print( X_train.shape )\n",
    "# (60000, 28, 28, 1)"
   ]
  },
  {
   "cell_type": "code",
   "execution_count": null,
   "id": "7f83fd2f-879a-47c3-9b79-02ef17021b1a",
   "metadata": {},
   "outputs": [],
   "source": []
  },
  {
   "cell_type": "code",
   "execution_count": null,
   "id": "b4e34ec7-26e1-4f58-bedf-fd82a08d18d1",
   "metadata": {},
   "outputs": [],
   "source": [
    "X_train = X_train.astype('float32')\n",
    "X_test = X_test.astype('float32')\n",
    "X_train /= 255\n",
    "X_test /= 255"
   ]
  },
  {
   "cell_type": "code",
   "execution_count": null,
   "id": "5a8cd525-988f-4dc8-89f2-b5b326affe00",
   "metadata": {},
   "outputs": [],
   "source": []
  },
  {
   "cell_type": "code",
   "execution_count": null,
   "id": "57d4995e-911e-457e-bd9b-3b5087828d44",
   "metadata": {},
   "outputs": [],
   "source": [
    "print( y_train.shape )\n",
    "# (60000,)"
   ]
  },
  {
   "cell_type": "code",
   "execution_count": null,
   "id": "a04eaf59-72ef-49f4-b275-77574a1d2152",
   "metadata": {},
   "outputs": [],
   "source": []
  },
  {
   "cell_type": "code",
   "execution_count": null,
   "id": "481d7111-0694-45a8-b4d4-96847e363c91",
   "metadata": {},
   "outputs": [],
   "source": [
    "print( y_train[:10] )\n",
    "# [5 0 4 1 9 2 1 3 1 4]"
   ]
  },
  {
   "cell_type": "code",
   "execution_count": null,
   "id": "32a0fd4a-7359-4bcc-918c-dc13f2a8e723",
   "metadata": {},
   "outputs": [],
   "source": []
  },
  {
   "cell_type": "code",
   "execution_count": null,
   "id": "1916e268-b5a5-4ac0-af23-613e6ec6edd6",
   "metadata": {},
   "outputs": [],
   "source": [
    "# Convert 1-dimensional class arrays to 10-dimensional class matrices\n",
    "Y_train = np_utils.to_categorical(y_train, 10)\n",
    "Y_test = np_utils.to_categorical(y_test, 10)"
   ]
  },
  {
   "cell_type": "code",
   "execution_count": null,
   "id": "aaee7a91-699a-4147-b7a6-e959aab26d9b",
   "metadata": {},
   "outputs": [],
   "source": []
  },
  {
   "cell_type": "code",
   "execution_count": null,
   "id": "3f6cc0ce-7b32-4bd0-959b-8c8db6784cea",
   "metadata": {},
   "outputs": [],
   "source": [
    "print( Y_train.shape )\n",
    "# (60000, 10)"
   ]
  },
  {
   "cell_type": "code",
   "execution_count": null,
   "id": "d7716c4d-ffed-44a9-9103-5a07d6918d08",
   "metadata": {},
   "outputs": [],
   "source": []
  },
  {
   "cell_type": "code",
   "execution_count": null,
   "id": "c389a9d0-1072-4918-a0eb-db73c90e1209",
   "metadata": {},
   "outputs": [],
   "source": [
    "model = Sequential()"
   ]
  },
  {
   "cell_type": "code",
   "execution_count": null,
   "id": "61900caf-a2cf-4dd2-8ec2-7f8eccc7c9fe",
   "metadata": {},
   "outputs": [],
   "source": []
  },
  {
   "cell_type": "code",
   "execution_count": null,
   "id": "e2e266fe-8f8f-43ae-a3cc-ebc7648bcab4",
   "metadata": {},
   "outputs": [],
   "source": [
    "model.add(Convolution2D(32, (3,3), activation='relu', input_shape=(28,28,1)))\n"
   ]
  },
  {
   "cell_type": "code",
   "execution_count": null,
   "id": "d117d7c7-a88f-4a9f-a536-74b713c3a04f",
   "metadata": {},
   "outputs": [],
   "source": []
  },
  {
   "cell_type": "code",
   "execution_count": null,
   "id": "b721e1eb-c333-4df2-8725-0242ac4c1b4e",
   "metadata": {},
   "outputs": [],
   "source": [
    "print( model.output_shape )\n",
    "# (None, 26, 26, 32)"
   ]
  },
  {
   "cell_type": "code",
   "execution_count": null,
   "id": "64a23845-6885-4bad-a486-25f2031d64c0",
   "metadata": {},
   "outputs": [],
   "source": []
  },
  {
   "cell_type": "code",
   "execution_count": null,
   "id": "cd2cf37b-632e-47fd-be13-8adb781814bd",
   "metadata": {},
   "outputs": [],
   "source": [
    "model.add(Convolution2D(32, (3,3), activation='relu'))\n",
    "model.add(MaxPooling2D(pool_size=(2,2)))\n",
    "model.add(Dropout(0.25))"
   ]
  },
  {
   "cell_type": "code",
   "execution_count": null,
   "id": "3a8d4e29-b068-48d7-916a-4202d836809f",
   "metadata": {},
   "outputs": [],
   "source": []
  },
  {
   "cell_type": "code",
   "execution_count": null,
   "id": "dcb06aba-6100-4c40-98a4-9061275311dc",
   "metadata": {},
   "outputs": [],
   "source": [
    "model.add(Flatten())\n",
    "model.add(Dense(128, activation='relu'))\n",
    "model.add(Dropout(0.5))\n",
    "model.add(Dense(10, activation='softmax'))"
   ]
  },
  {
   "cell_type": "code",
   "execution_count": null,
   "id": "81eb3afb-45cc-4278-829f-c85962de02d4",
   "metadata": {},
   "outputs": [],
   "source": []
  },
  {
   "cell_type": "code",
   "execution_count": null,
   "id": "6556522b-2a94-4f5f-aac1-87a0ee14c625",
   "metadata": {},
   "outputs": [],
   "source": [
    "model.compile(loss='categorical_crossentropy',\n",
    "              optimizer='adam',\n",
    "              metrics=['accuracy'])"
   ]
  },
  {
   "cell_type": "code",
   "execution_count": null,
   "id": "4757e55d-c8c5-46fd-acba-6dd731a77ca1",
   "metadata": {},
   "outputs": [],
   "source": []
  },
  {
   "cell_type": "code",
   "execution_count": null,
   "id": "46e1e3fc-0173-4da4-ada8-1fb113aef8a2",
   "metadata": {},
   "outputs": [],
   "source": [
    "model.fit(X_train, Y_train, \n",
    "          batch_size=32, epochs=10, verbose=1)"
   ]
  },
  {
   "cell_type": "code",
   "execution_count": null,
   "id": "2b627e1e-b46b-4c38-ab31-10f26973aaf6",
   "metadata": {},
   "outputs": [],
   "source": []
  },
  {
   "cell_type": "code",
   "execution_count": null,
   "id": "46de18e5-3d04-4053-ab5c-e6353fe6dc2e",
   "metadata": {},
   "outputs": [],
   "source": [
    "score = model.evaluate(X_test, Y_test, verbose=0)"
   ]
  },
  {
   "cell_type": "code",
   "execution_count": null,
   "id": "0bd1b775-3804-4039-a9be-66395e622320",
   "metadata": {},
   "outputs": [],
   "source": []
  },
  {
   "cell_type": "code",
   "execution_count": null,
   "id": "580359bf-9f9f-413d-beab-daecd4d6a741",
   "metadata": {},
   "outputs": [],
   "source": []
  }
 ],
 "metadata": {
  "kernelspec": {
   "display_name": "Python 3 (ipykernel)",
   "language": "python",
   "name": "python3"
  },
  "language_info": {
   "codemirror_mode": {
    "name": "ipython",
    "version": 3
   },
   "file_extension": ".py",
   "mimetype": "text/x-python",
   "name": "python",
   "nbconvert_exporter": "python",
   "pygments_lexer": "ipython3",
   "version": "3.11.4"
  }
 },
 "nbformat": 4,
 "nbformat_minor": 5
}
