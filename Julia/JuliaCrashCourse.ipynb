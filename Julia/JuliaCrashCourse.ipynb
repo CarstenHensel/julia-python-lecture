{
 "cells": [
  {
   "cell_type": "markdown",
   "id": "edec271c",
   "metadata": {},
   "source": [
    "# Introduction to Julia"
   ]
  },
  {
   "cell_type": "markdown",
   "id": "69ad60b6",
   "metadata": {},
   "source": [
    "- This introduction doesn't replace a full Julia course.\n",
    "- We only want to point out the basics, especially those that are different to Python."
   ]
  },
  {
   "cell_type": "markdown",
   "id": "6465ca66",
   "metadata": {},
   "source": [
    "- We have seen a very powerful usecase of Python. \n",
    "- Why would we want to use any other language?\n",
    "- -> Speed"
   ]
  },
  {
   "cell_type": "markdown",
   "id": "807ba162",
   "metadata": {},
   "source": [
    "- Julia's LLVM-based JIT compiler (Low level virtual machine just-in-time) compiler combined with the language's design allows it to approach and often match the performance of C in typical user scenarios."
   ]
  },
  {
   "cell_type": "markdown",
   "id": "58313843",
   "metadata": {},
   "source": [
    "![](Images/benchmarks.svg)"
   ]
  },
  {
   "cell_type": "markdown",
   "id": "7d9d8365",
   "metadata": {},
   "source": [
    "### Some History\n",
    "- started 2009 at MIT by Alan Edelman, Jeff Bezanson, Stefan Karpinski, Viral Shah\n",
    "- publicly announced 2012\n",
    "- v0.6 2017 Jun 19: pretty much the \"modern\" version of Julia\n",
    "    - Some old stuff you encounter in the internet is targeted for this. So be aware!\n",
    "- v0.7 2018 Aug 8: short test release before v1\n",
    "- v1.0 2018 Aug 9: Official release\n",
    "- v1.1 2019 Jan 22: minor improvements & bug fixes"
   ]
  },
  {
   "cell_type": "markdown",
   "id": "791b891c",
   "metadata": {},
   "source": [
    "### Syntax"
   ]
  },
  {
   "cell_type": "code",
   "execution_count": 1,
   "id": "14bd8e9c",
   "metadata": {},
   "outputs": [
    {
     "data": {
      "text/plain": [
       "mandel (generic function with 1 method)"
      ]
     },
     "execution_count": 1,
     "metadata": {},
     "output_type": "execute_result"
    }
   ],
   "source": [
    "function mandel(z)\n",
    "    c = z\n",
    "    maxiter = 80\n",
    "    for n = 1:maxiter\n",
    "        if abs(z) > 2\n",
    "            return n-1\n",
    "        end\n",
    "        z = z^2 + c\n",
    "    end\n",
    "    return maxiter\n",
    "end"
   ]
  },
  {
   "cell_type": "code",
   "execution_count": 2,
   "id": "a4bc13fc",
   "metadata": {},
   "outputs": [
    {
     "data": {
      "text/plain": [
       "11×13 Matrix{Int64}:\n",
       "  0   0   1   2   2   2   2   3   3   6  80   3   2\n",
       "  0   1   2   2   2   2   3   3   5  80  17   4   3\n",
       "  0   2   2   2   2   3   4  11  25  80  80  11  14\n",
       "  0   2   2   4   6   6   6  80  80  80  80  80   8\n",
       "  0   3   4   5  17  80  14  80  80  80  80  80  30\n",
       " 80  80  80  80  80  80  80  80  80  80  80  80   6\n",
       "  0   3   4   5  17  80  14  80  80  80  80  80  30\n",
       "  0   2   2   4   6   6   6  80  80  80  80  80   8\n",
       "  0   2   2   2   2   3   4  11  25  80  80  11  14\n",
       "  0   1   2   2   2   2   3   3   5  80  17   4   3\n",
       "  0   0   1   2   2   2   2   3   3   6  80   3   2"
      ]
     },
     "execution_count": 2,
     "metadata": {},
     "output_type": "execute_result"
    }
   ],
   "source": [
    "[ mandel(complex(r,i)) for i=-1.:.2:1., r=-2.0:.2:0.5 ]"
   ]
  },
  {
   "cell_type": "markdown",
   "id": "01893dff",
   "metadata": {},
   "source": [
    "- The syntax is easy to use and learn.\n",
    "- It will seem familiar to Python and Matlab users.\n",
    "- It is possible to do complicated computations quickly.\n"
   ]
  },
  {
   "cell_type": "markdown",
   "id": "829f2f7a",
   "metadata": {},
   "source": [
    "For example, Solving $$Ax=b$$ with $$A = \\begin{pmatrix}\\,\n",
    "    1 & 2 & 3\\\\ \n",
    "    2 & 1 & 2\\\\ \n",
    "    3 & 2 & 1\n",
    "    \\end{pmatrix}$$\n",
    "    and $$b = \\begin{pmatrix}\n",
    "    1 \\\\\n",
    "    1 \\\\ \n",
    "    1 \n",
    "    \\end{pmatrix}$$"
   ]
  },
  {
   "cell_type": "code",
   "execution_count": 3,
   "id": "e99dff1b",
   "metadata": {},
   "outputs": [
    {
     "data": {
      "text/plain": [
       "3-element Vector{Float64}:\n",
       " 0.25\n",
       " 0.0\n",
       " 0.25000000000000006"
      ]
     },
     "execution_count": 3,
     "metadata": {},
     "output_type": "execute_result"
    }
   ],
   "source": [
    "A = [1 2 3\n",
    "     2 1 2\n",
    "     3 2 1]\n",
    "\n",
    "b = [1,1,1]\n",
    "A\\b"
   ]
  },
  {
   "cell_type": "markdown",
   "id": "280f75c2",
   "metadata": {},
   "source": [
    "### A dynamic language:"
   ]
  },
  {
   "cell_type": "markdown",
   "id": "9f38ca29",
   "metadata": {},
   "source": [
    "- Julia is, like Python, Matlab or R, a dynamic language: \n",
    "    - You can interact with the language without the need to compile your code. \n",
    "    - Static or compiled languages, like C or Fortran, are more complicated to use but generally faster, and thus used when there is a need for time-efficient computations.\n",
    "\n",
    "- This is the two-languages problem: \n",
    "    - One generally use a high level language for research and scripting, \n",
    "    - and then translate the final result in a static language for performance."
   ]
  },
  {
   "cell_type": "markdown",
   "id": "85f43d34",
   "metadata": {},
   "source": [
    "### A High Performance language:\n",
    "\n",
    "- Julia solves the two languages problem using just-in-time compilation. \n",
    "    - While running, your code will be automatically compiled and optimized to reach performances comparable to static languages like C, Fortran and Go.\n",
    "- Unlike R, Matlab or Python, simple loops are extremely efficient in Julia:"
   ]
  },
  {
   "cell_type": "code",
   "execution_count": 4,
   "id": "930aaad5",
   "metadata": {},
   "outputs": [
    {
     "name": "stdout",
     "output_type": "stream",
     "text": [
      "First use: slow like a dynamic language\n",
      "  0.020126 seconds\n",
      "Second use: compiled and optimized automatically\n",
      "  0.025451 seconds\n",
      "  0.018975 seconds\n"
     ]
    },
    {
     "data": {
      "text/plain": [
       "10000000"
      ]
     },
     "execution_count": 4,
     "metadata": {},
     "output_type": "execute_result"
    }
   ],
   "source": [
    "function countTo(n)\n",
    "    count = 0\n",
    "    for i = 1:n\n",
    "        count += 1\n",
    "    end\n",
    "    return count\n",
    "end\n",
    "println(\"First use: slow like a dynamic language\")\n",
    "@time countTo(10_000_000)\n",
    "println(\"Second use: compiled and optimized automatically\")\n",
    "@time countTo(10_000_000)\n",
    "@time countTo(10_000_000)"
   ]
  },
  {
   "cell_type": "markdown",
   "id": "6c366a03",
   "metadata": {},
   "source": [
    "### Basic usage"
   ]
  },
  {
   "cell_type": "markdown",
   "id": "f1cd811f",
   "metadata": {},
   "source": [
    "Julia, as a dynamic language, can simply be used as a calculator:"
   ]
  },
  {
   "cell_type": "code",
   "execution_count": 6,
   "id": "b72e2997",
   "metadata": {},
   "outputs": [
    {
     "data": {
      "text/plain": [
       "2"
      ]
     },
     "execution_count": 6,
     "metadata": {},
     "output_type": "execute_result"
    }
   ],
   "source": [
    "1+1"
   ]
  },
  {
   "cell_type": "code",
   "execution_count": 7,
   "id": "88ebdd8a",
   "metadata": {},
   "outputs": [
    {
     "data": {
      "text/plain": [
       "-0.01136232398070678"
      ]
     },
     "execution_count": 7,
     "metadata": {},
     "output_type": "execute_result"
    }
   ],
   "source": [
    "sin(exp(2*pi)+sqrt(3))"
   ]
  },
  {
   "cell_type": "markdown",
   "id": "a21cc349",
   "metadata": {},
   "source": [
    "The building blocs of Julia code are variables:"
   ]
  },
  {
   "cell_type": "code",
   "execution_count": 8,
   "id": "e67ce516",
   "metadata": {},
   "outputs": [
    {
     "data": {
      "text/plain": [
       "9"
      ]
     },
     "execution_count": 8,
     "metadata": {},
     "output_type": "execute_result"
    }
   ],
   "source": [
    "a = 1\n",
    "b = 2\n",
    "# This is a comment \n",
    "c = a^2 + b^3 "
   ]
  },
  {
   "cell_type": "markdown",
   "id": "c1acc472",
   "metadata": {},
   "source": [
    "Julia supports the common if, while and for structures:"
   ]
  },
  {
   "cell_type": "code",
   "execution_count": null,
   "id": "8c1013b7",
   "metadata": {},
   "outputs": [],
   "source": []
  }
 ],
 "metadata": {
  "kernelspec": {
   "display_name": "Julia 1.8.2",
   "language": "julia",
   "name": "julia-1.8"
  },
  "language_info": {
   "file_extension": ".jl",
   "mimetype": "application/julia",
   "name": "julia",
   "version": "1.8.2"
  }
 },
 "nbformat": 4,
 "nbformat_minor": 5
}
