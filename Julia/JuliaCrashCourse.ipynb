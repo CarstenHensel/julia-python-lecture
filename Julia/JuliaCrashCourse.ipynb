{
 "cells": [
  {
   "cell_type": "markdown",
   "id": "edec271c",
   "metadata": {},
   "source": [
    "# Introduction to Julia"
   ]
  },
  {
   "cell_type": "markdown",
   "id": "69ad60b6",
   "metadata": {},
   "source": [
    "- This introduction doesn't replace a full Julia course.\n",
    "- We only want to point out the basics, especially those that are different to Python."
   ]
  },
  {
   "cell_type": "markdown",
   "id": "6465ca66",
   "metadata": {},
   "source": [
    "- We have seen a very powerful usecase of Python. \n",
    "- Why would we want to use any other language?\n",
    "- -> Speed"
   ]
  },
  {
   "cell_type": "markdown",
   "id": "807ba162",
   "metadata": {},
   "source": [
    "- Julia's LLVM-based JIT compiler (Low level virtual machine just-in-time) compiler combined with the language's design allows it to approach and often match the performance of C in typical user scenarios."
   ]
  },
  {
   "cell_type": "markdown",
   "id": "58313843",
   "metadata": {},
   "source": [
    "![](Images/benchmarks.svg)"
   ]
  },
  {
   "cell_type": "markdown",
   "id": "7d9d8365",
   "metadata": {},
   "source": [
    "### Some History\n",
    "- started 2009 at MIT by Alan Edelman, Jeff Bezanson, Stefan Karpinski, Viral Shah\n",
    "- publicly announced 2012\n",
    "- v0.6 2017 Jun 19: pretty much the \"modern\" version of Julia\n",
    "    - Some old stuff you encounter in the internet is targeted for this. So be aware!\n",
    "- v0.7 2018 Aug 8: short test release before v1\n",
    "- v1.0 2018 Aug 9: Official release\n",
    "- v1.1 2019 Jan 22: minor improvements & bug fixes"
   ]
  },
  {
   "cell_type": "markdown",
   "id": "791b891c",
   "metadata": {},
   "source": [
    "### Syntax"
   ]
  },
  {
   "cell_type": "code",
   "execution_count": 1,
   "id": "14bd8e9c",
   "metadata": {},
   "outputs": [
    {
     "data": {
      "text/plain": [
       "mandel (generic function with 1 method)"
      ]
     },
     "execution_count": 1,
     "metadata": {},
     "output_type": "execute_result"
    }
   ],
   "source": [
    "function mandel(z)\n",
    "    c = z\n",
    "    maxiter = 80\n",
    "    for n = 1:maxiter\n",
    "        if abs(z) > 2\n",
    "            return n-1\n",
    "        end\n",
    "        z = z^2 + c\n",
    "    end\n",
    "    return maxiter\n",
    "end"
   ]
  },
  {
   "cell_type": "code",
   "execution_count": 2,
   "id": "a4bc13fc",
   "metadata": {},
   "outputs": [
    {
     "data": {
      "text/plain": [
       "11×13 Matrix{Int64}:\n",
       "  0   0   1   2   2   2   2   3   3   6  80   3   2\n",
       "  0   1   2   2   2   2   3   3   5  80  17   4   3\n",
       "  0   2   2   2   2   3   4  11  25  80  80  11  14\n",
       "  0   2   2   4   6   6   6  80  80  80  80  80   8\n",
       "  0   3   4   5  17  80  14  80  80  80  80  80  30\n",
       " 80  80  80  80  80  80  80  80  80  80  80  80   6\n",
       "  0   3   4   5  17  80  14  80  80  80  80  80  30\n",
       "  0   2   2   4   6   6   6  80  80  80  80  80   8\n",
       "  0   2   2   2   2   3   4  11  25  80  80  11  14\n",
       "  0   1   2   2   2   2   3   3   5  80  17   4   3\n",
       "  0   0   1   2   2   2   2   3   3   6  80   3   2"
      ]
     },
     "execution_count": 2,
     "metadata": {},
     "output_type": "execute_result"
    }
   ],
   "source": [
    "[ mandel(complex(r,i)) for i=-1.:.2:1., r=-2.0:.2:0.5 ]"
   ]
  },
  {
   "cell_type": "markdown",
   "id": "01893dff",
   "metadata": {},
   "source": [
    "- The syntax is easy to use and learn.\n",
    "- It will seem familiar to Python and Matlab users.\n",
    "- It is possible to do complicated computations quickly.\n"
   ]
  },
  {
   "cell_type": "markdown",
   "id": "829f2f7a",
   "metadata": {},
   "source": [
    "For example, Solving $$Ax=b$$ with $$A = \\begin{pmatrix}\\,\n",
    "    1 & 2 & 3\\\\ \n",
    "    2 & 1 & 2\\\\ \n",
    "    3 & 2 & 1\n",
    "    \\end{pmatrix}$$\n",
    "    and $$b = \\begin{pmatrix}\n",
    "    1 \\\\\n",
    "    1 \\\\ \n",
    "    1 \n",
    "    \\end{pmatrix}$$"
   ]
  },
  {
   "cell_type": "code",
   "execution_count": 3,
   "id": "e99dff1b",
   "metadata": {},
   "outputs": [
    {
     "data": {
      "text/plain": [
       "3-element Vector{Float64}:\n",
       " 0.25\n",
       " 0.0\n",
       " 0.25000000000000006"
      ]
     },
     "execution_count": 3,
     "metadata": {},
     "output_type": "execute_result"
    }
   ],
   "source": [
    "A = [1 2 3\n",
    "     2 1 2\n",
    "     3 2 1]\n",
    "\n",
    "b = [1,1,1]\n",
    "A\\b"
   ]
  },
  {
   "cell_type": "markdown",
   "id": "280f75c2",
   "metadata": {},
   "source": [
    "### A dynamic language:"
   ]
  },
  {
   "cell_type": "markdown",
   "id": "9f38ca29",
   "metadata": {},
   "source": [
    "- Julia is, like Python, Matlab or R, a dynamic language: \n",
    "    - You can interact with the language without the need to compile your code. \n",
    "    - Static or compiled languages, like C or Fortran, are more complicated to use but generally faster, and thus used when there is a need for time-efficient computations.\n",
    "\n",
    "- This is the two-languages problem: \n",
    "    - One generally use a high level language for research and scripting, \n",
    "    - and then translate the final result in a static language for performance."
   ]
  },
  {
   "cell_type": "markdown",
   "id": "85f43d34",
   "metadata": {},
   "source": [
    "### A High Performance language:\n",
    "\n",
    "- Julia solves the two languages problem using just-in-time compilation. \n",
    "    - While running, your code will be automatically compiled and optimized to reach performances comparable to static languages like C, Fortran and Go.\n",
    "- Unlike R, Matlab or Python, simple loops are extremely efficient in Julia:"
   ]
  },
  {
   "cell_type": "code",
   "execution_count": 4,
   "id": "930aaad5",
   "metadata": {},
   "outputs": [
    {
     "name": "stdout",
     "output_type": "stream",
     "text": [
      "First use: slow like a dynamic language\n",
      "  0.020126 seconds\n",
      "Second use: compiled and optimized automatically\n",
      "  0.025451 seconds\n",
      "  0.018975 seconds\n"
     ]
    },
    {
     "data": {
      "text/plain": [
       "10000000"
      ]
     },
     "execution_count": 4,
     "metadata": {},
     "output_type": "execute_result"
    }
   ],
   "source": [
    "function countTo(n)\n",
    "    count = 0\n",
    "    for i = 1:n\n",
    "        count += 1\n",
    "    end\n",
    "    return count\n",
    "end\n",
    "println(\"First use: slow like a dynamic language\")\n",
    "@time countTo(10_000_000)\n",
    "println(\"Second use: compiled and optimized automatically\")\n",
    "@time countTo(10_000_000)\n",
    "@time countTo(10_000_000)"
   ]
  },
  {
   "cell_type": "markdown",
   "id": "62c61552",
   "metadata": {},
   "source": [
    "### Basic usage"
   ]
  },
  {
   "cell_type": "markdown",
   "id": "9ab5a2ba",
   "metadata": {},
   "source": [
    "Julia, as a dynamic language, can simply be used as a calculator:"
   ]
  },
  {
   "cell_type": "code",
   "execution_count": 6,
   "id": "56b78507",
   "metadata": {},
   "outputs": [
    {
     "data": {
      "text/plain": [
       "2"
      ]
     },
     "execution_count": 6,
     "metadata": {},
     "output_type": "execute_result"
    }
   ],
   "source": [
    "1+1"
   ]
  },
  {
   "cell_type": "code",
   "execution_count": 7,
   "id": "ca144e4a",
   "metadata": {},
   "outputs": [
    {
     "data": {
      "text/plain": [
       "-0.01136232398070678"
      ]
     },
     "execution_count": 7,
     "metadata": {},
     "output_type": "execute_result"
    }
   ],
   "source": [
    "sin(exp(2*pi)+sqrt(3))"
   ]
  },
  {
   "cell_type": "markdown",
   "id": "b48a38af",
   "metadata": {},
   "source": [
    "The building blocs of Julia code are variables:"
   ]
  },
  {
   "cell_type": "code",
   "execution_count": 8,
   "id": "bba476ae",
   "metadata": {},
   "outputs": [
    {
     "data": {
      "text/plain": [
       "9"
      ]
     },
     "execution_count": 8,
     "metadata": {},
     "output_type": "execute_result"
    }
   ],
   "source": [
    "a = 1\n",
    "b = 2\n",
    "# This is a comment \n",
    "c = a^2 + b^3 "
   ]
  },
  {
   "cell_type": "markdown",
   "id": "edac03fc",
   "metadata": {},
   "source": [
    "Julia supports the common if, while and for structures:"
   ]
  },
  {
   "cell_type": "code",
   "execution_count": 9,
   "id": "16f0577c",
   "metadata": {},
   "outputs": [
    {
     "name": "stdout",
     "output_type": "stream",
     "text": [
      "Rachel"
     ]
    }
   ],
   "source": [
    "if c >= 10\n",
    "    print(\"Joey\")\n",
    "else\n",
    "    print(\"Rachel\")\n",
    "end\n",
    "     "
   ]
  },
  {
   "cell_type": "code",
   "execution_count": 10,
   "id": "a4e702eb",
   "metadata": {},
   "outputs": [
    {
     "name": "stdout",
     "output_type": "stream",
     "text": [
      "Joey!\n",
      "Joey!\n",
      "Joey!\n",
      "Joey!\n",
      "Joey!\n"
     ]
    }
   ],
   "source": [
    "i = 1\n",
    "while i <= 5\n",
    "    println(\"Joey!\") # Print with a new line\n",
    "    i += 1\n",
    "end\n",
    "     "
   ]
  },
  {
   "cell_type": "code",
   "execution_count": 11,
   "id": "c0446eed",
   "metadata": {},
   "outputs": [
    {
     "name": "stdout",
     "output_type": "stream",
     "text": [
      "1 Joey\n",
      "2 Joeys\n",
      "3 Joeys\n"
     ]
    }
   ],
   "source": [
    "for i = 1:3\n",
    "    print(\"$i Joey\") # '$' can be used to insert variables into text\n",
    "    if i>1\n",
    "        print(\"s\")\n",
    "    end\n",
    "    println() # Just a new line\n",
    "end"
   ]
  },
  {
   "cell_type": "markdown",
   "id": "43bce3a4",
   "metadata": {},
   "source": [
    "- Do not worry about writing loops: in Julia, they are as fast as writing vectorized code, and sometimes faster!"
   ]
  },
  {
   "cell_type": "markdown",
   "id": "76719abd",
   "metadata": {},
   "source": [
    "- Arrays (list of numbers) are at the core of research computing and Julia's arrays are extremely optimized."
   ]
  },
  {
   "cell_type": "code",
   "execution_count": 12,
   "id": "677afcd7",
   "metadata": {},
   "outputs": [
    {
     "data": {
      "text/plain": [
       "3-element Vector{Int64}:\n",
       " 1\n",
       " 2\n",
       " 3"
      ]
     },
     "execution_count": 12,
     "metadata": {},
     "output_type": "execute_result"
    }
   ],
   "source": [
    "myList = [1, 2, 3]"
   ]
  },
  {
   "cell_type": "markdown",
   "id": "ba0e72b1",
   "metadata": {},
   "source": [
    "Array indexing starts with 1 in Julia:"
   ]
  },
  {
   "cell_type": "code",
   "execution_count": 13,
   "id": "98fd3c06",
   "metadata": {},
   "outputs": [
    {
     "data": {
      "text/plain": [
       "1"
      ]
     },
     "execution_count": 13,
     "metadata": {},
     "output_type": "execute_result"
    }
   ],
   "source": [
    "myList[1]"
   ]
  },
  {
   "cell_type": "code",
   "execution_count": 14,
   "id": "dd7bcd73",
   "metadata": {},
   "outputs": [
    {
     "data": {
      "text/plain": [
       "3-element Vector{Int64}:\n",
       " 1\n",
       " 2\n",
       " 4"
      ]
     },
     "execution_count": 14,
     "metadata": {},
     "output_type": "execute_result"
    }
   ],
   "source": [
    "myList[3] = 4\n",
    "myList"
   ]
  },
  {
   "cell_type": "markdown",
   "id": "9c1ae42e",
   "metadata": {},
   "source": [
    "A 2-dimensional array is a Matrix:"
   ]
  },
  {
   "cell_type": "code",
   "execution_count": 16,
   "id": "aa282ad2",
   "metadata": {},
   "outputs": [
    {
     "data": {
      "text/plain": [
       "3×3 Matrix{Int64}:\n",
       " 1  2  3\n",
       " 2  1  2\n",
       " 3  2  1"
      ]
     },
     "execution_count": 16,
     "metadata": {},
     "output_type": "execute_result"
    }
   ],
   "source": [
    "A = [1 2 3\n",
    "     2 1 2\n",
    "     3 2 1]"
   ]
  },
  {
   "cell_type": "code",
   "execution_count": 17,
   "id": "cbee8816",
   "metadata": {},
   "outputs": [
    {
     "data": {
      "text/plain": [
       "3×3 Matrix{Int64}:\n",
       " 1  2  3\n",
       " 2  1  2\n",
       " 3  2  1"
      ]
     },
     "execution_count": 17,
     "metadata": {},
     "output_type": "execute_result"
    }
   ],
   "source": [
    "B = [1 2 3; 2 1 2; 3 2 1] #same thing"
   ]
  },
  {
   "cell_type": "markdown",
   "id": "633099d7",
   "metadata": {},
   "source": [
    "Matrix can be multiplied, inversed..."
   ]
  },
  {
   "cell_type": "code",
   "execution_count": 18,
   "id": "f200688c",
   "metadata": {},
   "outputs": [
    {
     "data": {
      "text/plain": [
       "3×3 Matrix{Float64}:\n",
       " 1.0  2.0  3.0\n",
       " 2.0  1.0  2.0\n",
       " 3.0  2.0  1.0"
      ]
     },
     "execution_count": 18,
     "metadata": {},
     "output_type": "execute_result"
    }
   ],
   "source": [
    "A^-1 #inverse\n",
    "\n",
    "A^2 * A^-1"
   ]
  },
  {
   "cell_type": "code",
   "execution_count": 19,
   "id": "e615cc03",
   "metadata": {},
   "outputs": [
    {
     "data": {
      "text/plain": [
       "3-element Vector{Int64}:\n",
       " 14\n",
       " 10\n",
       " 10"
      ]
     },
     "execution_count": 19,
     "metadata": {},
     "output_type": "execute_result"
    }
   ],
   "source": [
    "A*[1,2,3]"
   ]
  },
  {
   "cell_type": "code",
   "execution_count": 24,
   "id": "0a5e07a0",
   "metadata": {},
   "outputs": [
    {
     "data": {
      "text/plain": [
       "(-2.000000000000001, -0.7015621187164248, 5.701562118716423)"
      ]
     },
     "execution_count": 24,
     "metadata": {},
     "output_type": "execute_result"
    }
   ],
   "source": [
    "using LinearAlgebra\n",
    "eigen_a, eigen_b, eigen_c = eigvals(A)\n",
    "eigen_a, eigen_b, eigen_c"
   ]
  },
  {
   "cell_type": "markdown",
   "id": "924c9f03",
   "metadata": {},
   "source": [
    "**Types**: Everything has a type in Julia"
   ]
  },
  {
   "cell_type": "code",
   "execution_count": 25,
   "id": "0b6646ea",
   "metadata": {},
   "outputs": [
    {
     "data": {
      "text/plain": [
       "Int64"
      ]
     },
     "execution_count": 25,
     "metadata": {},
     "output_type": "execute_result"
    }
   ],
   "source": [
    "typeof(1)"
   ]
  },
  {
   "cell_type": "code",
   "execution_count": 26,
   "id": "7f705a7d",
   "metadata": {},
   "outputs": [
    {
     "data": {
      "text/plain": [
       "Float64"
      ]
     },
     "execution_count": 26,
     "metadata": {},
     "output_type": "execute_result"
    }
   ],
   "source": [
    "typeof(1.5)"
   ]
  },
  {
   "cell_type": "code",
   "execution_count": 27,
   "id": "54fec46a",
   "metadata": {},
   "outputs": [
    {
     "data": {
      "text/plain": [
       "String"
      ]
     },
     "execution_count": 27,
     "metadata": {},
     "output_type": "execute_result"
    }
   ],
   "source": [
    "typeof(\"abc\")"
   ]
  },
  {
   "cell_type": "markdown",
   "id": "0c205046",
   "metadata": {},
   "source": [
    "Types are at the core of Julia's performance. multiple dispatch is used dynamically when a function is called, selecting the right version of the function depending on the type of its argument."
   ]
  },
  {
   "cell_type": "code",
   "execution_count": 29,
   "id": "6242662e",
   "metadata": {},
   "outputs": [
    {
     "data": {
      "text/plain": [
       "1//2"
      ]
     },
     "execution_count": 29,
     "metadata": {},
     "output_type": "execute_result"
    }
   ],
   "source": [
    "1//2 # fraction in Julia"
   ]
  },
  {
   "cell_type": "code",
   "execution_count": 30,
   "id": "933ddaf4",
   "metadata": {},
   "outputs": [
    {
     "data": {
      "text/plain": [
       "Rational{Int64}"
      ]
     },
     "execution_count": 30,
     "metadata": {},
     "output_type": "execute_result"
    }
   ],
   "source": [
    "typeof(1//2)"
   ]
  },
  {
   "cell_type": "code",
   "execution_count": 32,
   "id": "d72491e7",
   "metadata": {},
   "outputs": [
    {
     "data": {
      "text/plain": [
       "1//4"
      ]
     },
     "execution_count": 32,
     "metadata": {},
     "output_type": "execute_result"
    }
   ],
   "source": [
    "(1//2)^2"
   ]
  },
  {
   "cell_type": "code",
   "execution_count": 33,
   "id": "1b9f65e1",
   "metadata": {},
   "outputs": [
    {
     "data": {
      "text/plain": [
       "0.25"
      ]
     },
     "execution_count": 33,
     "metadata": {},
     "output_type": "execute_result"
    }
   ],
   "source": [
    "(0.5)^2 # The same function gives different results depending on the type"
   ]
  },
  {
   "cell_type": "code",
   "execution_count": 34,
   "id": "fc257e6e",
   "metadata": {},
   "outputs": [
    {
     "data": {
      "text/plain": [
       "-1 + 0im"
      ]
     },
     "execution_count": 34,
     "metadata": {},
     "output_type": "execute_result"
    }
   ],
   "source": [
    "(im)^2 # This also works with complex numbers"
   ]
  },
  {
   "cell_type": "code",
   "execution_count": 36,
   "id": "347bee97",
   "metadata": {},
   "outputs": [
    {
     "name": "stdout",
     "output_type": "stream",
     "text": [
      "Julia!\n",
      "integer\n",
      "Julia!\n"
     ]
    }
   ],
   "source": [
    "function myFunction(x)\n",
    "    println(\"Julia!\")\n",
    "end\n",
    "\n",
    "function myFunction(x::Int) # only called when x is an integer\n",
    "    println(\"integer\")\n",
    "end\n",
    "\n",
    "myFunction(1.0)\n",
    "myFunction(1)\n",
    "myFunction(\"Joey\")"
   ]
  },
  {
   "cell_type": "markdown",
   "id": "dd438833",
   "metadata": {},
   "source": [
    "A lot more functionalities are available and for you to discover!"
   ]
  },
  {
   "cell_type": "code",
   "execution_count": 37,
   "id": "7eca605c",
   "metadata": {},
   "outputs": [
    {
     "data": {
      "text/plain": [
       "5-element Vector{Int64}:\n",
       "   4\n",
       "  16\n",
       "  36\n",
       "  64\n",
       " 100"
      ]
     },
     "execution_count": 37,
     "metadata": {},
     "output_type": "execute_result"
    }
   ],
   "source": [
    "l = [i^2 for i in 1:10 if i%2 == 0] # list comprehensions (similar to Python)"
   ]
  },
  {
   "cell_type": "markdown",
   "id": "e1945e7f",
   "metadata": {},
   "source": [
    "### Navigating Julia"
   ]
  },
  {
   "cell_type": "markdown",
   "id": "2c8528e1",
   "metadata": {},
   "source": [
    "Julia has a package manager to quickly download, install, update and uninstall new tools (packages)"
   ]
  },
  {
   "cell_type": "code",
   "execution_count": null,
   "id": "0701cd51",
   "metadata": {},
   "outputs": [],
   "source": [
    "using Pkg\n",
    "# Add Packages Plots, and Pyplot (can take some time)\n",
    "Pkg.add(\"Plots\")\n",
    "Pkg.add(\"PyPlot\")\n",
    "# Update\n",
    "Pkg.update()\n",
    "#Remove:\n",
    "# Pkg.rm(\"PyPlot\")"
   ]
  },
  {
   "cell_type": "code",
   "execution_count": null,
   "id": "7f58a3dd",
   "metadata": {},
   "outputs": [],
   "source": []
  }
 ],
 "metadata": {
  "kernelspec": {
   "display_name": "Julia 1.8.2",
   "language": "julia",
   "name": "julia-1.8"
  },
  "language_info": {
   "file_extension": ".jl",
   "mimetype": "application/julia",
   "name": "julia",
   "version": "1.8.2"
  }
 },
 "nbformat": 4,
 "nbformat_minor": 5
}
