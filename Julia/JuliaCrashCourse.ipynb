{
 "cells": [
  {
   "cell_type": "markdown",
   "id": "edec271c",
   "metadata": {},
   "source": [
    "# Introduction to Julia"
   ]
  },
  {
   "cell_type": "markdown",
   "id": "69ad60b6",
   "metadata": {},
   "source": [
    "- This introduction doesn't replace a full Julia course.\n",
    "- We only want to point out the basics, especially those that are different to Python."
   ]
  },
  {
   "cell_type": "markdown",
   "id": "6465ca66",
   "metadata": {},
   "source": [
    "- We have seen a very powerful usecase of Python. \n",
    "- Why would we want to use any other language?\n",
    "- -> Speed"
   ]
  },
  {
   "cell_type": "markdown",
   "id": "807ba162",
   "metadata": {},
   "source": [
    "- Julia's LLVM-based JIT compiler (Low level virtual machine just-in-time) compiler combined with the language's design allows it to approach and often match the performance of C in typical user scenarios."
   ]
  },
  {
   "cell_type": "markdown",
   "id": "58313843",
   "metadata": {},
   "source": [
    "![](Images/benchmarks.svg)"
   ]
  },
  {
   "cell_type": "markdown",
   "id": "7d9d8365",
   "metadata": {},
   "source": [
    "### Some History\n",
    "- started 2009 at MIT by Alan Edelman, Jeff Bezanson, Stefan Karpinski, Viral Shah\n",
    "- publicly announced 2012\n",
    "- v0.6 2017 Jun 19: pretty much the \"modern\" version of Julia\n",
    "    - Some old stuff you encounter in the internet is targeted for this. So be aware!\n",
    "- v0.7 2018 Aug 8: short test release before v1\n",
    "- v1.0 2018 Aug 9: Official release\n",
    "- v1.1 2019 Jan 22: minor improvements & bug fixes"
   ]
  },
  {
   "cell_type": "markdown",
   "id": "791b891c",
   "metadata": {},
   "source": [
    "### Syntax"
   ]
  },
  {
   "cell_type": "code",
   "execution_count": 1,
   "id": "14bd8e9c",
   "metadata": {},
   "outputs": [
    {
     "data": {
      "text/plain": [
       "mandel (generic function with 1 method)"
      ]
     },
     "execution_count": 1,
     "metadata": {},
     "output_type": "execute_result"
    }
   ],
   "source": [
    "function mandel(z)\n",
    "    c = z\n",
    "    maxiter = 80\n",
    "    for n = 1:maxiter\n",
    "        if abs(z) > 2\n",
    "            return n-1\n",
    "        end\n",
    "        z = z^2 + c\n",
    "    end\n",
    "    return maxiter\n",
    "end"
   ]
  },
  {
   "cell_type": "code",
   "execution_count": 2,
   "id": "a4bc13fc",
   "metadata": {},
   "outputs": [
    {
     "data": {
      "text/plain": [
       "11×13 Matrix{Int64}:\n",
       "  0   0   1   2   2   2   2   3   3   6  80   3   2\n",
       "  0   1   2   2   2   2   3   3   5  80  17   4   3\n",
       "  0   2   2   2   2   3   4  11  25  80  80  11  14\n",
       "  0   2   2   4   6   6   6  80  80  80  80  80   8\n",
       "  0   3   4   5  17  80  14  80  80  80  80  80  30\n",
       " 80  80  80  80  80  80  80  80  80  80  80  80   6\n",
       "  0   3   4   5  17  80  14  80  80  80  80  80  30\n",
       "  0   2   2   4   6   6   6  80  80  80  80  80   8\n",
       "  0   2   2   2   2   3   4  11  25  80  80  11  14\n",
       "  0   1   2   2   2   2   3   3   5  80  17   4   3\n",
       "  0   0   1   2   2   2   2   3   3   6  80   3   2"
      ]
     },
     "execution_count": 2,
     "metadata": {},
     "output_type": "execute_result"
    }
   ],
   "source": [
    "[ mandel(complex(r,i)) for i=-1.:.2:1., r=-2.0:.2:0.5 ]"
   ]
  },
  {
   "cell_type": "markdown",
   "id": "01893dff",
   "metadata": {},
   "source": [
    "- The syntax is easy to use and learn.\n",
    "- It will seem familiar to Python and Matlab users.\n",
    "- It is possible to do complicated computations quickly.\n"
   ]
  },
  {
   "cell_type": "markdown",
   "id": "829f2f7a",
   "metadata": {},
   "source": [
    "For example, Solving $$Ax=b$$ with $$A = \\begin{pmatrix}\\,\n",
    "    1 & 2 & 3\\\\ \n",
    "    2 & 1 & 2\\\\ \n",
    "    3 & 2 & 1\n",
    "    \\end{pmatrix}$$\n",
    "    and $$b = \\begin{pmatrix}\n",
    "    1 \\\\\n",
    "    1 \\\\ \n",
    "    1 \n",
    "    \\end{pmatrix}$$"
   ]
  },
  {
   "cell_type": "code",
   "execution_count": 3,
   "id": "e99dff1b",
   "metadata": {},
   "outputs": [
    {
     "data": {
      "text/plain": [
       "3-element Vector{Float64}:\n",
       " 0.25\n",
       " 0.0\n",
       " 0.25000000000000006"
      ]
     },
     "execution_count": 3,
     "metadata": {},
     "output_type": "execute_result"
    }
   ],
   "source": [
    "A = [1 2 3\n",
    "     2 1 2\n",
    "     3 2 1]\n",
    "\n",
    "b = [1,1,1]\n",
    "A\\b"
   ]
  },
  {
   "cell_type": "markdown",
   "id": "280f75c2",
   "metadata": {},
   "source": [
    "### A dynamic language:"
   ]
  },
  {
   "cell_type": "markdown",
   "id": "9f38ca29",
   "metadata": {},
   "source": [
    "- Julia is, like Python, Matlab or R, a dynamic language: \n",
    "    - You can interact with the language without the need to compile your code. \n",
    "    - Static or compiled languages, like C or Fortran, are more complicated to use but generally faster, and thus used when there is a need for time-efficient computations.\n",
    "\n",
    "- This is the two-languages problem: \n",
    "    - One generally use a high level language for research and scripting, \n",
    "    - and then translate the final result in a static language for performance."
   ]
  },
  {
   "cell_type": "markdown",
   "id": "85f43d34",
   "metadata": {},
   "source": [
    "### A High Performance language:\n",
    "\n",
    "- Julia solves the two languages problem using just-in-time compilation. \n",
    "    - While running, your code will be automatically compiled and optimized to reach performances comparable to static languages like C, Fortran and Go.\n",
    "- Unlike R, Matlab or Python, simple loops are extremely efficient in Julia:"
   ]
  },
  {
   "cell_type": "code",
   "execution_count": 4,
   "id": "930aaad5",
   "metadata": {},
   "outputs": [
    {
     "name": "stdout",
     "output_type": "stream",
     "text": [
      "First use: slow like a dynamic language\n",
      "  0.020126 seconds\n",
      "Second use: compiled and optimized automatically\n",
      "  0.025451 seconds\n",
      "  0.018975 seconds\n"
     ]
    },
    {
     "data": {
      "text/plain": [
       "10000000"
      ]
     },
     "execution_count": 4,
     "metadata": {},
     "output_type": "execute_result"
    }
   ],
   "source": [
    "function countTo(n)\n",
    "    count = 0\n",
    "    for i = 1:n\n",
    "        count += 1\n",
    "    end\n",
    "    return count\n",
    "end\n",
    "println(\"First use: slow like a dynamic language\")\n",
    "@time countTo(10_000_000)\n",
    "println(\"Second use: compiled and optimized automatically\")\n",
    "@time countTo(10_000_000)\n",
    "@time countTo(10_000_000)"
   ]
  },
  {
   "cell_type": "markdown",
   "id": "860933c6",
   "metadata": {},
   "source": [
    "### Basic usage"
   ]
  },
  {
   "cell_type": "markdown",
   "id": "ffa541bd",
   "metadata": {},
   "source": [
    "Julia, as a dynamic language, can simply be used as a calculator:"
   ]
  },
  {
   "cell_type": "code",
   "execution_count": 6,
   "id": "4a82c150",
   "metadata": {},
   "outputs": [
    {
     "data": {
      "text/plain": [
       "2"
      ]
     },
     "execution_count": 6,
     "metadata": {},
     "output_type": "execute_result"
    }
   ],
   "source": [
    "1+1"
   ]
  },
  {
   "cell_type": "code",
   "execution_count": 7,
   "id": "62b5f71f",
   "metadata": {},
   "outputs": [
    {
     "data": {
      "text/plain": [
       "-0.01136232398070678"
      ]
     },
     "execution_count": 7,
     "metadata": {},
     "output_type": "execute_result"
    }
   ],
   "source": [
    "sin(exp(2*pi)+sqrt(3))"
   ]
  },
  {
   "cell_type": "markdown",
   "id": "5cd1cdcf",
   "metadata": {},
   "source": [
    "The building blocs of Julia code are **variables**:"
   ]
  },
  {
   "cell_type": "code",
   "execution_count": 8,
   "id": "2c1fb850",
   "metadata": {},
   "outputs": [
    {
     "data": {
      "text/plain": [
       "9"
      ]
     },
     "execution_count": 8,
     "metadata": {},
     "output_type": "execute_result"
    }
   ],
   "source": [
    "a = 1\n",
    "b = 2\n",
    "# This is a comment \n",
    "c = a^2 + b^3 "
   ]
  },
  {
   "cell_type": "code",
   "execution_count": 46,
   "id": "5adf086c",
   "metadata": {},
   "outputs": [
    {
     "data": {
      "text/plain": [
       "String"
      ]
     },
     "execution_count": 46,
     "metadata": {},
     "output_type": "execute_result"
    }
   ],
   "source": [
    "😺 = \"smiley cat!\"\n",
    "typeof(😺)"
   ]
  },
  {
   "cell_type": "markdown",
   "id": "f661915f",
   "metadata": {},
   "source": [
    "### Variables and data types"
   ]
  },
  {
   "cell_type": "markdown",
   "id": "ccb10551",
   "metadata": {},
   "source": [
    "Julia allows to write generic code. Symbols like 😺 are an example of this.\n",
    "\n",
    "In Julia variable names\n",
    "\n",
    "- may contain letters, numbers, underscores or exclamation marks.\n",
    "- start with a letter or underscores (but not with a number!)\n",
    "- are case sensitive\n",
    "- in addition, UTF-8 symbols are supported!\n"
   ]
  },
  {
   "cell_type": "markdown",
   "id": "347cd884",
   "metadata": {},
   "source": [
    "### Special characters"
   ]
  },
  {
   "cell_type": "markdown",
   "id": "ddb4bbda",
   "metadata": {},
   "source": [
    "Julia supports many special characters familiar from ```LaTeX```. Just try common names such as ```\\alpha``` and press ```<TAB>``` to complete."
   ]
  },
  {
   "cell_type": "markdown",
   "id": "a3aa7e5f",
   "metadata": {},
   "source": [
    "If the name is not familiar to you, just copy the character and use the ? to probe what it is."
   ]
  },
  {
   "cell_type": "code",
   "execution_count": 47,
   "id": "5cf331c1",
   "metadata": {},
   "outputs": [
    {
     "data": {
      "text/plain": [
       "0.2"
      ]
     },
     "execution_count": 47,
     "metadata": {},
     "output_type": "execute_result"
    }
   ],
   "source": [
    "α = 0.01\n",
    "β = 0.2"
   ]
  },
  {
   "cell_type": "code",
   "execution_count": 48,
   "id": "3015660d",
   "metadata": {},
   "outputs": [
    {
     "data": {
      "text/plain": [
       "π = 3.1415926535897..."
      ]
     },
     "execution_count": 48,
     "metadata": {},
     "output_type": "execute_result"
    }
   ],
   "source": [
    "π #some are already defined, like pi"
   ]
  },
  {
   "cell_type": "code",
   "execution_count": 49,
   "id": "c7b99757",
   "metadata": {},
   "outputs": [
    {
     "name": "stdout",
     "output_type": "stream",
     "text": [
      "\"\u001b[36mγ\u001b[39m\" can be typed by \u001b[36m\\gamma<tab>\u001b[39m\n",
      "\n",
      "search:\n",
      "\n",
      "Couldn't find \u001b[36mγ\u001b[39m\n",
      "Perhaps you meant A, B, a, b, c, i, l, x, α, β, 😺, /, I, \\, ×, ⋅, !, %, & or '\n"
     ]
    },
    {
     "data": {
      "text/latex": [
       "No documentation found.\n",
       "\n",
       "Binding \\texttt{γ} does not exist.\n",
       "\n"
      ],
      "text/markdown": [
       "No documentation found.\n",
       "\n",
       "Binding `γ` does not exist.\n"
      ],
      "text/plain": [
       "  No documentation found.\n",
       "\n",
       "  Binding \u001b[36mγ\u001b[39m does not exist."
      ]
     },
     "execution_count": 49,
     "metadata": {},
     "output_type": "execute_result"
    }
   ],
   "source": [
    "?γ"
   ]
  },
  {
   "cell_type": "markdown",
   "id": "f099eef9",
   "metadata": {},
   "source": [
    "### Dynamic and loose"
   ]
  },
  {
   "cell_type": "markdown",
   "id": "c58ce367",
   "metadata": {},
   "source": [
    "Julia is a dynamically and loosely typed language. In practise, this means that:\n",
    "\n",
    "- variables (and their types) don't need to be declared\n",
    "    - but they can be\n",
    "- variables are automatically casted to \"correct\" types\n"
   ]
  },
  {
   "cell_type": "code",
   "execution_count": 50,
   "id": "92807e43",
   "metadata": {},
   "outputs": [
    {
     "data": {
      "text/plain": [
       "0.3333333333333333"
      ]
     },
     "execution_count": 50,
     "metadata": {},
     "output_type": "execute_result"
    }
   ],
   "source": [
    "a = 1\n",
    "b = 3\n",
    "c = a/b #what will happen?"
   ]
  },
  {
   "cell_type": "markdown",
   "id": "023f6707",
   "metadata": {},
   "source": [
    "### Data types"
   ]
  },
  {
   "cell_type": "markdown",
   "id": "1aa29a17",
   "metadata": {},
   "source": [
    "**Primitive and abstract types**"
   ]
  },
  {
   "cell_type": "markdown",
   "id": "aef0a6a6",
   "metadata": {},
   "source": [
    "\n",
    "- Numeric types, that represent numbers\n",
    "    - Number\n",
    "        - Real (example: a::Real)\n",
    "        - Integer (example: b::Int)\n",
    "                Int16, Int32, Int64,..., UInt64\n",
    "     - AbstractFloat\n",
    "          Float16, Float32,Float64,...\n",
    "- Strings (String, Char,...)\n",
    "- Bool is a data type that can be either true or false.\n"
   ]
  },
  {
   "cell_type": "markdown",
   "id": "570da072",
   "metadata": {},
   "source": [
    "**Composite types**"
   ]
  },
  {
   "cell_type": "markdown",
   "id": "bf286efc",
   "metadata": {},
   "source": [
    "\n",
    "- complex (Complex{Int64},...) with 1 + 0.1im\n",
    "- Arrays (Array{Int64,1},...)\n",
    "- Mappings\n",
    "    - Dict: a dictionary, also called a hashmap (Dict{String,Int64},...)\n"
   ]
  },
  {
   "cell_type": "markdown",
   "id": "33e813f6",
   "metadata": {},
   "source": [
    "### Numeric literal coefficients"
   ]
  },
  {
   "cell_type": "markdown",
   "id": "e32a51b4",
   "metadata": {},
   "source": [
    "To make common formulas and expressions more clear, Julia allows variables to be immediately preceded by a number, implying multiplication.\n",
    "\n",
    "This makes writing polynomial expressions much cleaner:"
   ]
  },
  {
   "cell_type": "code",
   "execution_count": 51,
   "id": "b61e50e4",
   "metadata": {},
   "outputs": [
    {
     "data": {
      "text/plain": [
       "8.5"
      ]
     },
     "execution_count": 51,
     "metadata": {},
     "output_type": "execute_result"
    }
   ],
   "source": [
    "x = 3\n",
    "2x^2 - 3.5x + 1"
   ]
  },
  {
   "cell_type": "code",
   "execution_count": 52,
   "id": "a7ca445f",
   "metadata": {},
   "outputs": [
    {
     "data": {
      "text/plain": [
       "3"
      ]
     },
     "execution_count": 52,
     "metadata": {},
     "output_type": "execute_result"
    }
   ],
   "source": [
    "2(x-1)^2 - 3(x-1) + 1"
   ]
  },
  {
   "cell_type": "markdown",
   "id": "8d2be597",
   "metadata": {},
   "source": [
    "### Arrays"
   ]
  },
  {
   "cell_type": "markdown",
   "id": "b057df73",
   "metadata": {},
   "source": [
    "Arrays are created using the ```[]``` brackets (or the ```Array``` constructor.)\n",
    "\n",
    "Arrays support multiple types of indexing with normal indices and with range operator ```:```."
   ]
  },
  {
   "cell_type": "code",
   "execution_count": 54,
   "id": "39ae4dfc",
   "metadata": {},
   "outputs": [
    {
     "data": {
      "text/plain": [
       "4-element Vector{Int64}:\n",
       " 1\n",
       " 2\n",
       " 3\n",
       " 4"
      ]
     },
     "execution_count": 54,
     "metadata": {},
     "output_type": "execute_result"
    }
   ],
   "source": [
    "arr = [1,2,3,4]"
   ]
  },
  {
   "cell_type": "code",
   "execution_count": 55,
   "id": "fc667929",
   "metadata": {},
   "outputs": [
    {
     "data": {
      "text/plain": [
       "1"
      ]
     },
     "execution_count": 55,
     "metadata": {},
     "output_type": "execute_result"
    }
   ],
   "source": [
    "arr[1]   # indexing starts from 1"
   ]
  },
  {
   "cell_type": "code",
   "execution_count": 56,
   "id": "2ec919d7",
   "metadata": {},
   "outputs": [
    {
     "data": {
      "text/plain": [
       "3-element Vector{Int64}:\n",
       " 1\n",
       " 2\n",
       " 3"
      ]
     },
     "execution_count": 56,
     "metadata": {},
     "output_type": "execute_result"
    }
   ],
   "source": [
    "arr[1:3] # so-called slice syntax can be used to select parts of an array"
   ]
  },
  {
   "cell_type": "code",
   "execution_count": 57,
   "id": "1955cd29",
   "metadata": {},
   "outputs": [
    {
     "data": {
      "text/plain": [
       "4"
      ]
     },
     "execution_count": 57,
     "metadata": {},
     "output_type": "execute_result"
    }
   ],
   "source": [
    "arr[end] # end keyword points to the end of the array"
   ]
  },
  {
   "cell_type": "markdown",
   "id": "bdb16ced",
   "metadata": {},
   "source": [
    "Type can be specifically forced by writing them in front of the array brackets:"
   ]
  },
  {
   "cell_type": "code",
   "execution_count": 58,
   "id": "132fe18b",
   "metadata": {},
   "outputs": [
    {
     "data": {
      "text/plain": [
       "4-element Vector{Float64}:\n",
       " 1.0\n",
       " 2.0\n",
       " 3.0\n",
       " 4.0"
      ]
     },
     "execution_count": 58,
     "metadata": {},
     "output_type": "execute_result"
    }
   ],
   "source": [
    "arr = Float64[1,2,3,4]"
   ]
  },
  {
   "cell_type": "markdown",
   "id": "464e9dbd",
   "metadata": {},
   "source": [
    "Arrays can be extended with several methods."
   ]
  },
  {
   "cell_type": "code",
   "execution_count": 59,
   "id": "66e3ca48",
   "metadata": {},
   "outputs": [
    {
     "data": {
      "text/plain": [
       "2-element Vector{Int64}:\n",
       " 1\n",
       " 2"
      ]
     },
     "execution_count": 59,
     "metadata": {},
     "output_type": "execute_result"
    }
   ],
   "source": [
    "arr = [1, 2]"
   ]
  },
  {
   "cell_type": "code",
   "execution_count": 60,
   "id": "2d7d2c41",
   "metadata": {},
   "outputs": [
    {
     "data": {
      "text/plain": [
       "3-element Vector{Int64}:\n",
       " 1\n",
       " 2\n",
       " 3"
      ]
     },
     "execution_count": 60,
     "metadata": {},
     "output_type": "execute_result"
    }
   ],
   "source": [
    "push!(arr, 3) # Exclamation mark ! means that the function mutates its argument"
   ]
  },
  {
   "cell_type": "code",
   "execution_count": 61,
   "id": "218b2c14",
   "metadata": {},
   "outputs": [
    {
     "data": {
      "text/plain": [
       "4-element Vector{Int64}:\n",
       " 42\n",
       "  1\n",
       "  2\n",
       "  3"
      ]
     },
     "execution_count": 61,
     "metadata": {},
     "output_type": "execute_result"
    }
   ],
   "source": [
    "insert!(arr, 1, 42) # insert places the given element to given location in the array"
   ]
  },
  {
   "cell_type": "code",
   "execution_count": 62,
   "id": "7c2c78ce",
   "metadata": {},
   "outputs": [
    {
     "data": {
      "text/plain": [
       "7-element Vector{Int64}:\n",
       "  42\n",
       "   1\n",
       "   2\n",
       "   3\n",
       " 100\n",
       " 101\n",
       " 102"
      ]
     },
     "execution_count": 62,
     "metadata": {},
     "output_type": "execute_result"
    }
   ],
   "source": [
    "append!(arr, [100, 101, 102]) # append another array to the end"
   ]
  },
  {
   "cell_type": "markdown",
   "id": "20784eba",
   "metadata": {},
   "source": [
    "**2D Arrays**"
   ]
  },
  {
   "cell_type": "code",
   "execution_count": 63,
   "id": "c82c393a",
   "metadata": {},
   "outputs": [
    {
     "data": {
      "text/plain": [
       "2×2 Matrix{Int64}:\n",
       " 1  2\n",
       " 3  4"
      ]
     },
     "execution_count": 63,
     "metadata": {},
     "output_type": "execute_result"
    }
   ],
   "source": [
    "matrix = [1 2; 3 4]"
   ]
  },
  {
   "cell_type": "markdown",
   "id": "df2c7da3",
   "metadata": {},
   "source": [
    "**N-dimensional Arrays**"
   ]
  },
  {
   "cell_type": "markdown",
   "id": "58438081",
   "metadata": {},
   "source": [
    "For more dimensions than 2, one should initialize the arrays somehow else.\n",
    "\n",
    "Standard ways are:"
   ]
  },
  {
   "cell_type": "code",
   "execution_count": 64,
   "id": "f7a73660",
   "metadata": {},
   "outputs": [
    {
     "data": {
      "text/plain": [
       "3×3×3 Array{Float64, 3}:\n",
       "[:, :, 1] =\n",
       " 0.0  0.0  0.0\n",
       " 0.0  0.0  0.0\n",
       " 0.0  0.0  0.0\n",
       "\n",
       "[:, :, 2] =\n",
       " 0.0  0.0  0.0\n",
       " 0.0  0.0  0.0\n",
       " 0.0  0.0  0.0\n",
       "\n",
       "[:, :, 3] =\n",
       " 0.0  0.0  0.0\n",
       " 0.0  0.0  0.0\n",
       " 0.0  0.0  0.0"
      ]
     },
     "execution_count": 64,
     "metadata": {},
     "output_type": "execute_result"
    }
   ],
   "source": [
    "A = zeros(3,3,3)"
   ]
  },
  {
   "cell_type": "code",
   "execution_count": 65,
   "id": "4ef06cc9",
   "metadata": {},
   "outputs": [
    {
     "data": {
      "text/plain": [
       "4×5×6×7 Array{Float64, 4}:\n",
       "[:, :, 1, 1] =\n",
       " 1.0  1.0  1.0  1.0  1.0\n",
       " 1.0  1.0  1.0  1.0  1.0\n",
       " 1.0  1.0  1.0  1.0  1.0\n",
       " 1.0  1.0  1.0  1.0  1.0\n",
       "\n",
       "[:, :, 2, 1] =\n",
       " 1.0  1.0  1.0  1.0  1.0\n",
       " 1.0  1.0  1.0  1.0  1.0\n",
       " 1.0  1.0  1.0  1.0  1.0\n",
       " 1.0  1.0  1.0  1.0  1.0\n",
       "\n",
       "[:, :, 3, 1] =\n",
       " 1.0  1.0  1.0  1.0  1.0\n",
       " 1.0  1.0  1.0  1.0  1.0\n",
       " 1.0  1.0  1.0  1.0  1.0\n",
       " 1.0  1.0  1.0  1.0  1.0\n",
       "\n",
       "[:, :, 4, 1] =\n",
       " 1.0  1.0  1.0  1.0  1.0\n",
       " 1.0  1.0  1.0  1.0  1.0\n",
       " 1.0  1.0  1.0  1.0  1.0\n",
       " 1.0  1.0  1.0  1.0  1.0\n",
       "\n",
       "[:, :, 5, 1] =\n",
       " 1.0  1.0  1.0  1.0  1.0\n",
       " 1.0  1.0  1.0  1.0  1.0\n",
       " 1.0  1.0  1.0  1.0  1.0\n",
       " 1.0  1.0  1.0  1.0  1.0\n",
       "\n",
       "[:, :, 6, 1] =\n",
       " 1.0  1.0  1.0  1.0  1.0\n",
       " 1.0  1.0  1.0  1.0  1.0\n",
       " 1.0  1.0  1.0  1.0  1.0\n",
       " 1.0  1.0  1.0  1.0  1.0\n",
       "\n",
       "[:, :, 1, 2] =\n",
       " 1.0  1.0  1.0  1.0  1.0\n",
       " 1.0  1.0  1.0  1.0  1.0\n",
       " 1.0  1.0  1.0  1.0  1.0\n",
       " 1.0  1.0  1.0  1.0  1.0\n",
       "\n",
       "[:, :, 2, 2] =\n",
       " 1.0  1.0  1.0  1.0  1.0\n",
       " 1.0  1.0  1.0  1.0  1.0\n",
       " 1.0  1.0  1.0  1.0  1.0\n",
       " 1.0  1.0  1.0  1.0  1.0\n",
       "\n",
       "[:, :, 3, 2] =\n",
       " 1.0  1.0  1.0  1.0  1.0\n",
       " 1.0  1.0  1.0  1.0  1.0\n",
       " 1.0  1.0  1.0  1.0  1.0\n",
       " 1.0  1.0  1.0  1.0  1.0\n",
       "\n",
       "[:, :, 4, 2] =\n",
       " 1.0  1.0  1.0  1.0  1.0\n",
       " 1.0  1.0  1.0  1.0  1.0\n",
       " 1.0  1.0  1.0  1.0  1.0\n",
       " 1.0  1.0  1.0  1.0  1.0\n",
       "\n",
       "[:, :, 5, 2] =\n",
       " 1.0  1.0  1.0  1.0  1.0\n",
       " 1.0  1.0  1.0  1.0  1.0\n",
       " 1.0  1.0  1.0  1.0  1.0\n",
       " 1.0  1.0  1.0  1.0  1.0\n",
       "\n",
       "[:, :, 6, 2] =\n",
       " 1.0  1.0  1.0  1.0  1.0\n",
       " 1.0  1.0  1.0  1.0  1.0\n",
       " 1.0  1.0  1.0  1.0  1.0\n",
       " 1.0  1.0  1.0  1.0  1.0\n",
       "\n",
       "[:, :, 1, 3] =\n",
       " 1.0  1.0  1.0  1.0  1.0\n",
       " 1.0  1.0  1.0  1.0  1.0\n",
       " 1.0  1.0  1.0  1.0  1.0\n",
       " 1.0  1.0  1.0  1.0  1.0\n",
       "\n",
       "[:, :, 2, 3] =\n",
       " 1.0  1.0  1.0  1.0  1.0\n",
       " 1.0  1.0  1.0  1.0  1.0\n",
       " 1.0  1.0  1.0  1.0  1.0\n",
       " 1.0  1.0  1.0  1.0  1.0\n",
       "\n",
       "[:, :, 3, 3] =\n",
       " 1.0  1.0  1.0  1.0  1.0\n",
       " 1.0  1.0  1.0  1.0  1.0\n",
       " 1.0  1.0  1.0  1.0  1.0\n",
       " 1.0  1.0  1.0  1.0  1.0\n",
       "\n",
       "[:, :, 4, 3] =\n",
       " 1.0  1.0  1.0  1.0  1.0\n",
       " 1.0  1.0  1.0  1.0  1.0\n",
       " 1.0  1.0  1.0  1.0  1.0\n",
       " 1.0  1.0  1.0  1.0  1.0\n",
       "\n",
       "[:, :, 5, 3] =\n",
       " 1.0  1.0  1.0  1.0  1.0\n",
       " 1.0  1.0  1.0  1.0  1.0\n",
       " 1.0  1.0  1.0  1.0  1.0\n",
       " 1.0  1.0  1.0  1.0  1.0\n",
       "\n",
       "[:, :, 6, 3] =\n",
       " 1.0  1.0  1.0  1.0  1.0\n",
       " 1.0  1.0  1.0  1.0  1.0\n",
       " 1.0  1.0  1.0  1.0  1.0\n",
       " 1.0  1.0  1.0  1.0  1.0\n",
       "\n",
       "[:, :, 1, 4] =\n",
       " 1.0  1.0  1.0  1.0  1.0\n",
       " 1.0  1.0  1.0  1.0  1.0\n",
       " 1.0  1.0  1.0  1.0  1.0\n",
       " 1.0  1.0  1.0  1.0  1.0\n",
       "\n",
       "[:, :, 2, 4] =\n",
       " 1.0  1.0  1.0  1.0  1.0\n",
       " 1.0  1.0  1.0  1.0  1.0\n",
       " 1.0  1.0  1.0  1.0  1.0\n",
       " 1.0  1.0  1.0  1.0  1.0\n",
       "\n",
       "[:, :, 3, 4] =\n",
       " 1.0  1.0  1.0  1.0  1.0\n",
       " 1.0  1.0  1.0  1.0  1.0\n",
       " 1.0  1.0  1.0  1.0  1.0\n",
       " 1.0  1.0  1.0  1.0  1.0\n",
       "\n",
       "[:, :, 4, 4] =\n",
       " 1.0  1.0  1.0  1.0  1.0\n",
       " 1.0  1.0  1.0  1.0  1.0\n",
       " 1.0  1.0  1.0  1.0  1.0\n",
       " 1.0  1.0  1.0  1.0  1.0\n",
       "\n",
       "[:, :, 5, 4] =\n",
       " 1.0  1.0  1.0  1.0  1.0\n",
       " 1.0  1.0  1.0  1.0  1.0\n",
       " 1.0  1.0  1.0  1.0  1.0\n",
       " 1.0  1.0  1.0  1.0  1.0\n",
       "\n",
       "[:, :, 6, 4] =\n",
       " 1.0  1.0  1.0  1.0  1.0\n",
       " 1.0  1.0  1.0  1.0  1.0\n",
       " 1.0  1.0  1.0  1.0  1.0\n",
       " 1.0  1.0  1.0  1.0  1.0\n",
       "\n",
       "[:, :, 1, 5] =\n",
       " 1.0  1.0  1.0  1.0  1.0\n",
       " 1.0  1.0  1.0  1.0  1.0\n",
       " 1.0  1.0  1.0  1.0  1.0\n",
       " 1.0  1.0  1.0  1.0  1.0\n",
       "\n",
       "[:, :, 2, 5] =\n",
       " 1.0  1.0  1.0  1.0  1.0\n",
       " 1.0  1.0  1.0  1.0  1.0\n",
       " 1.0  1.0  1.0  1.0  1.0\n",
       " 1.0  1.0  1.0  1.0  1.0\n",
       "\n",
       "[:, :, 3, 5] =\n",
       " 1.0  1.0  1.0  1.0  1.0\n",
       " 1.0  1.0  1.0  1.0  1.0\n",
       " 1.0  1.0  1.0  1.0  1.0\n",
       " 1.0  1.0  1.0  1.0  1.0\n",
       "\n",
       "[:, :, 4, 5] =\n",
       " 1.0  1.0  1.0  1.0  1.0\n",
       " 1.0  1.0  1.0  1.0  1.0\n",
       " 1.0  1.0  1.0  1.0  1.0\n",
       " 1.0  1.0  1.0  1.0  1.0\n",
       "\n",
       "[:, :, 5, 5] =\n",
       " 1.0  1.0  1.0  1.0  1.0\n",
       " 1.0  1.0  1.0  1.0  1.0\n",
       " 1.0  1.0  1.0  1.0  1.0\n",
       " 1.0  1.0  1.0  1.0  1.0\n",
       "\n",
       "[:, :, 6, 5] =\n",
       " 1.0  1.0  1.0  1.0  1.0\n",
       " 1.0  1.0  1.0  1.0  1.0\n",
       " 1.0  1.0  1.0  1.0  1.0\n",
       " 1.0  1.0  1.0  1.0  1.0\n",
       "\n",
       "[:, :, 1, 6] =\n",
       " 1.0  1.0  1.0  1.0  1.0\n",
       " 1.0  1.0  1.0  1.0  1.0\n",
       " 1.0  1.0  1.0  1.0  1.0\n",
       " 1.0  1.0  1.0  1.0  1.0\n",
       "\n",
       "[:, :, 2, 6] =\n",
       " 1.0  1.0  1.0  1.0  1.0\n",
       " 1.0  1.0  1.0  1.0  1.0\n",
       " 1.0  1.0  1.0  1.0  1.0\n",
       " 1.0  1.0  1.0  1.0  1.0\n",
       "\n",
       "[:, :, 3, 6] =\n",
       " 1.0  1.0  1.0  1.0  1.0\n",
       " 1.0  1.0  1.0  1.0  1.0\n",
       " 1.0  1.0  1.0  1.0  1.0\n",
       " 1.0  1.0  1.0  1.0  1.0\n",
       "\n",
       "[:, :, 4, 6] =\n",
       " 1.0  1.0  1.0  1.0  1.0\n",
       " 1.0  1.0  1.0  1.0  1.0\n",
       " 1.0  1.0  1.0  1.0  1.0\n",
       " 1.0  1.0  1.0  1.0  1.0\n",
       "\n",
       "[:, :, 5, 6] =\n",
       " 1.0  1.0  1.0  1.0  1.0\n",
       " 1.0  1.0  1.0  1.0  1.0\n",
       " 1.0  1.0  1.0  1.0  1.0\n",
       " 1.0  1.0  1.0  1.0  1.0\n",
       "\n",
       "[:, :, 6, 6] =\n",
       " 1.0  1.0  1.0  1.0  1.0\n",
       " 1.0  1.0  1.0  1.0  1.0\n",
       " 1.0  1.0  1.0  1.0  1.0\n",
       " 1.0  1.0  1.0  1.0  1.0\n",
       "\n",
       "[:, :, 1, 7] =\n",
       " 1.0  1.0  1.0  1.0  1.0\n",
       " 1.0  1.0  1.0  1.0  1.0\n",
       " 1.0  1.0  1.0  1.0  1.0\n",
       " 1.0  1.0  1.0  1.0  1.0\n",
       "\n",
       "[:, :, 2, 7] =\n",
       " 1.0  1.0  1.0  1.0  1.0\n",
       " 1.0  1.0  1.0  1.0  1.0\n",
       " 1.0  1.0  1.0  1.0  1.0\n",
       " 1.0  1.0  1.0  1.0  1.0\n",
       "\n",
       "[:, :, 3, 7] =\n",
       " 1.0  1.0  1.0  1.0  1.0\n",
       " 1.0  1.0  1.0  1.0  1.0\n",
       " 1.0  1.0  1.0  1.0  1.0\n",
       " 1.0  1.0  1.0  1.0  1.0\n",
       "\n",
       "[:, :, 4, 7] =\n",
       " 1.0  1.0  1.0  1.0  1.0\n",
       " 1.0  1.0  1.0  1.0  1.0\n",
       " 1.0  1.0  1.0  1.0  1.0\n",
       " 1.0  1.0  1.0  1.0  1.0\n",
       "\n",
       "[:, :, 5, 7] =\n",
       " 1.0  1.0  1.0  1.0  1.0\n",
       " 1.0  1.0  1.0  1.0  1.0\n",
       " 1.0  1.0  1.0  1.0  1.0\n",
       " 1.0  1.0  1.0  1.0  1.0\n",
       "\n",
       "[:, :, 6, 7] =\n",
       " 1.0  1.0  1.0  1.0  1.0\n",
       " 1.0  1.0  1.0  1.0  1.0\n",
       " 1.0  1.0  1.0  1.0  1.0\n",
       " 1.0  1.0  1.0  1.0  1.0"
      ]
     },
     "execution_count": 65,
     "metadata": {},
     "output_type": "execute_result"
    }
   ],
   "source": [
    "B = ones(4,5,6,7)"
   ]
  },
  {
   "cell_type": "code",
   "execution_count": 66,
   "id": "6476b847",
   "metadata": {},
   "outputs": [
    {
     "data": {
      "text/plain": [
       "2×3×4×5×6 Array{Float64, 5}:\n",
       "[:, :, 1, 1, 1] =\n",
       " 0.626403  0.537873  0.924301\n",
       " 0.656116  0.364871  0.186408\n",
       "\n",
       "[:, :, 2, 1, 1] =\n",
       " 0.399052  0.462579  0.624574\n",
       " 0.539237  0.646921  0.983698\n",
       "\n",
       "[:, :, 3, 1, 1] =\n",
       " 0.640139  0.512163  0.26524\n",
       " 0.45682   0.350083  0.856136\n",
       "\n",
       "[:, :, 4, 1, 1] =\n",
       " 0.855976  0.23205   0.429975\n",
       " 0.373379  0.843202  0.309599\n",
       "\n",
       "[:, :, 1, 2, 1] =\n",
       " 0.233395  0.952064  0.951838\n",
       " 0.416192  0.182916  0.307025\n",
       "\n",
       "[:, :, 2, 2, 1] =\n",
       " 0.789561  0.566991  0.806427\n",
       " 0.85196   0.440878  0.0513769\n",
       "\n",
       "[:, :, 3, 2, 1] =\n",
       " 0.538769  0.0649833  0.228968\n",
       " 0.195866  0.0485142  0.906979\n",
       "\n",
       "[:, :, 4, 2, 1] =\n",
       " 0.569613  0.514444  0.458406\n",
       " 0.982521  0.786136  0.347724\n",
       "\n",
       "[:, :, 1, 3, 1] =\n",
       " 0.853175  0.15487   0.284398\n",
       " 0.644528  0.418822  0.506507\n",
       "\n",
       "[:, :, 2, 3, 1] =\n",
       " 0.151931  0.686132  0.768818\n",
       " 0.968403  0.403597  0.218367\n",
       "\n",
       "[:, :, 3, 3, 1] =\n",
       " 0.639542  0.674058  0.0517755\n",
       " 0.184218  0.134158  0.794882\n",
       "\n",
       "[:, :, 4, 3, 1] =\n",
       " 0.5401    0.883351  0.22703\n",
       " 0.389115  0.43445   0.00125305\n",
       "\n",
       "[:, :, 1, 4, 1] =\n",
       " 0.34694   0.123832  0.71002\n",
       " 0.740469  0.213714  0.416453\n",
       "\n",
       "[:, :, 2, 4, 1] =\n",
       " 0.613195  0.603254   0.584795\n",
       " 0.851666  0.0743449  0.608225\n",
       "\n",
       "[:, :, 3, 4, 1] =\n",
       " 0.0598697  0.411056  0.898586\n",
       " 0.263505   0.17283   0.228179\n",
       "\n",
       "[:, :, 4, 4, 1] =\n",
       " 0.632212  0.915463  0.317882\n",
       " 0.785934  0.928201  0.110941\n",
       "\n",
       "[:, :, 1, 5, 1] =\n",
       " 0.786133  0.867718  0.819667\n",
       " 0.807646  0.344994  0.977314\n",
       "\n",
       "[:, :, 2, 5, 1] =\n",
       " 0.101432  0.196396  0.0130664\n",
       " 0.234265  0.811873  0.750827\n",
       "\n",
       "[:, :, 3, 5, 1] =\n",
       " 0.456982  0.202947  0.610871\n",
       " 0.38263   0.241918  0.404194\n",
       "\n",
       "[:, :, 4, 5, 1] =\n",
       " 0.480833  0.231895  0.701381\n",
       " 0.907843  0.208851  0.118405\n",
       "\n",
       "[:, :, 1, 1, 2] =\n",
       " 0.887839  0.833562  0.0341854\n",
       " 0.403915  0.655455  0.775758\n",
       "\n",
       "[:, :, 2, 1, 2] =\n",
       " 0.391944  0.377121  0.781689\n",
       " 0.742984  0.723863  0.407107\n",
       "\n",
       "[:, :, 3, 1, 2] =\n",
       " 0.455181  0.720018  0.0258422\n",
       " 0.934707  0.185026  0.362391\n",
       "\n",
       "[:, :, 4, 1, 2] =\n",
       " 0.0421908  0.903925  0.577143\n",
       " 0.917285   0.509445  0.606171\n",
       "\n",
       "[:, :, 1, 2, 2] =\n",
       " 0.237295  0.708062  0.477609\n",
       " 0.500523  0.997311  0.570211\n",
       "\n",
       "[:, :, 2, 2, 2] =\n",
       " 0.507936  0.566298  0.412475\n",
       " 0.272388  0.440861  0.279953\n",
       "\n",
       "[:, :, 3, 2, 2] =\n",
       " 0.884009  0.622928  0.510061\n",
       " 0.690357  0.311613  0.803237\n",
       "\n",
       "[:, :, 4, 2, 2] =\n",
       " 0.635536  0.286479  0.488055\n",
       " 0.266439  0.31774   0.0532157\n",
       "\n",
       "[:, :, 1, 3, 2] =\n",
       " 0.249646  0.481831   0.0394417\n",
       " 0.688414  0.0312173  0.718238\n",
       "\n",
       "[:, :, 2, 3, 2] =\n",
       " 0.589881  0.612188  0.0213653\n",
       " 0.388047  0.54884   0.229503\n",
       "\n",
       "[:, :, 3, 3, 2] =\n",
       " 0.199549  0.962726  0.322671\n",
       " 0.029612  0.305784  0.106911\n",
       "\n",
       "[:, :, 4, 3, 2] =\n",
       " 0.876908  0.0999299  0.639733\n",
       " 0.393278  0.307115   0.239046\n",
       "\n",
       "[:, :, 1, 4, 2] =\n",
       " 0.163783  0.241643  0.221003\n",
       " 0.229779  0.390734  0.248951\n",
       "\n",
       "[:, :, 2, 4, 2] =\n",
       " 0.379837  0.623309  0.0130875\n",
       " 0.539314  0.965674  0.847994\n",
       "\n",
       "[:, :, 3, 4, 2] =\n",
       " 0.919115  0.217101  0.953715\n",
       " 0.277171  0.628397  0.592877\n",
       "\n",
       "[:, :, 4, 4, 2] =\n",
       " 0.604367  0.827566  0.226825\n",
       " 0.618651  0.891159  0.402409\n",
       "\n",
       "[:, :, 1, 5, 2] =\n",
       " 0.40128   0.0710399  0.783661\n",
       " 0.822372  0.317104   0.257247\n",
       "\n",
       "[:, :, 2, 5, 2] =\n",
       " 0.819599  0.387349  0.988573\n",
       " 0.283133  0.254955  0.563116\n",
       "\n",
       "[:, :, 3, 5, 2] =\n",
       " 0.0661669  0.827048  0.816068\n",
       " 0.184886   0.526466  0.969769\n",
       "\n",
       "[:, :, 4, 5, 2] =\n",
       " 0.240845  0.106788  0.910072\n",
       " 0.437842  0.664652  0.65542\n",
       "\n",
       "[:, :, 1, 1, 3] =\n",
       " 0.440675  0.647333  0.882221\n",
       " 0.456695  0.188222  0.827753\n",
       "\n",
       "[:, :, 2, 1, 3] =\n",
       " 0.429295   0.771268  0.951595\n",
       " 0.0822348  0.88624   0.505029\n",
       "\n",
       "[:, :, 3, 1, 3] =\n",
       " 0.334134  0.0223943  0.801463\n",
       " 0.961199  0.864032   0.911633\n",
       "\n",
       "[:, :, 4, 1, 3] =\n",
       " 0.0843957  0.837356  0.590566\n",
       " 0.907394   0.640218  0.102849\n",
       "\n",
       "[:, :, 1, 2, 3] =\n",
       " 0.69085    0.638405  0.0676135\n",
       " 0.0400501  0.317925  0.5676\n",
       "\n",
       "[:, :, 2, 2, 3] =\n",
       " 0.0706397  0.331871  0.793413\n",
       " 0.528826   0.835479  0.462543\n",
       "\n",
       "[:, :, 3, 2, 3] =\n",
       " 0.122524  0.794003  0.0864957\n",
       " 0.132444  0.550549  0.279887\n",
       "\n",
       "[:, :, 4, 2, 3] =\n",
       " 0.830923  0.554024   0.371939\n",
       " 0.326388  0.0374696  0.496904\n",
       "\n",
       "[:, :, 1, 3, 3] =\n",
       " 0.250033  0.0731638  0.401118\n",
       " 0.3126    0.392507   0.833879\n",
       "\n",
       "[:, :, 2, 3, 3] =\n",
       " 0.372842  0.545883  0.500725\n",
       " 0.495736  0.227235  0.989683\n",
       "\n",
       "[:, :, 3, 3, 3] =\n",
       " 0.641311  0.268907  0.763645\n",
       " 0.59319   0.656178  0.320644\n",
       "\n",
       "[:, :, 4, 3, 3] =\n",
       " 0.265614  0.537577  0.977629\n",
       " 0.576761  0.846621  0.373043\n",
       "\n",
       "[:, :, 1, 4, 3] =\n",
       " 0.770271  0.441158  0.758807\n",
       " 0.459649  0.750923  0.192417\n",
       "\n",
       "[:, :, 2, 4, 3] =\n",
       " 0.559827  0.83527   0.78421\n",
       " 0.846857  0.806773  0.866682\n",
       "\n",
       "[:, :, 3, 4, 3] =\n",
       " 0.432658  0.736562  0.0620207\n",
       " 0.759081  0.199887  0.443201\n",
       "\n",
       "[:, :, 4, 4, 3] =\n",
       " 0.0154911  0.0038674  0.664399\n",
       " 0.273128   0.0963928  0.471464\n",
       "\n",
       "[:, :, 1, 5, 3] =\n",
       " 0.522425  0.375323  0.517776\n",
       " 0.522471  0.937504  0.393451\n",
       "\n",
       "[:, :, 2, 5, 3] =\n",
       " 0.386724  0.410539  0.630542\n",
       " 0.830606  0.617367  0.0695007\n",
       "\n",
       "[:, :, 3, 5, 3] =\n",
       " 0.246546  0.323387  0.485975\n",
       " 0.96708   0.41323   0.601883\n",
       "\n",
       "[:, :, 4, 5, 3] =\n",
       " 0.419358   0.316194  0.12647\n",
       " 0.0937935  0.809807  0.992806\n",
       "\n",
       "[:, :, 1, 1, 4] =\n",
       " 0.575443  0.458113  0.0821227\n",
       " 0.431133  0.485691  0.652044\n",
       "\n",
       "[:, :, 2, 1, 4] =\n",
       " 0.559053  0.9063    0.171985\n",
       " 0.635011  0.750302  0.304756\n",
       "\n",
       "[:, :, 3, 1, 4] =\n",
       " 0.316178  0.821676  0.842157\n",
       " 0.750145  0.668842  0.819963\n",
       "\n",
       "[:, :, 4, 1, 4] =\n",
       " 0.754942  0.543463  0.679321\n",
       " 0.132176  0.524283  0.253622\n",
       "\n",
       "[:, :, 1, 2, 4] =\n",
       " 0.373528  0.901366  0.132101\n",
       " 0.603312  0.906943  0.49632\n",
       "\n",
       "[:, :, 2, 2, 4] =\n",
       " 0.682138   0.913749  0.668873\n",
       " 0.0516605  0.23519   0.0614588\n",
       "\n",
       "[:, :, 3, 2, 4] =\n",
       " 0.85145   0.629938  0.20924\n",
       " 0.521646  0.508389  0.956787\n",
       "\n",
       "[:, :, 4, 2, 4] =\n",
       " 0.823725  0.344811  0.229945\n",
       " 0.750218  0.393149  0.826956\n",
       "\n",
       "[:, :, 1, 3, 4] =\n",
       " 0.46937   0.375782   0.640605\n",
       " 0.262184  0.0411148  0.479005\n",
       "\n",
       "[:, :, 2, 3, 4] =\n",
       " 0.0711718  0.704017  0.865641\n",
       " 0.637264   0.95757   0.478045\n",
       "\n",
       "[:, :, 3, 3, 4] =\n",
       " 0.212542  0.930153  0.797583\n",
       " 0.264338  0.73628   0.690233\n",
       "\n",
       "[:, :, 4, 3, 4] =\n",
       " 0.751017  0.0158703  0.815977\n",
       " 0.45818   0.622981   0.915623\n",
       "\n",
       "[:, :, 1, 4, 4] =\n",
       " 0.163999  0.935312  0.231861\n",
       " 0.207218  0.430742  0.990708\n",
       "\n",
       "[:, :, 2, 4, 4] =\n",
       " 0.0353481  0.64148   0.524299\n",
       " 0.349869   0.247871  0.0768336\n",
       "\n",
       "[:, :, 3, 4, 4] =\n",
       " 0.311848   0.586532   0.645683\n",
       " 0.0273333  0.0246319  0.143861\n",
       "\n",
       "[:, :, 4, 4, 4] =\n",
       " 0.0698933  0.573816  0.428703\n",
       " 0.813935   0.525541  0.542359\n",
       "\n",
       "[:, :, 1, 5, 4] =\n",
       " 0.337561  0.573327  0.0427176\n",
       " 0.88436   0.453633  0.422462\n",
       "\n",
       "[:, :, 2, 5, 4] =\n",
       " 0.461233  0.746759  0.273588\n",
       " 0.184197  0.984362  0.781716\n",
       "\n",
       "[:, :, 3, 5, 4] =\n",
       " 0.277874  0.634244  0.405216\n",
       " 0.223219  0.884362  0.116361\n",
       "\n",
       "[:, :, 4, 5, 4] =\n",
       " 0.542635  0.851565  0.614441\n",
       " 0.39862   0.646367  0.944001\n",
       "\n",
       "[:, :, 1, 1, 5] =\n",
       " 0.273034  0.705569  0.194274\n",
       " 0.272805  0.411293  0.692041\n",
       "\n",
       "[:, :, 2, 1, 5] =\n",
       " 0.183469  0.848209   0.769955\n",
       " 0.362781  0.0112356  0.166619\n",
       "\n",
       "[:, :, 3, 1, 5] =\n",
       " 0.732247  0.851734  0.465806\n",
       " 0.433931  0.980695  0.322553\n",
       "\n",
       "[:, :, 4, 1, 5] =\n",
       " 0.247664  0.0821647  0.469314\n",
       " 0.044062  0.602868   0.997535\n",
       "\n",
       "[:, :, 1, 2, 5] =\n",
       " 0.834969  0.227526  0.75821\n",
       " 0.108478  0.400938  0.357229\n",
       "\n",
       "[:, :, 2, 2, 5] =\n",
       " 0.809983  0.77402   0.692197\n",
       " 0.230222  0.132481  0.21117\n",
       "\n",
       "[:, :, 3, 2, 5] =\n",
       " 0.143808  0.692177  0.894327\n",
       " 0.469447  0.909796  0.390544\n",
       "\n",
       "[:, :, 4, 2, 5] =\n",
       " 0.281181  0.942647  0.405821\n",
       " 0.399417  0.259254  0.357721\n",
       "\n",
       "[:, :, 1, 3, 5] =\n",
       " 0.751947  0.831218  0.8621\n",
       " 0.034877  0.171279  0.352052\n",
       "\n",
       "[:, :, 2, 3, 5] =\n",
       " 0.672133  0.878851  0.522596\n",
       " 0.27085   0.163828  0.736156\n",
       "\n",
       "[:, :, 3, 3, 5] =\n",
       " 0.81411   0.497544    0.388234\n",
       " 0.452603  0.00418768  0.973227\n",
       "\n",
       "[:, :, 4, 3, 5] =\n",
       " 0.659499  0.748463  0.678804\n",
       " 0.894615  0.132364  0.314184\n",
       "\n",
       "[:, :, 1, 4, 5] =\n",
       " 0.988206  0.169529  0.852099\n",
       " 0.339658  0.922814  0.425857\n",
       "\n",
       "[:, :, 2, 4, 5] =\n",
       " 0.149257  0.483717  0.0123452\n",
       " 0.967935  0.827776  0.991058\n",
       "\n",
       "[:, :, 3, 4, 5] =\n",
       " 0.5749    0.00909754  0.304762\n",
       " 0.515338  0.699857    0.467687\n",
       "\n",
       "[:, :, 4, 4, 5] =\n",
       " 0.424301  0.289029  0.598075\n",
       " 0.858094  0.311268  0.285216\n",
       "\n",
       "[:, :, 1, 5, 5] =\n",
       " 0.130119  0.646616  0.292917\n",
       " 0.588888  0.76187   0.577139\n",
       "\n",
       "[:, :, 2, 5, 5] =\n",
       " 0.533216   0.068693  0.680207\n",
       " 0.0523099  0.637038  0.25344\n",
       "\n",
       "[:, :, 3, 5, 5] =\n",
       " 0.72118  0.403865  0.200262\n",
       " 0.97421  0.645387  0.424652\n",
       "\n",
       "[:, :, 4, 5, 5] =\n",
       " 0.725508  0.593303  0.0713928\n",
       " 0.820498  0.800605  0.220261\n",
       "\n",
       "[:, :, 1, 1, 6] =\n",
       " 0.853352  0.459838  0.576635\n",
       " 0.694844  0.415099  0.69586\n",
       "\n",
       "[:, :, 2, 1, 6] =\n",
       " 0.90522   0.356501  0.204574\n",
       " 0.264507  0.3149    0.905381\n",
       "\n",
       "[:, :, 3, 1, 6] =\n",
       " 0.312762  0.198269  0.283285\n",
       " 0.719919  0.28628   0.523173\n",
       "\n",
       "[:, :, 4, 1, 6] =\n",
       " 0.570429  0.406683  0.801727\n",
       " 0.962677  0.369473  0.725051\n",
       "\n",
       "[:, :, 1, 2, 6] =\n",
       " 0.162882  0.902231   0.22971\n",
       " 0.216203  0.0695047  0.124845\n",
       "\n",
       "[:, :, 2, 2, 6] =\n",
       " 0.975199  0.0430045  0.977378\n",
       " 0.667601  0.564491   0.997634\n",
       "\n",
       "[:, :, 3, 2, 6] =\n",
       " 0.545496  0.652422  0.991976\n",
       " 0.568257  0.425099  0.52061\n",
       "\n",
       "[:, :, 4, 2, 6] =\n",
       " 0.00475375  0.717446  0.747748\n",
       " 0.947893    0.487823  0.316114\n",
       "\n",
       "[:, :, 1, 3, 6] =\n",
       " 0.925851  0.685011  0.547613\n",
       " 0.775324  0.8041    0.921716\n",
       "\n",
       "[:, :, 2, 3, 6] =\n",
       " 0.866807  0.803245  0.266866\n",
       " 0.43597   0.71613   0.644686\n",
       "\n",
       "[:, :, 3, 3, 6] =\n",
       " 0.151282  0.398295  0.829225\n",
       " 0.425466  0.488479  0.183092\n",
       "\n",
       "[:, :, 4, 3, 6] =\n",
       " 0.408849  0.568439   0.479327\n",
       " 0.626319  0.0397064  0.857002\n",
       "\n",
       "[:, :, 1, 4, 6] =\n",
       " 0.311771  0.773612  0.827294\n",
       " 0.616516  0.55407   0.560796\n",
       "\n",
       "[:, :, 2, 4, 6] =\n",
       " 0.321704  0.850644  0.351145\n",
       " 0.931654  0.140048  0.348471\n",
       "\n",
       "[:, :, 3, 4, 6] =\n",
       " 0.756371  0.956382  0.283237\n",
       " 0.651963  0.969377  0.192533\n",
       "\n",
       "[:, :, 4, 4, 6] =\n",
       " 0.519129  0.3046    0.0459473\n",
       " 0.896569  0.225837  0.829627\n",
       "\n",
       "[:, :, 1, 5, 6] =\n",
       " 0.60488    0.905238  0.821406\n",
       " 0.0391465  0.265104  0.926479\n",
       "\n",
       "[:, :, 2, 5, 6] =\n",
       " 0.787393  0.94973  0.997293\n",
       " 0.372641  0.85582  0.465914\n",
       "\n",
       "[:, :, 3, 5, 6] =\n",
       " 0.559545  0.571701  0.556152\n",
       " 0.757691  0.870608  0.415405\n",
       "\n",
       "[:, :, 4, 5, 6] =\n",
       " 0.436701  0.614607  0.907021\n",
       " 0.803767  0.308249  0.0446719"
      ]
     },
     "execution_count": 66,
     "metadata": {},
     "output_type": "execute_result"
    }
   ],
   "source": [
    "C = rand(2,3,4,5,6)"
   ]
  },
  {
   "cell_type": "markdown",
   "id": "d0dd2f76",
   "metadata": {},
   "source": [
    "### Dictionaries"
   ]
  },
  {
   "cell_type": "markdown",
   "id": "51ededf3",
   "metadata": {},
   "source": [
    "- If we have sets of data related to one another, we may choose to store that data in a dictionary. \n",
    "- We can create a dictionary using the ```Dict()``` function, which we can initialize as an empty dictionary or one storing key, value pairs.\n",
    "\n",
    "Syntax:\n",
    "\n",
    "Dict(key1 => value1, key2 => value2, ...)\n"
   ]
  },
  {
   "cell_type": "code",
   "execution_count": 68,
   "id": "9b0f61bc",
   "metadata": {},
   "outputs": [
    {
     "data": {
      "text/plain": [
       "Dict{String, String} with 2 entries:\n",
       "  \"George\"       => \"867-5309\"\n",
       "  \"Ghostbusters\" => \"555-2368\""
      ]
     },
     "execution_count": 68,
     "metadata": {},
     "output_type": "execute_result"
    }
   ],
   "source": [
    "myphonebook = Dict(\"George\" => \"867-5309\", \"Ghostbusters\" => \"555-2368\")"
   ]
  },
  {
   "cell_type": "code",
   "execution_count": 69,
   "id": "35a8af70",
   "metadata": {},
   "outputs": [
    {
     "data": {
      "text/plain": [
       "\"867-5309\""
      ]
     },
     "execution_count": 69,
     "metadata": {},
     "output_type": "execute_result"
    }
   ],
   "source": [
    "myphonebook[\"George\"] # we can access the element by using the key"
   ]
  },
  {
   "cell_type": "code",
   "execution_count": 70,
   "id": "33ca2f78",
   "metadata": {},
   "outputs": [
    {
     "data": {
      "text/plain": [
       "\"555-FILK\""
      ]
     },
     "execution_count": 70,
     "metadata": {},
     "output_type": "execute_result"
    }
   ],
   "source": [
    "myphonebook[\"Kramer\"] = \"555-FILK\" # new elements can be easily added"
   ]
  },
  {
   "cell_type": "markdown",
   "id": "2c50f4e7",
   "metadata": {},
   "source": [
    "### Tuples"
   ]
  },
  {
   "cell_type": "markdown",
   "id": "9067d80e",
   "metadata": {},
   "source": [
    "- We can create a tuple by enclosing an ordered collection of elements in ```( )```. \n",
    "    - Syntax is ```(item1, item2,...)```.\n",
    "\n",
    "- Julia does automatic packing and unpacking of tuples as ```(a, b) = 1, 2```.\n",
    "\n",
    "- Note that tuples are **immutable**!"
   ]
  },
  {
   "cell_type": "code",
   "execution_count": 71,
   "id": "5d8b3275",
   "metadata": {},
   "outputs": [
    {
     "data": {
      "text/plain": [
       "(\"penguins\", \"cats\", \"sugargliders\")"
      ]
     },
     "execution_count": 71,
     "metadata": {},
     "output_type": "execute_result"
    }
   ],
   "source": [
    "myfavoriteanimals = (\"penguins\", \"cats\", \"sugargliders\")"
   ]
  },
  {
   "cell_type": "code",
   "execution_count": 72,
   "id": "283f44fd",
   "metadata": {},
   "outputs": [
    {
     "data": {
      "text/plain": [
       "\"penguins\""
      ]
     },
     "execution_count": 72,
     "metadata": {},
     "output_type": "execute_result"
    }
   ],
   "source": [
    "myfavoriteanimals[1] # tuples can be indexed the same way as arrays"
   ]
  },
  {
   "cell_type": "code",
   "execution_count": 73,
   "id": "35495c35",
   "metadata": {},
   "outputs": [
    {
     "ename": "LoadError",
     "evalue": "MethodError: no method matching setindex!(::Tuple{String, String, String}, ::String, ::Int64)",
     "output_type": "error",
     "traceback": [
      "MethodError: no method matching setindex!(::Tuple{String, String, String}, ::String, ::Int64)",
      "",
      "Stacktrace:",
      " [1] top-level scope",
      "   @ In[73]:1",
      " [2] eval",
      "   @ ./boot.jl:368 [inlined]",
      " [3] include_string(mapexpr::typeof(REPL.softscope), mod::Module, code::String, filename::String)",
      "   @ Base ./loading.jl:1428"
     ]
    }
   ],
   "source": [
    "myfavoriteanimals[1] = \"otters\" #but not modified since they are immutable"
   ]
  },
  {
   "cell_type": "markdown",
   "id": "cb7f4977",
   "metadata": {},
   "source": [
    "### Big numbers"
   ]
  },
  {
   "cell_type": "markdown",
   "id": "a1c15736",
   "metadata": {},
   "source": [
    "Arbitrary precision arithmetics is also supported."
   ]
  },
  {
   "cell_type": "code",
   "execution_count": 74,
   "id": "3aa5e135",
   "metadata": {},
   "outputs": [
    {
     "data": {
      "text/plain": [
       "2.459565876494606882133333333333333333333333333333333333333333333333333333333344e+19"
      ]
     },
     "execution_count": 74,
     "metadata": {},
     "output_type": "execute_result"
    }
   ],
   "source": [
    "BigFloat(2.0^66) / 3"
   ]
  },
  {
   "cell_type": "markdown",
   "id": "7ed7d428",
   "metadata": {},
   "source": [
    "### Advanced: Dynamic types"
   ]
  },
  {
   "cell_type": "markdown",
   "id": "e5069935",
   "metadata": {},
   "source": [
    "- When evaluating ```1/3```, it equals ```0.3333...``` (which is what the user often meant). \n",
    "- However, not always! Then the ```::``` operator can be attached to the expressions. It is read as \"*is instance of*\"."
   ]
  },
  {
   "cell_type": "code",
   "execution_count": 80,
   "id": "9ee6230a",
   "metadata": {},
   "outputs": [
    {
     "data": {
      "text/plain": [
       "Int64"
      ]
     },
     "execution_count": 80,
     "metadata": {},
     "output_type": "execute_result"
    }
   ],
   "source": [
    "a = 1\n",
    "b = 3\n",
    "c = (a + b)::Int\n",
    "typeof(c)"
   ]
  },
  {
   "cell_type": "code",
   "execution_count": 76,
   "id": "b63ab71a",
   "metadata": {},
   "outputs": [
    {
     "data": {
      "text/plain": [
       "4"
      ]
     },
     "execution_count": 76,
     "metadata": {},
     "output_type": "execute_result"
    }
   ],
   "source": [
    "c"
   ]
  },
  {
   "cell_type": "markdown",
   "id": "bbdac399",
   "metadata": {},
   "source": [
    "### Control flow"
   ]
  },
  {
   "cell_type": "markdown",
   "id": "2fb409b0",
   "metadata": {},
   "source": [
    "Julia supports the common if, while and for structures:"
   ]
  },
  {
   "cell_type": "code",
   "execution_count": 9,
   "id": "7be754e9",
   "metadata": {},
   "outputs": [
    {
     "name": "stdout",
     "output_type": "stream",
     "text": [
      "Rachel"
     ]
    }
   ],
   "source": [
    "if c >= 10\n",
    "    print(\"Joey\")\n",
    "else\n",
    "    print(\"Rachel\")\n",
    "end\n",
    "     "
   ]
  },
  {
   "cell_type": "code",
   "execution_count": 10,
   "id": "86f21a77",
   "metadata": {},
   "outputs": [
    {
     "name": "stdout",
     "output_type": "stream",
     "text": [
      "Joey!\n",
      "Joey!\n",
      "Joey!\n",
      "Joey!\n",
      "Joey!\n"
     ]
    }
   ],
   "source": [
    "i = 1\n",
    "while i <= 5\n",
    "    println(\"Joey!\") # Print with a new line\n",
    "    i += 1\n",
    "end\n",
    "     "
   ]
  },
  {
   "cell_type": "code",
   "execution_count": 11,
   "id": "1ad45eea",
   "metadata": {},
   "outputs": [
    {
     "name": "stdout",
     "output_type": "stream",
     "text": [
      "1 Joey\n",
      "2 Joeys\n",
      "3 Joeys\n"
     ]
    }
   ],
   "source": [
    "for i = 1:3\n",
    "    print(\"$i Joey\") # '$' can be used to insert variables into text\n",
    "    if i>1\n",
    "        print(\"s\")\n",
    "    end\n",
    "    println() # Just a new line\n",
    "end"
   ]
  },
  {
   "cell_type": "markdown",
   "id": "d20d2abd",
   "metadata": {},
   "source": [
    "- Do not worry about writing loops: in Julia, they are as fast as writing vectorized code, and sometimes faster!"
   ]
  },
  {
   "cell_type": "markdown",
   "id": "ccf2ccb7",
   "metadata": {},
   "source": [
    "#### For loops for iteration"
   ]
  },
  {
   "cell_type": "markdown",
   "id": "07742abe",
   "metadata": {},
   "source": [
    "For loops can also be used to iterate over containers:"
   ]
  },
  {
   "cell_type": "code",
   "execution_count": 83,
   "id": "244f757c",
   "metadata": {},
   "outputs": [
    {
     "name": "stdout",
     "output_type": "stream",
     "text": [
      "1\n",
      "4\n",
      "0\n"
     ]
    }
   ],
   "source": [
    "for i in [1,4,0]\n",
    "    println(i)\n",
    "end"
   ]
  },
  {
   "cell_type": "code",
   "execution_count": 84,
   "id": "69a1313e",
   "metadata": {},
   "outputs": [
    {
     "name": "stdout",
     "output_type": "stream",
     "text": [
      "foo\n",
      "bar\n",
      "baz\n"
     ]
    }
   ],
   "source": [
    "for s ∈ [\"foo\",\"bar\",\"baz\"]\n",
    "    println(s)\n",
    "end"
   ]
  },
  {
   "cell_type": "markdown",
   "id": "779b249a",
   "metadata": {},
   "source": [
    "**Ternary operator**"
   ]
  },
  {
   "cell_type": "markdown",
   "id": "2b0da95f",
   "metadata": {},
   "source": [
    "Even though the name for this operation is scary, it is actually very easy to understand and handy to use. Syntax is:\n",
    "\n",
    "```condition ? do 1 : do 2```\n",
    "\n",
    "which is equal to writing\n",
    "\n",
    "if *condition*\n",
    "   \n",
    ">   *do 1*\n",
    "\n",
    "else\n",
    "\n",
    ">   *do 2*\n",
    "\n",
    "end\n"
   ]
  },
  {
   "cell_type": "code",
   "execution_count": 82,
   "id": "c121f804",
   "metadata": {},
   "outputs": [
    {
     "ename": "LoadError",
     "evalue": "UndefVarError: y not defined",
     "output_type": "error",
     "traceback": [
      "UndefVarError: y not defined",
      "",
      "Stacktrace:",
      " [1] top-level scope",
      "   @ In[82]:2",
      " [2] eval",
      "   @ ./boot.jl:368 [inlined]",
      " [3] include_string(mapexpr::typeof(REPL.softscope), mod::Module, code::String, filename::String)",
      "   @ Base ./loading.jl:1428"
     ]
    }
   ],
   "source": [
    "# What does the followning code do? Try it out by giving values to `x` and `y`\n",
    "x = \n",
    "y = \n",
    "(x > y ) ? x : y"
   ]
  },
  {
   "cell_type": "code",
   "execution_count": 36,
   "id": "014e5d06",
   "metadata": {},
   "outputs": [
    {
     "name": "stdout",
     "output_type": "stream",
     "text": [
      "Julia!\n",
      "integer\n",
      "Julia!\n"
     ]
    }
   ],
   "source": [
    "function myFunction(x)\n",
    "    println(\"Julia!\")\n",
    "end\n",
    "\n",
    "function myFunction(x::Int) # only called when x is an integer\n",
    "    println(\"integer\")\n",
    "end\n",
    "\n",
    "myFunction(1.0)\n",
    "myFunction(1)\n",
    "myFunction(\"Joey\")"
   ]
  },
  {
   "cell_type": "markdown",
   "id": "511cb1cb",
   "metadata": {},
   "source": [
    "A lot more functionalities are available and for you to discover!"
   ]
  },
  {
   "cell_type": "code",
   "execution_count": 37,
   "id": "39ade4f3",
   "metadata": {},
   "outputs": [
    {
     "data": {
      "text/plain": [
       "5-element Vector{Int64}:\n",
       "   4\n",
       "  16\n",
       "  36\n",
       "  64\n",
       " 100"
      ]
     },
     "execution_count": 37,
     "metadata": {},
     "output_type": "execute_result"
    }
   ],
   "source": [
    "l = [i^2 for i in 1:10 if i%2 == 0] # list comprehensions (similar to Python)"
   ]
  },
  {
   "cell_type": "markdown",
   "id": "9abc9838",
   "metadata": {},
   "source": [
    "### Functions"
   ]
  },
  {
   "cell_type": "markdown",
   "id": "2fd8a43e",
   "metadata": {},
   "source": [
    "Functions are the building blocks of Julia code, acting as the subroutines, procedures, blocks, and similar structural concepts found in other programming languages.\n",
    "\n",
    "- A function's job is to take a tuple of values as an argument list and return a value.\n",
    "- If the arguments contain mutable values like arrays, the array can be modified inside the function.\n",
    "    - By convention, an exclamation mark (!) at the end of a function's name indicates that the function may modify its arguments."
   ]
  },
  {
   "cell_type": "markdown",
   "id": "79aefe43",
   "metadata": {},
   "source": [
    "**How to declare a function**\n",
    "\n",
    "Julia gives us a few different ways to write a function. The first (and most standard) requires function and end keywords."
   ]
  },
  {
   "cell_type": "code",
   "execution_count": 85,
   "id": "fea0d618",
   "metadata": {},
   "outputs": [
    {
     "name": "stdout",
     "output_type": "stream",
     "text": [
      "Hi R2D2, nice to meet you!\n"
     ]
    }
   ],
   "source": [
    "function sayhi(name)\n",
    "    println(\"Hi $name, nice to meet you!\")\n",
    "end\n",
    "\n",
    "sayhi(\"R2D2\")"
   ]
  },
  {
   "cell_type": "code",
   "execution_count": 86,
   "id": "236163e8",
   "metadata": {},
   "outputs": [
    {
     "data": {
      "text/plain": [
       "1764"
      ]
     },
     "execution_count": 86,
     "metadata": {},
     "output_type": "execute_result"
    }
   ],
   "source": [
    "function f(x)\n",
    "    return x^2\n",
    "end\n",
    "\n",
    "f(42)"
   ]
  },
  {
   "cell_type": "markdown",
   "id": "74a8867f",
   "metadata": {},
   "source": [
    "**Single line function definitions**\n",
    "\n",
    "Alternatively, we could have spared a few lines of code and written:"
   ]
  },
  {
   "cell_type": "code",
   "execution_count": 87,
   "id": "1b1c46d0",
   "metadata": {},
   "outputs": [
    {
     "data": {
      "text/plain": [
       "sayhi2 (generic function with 1 method)"
      ]
     },
     "execution_count": 87,
     "metadata": {},
     "output_type": "execute_result"
    }
   ],
   "source": [
    "sayhi2(name) = println(\"Hi $name, nice to meet you!\")"
   ]
  },
  {
   "cell_type": "code",
   "execution_count": 88,
   "id": "748a971c",
   "metadata": {},
   "outputs": [
    {
     "data": {
      "text/plain": [
       "f2 (generic function with 1 method)"
      ]
     },
     "execution_count": 88,
     "metadata": {},
     "output_type": "execute_result"
    }
   ],
   "source": [
    "f2(x) = x^2"
   ]
  },
  {
   "cell_type": "markdown",
   "id": "0fc5160b",
   "metadata": {},
   "source": [
    "**Anonymous functions**\n",
    "\n",
    "Or we could have declared them as \"anonymous\" functions as\n"
   ]
  },
  {
   "cell_type": "code",
   "execution_count": 90,
   "id": "e57e2cda",
   "metadata": {},
   "outputs": [
    {
     "data": {
      "text/plain": [
       "#7 (generic function with 1 method)"
      ]
     },
     "execution_count": 90,
     "metadata": {},
     "output_type": "execute_result"
    }
   ],
   "source": [
    "sayhi3 = name -> println(\"Hi $name, nice to meet you!\")"
   ]
  },
  {
   "cell_type": "code",
   "execution_count": 91,
   "id": "7d4c9599",
   "metadata": {},
   "outputs": [
    {
     "data": {
      "text/plain": [
       "#9 (generic function with 1 method)"
      ]
     },
     "execution_count": 91,
     "metadata": {},
     "output_type": "execute_result"
    }
   ],
   "source": [
    "f3 = x -> x^2"
   ]
  },
  {
   "cell_type": "markdown",
   "id": "6dd6f93d",
   "metadata": {},
   "source": [
    "**Duck-typing in Julia**\n",
    "\n",
    "*If it quacks like a duck, it's a duck.*\n",
    "\n",
    "- Julia functions will just work on whatever input makes sense. \n",
    "- For example, sayhi works also with the name written as an integer:\n"
   ]
  },
  {
   "cell_type": "code",
   "execution_count": 92,
   "id": "27548b4d",
   "metadata": {},
   "outputs": [
    {
     "name": "stdout",
     "output_type": "stream",
     "text": [
      "Hi 55595472, nice to meet you!\n"
     ]
    }
   ],
   "source": [
    "sayhi(55595472)"
   ]
  },
  {
   "cell_type": "markdown",
   "id": "7f6b645f",
   "metadata": {},
   "source": [
    "And ```f``` will work on a matrix:"
   ]
  },
  {
   "cell_type": "code",
   "execution_count": 93,
   "id": "7959f1ac",
   "metadata": {},
   "outputs": [
    {
     "data": {
      "text/plain": [
       "3×3 Matrix{Float64}:\n",
       " 0.881973  0.939591   0.654905\n",
       " 0.337591  0.0970538  0.996315\n",
       " 0.239653  0.391179   0.583737"
      ]
     },
     "execution_count": 93,
     "metadata": {},
     "output_type": "execute_result"
    }
   ],
   "source": [
    "A = rand(3,3)\n",
    "A"
   ]
  },
  {
   "cell_type": "code",
   "execution_count": 94,
   "id": "fc974315",
   "metadata": {},
   "outputs": [
    {
     "data": {
      "text/plain": [
       "3×3 Matrix{Float64}:\n",
       " 1.25202   1.17607   1.89603\n",
       " 0.56928   0.716353  0.899372\n",
       " 0.483319  0.491486  0.887436"
      ]
     },
     "execution_count": 94,
     "metadata": {},
     "output_type": "execute_result"
    }
   ],
   "source": [
    "f(A)"
   ]
  },
  {
   "cell_type": "markdown",
   "id": "e16ba55c",
   "metadata": {},
   "source": [
    "**Mutating vs. non-mutating functions**\n",
    "\n",
    "- By convention, functions followed by ```!``` alter their contents and functions lacking ! do not.\n",
    "\n",
    "- For example, let's look at the difference between sort and sort!.\n"
   ]
  },
  {
   "cell_type": "code",
   "execution_count": 95,
   "id": "0322b3f6",
   "metadata": {},
   "outputs": [
    {
     "data": {
      "text/plain": [
       "3-element Vector{Int64}:\n",
       " 3\n",
       " 5\n",
       " 2"
      ]
     },
     "execution_count": 95,
     "metadata": {},
     "output_type": "execute_result"
    }
   ],
   "source": [
    "v = [3,5,2]"
   ]
  },
  {
   "cell_type": "code",
   "execution_count": 96,
   "id": "4e48ae03",
   "metadata": {},
   "outputs": [
    {
     "data": {
      "text/plain": [
       "3-element Vector{Int64}:\n",
       " 2\n",
       " 3\n",
       " 5"
      ]
     },
     "execution_count": 96,
     "metadata": {},
     "output_type": "execute_result"
    }
   ],
   "source": [
    "sort(v)"
   ]
  },
  {
   "cell_type": "code",
   "execution_count": 97,
   "id": "8aba2b59",
   "metadata": {},
   "outputs": [
    {
     "data": {
      "text/plain": [
       "3-element Vector{Int64}:\n",
       " 3\n",
       " 5\n",
       " 2"
      ]
     },
     "execution_count": 97,
     "metadata": {},
     "output_type": "execute_result"
    }
   ],
   "source": [
    "v"
   ]
  },
  {
   "cell_type": "markdown",
   "id": "3eb27938",
   "metadata": {},
   "source": [
    "- ```sort(v)``` returns a sorted array that contains the same elements as ```v```, but ```v``` is left unchanged.\n",
    "\n",
    "- On the other hand, when we run ```sort!(v)``` the content of ```v``` is really modified.\n"
   ]
  },
  {
   "cell_type": "code",
   "execution_count": 98,
   "id": "fb8c97c1",
   "metadata": {},
   "outputs": [
    {
     "data": {
      "text/plain": [
       "3-element Vector{Int64}:\n",
       " 2\n",
       " 3\n",
       " 5"
      ]
     },
     "execution_count": 98,
     "metadata": {},
     "output_type": "execute_result"
    }
   ],
   "source": [
    "sort!(v)"
   ]
  },
  {
   "cell_type": "code",
   "execution_count": 99,
   "id": "4dbcd064",
   "metadata": {},
   "outputs": [
    {
     "data": {
      "text/plain": [
       "3-element Vector{Int64}:\n",
       " 2\n",
       " 3\n",
       " 5"
      ]
     },
     "execution_count": 99,
     "metadata": {},
     "output_type": "execute_result"
    }
   ],
   "source": [
    "v"
   ]
  },
  {
   "cell_type": "markdown",
   "id": "61ca897f",
   "metadata": {},
   "source": [
    "#### Some higher-order functions: ```map```"
   ]
  },
  {
   "cell_type": "markdown",
   "id": "41493224",
   "metadata": {},
   "source": [
    "- ```map``` is a \"higher-order\" function in Julia that takes a function as one of its input arguments. \n",
    "- ```map``` then applies that function to every element of the data structure you pass.\n",
    "\n",
    "For example\n",
    "\n",
    "```map(f, [1,2,3])```\n",
    "\n",
    "will correspond to\n",
    "\n",
    "```[f(1), f(2), f(3)]```\n",
    "\n"
   ]
  },
  {
   "cell_type": "markdown",
   "id": "d1ac952c",
   "metadata": {},
   "source": [
    "#### Some higher-order functions: ```broadcast```\n"
   ]
  },
  {
   "cell_type": "markdown",
   "id": "92164da5",
   "metadata": {},
   "source": [
    "- ```broadcast``` is another higher-order function like ```map```. ```broadcast``` is actually a generalization, so it can do what map but also more!\n",
    "\n",
    "- Syntax is the same\n",
    "\n",
    "```broadcast(f, [1,2,3])```\n",
    "\n",
    "And so we have again applied f (squared) to all elements of [1,2,3]."
   ]
  },
  {
   "cell_type": "markdown",
   "id": "a6420b58",
   "metadata": {},
   "source": [
    "#### Broadcasting (or vectorizing)"
   ]
  },
  {
   "cell_type": "markdown",
   "id": "2e68d218",
   "metadata": {},
   "source": [
    "Some syntactic sugar for calling ```broadcast``` is to place ```.``` between the name of the function you want to broadcast and its input arguments.\n",
    "\n",
    "For example\n",
    "\n",
    "```broadcast(f, [1,2,3])```\n",
    "\n",
    "is the same as\n",
    "\n",
    "```f.([1,2,3])```\n",
    "\n",
    "Note that this is not the same as ```f([1,2,3])``` because we can not square a vector!\n",
    "\n",
    "Let's try broadcasting for a matrix ```A```:\n"
   ]
  },
  {
   "cell_type": "code",
   "execution_count": 100,
   "id": "26ea2101",
   "metadata": {},
   "outputs": [
    {
     "data": {
      "text/plain": [
       "3×3 Matrix{Int64}:\n",
       " 1  2  3\n",
       " 4  5  6\n",
       " 7  8  9"
      ]
     },
     "execution_count": 100,
     "metadata": {},
     "output_type": "execute_result"
    }
   ],
   "source": [
    "A = [i + 3j for j in 0:2, i in 1:3]"
   ]
  },
  {
   "cell_type": "code",
   "execution_count": 101,
   "id": "4285e9eb",
   "metadata": {},
   "outputs": [
    {
     "data": {
      "text/plain": [
       "3×3 Matrix{Int64}:\n",
       "  30   36   42\n",
       "  66   81   96\n",
       " 102  126  150"
      ]
     },
     "execution_count": 101,
     "metadata": {},
     "output_type": "execute_result"
    }
   ],
   "source": [
    "f(A)"
   ]
  },
  {
   "cell_type": "code",
   "execution_count": 102,
   "id": "b380c909",
   "metadata": {},
   "outputs": [
    {
     "data": {
      "text/plain": [
       "3×3 Matrix{Int64}:\n",
       "  1   4   9\n",
       " 16  25  36\n",
       " 49  64  81"
      ]
     },
     "execution_count": 102,
     "metadata": {},
     "output_type": "execute_result"
    }
   ],
   "source": [
    "B = f.(A)"
   ]
  },
  {
   "cell_type": "markdown",
   "id": "334e4b3e",
   "metadata": {},
   "source": [
    "#### Dot syntax for vectorization"
   ]
  },
  {
   "cell_type": "markdown",
   "id": "85324b31",
   "metadata": {},
   "source": [
    "The dot syntax allows to write complex compound elementwise expressions in a way that looks natural/closer to mathematical notation.\n",
    "\n",
    "For example:"
   ]
  },
  {
   "cell_type": "code",
   "execution_count": 103,
   "id": "32a6f53d",
   "metadata": {},
   "outputs": [
    {
     "data": {
      "text/plain": [
       "3×3 Matrix{Float64}:\n",
       "  3.0   6.0   9.0\n",
       " 12.0  15.0  18.0\n",
       " 21.0  24.0  27.0"
      ]
     },
     "execution_count": 103,
     "metadata": {},
     "output_type": "execute_result"
    }
   ],
   "source": [
    "A + 2 .* f.(A) ./ A"
   ]
  },
  {
   "cell_type": "markdown",
   "id": "1a6c271f",
   "metadata": {},
   "source": [
    "Instead of the more nasty looking version with broadcast as"
   ]
  },
  {
   "cell_type": "code",
   "execution_count": 104,
   "id": "bda4c7a1",
   "metadata": {},
   "outputs": [
    {
     "data": {
      "text/plain": [
       "3×3 Matrix{Float64}:\n",
       "  3.0   6.0   9.0\n",
       " 12.0  15.0  18.0\n",
       " 21.0  24.0  27.0"
      ]
     },
     "execution_count": 104,
     "metadata": {},
     "output_type": "execute_result"
    }
   ],
   "source": [
    "broadcast(x-> x + 2 * f(x) / x, A) "
   ]
  },
  {
   "cell_type": "markdown",
   "id": "5dcb363f",
   "metadata": {},
   "source": [
    "### Navigating Julia"
   ]
  },
  {
   "cell_type": "markdown",
   "id": "bcf1a35f",
   "metadata": {},
   "source": [
    "Julia has a package manager to quickly download, install, update and uninstall new tools (packages)"
   ]
  },
  {
   "cell_type": "code",
   "execution_count": 45,
   "id": "2d0e28c8",
   "metadata": {},
   "outputs": [
    {
     "name": "stderr",
     "output_type": "stream",
     "text": [
      "\u001b[32m\u001b[1m   Resolving\u001b[22m\u001b[39m package versions...\n",
      "\u001b[32m\u001b[1m  No Changes\u001b[22m\u001b[39m to `~/.julia/environments/v1.8/Project.toml`\n",
      "\u001b[32m\u001b[1m  No Changes\u001b[22m\u001b[39m to `~/.julia/environments/v1.8/Manifest.toml`\n",
      "\u001b[32m\u001b[1mPrecompiling\u001b[22m\u001b[39m project...\n",
      "\u001b[33m  ✓ \u001b[39m\u001b[90mGR\u001b[39m\n",
      "\u001b[33m  ✓ \u001b[39mPlots\n",
      "  2 dependencies successfully precompiled in 139 seconds. 161 already precompiled. 1 skipped during auto due to previous errors.\n",
      "  \u001b[33m2\u001b[39m dependencies precompiled but different versions are currently loaded. Restart julia to access the new versions\n",
      "\u001b[32m\u001b[1m   Resolving\u001b[22m\u001b[39m package versions...\n",
      "\u001b[32m\u001b[1m  No Changes\u001b[22m\u001b[39m to `~/.julia/environments/v1.8/Project.toml`\n",
      "\u001b[32m\u001b[1m  No Changes\u001b[22m\u001b[39m to `~/.julia/environments/v1.8/Manifest.toml`\n",
      "\u001b[32m\u001b[1m    Updating\u001b[22m\u001b[39m registry at `~/.julia/registries/General.toml`\n",
      "\u001b[32m\u001b[1m  No Changes\u001b[22m\u001b[39m to `~/.julia/environments/v1.8/Project.toml`\n",
      "\u001b[32m\u001b[1m  No Changes\u001b[22m\u001b[39m to `~/.julia/environments/v1.8/Manifest.toml`\n"
     ]
    }
   ],
   "source": [
    "using Pkg\n",
    "# Add Packages Plots, and Pyplot (can take some time)\n",
    "Pkg.add(\"Plots\")\n",
    "Pkg.add(\"PyPlot\")\n",
    "# Update\n",
    "Pkg.update()\n",
    "#Remove:\n",
    "# Pkg.rm(\"PyPlot\")"
   ]
  },
  {
   "cell_type": "markdown",
   "id": "c6727d98",
   "metadata": {},
   "source": [
    "Use ? to get the documentation of a function:"
   ]
  },
  {
   "cell_type": "code",
   "execution_count": 40,
   "id": "69034433",
   "metadata": {},
   "outputs": [
    {
     "name": "stdout",
     "output_type": "stream",
     "text": [
      "search: \u001b[0m\u001b[1me\u001b[22m\u001b[0m\u001b[1mi\u001b[22m\u001b[0m\u001b[1mg\u001b[22men \u001b[0m\u001b[1me\u001b[22m\u001b[0m\u001b[1mi\u001b[22m\u001b[0m\u001b[1mg\u001b[22mmin \u001b[0m\u001b[1me\u001b[22m\u001b[0m\u001b[1mi\u001b[22m\u001b[0m\u001b[1mg\u001b[22mmax \u001b[0m\u001b[1me\u001b[22m\u001b[0m\u001b[1mi\u001b[22m\u001b[0m\u001b[1mg\u001b[22men! \u001b[0m\u001b[1mE\u001b[22m\u001b[0m\u001b[1mi\u001b[22m\u001b[0m\u001b[1mg\u001b[22men \u001b[0m\u001b[1me\u001b[22m\u001b[0m\u001b[1mi\u001b[22m\u001b[0m\u001b[1mg\u001b[22mvecs \u001b[0m\u001b[1me\u001b[22m\u001b[0m\u001b[1mi\u001b[22m\u001b[0m\u001b[1mg\u001b[22mvals \u001b[0m\u001b[1me\u001b[22m\u001b[0m\u001b[1mi\u001b[22m\u001b[0m\u001b[1mg\u001b[22men_c \u001b[0m\u001b[1me\u001b[22m\u001b[0m\u001b[1mi\u001b[22m\u001b[0m\u001b[1mg\u001b[22men_b \u001b[0m\u001b[1me\u001b[22m\u001b[0m\u001b[1mi\u001b[22m\u001b[0m\u001b[1mg\u001b[22men_a\n",
      "\n",
      "Couldn't find \u001b[36meig\u001b[39m\n",
      "Perhaps you meant big, eigen, ceil, reim, edit, exit, eof, eps, esc, exp or end\n"
     ]
    },
    {
     "data": {
      "text/latex": [
       "No documentation found.\n",
       "\n",
       "Binding \\texttt{eig} does not exist.\n",
       "\n"
      ],
      "text/markdown": [
       "No documentation found.\n",
       "\n",
       "Binding `eig` does not exist.\n"
      ],
      "text/plain": [
       "  No documentation found.\n",
       "\n",
       "  Binding \u001b[36meig\u001b[39m does not exist."
      ]
     },
     "execution_count": 40,
     "metadata": {},
     "output_type": "execute_result"
    }
   ],
   "source": [
    "?eig"
   ]
  },
  {
   "cell_type": "markdown",
   "id": "363a4e59",
   "metadata": {},
   "source": [
    "Use tab-completion to auto-complete functions and variables names: try myF<TAB>:"
   ]
  },
  {
   "cell_type": "code",
   "execution_count": null,
   "id": "8f53f84d",
   "metadata": {},
   "outputs": [],
   "source": [
    "myF\n",
    "fac"
   ]
  },
  {
   "cell_type": "markdown",
   "id": "795b1cb6",
   "metadata": {},
   "source": [
    "The ```methods``` function lists all of the different implementations of a function depending on the input types. Click on the link to see the Julia source code."
   ]
  },
  {
   "cell_type": "code",
   "execution_count": 41,
   "id": "fb69c52c",
   "metadata": {},
   "outputs": [
    {
     "data": {
      "text/html": [
       "# 14 methods for generic function <b>sin</b>:<ul><li> sin(x::<b>T</b>)<i> where T<:Union{Float32, Float64}</i> in Base.Math at <a href=\"https://github.com/JuliaLang/julia/tree/36034abf26062acad4af9dcec7c4fc53b260dbb4/base/special/trig.jl#L29\" target=\"_blank\">special/trig.jl:29</a></li> <li> sin(J::<b>UniformScaling</b>) in LinearAlgebra at <a href=\"file:///Users/julia/.julia/scratchspaces/a66863c6-20e8-4ff4-8a62-49f30b1f605e/agent-cache/default-macmini-x64-6.0/build/default-macmini-x64-6-0/julialang/julia-release-1-dot-8/usr/share/julia/stdlib/v1.8/LinearAlgebra/src/uniformscaling.jl\" target=\"_blank\">/Applications/Julia-1.8.app/Contents/Resources/julia/share/julia/stdlib/v1.8/LinearAlgebra/src/uniformscaling.jl:173</a></li> <li> sin(D::<b>Diagonal</b>) in LinearAlgebra at <a href=\"file:///Users/julia/.julia/scratchspaces/a66863c6-20e8-4ff4-8a62-49f30b1f605e/agent-cache/default-macmini-x64-6.0/build/default-macmini-x64-6-0/julialang/julia-release-1-dot-8/usr/share/julia/stdlib/v1.8/LinearAlgebra/src/diagonal.jl\" target=\"_blank\">/Applications/Julia-1.8.app/Contents/Resources/julia/share/julia/stdlib/v1.8/LinearAlgebra/src/diagonal.jl:674</a></li> <li> sin(A::<b>Hermitian{var\"#s884\", S} where {var\"#s884\"<:Complex, S<:(AbstractMatrix{<:var\"#s884\"})}</b>) in LinearAlgebra at <a href=\"file:///Users/julia/.julia/scratchspaces/a66863c6-20e8-4ff4-8a62-49f30b1f605e/agent-cache/default-macmini-x64-6.0/build/default-macmini-x64-6-0/julialang/julia-release-1-dot-8/usr/share/julia/stdlib/v1.8/LinearAlgebra/src/symmetric.jl\" target=\"_blank\">/Applications/Julia-1.8.app/Contents/Resources/julia/share/julia/stdlib/v1.8/LinearAlgebra/src/symmetric.jl:731</a></li> <li> sin(A::<b>Union{Hermitian{var\"#s885\", S}, Symmetric{var\"#s885\", S}} where {var\"#s885\"<:Real, S}</b>) in LinearAlgebra at <a href=\"file:///Users/julia/.julia/scratchspaces/a66863c6-20e8-4ff4-8a62-49f30b1f605e/agent-cache/default-macmini-x64-6.0/build/default-macmini-x64-6-0/julialang/julia-release-1-dot-8/usr/share/julia/stdlib/v1.8/LinearAlgebra/src/symmetric.jl\" target=\"_blank\">/Applications/Julia-1.8.app/Contents/Resources/julia/share/julia/stdlib/v1.8/LinearAlgebra/src/symmetric.jl:727</a></li> <li> sin(A::<b>AbstractMatrix{<:Real}</b>) in LinearAlgebra at <a href=\"file:///Users/julia/.julia/scratchspaces/a66863c6-20e8-4ff4-8a62-49f30b1f605e/agent-cache/default-macmini-x64-6.0/build/default-macmini-x64-6-0/julialang/julia-release-1-dot-8/usr/share/julia/stdlib/v1.8/LinearAlgebra/src/dense.jl\" target=\"_blank\">/Applications/Julia-1.8.app/Contents/Resources/julia/share/julia/stdlib/v1.8/LinearAlgebra/src/dense.jl:948</a></li> <li> sin(A::<b>AbstractMatrix{<:Complex}</b>) in LinearAlgebra at <a href=\"file:///Users/julia/.julia/scratchspaces/a66863c6-20e8-4ff4-8a62-49f30b1f605e/agent-cache/default-macmini-x64-6.0/build/default-macmini-x64-6-0/julialang/julia-release-1-dot-8/usr/share/julia/stdlib/v1.8/LinearAlgebra/src/dense.jl\" target=\"_blank\">/Applications/Julia-1.8.app/Contents/Resources/julia/share/julia/stdlib/v1.8/LinearAlgebra/src/dense.jl:955</a></li> <li> sin(a::<b>Float16</b>) in Base.Math at <a href=\"https://github.com/JuliaLang/julia/tree/36034abf26062acad4af9dcec7c4fc53b260dbb4/base/math.jl#L1352\" target=\"_blank\">math.jl:1352</a></li> <li> sin(a::<b>ComplexF16</b>) in Base.Math at <a href=\"https://github.com/JuliaLang/julia/tree/36034abf26062acad4af9dcec7c4fc53b260dbb4/base/math.jl#L1353\" target=\"_blank\">math.jl:1353</a></li> <li> sin(z::<b>Complex{T}</b>)<i> where T</i> in Base at <a href=\"https://github.com/JuliaLang/julia/tree/36034abf26062acad4af9dcec7c4fc53b260dbb4/base/complex.jl#L873\" target=\"_blank\">complex.jl:873</a></li> <li> sin(::<b>Irrational{:π}</b>) in Base.MathConstants at <a href=\"https://github.com/JuliaLang/julia/tree/36034abf26062acad4af9dcec7c4fc53b260dbb4/base/mathconstants.jl#L126\" target=\"_blank\">mathconstants.jl:126</a></li> <li> sin(x::<b>BigFloat</b>) in Base.MPFR at <a href=\"https://github.com/JuliaLang/julia/tree/36034abf26062acad4af9dcec7c4fc53b260dbb4/base/mpfr.jl#L750\" target=\"_blank\">mpfr.jl:750</a></li> <li> sin(x::<b>Real</b>) in Base.Math at <a href=\"https://github.com/JuliaLang/julia/tree/36034abf26062acad4af9dcec7c4fc53b260dbb4/base/math.jl#L1369\" target=\"_blank\">math.jl:1369</a></li> <li> sin(::<b>Missing</b>) in Base.Math at <a href=\"https://github.com/JuliaLang/julia/tree/36034abf26062acad4af9dcec7c4fc53b260dbb4/base/math.jl#L1374\" target=\"_blank\">math.jl:1374</a></li> </ul>"
      ],
      "text/plain": [
       "# 14 methods for generic function \"sin\":\n",
       "[1] sin(x::T) where T<:Union{Float32, Float64} in Base.Math at special/trig.jl:29\n",
       "[2] sin(J::UniformScaling) in LinearAlgebra at /Applications/Julia-1.8.app/Contents/Resources/julia/share/julia/stdlib/v1.8/LinearAlgebra/src/uniformscaling.jl:173\n",
       "[3] sin(D::Diagonal) in LinearAlgebra at /Applications/Julia-1.8.app/Contents/Resources/julia/share/julia/stdlib/v1.8/LinearAlgebra/src/diagonal.jl:674\n",
       "[4] sin(A::Hermitian{var\"#s884\", S} where {var\"#s884\"<:Complex, S<:(AbstractMatrix{<:var\"#s884\"})}) in LinearAlgebra at /Applications/Julia-1.8.app/Contents/Resources/julia/share/julia/stdlib/v1.8/LinearAlgebra/src/symmetric.jl:731\n",
       "[5] sin(A::Union{Hermitian{var\"#s885\", S}, Symmetric{var\"#s885\", S}} where {var\"#s885\"<:Real, S}) in LinearAlgebra at /Applications/Julia-1.8.app/Contents/Resources/julia/share/julia/stdlib/v1.8/LinearAlgebra/src/symmetric.jl:727\n",
       "[6] sin(A::AbstractMatrix{<:Real}) in LinearAlgebra at /Applications/Julia-1.8.app/Contents/Resources/julia/share/julia/stdlib/v1.8/LinearAlgebra/src/dense.jl:948\n",
       "[7] sin(A::AbstractMatrix{<:Complex}) in LinearAlgebra at /Applications/Julia-1.8.app/Contents/Resources/julia/share/julia/stdlib/v1.8/LinearAlgebra/src/dense.jl:955\n",
       "[8] sin(a::Float16) in Base.Math at math.jl:1352\n",
       "[9] sin(a::ComplexF16) in Base.Math at math.jl:1353\n",
       "[10] sin(z::Complex{T}) where T in Base at complex.jl:873\n",
       "[11] sin(::Irrational{:π}) in Base.MathConstants at mathconstants.jl:126\n",
       "[12] sin(x::BigFloat) in Base.MPFR at mpfr.jl:750\n",
       "[13] sin(x::Real) in Base.Math at math.jl:1369\n",
       "[14] sin(::Missing) in Base.Math at math.jl:1374"
      ]
     },
     "execution_count": 41,
     "metadata": {},
     "output_type": "execute_result"
    }
   ],
   "source": [
    "methods(sin)"
   ]
  },
  {
   "cell_type": "markdown",
   "id": "15270cef",
   "metadata": {},
   "source": [
    "### Plotting in IJulia(Jupyter)"
   ]
  },
  {
   "cell_type": "markdown",
   "id": "5ff22346",
   "metadata": {},
   "source": [
    "There are several Julia plotting packages.\n",
    "\n",
    "- ```PyPlot.jl``` is a Julia interface to Matplotlib, and should feel familiar to both MATLAB and Python users.\n",
    "- ```Gadfly``` is written entirely in Julia, inspired by ggplot2, and concentrates on statistical graphics.\n",
    "- ```Plotly``` supports Julia.\n",
    "- ```Plots``` is a meta plotting package, that can use any other plotting package to make the same plot\n",
    "And a lot more\n",
    "\n",
    "Jupyter/IJulia will render the plots directly on the notebook!"
   ]
  },
  {
   "cell_type": "code",
   "execution_count": 44,
   "id": "e3fa95c8",
   "metadata": {},
   "outputs": [
    {
     "ename": "LoadError",
     "evalue": "MethodError: no method matching sin(::Vector{Float64})\n\u001b[0mClosest candidates are:\n\u001b[0m  sin(\u001b[91m::T\u001b[39m) where T<:Union{Float32, Float64} at special/trig.jl:29\n\u001b[0m  sin(\u001b[91m::AbstractGray\u001b[39m) at ~/.julia/packages/ColorVectorSpace/QI5vM/src/ColorVectorSpace.jl:315\n\u001b[0m  sin(\u001b[91m::UniformScaling\u001b[39m) at /Applications/Julia-1.8.app/Contents/Resources/julia/share/julia/stdlib/v1.8/LinearAlgebra/src/uniformscaling.jl:173\n\u001b[0m  ...",
     "output_type": "error",
     "traceback": [
      "MethodError: no method matching sin(::Vector{Float64})\n\u001b[0mClosest candidates are:\n\u001b[0m  sin(\u001b[91m::T\u001b[39m) where T<:Union{Float32, Float64} at special/trig.jl:29\n\u001b[0m  sin(\u001b[91m::AbstractGray\u001b[39m) at ~/.julia/packages/ColorVectorSpace/QI5vM/src/ColorVectorSpace.jl:315\n\u001b[0m  sin(\u001b[91m::UniformScaling\u001b[39m) at /Applications/Julia-1.8.app/Contents/Resources/julia/share/julia/stdlib/v1.8/LinearAlgebra/src/uniformscaling.jl:173\n\u001b[0m  ...",
      "",
      "Stacktrace:",
      " [1] top-level scope",
      "   @ In[44]:4",
      " [2] eval",
      "   @ ./boot.jl:368 [inlined]",
      " [3] include_string(mapexpr::typeof(REPL.softscope), mod::Module, code::String, filename::String)",
      "   @ Base ./loading.jl:1428"
     ]
    }
   ],
   "source": [
    "using Plots\n",
    "pyplot() #plot using Matplotlib\n",
    "x = range(0,5,1000)\n",
    "plot(x, sin(x.^2))"
   ]
  },
  {
   "cell_type": "markdown",
   "id": "3a61496f",
   "metadata": {},
   "source": [
    "Note that the first plot while always take a few seconds to be drawn, a consequence of Julia's just in time compilation. Lots of other plot types are available."
   ]
  },
  {
   "cell_type": "markdown",
   "id": "cbccbb64",
   "metadata": {},
   "source": [
    "\n",
    "### Ecosystem\n",
    "\n",
    "- Julia has a large ecosystem of packages, maintained by a wide variety of people.\n",
    "\n",
    "- In the best of academic ideals, Julia users from across the world come together to create mutually compatible and supporting packages for their domains. \n",
    "- To manage these collections of packages they often use ```GitHub``` organisations\n"
   ]
  },
  {
   "cell_type": "markdown",
   "id": "22bc219f",
   "metadata": {},
   "source": [
    "#### Julia package ecosystem pulse"
   ]
  },
  {
   "cell_type": "markdown",
   "id": "219722df",
   "metadata": {},
   "source": [
    "![](Images/juliapackageecosystem.svg)"
   ]
  },
  {
   "cell_type": "markdown",
   "id": "f7c0e0c1",
   "metadata": {},
   "source": [
    "#### General\n",
    "\n",
    "- ```JuliaDocs``` – Documentation-related packages for Julia\n",
    "- ```Julia-i18n``` – Internationalization (i18n) and localization (L10n) for Julians\n",
    "- ```JuliaTime``` – Date and time libraries\n",
    "- ```JuliaPraxis``` – Best practices\n",
    "- ```JuliaEditorSupport``` – Extensions/Plugins for text editors and IDEs\n",
    "- ```Juno``` – The Juno IDE for Atom\n",
    "\n"
   ]
  },
  {
   "cell_type": "markdown",
   "id": "3cf97335",
   "metadata": {},
   "source": [
    "\n",
    "#### Computing\n",
    "\n",
    "- ```JuliaArrays``` – Custom array types (and utilities for building array types)\n",
    "- ```JuliaBerry``` – Julia resources for the Raspberry Pi\n",
    "- ```JuliaCI``` – Continuous Integration Support for Julia packages\n",
    "- ```JuliaGPU``` – GPU computing\n",
    "- ```JuliaInterop``` – Easy interoperability between Julia and not-Julia\n",
    "- ```JuliaIO``` – IO-related functionality, such as serialization\n",
    "- ```JuliaParallel``` – Parallel programming in Julia\n",
    "- ```JuliaWeb``` – Web stack\n",
    "\n"
   ]
  },
  {
   "cell_type": "markdown",
   "id": "eedecaa0",
   "metadata": {},
   "source": [
    "#### Mathematics\n",
    "\n",
    "- ```JuliaDiff``` – Differentiation tools\n",
    "- ```JuliaDiffEq``` – Differential equation solving and analysis\n",
    "- ```JuliaGeometry``` – Computational Geometry\n",
    "- ```JuliaGraphs``` – Graph Theory and Implementation\n",
    "- ```JuliaIntervals``` - Rigorous numerics with interval arithmetic & applications\n",
    "- ```JuliaMath``` – Mathematics made easy in Julia\n",
    "- ```JuliaOpt``` – Optimization\n",
    "- ```JuliaPolyhedra``` – Polyhedral computation\n",
    "- ```JuliaSparse``` – Sparse matrix solvers\n",
    "\n"
   ]
  },
  {
   "cell_type": "markdown",
   "id": "9d68410a",
   "metadata": {},
   "source": [
    "#### Scientific domains\n",
    "\n",
    "- ```BioJulia``` – Biology\n",
    "- ```EcoJulia``` – Ecology\n",
    "- ```JuliaAstro``` – Astronomy\n",
    "- ```JuliaDSP``` – Digital signal processing\n",
    "- ```JuliaQuant``` – Finance\n",
    "- ```JuliaQuantum``` – Julia libraries for quantum science and technology\n",
    "- ```JuliaPhysics``` – Physics\n",
    "- ```JuliaDynamics``` - Dynamical systems, nonlinear dynamics and chaos.\n",
    "\n"
   ]
  },
  {
   "cell_type": "markdown",
   "id": "21c33e46",
   "metadata": {},
   "source": [
    "#### Data sciences\n",
    "\n",
    "- ```JuliaML``` – Machine Learning\n",
    "- ```JuliaStats``` – Statistics\n",
    "- ```JuliaImages``` – Image Processing\n",
    "- ```JuliaText``` – Natural Language Processing (NLP), Computational Linguistics and (textual) Information Retrieval\n",
    "- ```JuliaDatabases``` – Various database drivers for Julia\n",
    "- ```JuliaData``` – Data manipulation, storage, and I/O in Julia\n",
    "\n"
   ]
  },
  {
   "cell_type": "markdown",
   "id": "315bec9c",
   "metadata": {},
   "source": [
    "### Writing fast code"
   ]
  },
  {
   "cell_type": "markdown",
   "id": "13e7f636",
   "metadata": {},
   "source": [
    "#### Type instability"
   ]
  },
  {
   "cell_type": "code",
   "execution_count": 1,
   "id": "5c5ac866",
   "metadata": {},
   "outputs": [
    {
     "data": {
      "text/plain": [
       "pos (generic function with 1 method)"
      ]
     },
     "execution_count": 1,
     "metadata": {},
     "output_type": "execute_result"
    }
   ],
   "source": [
    "function pos(x)\n",
    "    if x < 0\n",
    "        return 0\n",
    "    else\n",
    "        return x\n",
    "    end\n",
    "end"
   ]
  },
  {
   "cell_type": "code",
   "execution_count": 2,
   "id": "5afa924d",
   "metadata": {},
   "outputs": [
    {
     "data": {
      "text/plain": [
       "1.5"
      ]
     },
     "execution_count": 2,
     "metadata": {},
     "output_type": "execute_result"
    }
   ],
   "source": [
    "pos(1.5)"
   ]
  },
  {
   "cell_type": "code",
   "execution_count": 3,
   "id": "4b6c7eac",
   "metadata": {},
   "outputs": [
    {
     "data": {
      "text/plain": [
       "0"
      ]
     },
     "execution_count": 3,
     "metadata": {},
     "output_type": "execute_result"
    }
   ],
   "source": [
    "pos(-2.5)"
   ]
  },
  {
   "cell_type": "code",
   "execution_count": 7,
   "id": "1240de2d",
   "metadata": {},
   "outputs": [
    {
     "data": {
      "text/plain": [
       "Float64"
      ]
     },
     "execution_count": 7,
     "metadata": {},
     "output_type": "execute_result"
    }
   ],
   "source": [
    "typeof(pos(1.5))"
   ]
  },
  {
   "cell_type": "code",
   "execution_count": 8,
   "id": "afde5de1",
   "metadata": {},
   "outputs": [
    {
     "data": {
      "text/plain": [
       "Int64"
      ]
     },
     "execution_count": 8,
     "metadata": {},
     "output_type": "execute_result"
    }
   ],
   "source": [
    "typeof(pos(-2.5))"
   ]
  },
  {
   "cell_type": "markdown",
   "id": "90e4d305",
   "metadata": {},
   "source": [
    "![](Images/uhoh.png)"
   ]
  },
  {
   "cell_type": "markdown",
   "id": "14cbadc1",
   "metadata": {},
   "source": [
    "- Historically important perfomance issue.\n",
    "- Since version 1.0 compiler can handle simple cases of type instabilities."
   ]
  },
  {
   "cell_type": "code",
   "execution_count": 10,
   "id": "983202ee",
   "metadata": {},
   "outputs": [
    {
     "data": {
      "text/plain": [
       "pos_fixed (generic function with 1 method)"
      ]
     },
     "execution_count": 10,
     "metadata": {},
     "output_type": "execute_result"
    }
   ],
   "source": [
    "function pos_fixed(x)\n",
    "    if x < 0\n",
    "        return zero(x)\n",
    "    else\n",
    "        return x\n",
    "    end\n",
    "end"
   ]
  },
  {
   "cell_type": "code",
   "execution_count": 11,
   "id": "d538c9a3",
   "metadata": {},
   "outputs": [
    {
     "data": {
      "text/plain": [
       "Float64"
      ]
     },
     "execution_count": 11,
     "metadata": {},
     "output_type": "execute_result"
    }
   ],
   "source": [
    "typeof(pos_fixed(-2.5))"
   ]
  },
  {
   "cell_type": "markdown",
   "id": "44369169",
   "metadata": {},
   "source": [
    "Another example:"
   ]
  },
  {
   "cell_type": "code",
   "execution_count": 12,
   "id": "a11640c7",
   "metadata": {},
   "outputs": [
    {
     "data": {
      "text/plain": [
       "sumsqrt (generic function with 1 method)"
      ]
     },
     "execution_count": 12,
     "metadata": {},
     "output_type": "execute_result"
    }
   ],
   "source": [
    "function sumsqrt(n)\n",
    "    r = 0 \n",
    "    for i = 1:n\n",
    "        r = r + sqrt(i)\n",
    "    end\n",
    "    return r\n",
    "end"
   ]
  },
  {
   "cell_type": "markdown",
   "id": "395d3fe7",
   "metadata": {},
   "source": [
    "```r``` changes type within the loop (from int to float)"
   ]
  },
  {
   "cell_type": "markdown",
   "id": "dde49a41",
   "metadata": {},
   "source": [
    "#### Fast function calls"
   ]
  },
  {
   "cell_type": "markdown",
   "id": "c3bb7a65",
   "metadata": {},
   "source": [
    "- Rule of thumb: don't use **global variables**."
   ]
  },
  {
   "cell_type": "markdown",
   "id": "d0a53deb",
   "metadata": {},
   "source": [
    "- Julia is fast because the compiler can make optimizations based on type inference.\n",
    "- A global variable can come from anywhere and the compiler can't do any inference at compile time."
   ]
  },
  {
   "cell_type": "code",
   "execution_count": 21,
   "id": "423bf0dd",
   "metadata": {},
   "outputs": [
    {
     "data": {
      "text/plain": [
       "pow_array (generic function with 1 method)"
      ]
     },
     "execution_count": 21,
     "metadata": {},
     "output_type": "execute_result"
    }
   ],
   "source": [
    "p = 2 # global variable\n",
    "\n",
    "function pow_array(x::Vector{Float64})\n",
    "    s = 0.0\n",
    "    for y in x\n",
    "        s = s + y^p\n",
    "    end\n",
    "    return s\n",
    "end\n"
   ]
  },
  {
   "cell_type": "code",
   "execution_count": 22,
   "id": "d79f3d9b",
   "metadata": {},
   "outputs": [
    {
     "name": "stdout",
     "output_type": "stream",
     "text": [
      "  0.003465 seconds (30.00 k allocations: 468.750 KiB)\n"
     ]
    },
    {
     "data": {
      "text/plain": [
       "3294.6783779398093"
      ]
     },
     "execution_count": 22,
     "metadata": {},
     "output_type": "execute_result"
    }
   ],
   "source": [
    "t = rand(10000)\n",
    "\n",
    "@time pow_array(t)"
   ]
  },
  {
   "cell_type": "code",
   "execution_count": 23,
   "id": "04c5eaf4",
   "metadata": {},
   "outputs": [
    {
     "ename": "LoadError",
     "evalue": "cannot declare p constant; it already has a value",
     "output_type": "error",
     "traceback": [
      "cannot declare p constant; it already has a value",
      "",
      "Stacktrace:",
      " [1] top-level scope",
      "   @ In[23]:1"
     ]
    }
   ],
   "source": [
    "const p = 2 # const global variable\n",
    "\n",
    "function pow_array(x::Vector{Float64})\n",
    "    s = 0.0\n",
    "    for y in x\n",
    "        s = s + y^p\n",
    "    end\n",
    "    return s\n",
    "end"
   ]
  },
  {
   "cell_type": "code",
   "execution_count": 24,
   "id": "03fba366",
   "metadata": {},
   "outputs": [
    {
     "name": "stdout",
     "output_type": "stream",
     "text": [
      "  0.000891 seconds (30.00 k allocations: 468.750 KiB)\n"
     ]
    },
    {
     "data": {
      "text/plain": [
       "3346.7363835445003"
      ]
     },
     "execution_count": 24,
     "metadata": {},
     "output_type": "execute_result"
    }
   ],
   "source": [
    "t = rand(10000)\n",
    "\n",
    "@time pow_array(t)"
   ]
  },
  {
   "cell_type": "code",
   "execution_count": null,
   "id": "e8d8ee2b",
   "metadata": {},
   "outputs": [],
   "source": []
  }
 ],
 "metadata": {
  "kernelspec": {
   "display_name": "Julia 1.8.2",
   "language": "julia",
   "name": "julia-1.8"
  },
  "language_info": {
   "file_extension": ".jl",
   "mimetype": "application/julia",
   "name": "julia",
   "version": "1.8.2"
  }
 },
 "nbformat": 4,
 "nbformat_minor": 5
}
