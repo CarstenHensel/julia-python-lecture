{
 "cells": [
  {
   "cell_type": "markdown",
   "id": "edec271c",
   "metadata": {},
   "source": [
    "# Introduction to Julia"
   ]
  },
  {
   "cell_type": "markdown",
   "id": "69ad60b6",
   "metadata": {},
   "source": [
    "- This introduction doesn't replace a full Julia course.\n",
    "- We only want to point out the basics, especially those that are different to Python."
   ]
  },
  {
   "cell_type": "markdown",
   "id": "6465ca66",
   "metadata": {},
   "source": [
    "- We have seen a very powerful usecase of Python. \n",
    "- Why would we want to use any other language?\n",
    "- -> Speed"
   ]
  },
  {
   "cell_type": "markdown",
   "id": "807ba162",
   "metadata": {},
   "source": [
    "- Julia's LLVM-based JIT compiler (Low level virtual machine just-in-time) compiler combined with the language's design allows it to approach and often match the performance of C in typical user scenarios."
   ]
  },
  {
   "cell_type": "markdown",
   "id": "58313843",
   "metadata": {},
   "source": [
    "![](Images/benchmarks.svg)"
   ]
  },
  {
   "cell_type": "markdown",
   "id": "7d9d8365",
   "metadata": {},
   "source": [
    "### Some History\n",
    "- started 2009 at MIT by Alan Edelman, Jeff Bezanson, Stefan Karpinski, Viral Shah\n",
    "- publicly announced 2012\n",
    "- v0.6 2017 Jun 19: pretty much the \"modern\" version of Julia\n",
    "    - Some old stuff you encounter in the internet is targeted for this. So be aware!\n",
    "- v0.7 2018 Aug 8: short test release before v1\n",
    "- v1.0 2018 Aug 9: Official release\n",
    "- v1.1 2019 Jan 22: minor improvements & bug fixes"
   ]
  },
  {
   "cell_type": "markdown",
   "id": "791b891c",
   "metadata": {},
   "source": [
    "### Syntax"
   ]
  },
  {
   "cell_type": "code",
   "execution_count": 9,
   "id": "14bd8e9c",
   "metadata": {},
   "outputs": [
    {
     "data": {
      "text/plain": [
       "mandel (generic function with 1 method)"
      ]
     },
     "execution_count": 9,
     "metadata": {},
     "output_type": "execute_result"
    }
   ],
   "source": [
    "function mandel(z)\n",
    "    c = z\n",
    "    maxiter = 80\n",
    "    for n = 1:maxiter\n",
    "        if abs(z) > 2\n",
    "            return n-1\n",
    "        end\n",
    "        z = z^2 + c\n",
    "    end\n",
    "    return maxiter\n",
    "end"
   ]
  },
  {
   "cell_type": "code",
   "execution_count": 11,
   "id": "a4bc13fc",
   "metadata": {},
   "outputs": [
    {
     "data": {
      "text/plain": [
       "11×13 Matrix{Int64}:\n",
       "  0   0   1   2   2   2   2   3   3   6  80   3   2\n",
       "  0   1   2   2   2   2   3   3   5  80  17   4   3\n",
       "  0   2   2   2   2   3   4  11  25  80  80  11  14\n",
       "  0   2   2   4   6   6   6  80  80  80  80  80   8\n",
       "  0   3   4   5  17  80  14  80  80  80  80  80  30\n",
       " 80  80  80  80  80  80  80  80  80  80  80  80   6\n",
       "  0   3   4   5  17  80  14  80  80  80  80  80  30\n",
       "  0   2   2   4   6   6   6  80  80  80  80  80   8\n",
       "  0   2   2   2   2   3   4  11  25  80  80  11  14\n",
       "  0   1   2   2   2   2   3   3   5  80  17   4   3\n",
       "  0   0   1   2   2   2   2   3   3   6  80   3   2"
      ]
     },
     "execution_count": 11,
     "metadata": {},
     "output_type": "execute_result"
    }
   ],
   "source": [
    "[ mandel(complex(r,i)) for i=-1.:.2:1., r=-2.0:.2:0.5 ]"
   ]
  },
  {
   "cell_type": "markdown",
   "id": "01893dff",
   "metadata": {},
   "source": [
    "- The syntax is easy to use and learn.\n",
    "- It will seem familiar to Python and Matlab users.\n",
    "- It is possible to do complicated computations quickly.\n"
   ]
  },
  {
   "cell_type": "markdown",
   "id": "829f2f7a",
   "metadata": {},
   "source": [
    "For example, Solving $$Ax=b$$ with $$A = \\begin{pmatrix}\\,\n",
    "    1 & 2 & 3\\\\ \n",
    "    2 & 1 & 2\\\\ \n",
    "    3 & 2 & 1\n",
    "    \\end{pmatrix}$$\n",
    "    and $$b = \\begin{pmatrix}\n",
    "    1 \\\\\n",
    "    1 \\\\ \n",
    "    1 \n",
    "    \\end{pmatrix}$$"
   ]
  },
  {
   "cell_type": "code",
   "execution_count": 12,
   "id": "e99dff1b",
   "metadata": {},
   "outputs": [
    {
     "data": {
      "text/plain": [
       "3-element Vector{Float64}:\n",
       " 0.25\n",
       " 0.0\n",
       " 0.25000000000000006"
      ]
     },
     "execution_count": 12,
     "metadata": {},
     "output_type": "execute_result"
    }
   ],
   "source": [
    "A = [1 2 3\n",
    "     2 1 2\n",
    "     3 2 1]\n",
    "\n",
    "b = [1,1,1]\n",
    "A\\b"
   ]
  },
  {
   "cell_type": "markdown",
   "id": "280f75c2",
   "metadata": {},
   "source": [
    "### A dynamic language:"
   ]
  },
  {
   "cell_type": "markdown",
   "id": "9f38ca29",
   "metadata": {},
   "source": [
    "- Julia is, like Python, Matlab or R, a dynamic language: \n",
    "    - You can interact with the language without the need to compile your code. \n",
    "    - Static or compiled languages, like C or Fortran, are more complicated to use but generally faster, and thus used when there is a need for time-efficient computations.\n",
    "\n",
    "- This is the two-languages problem: \n",
    "    - One generally use a high level language for research and scripting, \n",
    "    - and then translate the final result in a static language for performance."
   ]
  },
  {
   "cell_type": "markdown",
   "id": "85f43d34",
   "metadata": {},
   "source": [
    "### A High Performance language:\n",
    "\n",
    "- Julia solves the two languages problem using just-in-time compilation. \n",
    "    - While running, your code will be automatically compiled and optimized to reach performances comparable to static languages like C, Fortran and Go.\n",
    "- Unlike R, Matlab or Python, simple loops are extremely efficient in Julia:"
   ]
  },
  {
   "cell_type": "code",
   "execution_count": 13,
   "id": "8b268bd9",
   "metadata": {},
   "outputs": [
    {
     "name": "stdout",
     "output_type": "stream",
     "text": [
      "First use: slow like a dynamic language\n",
      "  0.146553 seconds\n"
     ]
    },
    {
     "data": {
      "text/plain": [
       "100000000"
      ]
     },
     "execution_count": 13,
     "metadata": {},
     "output_type": "execute_result"
    }
   ],
   "source": [
    "function countTo(n)\n",
    "    count = 0\n",
    "    for i = 1:n\n",
    "        count += 1\n",
    "    end\n",
    "    return count\n",
    "end\n",
    "println(\"First use: slow like a dynamic language\")\n",
    "@time countTo(100_000_000)\n"
   ]
  },
  {
   "cell_type": "code",
   "execution_count": 14,
   "id": "930aaad5",
   "metadata": {},
   "outputs": [
    {
     "name": "stdout",
     "output_type": "stream",
     "text": [
      "Second use: compiled and optimized automatically\n",
      "  0.189304 seconds\n"
     ]
    },
    {
     "data": {
      "text/plain": [
       "100000000"
      ]
     },
     "execution_count": 14,
     "metadata": {},
     "output_type": "execute_result"
    }
   ],
   "source": [
    "println(\"Second use: compiled and optimized automatically\")\n",
    "@time countTo(100_000_000)"
   ]
  },
  {
   "cell_type": "markdown",
   "id": "860933c6",
   "metadata": {},
   "source": [
    "### Basic usage"
   ]
  },
  {
   "cell_type": "markdown",
   "id": "ffa541bd",
   "metadata": {},
   "source": [
    "Julia, as a dynamic language, can simply be used as a calculator:"
   ]
  },
  {
   "cell_type": "code",
   "execution_count": 15,
   "id": "4a82c150",
   "metadata": {},
   "outputs": [
    {
     "data": {
      "text/plain": [
       "2"
      ]
     },
     "execution_count": 15,
     "metadata": {},
     "output_type": "execute_result"
    }
   ],
   "source": [
    "1+1"
   ]
  },
  {
   "cell_type": "code",
   "execution_count": 16,
   "id": "62b5f71f",
   "metadata": {},
   "outputs": [
    {
     "data": {
      "text/plain": [
       "-0.01136232398070678"
      ]
     },
     "execution_count": 16,
     "metadata": {},
     "output_type": "execute_result"
    }
   ],
   "source": [
    "sin(exp(2*pi)+sqrt(3))"
   ]
  },
  {
   "cell_type": "markdown",
   "id": "5cd1cdcf",
   "metadata": {},
   "source": [
    "The building blocs of Julia code are **variables**:"
   ]
  },
  {
   "cell_type": "code",
   "execution_count": 17,
   "id": "2c1fb850",
   "metadata": {},
   "outputs": [
    {
     "data": {
      "text/plain": [
       "9"
      ]
     },
     "execution_count": 17,
     "metadata": {},
     "output_type": "execute_result"
    }
   ],
   "source": [
    "a = 1\n",
    "b = 2\n",
    "# This is a comment \n",
    "c = a^2 + b^3 "
   ]
  },
  {
   "cell_type": "code",
   "execution_count": 18,
   "id": "5adf086c",
   "metadata": {},
   "outputs": [
    {
     "data": {
      "text/plain": [
       "String"
      ]
     },
     "execution_count": 18,
     "metadata": {},
     "output_type": "execute_result"
    }
   ],
   "source": [
    "😺 = \"smiley cat!\"\n",
    "typeof(😺)"
   ]
  },
  {
   "cell_type": "markdown",
   "id": "f661915f",
   "metadata": {},
   "source": [
    "### Variables and data types"
   ]
  },
  {
   "cell_type": "markdown",
   "id": "ccb10551",
   "metadata": {},
   "source": [
    "Julia allows to write generic code. Symbols like 😺 are an example of this.\n",
    "\n",
    "In Julia variable names\n",
    "\n",
    "- may contain letters, numbers, underscores or exclamation marks.\n",
    "- start with a letter or underscores (but not with a number!)\n",
    "- are case sensitive\n",
    "- in addition, UTF-8 symbols are supported!\n"
   ]
  },
  {
   "cell_type": "markdown",
   "id": "347cd884",
   "metadata": {},
   "source": [
    "### Special characters"
   ]
  },
  {
   "cell_type": "markdown",
   "id": "ddb4bbda",
   "metadata": {},
   "source": [
    "Julia supports many special characters familiar from ```LaTeX```. Just try common names such as ```\\alpha``` and press ```<TAB>``` to complete."
   ]
  },
  {
   "cell_type": "markdown",
   "id": "a3aa7e5f",
   "metadata": {},
   "source": [
    "If the name is not familiar to you, just copy the character and use the ? to probe what it is."
   ]
  },
  {
   "cell_type": "code",
   "execution_count": 19,
   "id": "5cf331c1",
   "metadata": {},
   "outputs": [
    {
     "data": {
      "text/plain": [
       "0.2"
      ]
     },
     "execution_count": 19,
     "metadata": {},
     "output_type": "execute_result"
    }
   ],
   "source": [
    "δ = \"delta\"\n",
    "α = 0.01\n",
    "β = 0.2"
   ]
  },
  {
   "cell_type": "code",
   "execution_count": 20,
   "id": "3015660d",
   "metadata": {},
   "outputs": [
    {
     "data": {
      "text/plain": [
       "π = 3.1415926535897..."
      ]
     },
     "execution_count": 20,
     "metadata": {},
     "output_type": "execute_result"
    }
   ],
   "source": [
    "π #some are already defined, like pi"
   ]
  },
  {
   "cell_type": "code",
   "execution_count": 21,
   "id": "c7b99757",
   "metadata": {},
   "outputs": [
    {
     "name": "stdout",
     "output_type": "stream",
     "text": [
      "\"\u001b[36mγ\u001b[39m\" can be typed by \u001b[36m\\gamma<tab>\u001b[39m\n",
      "\n",
      "search:\n",
      "\n",
      "Couldn't find \u001b[36mγ\u001b[39m\n",
      "Perhaps you meant A, a, b, c, x, α, β, δ, 😺, !, %, &, ', *, +, -, /, :, < or >\n"
     ]
    },
    {
     "data": {
      "text/latex": [
       "No documentation found.\n",
       "\n",
       "Binding \\texttt{γ} does not exist.\n",
       "\n"
      ],
      "text/markdown": [
       "No documentation found.\n",
       "\n",
       "Binding `γ` does not exist.\n"
      ],
      "text/plain": [
       "  No documentation found.\n",
       "\n",
       "  Binding \u001b[36mγ\u001b[39m does not exist."
      ]
     },
     "execution_count": 21,
     "metadata": {},
     "output_type": "execute_result"
    }
   ],
   "source": [
    "?γ"
   ]
  },
  {
   "cell_type": "markdown",
   "id": "f099eef9",
   "metadata": {},
   "source": [
    "### Dynamic and loose"
   ]
  },
  {
   "cell_type": "markdown",
   "id": "c58ce367",
   "metadata": {},
   "source": [
    "Julia is a dynamically and loosely typed language. In practise, this means that:\n",
    "\n",
    "- variables (and their types) don't need to be declared\n",
    "    - but they can be\n",
    "- variables are automatically casted to \"correct\" types\n"
   ]
  },
  {
   "cell_type": "code",
   "execution_count": 22,
   "id": "92807e43",
   "metadata": {},
   "outputs": [
    {
     "data": {
      "text/plain": [
       "0.3333333333333333"
      ]
     },
     "execution_count": 22,
     "metadata": {},
     "output_type": "execute_result"
    }
   ],
   "source": [
    "a = 1\n",
    "b = 3\n",
    "c = a/b #what will happen?"
   ]
  },
  {
   "cell_type": "markdown",
   "id": "023f6707",
   "metadata": {},
   "source": [
    "### Data types"
   ]
  },
  {
   "cell_type": "markdown",
   "id": "1aa29a17",
   "metadata": {},
   "source": [
    "**Primitive and abstract types**"
   ]
  },
  {
   "cell_type": "markdown",
   "id": "aef0a6a6",
   "metadata": {},
   "source": [
    "\n",
    "- Numeric types, that represent numbers\n",
    "    - Number\n",
    "        - Real (example: a::Real)\n",
    "        - Integer (example: b::Int)\n",
    "                Int16, Int32, Int64,..., UInt64\n",
    "     - AbstractFloat\n",
    "          Float16, Float32,Float64,...\n",
    "- Strings (String, Char,...)\n",
    "- Bool is a data type that can be either true or false.\n"
   ]
  },
  {
   "cell_type": "markdown",
   "id": "570da072",
   "metadata": {},
   "source": [
    "**Composite types**"
   ]
  },
  {
   "cell_type": "markdown",
   "id": "bf286efc",
   "metadata": {},
   "source": [
    "\n",
    "- complex (Complex{Int64},...) with 1 + 0.1im\n",
    "- Arrays (Array{Int64,1},...)\n",
    "- Mappings\n",
    "    - Dict: a dictionary, also called a hashmap (Dict{String,Int64},...)\n"
   ]
  },
  {
   "cell_type": "markdown",
   "id": "33e813f6",
   "metadata": {},
   "source": [
    "### Numeric literal coefficients"
   ]
  },
  {
   "cell_type": "markdown",
   "id": "e32a51b4",
   "metadata": {},
   "source": [
    "To make common formulas and expressions more clear, Julia allows variables to be immediately preceded by a number, implying multiplication.\n",
    "\n",
    "This makes writing polynomial expressions much cleaner:"
   ]
  },
  {
   "cell_type": "code",
   "execution_count": 23,
   "id": "b61e50e4",
   "metadata": {},
   "outputs": [
    {
     "data": {
      "text/plain": [
       "8.5"
      ]
     },
     "execution_count": 23,
     "metadata": {},
     "output_type": "execute_result"
    }
   ],
   "source": [
    "x = 3\n",
    "2x^2 - 3.5x + 1"
   ]
  },
  {
   "cell_type": "code",
   "execution_count": 24,
   "id": "a7ca445f",
   "metadata": {},
   "outputs": [
    {
     "data": {
      "text/plain": [
       "3"
      ]
     },
     "execution_count": 24,
     "metadata": {},
     "output_type": "execute_result"
    }
   ],
   "source": [
    "2(x-1)^2 - 3(x-1) + 1"
   ]
  },
  {
   "cell_type": "markdown",
   "id": "8d2be597",
   "metadata": {},
   "source": [
    "### Arrays"
   ]
  },
  {
   "cell_type": "markdown",
   "id": "b057df73",
   "metadata": {},
   "source": [
    "Arrays are created using the ```[]``` brackets (or the ```Array``` constructor.)\n",
    "\n",
    "Arrays support multiple types of indexing with normal indices and with range operator ```:```."
   ]
  },
  {
   "cell_type": "code",
   "execution_count": 25,
   "id": "39ae4dfc",
   "metadata": {},
   "outputs": [
    {
     "data": {
      "text/plain": [
       "4-element Vector{Int64}:\n",
       " 1\n",
       " 2\n",
       " 3\n",
       " 4"
      ]
     },
     "execution_count": 25,
     "metadata": {},
     "output_type": "execute_result"
    }
   ],
   "source": [
    "arr = [1,2,3,4]"
   ]
  },
  {
   "cell_type": "code",
   "execution_count": 26,
   "id": "fc667929",
   "metadata": {},
   "outputs": [
    {
     "data": {
      "text/plain": [
       "1"
      ]
     },
     "execution_count": 26,
     "metadata": {},
     "output_type": "execute_result"
    }
   ],
   "source": [
    "arr[1]   # indexing starts from 1"
   ]
  },
  {
   "cell_type": "code",
   "execution_count": 27,
   "id": "2ec919d7",
   "metadata": {},
   "outputs": [
    {
     "data": {
      "text/plain": [
       "3-element Vector{Int64}:\n",
       " 1\n",
       " 2\n",
       " 3"
      ]
     },
     "execution_count": 27,
     "metadata": {},
     "output_type": "execute_result"
    }
   ],
   "source": [
    "arr[1:3] # so-called slice syntax can be used to select parts of an array"
   ]
  },
  {
   "cell_type": "code",
   "execution_count": 28,
   "id": "1955cd29",
   "metadata": {},
   "outputs": [
    {
     "data": {
      "text/plain": [
       "4"
      ]
     },
     "execution_count": 28,
     "metadata": {},
     "output_type": "execute_result"
    }
   ],
   "source": [
    "arr[end] # end keyword points to the end of the array"
   ]
  },
  {
   "cell_type": "markdown",
   "id": "bdb16ced",
   "metadata": {},
   "source": [
    "Type can be specifically forced by writing them in front of the array brackets:"
   ]
  },
  {
   "cell_type": "code",
   "execution_count": 29,
   "id": "132fe18b",
   "metadata": {},
   "outputs": [
    {
     "data": {
      "text/plain": [
       "4-element Vector{Float64}:\n",
       " 1.0\n",
       " 2.0\n",
       " 3.0\n",
       " 4.0"
      ]
     },
     "execution_count": 29,
     "metadata": {},
     "output_type": "execute_result"
    }
   ],
   "source": [
    "arr = Float64[1,2,3,4]"
   ]
  },
  {
   "cell_type": "markdown",
   "id": "464e9dbd",
   "metadata": {},
   "source": [
    "Arrays can be extended with several methods."
   ]
  },
  {
   "cell_type": "code",
   "execution_count": 30,
   "id": "66e3ca48",
   "metadata": {},
   "outputs": [
    {
     "data": {
      "text/plain": [
       "2-element Vector{Int64}:\n",
       " 1\n",
       " 2"
      ]
     },
     "execution_count": 30,
     "metadata": {},
     "output_type": "execute_result"
    }
   ],
   "source": [
    "arr = [1, 2]"
   ]
  },
  {
   "cell_type": "code",
   "execution_count": null,
   "id": "2d7d2c41",
   "metadata": {},
   "outputs": [],
   "source": [
    "push!(arr, 3) # Exclamation mark ! means that the function mutates its argument"
   ]
  },
  {
   "cell_type": "code",
   "execution_count": null,
   "id": "218b2c14",
   "metadata": {},
   "outputs": [],
   "source": [
    "insert!(arr, 1, 42) # insert places the given element to given location in the array"
   ]
  },
  {
   "cell_type": "code",
   "execution_count": null,
   "id": "7c2c78ce",
   "metadata": {},
   "outputs": [],
   "source": [
    "append!(arr, [100, 101, 102]) # append another array to the end"
   ]
  },
  {
   "cell_type": "markdown",
   "id": "20784eba",
   "metadata": {},
   "source": [
    "**2D Arrays**"
   ]
  },
  {
   "cell_type": "code",
   "execution_count": 31,
   "id": "c82c393a",
   "metadata": {},
   "outputs": [
    {
     "data": {
      "text/plain": [
       "2×2 Matrix{Int64}:\n",
       " 1  2\n",
       " 3  4"
      ]
     },
     "execution_count": 31,
     "metadata": {},
     "output_type": "execute_result"
    }
   ],
   "source": [
    "matrix = [1 2; 3 4]"
   ]
  },
  {
   "cell_type": "markdown",
   "id": "df2c7da3",
   "metadata": {},
   "source": [
    "**N-dimensional Arrays**"
   ]
  },
  {
   "cell_type": "markdown",
   "id": "58438081",
   "metadata": {},
   "source": [
    "For more dimensions than 2, one should initialize the arrays somehow else.\n",
    "\n",
    "Standard ways are:"
   ]
  },
  {
   "cell_type": "code",
   "execution_count": 32,
   "id": "f7a73660",
   "metadata": {},
   "outputs": [
    {
     "data": {
      "text/plain": [
       "3×3×3 Array{Float64, 3}:\n",
       "[:, :, 1] =\n",
       " 0.0  0.0  0.0\n",
       " 0.0  0.0  0.0\n",
       " 0.0  0.0  0.0\n",
       "\n",
       "[:, :, 2] =\n",
       " 0.0  0.0  0.0\n",
       " 0.0  0.0  0.0\n",
       " 0.0  0.0  0.0\n",
       "\n",
       "[:, :, 3] =\n",
       " 0.0  0.0  0.0\n",
       " 0.0  0.0  0.0\n",
       " 0.0  0.0  0.0"
      ]
     },
     "execution_count": 32,
     "metadata": {},
     "output_type": "execute_result"
    }
   ],
   "source": [
    "A = zeros(3,3,3)"
   ]
  },
  {
   "cell_type": "code",
   "execution_count": 33,
   "id": "4ef06cc9",
   "metadata": {},
   "outputs": [
    {
     "data": {
      "text/plain": [
       "4×5×6×7 Array{Float64, 4}:\n",
       "[:, :, 1, 1] =\n",
       " 1.0  1.0  1.0  1.0  1.0\n",
       " 1.0  1.0  1.0  1.0  1.0\n",
       " 1.0  1.0  1.0  1.0  1.0\n",
       " 1.0  1.0  1.0  1.0  1.0\n",
       "\n",
       "[:, :, 2, 1] =\n",
       " 1.0  1.0  1.0  1.0  1.0\n",
       " 1.0  1.0  1.0  1.0  1.0\n",
       " 1.0  1.0  1.0  1.0  1.0\n",
       " 1.0  1.0  1.0  1.0  1.0\n",
       "\n",
       "[:, :, 3, 1] =\n",
       " 1.0  1.0  1.0  1.0  1.0\n",
       " 1.0  1.0  1.0  1.0  1.0\n",
       " 1.0  1.0  1.0  1.0  1.0\n",
       " 1.0  1.0  1.0  1.0  1.0\n",
       "\n",
       "[:, :, 4, 1] =\n",
       " 1.0  1.0  1.0  1.0  1.0\n",
       " 1.0  1.0  1.0  1.0  1.0\n",
       " 1.0  1.0  1.0  1.0  1.0\n",
       " 1.0  1.0  1.0  1.0  1.0\n",
       "\n",
       "[:, :, 5, 1] =\n",
       " 1.0  1.0  1.0  1.0  1.0\n",
       " 1.0  1.0  1.0  1.0  1.0\n",
       " 1.0  1.0  1.0  1.0  1.0\n",
       " 1.0  1.0  1.0  1.0  1.0\n",
       "\n",
       "[:, :, 6, 1] =\n",
       " 1.0  1.0  1.0  1.0  1.0\n",
       " 1.0  1.0  1.0  1.0  1.0\n",
       " 1.0  1.0  1.0  1.0  1.0\n",
       " 1.0  1.0  1.0  1.0  1.0\n",
       "\n",
       "[:, :, 1, 2] =\n",
       " 1.0  1.0  1.0  1.0  1.0\n",
       " 1.0  1.0  1.0  1.0  1.0\n",
       " 1.0  1.0  1.0  1.0  1.0\n",
       " 1.0  1.0  1.0  1.0  1.0\n",
       "\n",
       "[:, :, 2, 2] =\n",
       " 1.0  1.0  1.0  1.0  1.0\n",
       " 1.0  1.0  1.0  1.0  1.0\n",
       " 1.0  1.0  1.0  1.0  1.0\n",
       " 1.0  1.0  1.0  1.0  1.0\n",
       "\n",
       "[:, :, 3, 2] =\n",
       " 1.0  1.0  1.0  1.0  1.0\n",
       " 1.0  1.0  1.0  1.0  1.0\n",
       " 1.0  1.0  1.0  1.0  1.0\n",
       " 1.0  1.0  1.0  1.0  1.0\n",
       "\n",
       "[:, :, 4, 2] =\n",
       " 1.0  1.0  1.0  1.0  1.0\n",
       " 1.0  1.0  1.0  1.0  1.0\n",
       " 1.0  1.0  1.0  1.0  1.0\n",
       " 1.0  1.0  1.0  1.0  1.0\n",
       "\n",
       "[:, :, 5, 2] =\n",
       " 1.0  1.0  1.0  1.0  1.0\n",
       " 1.0  1.0  1.0  1.0  1.0\n",
       " 1.0  1.0  1.0  1.0  1.0\n",
       " 1.0  1.0  1.0  1.0  1.0\n",
       "\n",
       "[:, :, 6, 2] =\n",
       " 1.0  1.0  1.0  1.0  1.0\n",
       " 1.0  1.0  1.0  1.0  1.0\n",
       " 1.0  1.0  1.0  1.0  1.0\n",
       " 1.0  1.0  1.0  1.0  1.0\n",
       "\n",
       "[:, :, 1, 3] =\n",
       " 1.0  1.0  1.0  1.0  1.0\n",
       " 1.0  1.0  1.0  1.0  1.0\n",
       " 1.0  1.0  1.0  1.0  1.0\n",
       " 1.0  1.0  1.0  1.0  1.0\n",
       "\n",
       "[:, :, 2, 3] =\n",
       " 1.0  1.0  1.0  1.0  1.0\n",
       " 1.0  1.0  1.0  1.0  1.0\n",
       " 1.0  1.0  1.0  1.0  1.0\n",
       " 1.0  1.0  1.0  1.0  1.0\n",
       "\n",
       "[:, :, 3, 3] =\n",
       " 1.0  1.0  1.0  1.0  1.0\n",
       " 1.0  1.0  1.0  1.0  1.0\n",
       " 1.0  1.0  1.0  1.0  1.0\n",
       " 1.0  1.0  1.0  1.0  1.0\n",
       "\n",
       "[:, :, 4, 3] =\n",
       " 1.0  1.0  1.0  1.0  1.0\n",
       " 1.0  1.0  1.0  1.0  1.0\n",
       " 1.0  1.0  1.0  1.0  1.0\n",
       " 1.0  1.0  1.0  1.0  1.0\n",
       "\n",
       "[:, :, 5, 3] =\n",
       " 1.0  1.0  1.0  1.0  1.0\n",
       " 1.0  1.0  1.0  1.0  1.0\n",
       " 1.0  1.0  1.0  1.0  1.0\n",
       " 1.0  1.0  1.0  1.0  1.0\n",
       "\n",
       "[:, :, 6, 3] =\n",
       " 1.0  1.0  1.0  1.0  1.0\n",
       " 1.0  1.0  1.0  1.0  1.0\n",
       " 1.0  1.0  1.0  1.0  1.0\n",
       " 1.0  1.0  1.0  1.0  1.0\n",
       "\n",
       "[:, :, 1, 4] =\n",
       " 1.0  1.0  1.0  1.0  1.0\n",
       " 1.0  1.0  1.0  1.0  1.0\n",
       " 1.0  1.0  1.0  1.0  1.0\n",
       " 1.0  1.0  1.0  1.0  1.0\n",
       "\n",
       "[:, :, 2, 4] =\n",
       " 1.0  1.0  1.0  1.0  1.0\n",
       " 1.0  1.0  1.0  1.0  1.0\n",
       " 1.0  1.0  1.0  1.0  1.0\n",
       " 1.0  1.0  1.0  1.0  1.0\n",
       "\n",
       "[:, :, 3, 4] =\n",
       " 1.0  1.0  1.0  1.0  1.0\n",
       " 1.0  1.0  1.0  1.0  1.0\n",
       " 1.0  1.0  1.0  1.0  1.0\n",
       " 1.0  1.0  1.0  1.0  1.0\n",
       "\n",
       "[:, :, 4, 4] =\n",
       " 1.0  1.0  1.0  1.0  1.0\n",
       " 1.0  1.0  1.0  1.0  1.0\n",
       " 1.0  1.0  1.0  1.0  1.0\n",
       " 1.0  1.0  1.0  1.0  1.0\n",
       "\n",
       "[:, :, 5, 4] =\n",
       " 1.0  1.0  1.0  1.0  1.0\n",
       " 1.0  1.0  1.0  1.0  1.0\n",
       " 1.0  1.0  1.0  1.0  1.0\n",
       " 1.0  1.0  1.0  1.0  1.0\n",
       "\n",
       "[:, :, 6, 4] =\n",
       " 1.0  1.0  1.0  1.0  1.0\n",
       " 1.0  1.0  1.0  1.0  1.0\n",
       " 1.0  1.0  1.0  1.0  1.0\n",
       " 1.0  1.0  1.0  1.0  1.0\n",
       "\n",
       "[:, :, 1, 5] =\n",
       " 1.0  1.0  1.0  1.0  1.0\n",
       " 1.0  1.0  1.0  1.0  1.0\n",
       " 1.0  1.0  1.0  1.0  1.0\n",
       " 1.0  1.0  1.0  1.0  1.0\n",
       "\n",
       "[:, :, 2, 5] =\n",
       " 1.0  1.0  1.0  1.0  1.0\n",
       " 1.0  1.0  1.0  1.0  1.0\n",
       " 1.0  1.0  1.0  1.0  1.0\n",
       " 1.0  1.0  1.0  1.0  1.0\n",
       "\n",
       "[:, :, 3, 5] =\n",
       " 1.0  1.0  1.0  1.0  1.0\n",
       " 1.0  1.0  1.0  1.0  1.0\n",
       " 1.0  1.0  1.0  1.0  1.0\n",
       " 1.0  1.0  1.0  1.0  1.0\n",
       "\n",
       "[:, :, 4, 5] =\n",
       " 1.0  1.0  1.0  1.0  1.0\n",
       " 1.0  1.0  1.0  1.0  1.0\n",
       " 1.0  1.0  1.0  1.0  1.0\n",
       " 1.0  1.0  1.0  1.0  1.0\n",
       "\n",
       "[:, :, 5, 5] =\n",
       " 1.0  1.0  1.0  1.0  1.0\n",
       " 1.0  1.0  1.0  1.0  1.0\n",
       " 1.0  1.0  1.0  1.0  1.0\n",
       " 1.0  1.0  1.0  1.0  1.0\n",
       "\n",
       "[:, :, 6, 5] =\n",
       " 1.0  1.0  1.0  1.0  1.0\n",
       " 1.0  1.0  1.0  1.0  1.0\n",
       " 1.0  1.0  1.0  1.0  1.0\n",
       " 1.0  1.0  1.0  1.0  1.0\n",
       "\n",
       "[:, :, 1, 6] =\n",
       " 1.0  1.0  1.0  1.0  1.0\n",
       " 1.0  1.0  1.0  1.0  1.0\n",
       " 1.0  1.0  1.0  1.0  1.0\n",
       " 1.0  1.0  1.0  1.0  1.0\n",
       "\n",
       "[:, :, 2, 6] =\n",
       " 1.0  1.0  1.0  1.0  1.0\n",
       " 1.0  1.0  1.0  1.0  1.0\n",
       " 1.0  1.0  1.0  1.0  1.0\n",
       " 1.0  1.0  1.0  1.0  1.0\n",
       "\n",
       "[:, :, 3, 6] =\n",
       " 1.0  1.0  1.0  1.0  1.0\n",
       " 1.0  1.0  1.0  1.0  1.0\n",
       " 1.0  1.0  1.0  1.0  1.0\n",
       " 1.0  1.0  1.0  1.0  1.0\n",
       "\n",
       "[:, :, 4, 6] =\n",
       " 1.0  1.0  1.0  1.0  1.0\n",
       " 1.0  1.0  1.0  1.0  1.0\n",
       " 1.0  1.0  1.0  1.0  1.0\n",
       " 1.0  1.0  1.0  1.0  1.0\n",
       "\n",
       "[:, :, 5, 6] =\n",
       " 1.0  1.0  1.0  1.0  1.0\n",
       " 1.0  1.0  1.0  1.0  1.0\n",
       " 1.0  1.0  1.0  1.0  1.0\n",
       " 1.0  1.0  1.0  1.0  1.0\n",
       "\n",
       "[:, :, 6, 6] =\n",
       " 1.0  1.0  1.0  1.0  1.0\n",
       " 1.0  1.0  1.0  1.0  1.0\n",
       " 1.0  1.0  1.0  1.0  1.0\n",
       " 1.0  1.0  1.0  1.0  1.0\n",
       "\n",
       "[:, :, 1, 7] =\n",
       " 1.0  1.0  1.0  1.0  1.0\n",
       " 1.0  1.0  1.0  1.0  1.0\n",
       " 1.0  1.0  1.0  1.0  1.0\n",
       " 1.0  1.0  1.0  1.0  1.0\n",
       "\n",
       "[:, :, 2, 7] =\n",
       " 1.0  1.0  1.0  1.0  1.0\n",
       " 1.0  1.0  1.0  1.0  1.0\n",
       " 1.0  1.0  1.0  1.0  1.0\n",
       " 1.0  1.0  1.0  1.0  1.0\n",
       "\n",
       "[:, :, 3, 7] =\n",
       " 1.0  1.0  1.0  1.0  1.0\n",
       " 1.0  1.0  1.0  1.0  1.0\n",
       " 1.0  1.0  1.0  1.0  1.0\n",
       " 1.0  1.0  1.0  1.0  1.0\n",
       "\n",
       "[:, :, 4, 7] =\n",
       " 1.0  1.0  1.0  1.0  1.0\n",
       " 1.0  1.0  1.0  1.0  1.0\n",
       " 1.0  1.0  1.0  1.0  1.0\n",
       " 1.0  1.0  1.0  1.0  1.0\n",
       "\n",
       "[:, :, 5, 7] =\n",
       " 1.0  1.0  1.0  1.0  1.0\n",
       " 1.0  1.0  1.0  1.0  1.0\n",
       " 1.0  1.0  1.0  1.0  1.0\n",
       " 1.0  1.0  1.0  1.0  1.0\n",
       "\n",
       "[:, :, 6, 7] =\n",
       " 1.0  1.0  1.0  1.0  1.0\n",
       " 1.0  1.0  1.0  1.0  1.0\n",
       " 1.0  1.0  1.0  1.0  1.0\n",
       " 1.0  1.0  1.0  1.0  1.0"
      ]
     },
     "execution_count": 33,
     "metadata": {},
     "output_type": "execute_result"
    }
   ],
   "source": [
    "B = ones(4,5,6,7)"
   ]
  },
  {
   "cell_type": "code",
   "execution_count": 34,
   "id": "6476b847",
   "metadata": {},
   "outputs": [
    {
     "data": {
      "text/plain": [
       "2×3×4×5×6 Array{Float64, 5}:\n",
       "[:, :, 1, 1, 1] =\n",
       " 0.484577  0.722846  0.697761\n",
       " 0.83758   0.785859  0.657845\n",
       "\n",
       "[:, :, 2, 1, 1] =\n",
       " 0.239049  0.15163   0.638464\n",
       " 0.361377  0.636859  0.00224103\n",
       "\n",
       "[:, :, 3, 1, 1] =\n",
       " 0.189451  0.605167  0.171185\n",
       " 0.687431  0.827854  0.0697663\n",
       "\n",
       "[:, :, 4, 1, 1] =\n",
       " 0.987468  0.0659912  0.358799\n",
       " 0.561948  0.386239   0.58907\n",
       "\n",
       "[:, :, 1, 2, 1] =\n",
       " 0.00473383  0.786355  0.279894\n",
       " 0.175408    0.262878  0.162223\n",
       "\n",
       "[:, :, 2, 2, 1] =\n",
       " 0.611859  0.00918624  0.629323\n",
       " 0.858983  0.190802    0.922722\n",
       "\n",
       "[:, :, 3, 2, 1] =\n",
       " 0.408972   0.95797   0.862354\n",
       " 0.0387497  0.297552  0.892963\n",
       "\n",
       "[:, :, 4, 2, 1] =\n",
       " 0.278761  0.569351  0.652286\n",
       " 0.816167  0.570311  0.544724\n",
       "\n",
       "[:, :, 1, 3, 1] =\n",
       " 0.0657959  0.51514     0.870135\n",
       " 0.384803   0.00268189  0.469925\n",
       "\n",
       "[:, :, 2, 3, 1] =\n",
       " 0.739495  0.817805  0.984131\n",
       " 0.934803  0.103319  0.549631\n",
       "\n",
       "[:, :, 3, 3, 1] =\n",
       " 0.961839  0.28074    0.944538\n",
       " 0.536491  0.0234214  0.32884\n",
       "\n",
       "[:, :, 4, 3, 1] =\n",
       " 0.15174   0.995793   0.284566\n",
       " 0.193756  0.0505402  0.225266\n",
       "\n",
       "[:, :, 1, 4, 1] =\n",
       " 0.841511   0.532425  0.122619\n",
       " 0.0207191  0.794431  0.698963\n",
       "\n",
       "[:, :, 2, 4, 1] =\n",
       " 0.837877  0.905806  0.812682\n",
       " 0.650933  0.10687   0.415429\n",
       "\n",
       "[:, :, 3, 4, 1] =\n",
       " 0.945076  0.722229  0.432763\n",
       " 0.862361  0.127403  0.853586\n",
       "\n",
       "[:, :, 4, 4, 1] =\n",
       " 0.641384  0.898056  0.861182\n",
       " 0.520977  0.310374  0.37758\n",
       "\n",
       "[:, :, 1, 5, 1] =\n",
       " 0.359463  0.513632  0.280727\n",
       " 0.905289  0.919882  0.434364\n",
       "\n",
       "[:, :, 2, 5, 1] =\n",
       " 0.789684  0.393225  0.395315\n",
       " 0.774059  0.874886  0.786375\n",
       "\n",
       "[:, :, 3, 5, 1] =\n",
       " 0.924194  0.881846  0.818554\n",
       " 0.207875  0.727333  0.318267\n",
       "\n",
       "[:, :, 4, 5, 1] =\n",
       " 0.581276  0.340313  0.896999\n",
       " 0.766453  0.186698  0.243329\n",
       "\n",
       "[:, :, 1, 1, 2] =\n",
       " 0.777091  0.954735  0.378159\n",
       " 0.104554  0.254253  0.906093\n",
       "\n",
       "[:, :, 2, 1, 2] =\n",
       " 0.16201   0.246574  0.858568\n",
       " 0.728136  0.171958  0.114479\n",
       "\n",
       "[:, :, 3, 1, 2] =\n",
       " 0.45304   0.0569415  0.0549233\n",
       " 0.611833  0.681118   0.744082\n",
       "\n",
       "[:, :, 4, 1, 2] =\n",
       " 0.144402  0.48401   0.658161\n",
       " 0.304039  0.596965  0.731761\n",
       "\n",
       "[:, :, 1, 2, 2] =\n",
       " 0.657382  0.165225  0.308092\n",
       " 0.291408  0.133385  0.284967\n",
       "\n",
       "[:, :, 2, 2, 2] =\n",
       " 0.475209  0.481014   0.49572\n",
       " 0.416582  0.0178977  0.530033\n",
       "\n",
       "[:, :, 3, 2, 2] =\n",
       " 0.271936  0.584169  0.501776\n",
       " 0.741083  0.593157  0.92704\n",
       "\n",
       "[:, :, 4, 2, 2] =\n",
       " 0.81184   0.996512   0.61969\n",
       " 0.334569  0.0713322  0.0697739\n",
       "\n",
       "[:, :, 1, 3, 2] =\n",
       " 0.0687648  0.630121  0.675846\n",
       " 0.429084   0.969439  0.523009\n",
       "\n",
       "[:, :, 2, 3, 2] =\n",
       " 0.676875   0.818509  0.428793\n",
       " 0.0592925  0.901834  0.900934\n",
       "\n",
       "[:, :, 3, 3, 2] =\n",
       " 0.0563872  0.414175  0.890119\n",
       " 0.555897   0.457835  0.924289\n",
       "\n",
       "[:, :, 4, 3, 2] =\n",
       " 0.826218  0.202744  0.161586\n",
       " 0.167838  0.173042  0.147927\n",
       "\n",
       "[:, :, 1, 4, 2] =\n",
       " 0.928818  0.5968    0.456838\n",
       " 0.333789  0.492604  0.627698\n",
       "\n",
       "[:, :, 2, 4, 2] =\n",
       " 0.710451  0.211718  0.741299\n",
       " 0.626387  0.744697  0.969643\n",
       "\n",
       "[:, :, 3, 4, 2] =\n",
       " 0.56851   0.341234  0.679811\n",
       " 0.157601  0.145541  0.0586966\n",
       "\n",
       "[:, :, 4, 4, 2] =\n",
       " 0.82629  0.431322  0.614322\n",
       " 0.98231  0.102332  0.968436\n",
       "\n",
       "[:, :, 1, 5, 2] =\n",
       " 0.62677   0.521493  0.935372\n",
       " 0.599533  0.164431  0.25619\n",
       "\n",
       "[:, :, 2, 5, 2] =\n",
       " 0.0441254  0.354614  0.82803\n",
       " 0.031607   0.59255   0.0697278\n",
       "\n",
       "[:, :, 3, 5, 2] =\n",
       " 0.328231  0.996722  0.409765\n",
       " 0.653013  0.887517  0.030577\n",
       "\n",
       "[:, :, 4, 5, 2] =\n",
       " 0.60928   0.284238  0.503072\n",
       " 0.279289  0.771763  0.375348\n",
       "\n",
       "[:, :, 1, 1, 3] =\n",
       " 0.56652   0.674392  0.30116\n",
       " 0.919009  0.129632  0.601019\n",
       "\n",
       "[:, :, 2, 1, 3] =\n",
       " 0.830919   0.370561  0.275917\n",
       " 0.0846301  0.342954  0.967076\n",
       "\n",
       "[:, :, 3, 1, 3] =\n",
       " 0.59891   0.496175  0.055399\n",
       " 0.415721  0.702951  0.446054\n",
       "\n",
       "[:, :, 4, 1, 3] =\n",
       " 0.134877  0.810089  0.0852284\n",
       " 0.299567  0.488201  0.556314\n",
       "\n",
       "[:, :, 1, 2, 3] =\n",
       " 0.710698  0.134306   0.414663\n",
       " 0.116128  0.0279139  0.84047\n",
       "\n",
       "[:, :, 2, 2, 3] =\n",
       " 0.919688  0.454912  0.383325\n",
       " 0.611626  0.232839  0.224789\n",
       "\n",
       "[:, :, 3, 2, 3] =\n",
       " 0.051814   0.256835   0.106692\n",
       " 3.9644e-5  0.0293355  0.294419\n",
       "\n",
       "[:, :, 4, 2, 3] =\n",
       " 0.689927   0.622053  0.809686\n",
       " 0.0393586  0.224259  0.511657\n",
       "\n",
       "[:, :, 1, 3, 3] =\n",
       " 0.88227   0.25169  0.312647\n",
       " 0.719158  0.52463  0.821175\n",
       "\n",
       "[:, :, 2, 3, 3] =\n",
       " 0.976427  0.661723  0.218636\n",
       " 0.104196  0.529213  0.592186\n",
       "\n",
       "[:, :, 3, 3, 3] =\n",
       " 0.791594  0.0594843  0.899597\n",
       " 0.859335  0.335442   0.942177\n",
       "\n",
       "[:, :, 4, 3, 3] =\n",
       " 0.673706  0.227437  0.438412\n",
       " 0.209264  0.5792    0.871925\n",
       "\n",
       "[:, :, 1, 4, 3] =\n",
       " 0.458118  0.722774  0.652242\n",
       " 0.874991  0.294765  0.771495\n",
       "\n",
       "[:, :, 2, 4, 3] =\n",
       " 0.198121  0.726094  0.0893897\n",
       " 0.428379  0.60836   0.244002\n",
       "\n",
       "[:, :, 3, 4, 3] =\n",
       " 0.0395301  0.810449  0.786953\n",
       " 0.203001   0.19351   0.936883\n",
       "\n",
       "[:, :, 4, 4, 3] =\n",
       " 0.245498  0.441577  0.547148\n",
       " 0.726407  0.288192  0.341621\n",
       "\n",
       "[:, :, 1, 5, 3] =\n",
       " 0.856038   0.242658  0.413777\n",
       " 0.0621781  0.183037  0.0322026\n",
       "\n",
       "[:, :, 2, 5, 3] =\n",
       " 0.61306   0.0195618  0.73739\n",
       " 0.627482  0.348049   0.736939\n",
       "\n",
       "[:, :, 3, 5, 3] =\n",
       " 0.0810196  0.410566  0.0860833\n",
       " 0.4936     0.729664  0.484354\n",
       "\n",
       "[:, :, 4, 5, 3] =\n",
       " 0.780055  0.973942  0.855829\n",
       " 0.798526  0.688032  0.782242\n",
       "\n",
       "[:, :, 1, 1, 4] =\n",
       " 0.207904   0.768296  0.905058\n",
       " 0.0430857  0.699149  0.480546\n",
       "\n",
       "[:, :, 2, 1, 4] =\n",
       " 0.384042  0.279354  0.915307\n",
       " 0.89505   0.610294  0.874959\n",
       "\n",
       "[:, :, 3, 1, 4] =\n",
       " 0.854025  0.228782  0.465928\n",
       " 0.521108  0.91093   0.940647\n",
       "\n",
       "[:, :, 4, 1, 4] =\n",
       " 0.819556  0.241651  0.896897\n",
       " 0.461814  0.356861  0.637716\n",
       "\n",
       "[:, :, 1, 2, 4] =\n",
       " 0.56668    0.205477  0.152728\n",
       " 0.0549899  0.583979  0.449747\n",
       "\n",
       "[:, :, 2, 2, 4] =\n",
       " 0.188627  0.208255  0.891332\n",
       " 0.584127  0.684158  0.433774\n",
       "\n",
       "[:, :, 3, 2, 4] =\n",
       " 0.165153  0.0444378  0.757367\n",
       " 0.38976   0.330152   0.27101\n",
       "\n",
       "[:, :, 4, 2, 4] =\n",
       " 0.697156  0.163156  0.720812\n",
       " 0.37945   0.887233  0.923124\n",
       "\n",
       "[:, :, 1, 3, 4] =\n",
       " 0.212933  0.369616  0.552795\n",
       " 0.83109   0.366971  0.585467\n",
       "\n",
       "[:, :, 2, 3, 4] =\n",
       " 0.445423  0.238621   0.897326\n",
       " 0.592927  0.0818478  0.115708\n",
       "\n",
       "[:, :, 3, 3, 4] =\n",
       " 0.418869  0.169109  0.979625\n",
       " 0.427692  0.400412  0.23854\n",
       "\n",
       "[:, :, 4, 3, 4] =\n",
       " 0.97527   0.471053   0.385183\n",
       " 0.491069  0.0360045  0.506106\n",
       "\n",
       "[:, :, 1, 4, 4] =\n",
       " 0.409412  0.388944  0.239235\n",
       " 0.253514  0.655788  0.155149\n",
       "\n",
       "[:, :, 2, 4, 4] =\n",
       " 0.951812  0.356964  0.46715\n",
       " 0.574925  0.635108  0.329573\n",
       "\n",
       "[:, :, 3, 4, 4] =\n",
       " 0.00606846  0.985921  0.328959\n",
       " 0.299374    0.245533  0.741271\n",
       "\n",
       "[:, :, 4, 4, 4] =\n",
       " 0.934171  0.638255   0.440517\n",
       " 0.670574  0.0496617  0.151089\n",
       "\n",
       "[:, :, 1, 5, 4] =\n",
       " 0.136473  0.0272333  0.39606\n",
       " 0.860979  0.217448   0.105551\n",
       "\n",
       "[:, :, 2, 5, 4] =\n",
       " 0.1962   0.364872  0.443887\n",
       " 0.74911  0.25529   0.842549\n",
       "\n",
       "[:, :, 3, 5, 4] =\n",
       " 0.217744  0.470074  0.924204\n",
       " 0.546928  0.168979  0.124977\n",
       "\n",
       "[:, :, 4, 5, 4] =\n",
       " 0.633322  0.331931  0.16331\n",
       " 0.673917  0.735444  0.84141\n",
       "\n",
       "[:, :, 1, 1, 5] =\n",
       " 0.340745  0.902551  0.207453\n",
       " 0.109103  0.914288  0.151114\n",
       "\n",
       "[:, :, 2, 1, 5] =\n",
       " 0.560344  0.580424  0.618752\n",
       " 0.733804  0.145309  0.719404\n",
       "\n",
       "[:, :, 3, 1, 5] =\n",
       " 0.927721  0.503148  0.721087\n",
       " 0.720505  0.337264  0.683181\n",
       "\n",
       "[:, :, 4, 1, 5] =\n",
       " 0.456178  0.482067  0.935605\n",
       " 0.165115  0.493152  0.446924\n",
       "\n",
       "[:, :, 1, 2, 5] =\n",
       " 0.375298   0.349413  0.419949\n",
       " 0.0368665  0.918839  0.255782\n",
       "\n",
       "[:, :, 2, 2, 5] =\n",
       " 0.88669    0.149656  0.909576\n",
       " 0.0665686  0.80786   0.703515\n",
       "\n",
       "[:, :, 3, 2, 5] =\n",
       " 0.895309  0.0303418  0.974902\n",
       " 0.886925  0.435767   0.99138\n",
       "\n",
       "[:, :, 4, 2, 5] =\n",
       " 0.149361  0.795665  0.555742\n",
       " 0.952594  0.53244   0.451562\n",
       "\n",
       "[:, :, 1, 3, 5] =\n",
       " 0.870344  0.229534  0.783483\n",
       " 0.907103  0.969228  0.531913\n",
       "\n",
       "[:, :, 2, 3, 5] =\n",
       " 0.653441  0.471942  0.0867541\n",
       " 0.576056  0.191558  0.616375\n",
       "\n",
       "[:, :, 3, 3, 5] =\n",
       " 0.795508  0.0223873  0.928863\n",
       " 0.780685  0.387298   0.431919\n",
       "\n",
       "[:, :, 4, 3, 5] =\n",
       " 0.356711  0.0569743  0.944648\n",
       " 0.394022  0.673153   0.991254\n",
       "\n",
       "[:, :, 1, 4, 5] =\n",
       " 0.240396  0.489713  0.775646\n",
       " 0.91931   0.682958  0.0157113\n",
       "\n",
       "[:, :, 2, 4, 5] =\n",
       " 0.266616  0.374011  0.617826\n",
       " 0.561415  0.473027  0.380686\n",
       "\n",
       "[:, :, 3, 4, 5] =\n",
       " 0.0907668  0.37744   0.0585906\n",
       " 0.74448    0.573756  0.814366\n",
       "\n",
       "[:, :, 4, 4, 5] =\n",
       " 0.607754  0.37116   0.695678\n",
       " 0.922371  0.384205  0.209482\n",
       "\n",
       "[:, :, 1, 5, 5] =\n",
       " 0.302477  0.660406  0.0522069\n",
       " 0.608056  0.506117  0.935335\n",
       "\n",
       "[:, :, 2, 5, 5] =\n",
       " 0.604593     0.964896  0.10389\n",
       " 0.000653573  0.204656  0.61443\n",
       "\n",
       "[:, :, 3, 5, 5] =\n",
       " 0.453354  0.913675   0.451647\n",
       " 0.194307  0.0656165  0.286756\n",
       "\n",
       "[:, :, 4, 5, 5] =\n",
       " 0.360541  0.620844   0.314037\n",
       " 0.171968  0.0887823  0.0532643\n",
       "\n",
       "[:, :, 1, 1, 6] =\n",
       " 0.972613  0.567315  0.879746\n",
       " 0.191633  0.426537  0.691645\n",
       "\n",
       "[:, :, 2, 1, 6] =\n",
       " 0.354541  0.504698  0.322673\n",
       " 0.448254  0.669346  0.460781\n",
       "\n",
       "[:, :, 3, 1, 6] =\n",
       " 0.529101  0.401373  0.934413\n",
       " 0.824031  0.957423  0.691314\n",
       "\n",
       "[:, :, 4, 1, 6] =\n",
       " 0.496608  0.670728  0.109243\n",
       " 0.955493  0.755619  0.700832\n",
       "\n",
       "[:, :, 1, 2, 6] =\n",
       " 0.727497  0.763142  0.979983\n",
       " 0.89951   0.575149  0.490577\n",
       "\n",
       "[:, :, 2, 2, 6] =\n",
       " 0.440959  0.458297  0.762675\n",
       " 0.202878  0.662855  0.650466\n",
       "\n",
       "[:, :, 3, 2, 6] =\n",
       " 0.336679  0.640951  0.333309\n",
       " 0.130834  0.969623  0.824622\n",
       "\n",
       "[:, :, 4, 2, 6] =\n",
       " 0.414917  0.0801983  0.062943\n",
       " 0.1926    0.122456   0.845894\n",
       "\n",
       "[:, :, 1, 3, 6] =\n",
       " 0.167396  0.0995981  0.782027\n",
       " 0.869537  0.759149   0.765734\n",
       "\n",
       "[:, :, 2, 3, 6] =\n",
       " 0.796678  0.137539  0.512698\n",
       " 0.4371    0.518629  0.501245\n",
       "\n",
       "[:, :, 3, 3, 6] =\n",
       " 0.451877  0.373556  0.45972\n",
       " 0.410335  0.654635  0.813895\n",
       "\n",
       "[:, :, 4, 3, 6] =\n",
       " 0.752441  0.476171  0.214726\n",
       " 0.747     0.160444  0.574475\n",
       "\n",
       "[:, :, 1, 4, 6] =\n",
       " 0.110234  0.832028  0.579857\n",
       " 0.598551  0.802971  0.930138\n",
       "\n",
       "[:, :, 2, 4, 6] =\n",
       " 0.0592477  0.333663  0.523404\n",
       " 0.475638   0.810266  0.187213\n",
       "\n",
       "[:, :, 3, 4, 6] =\n",
       " 0.244906  0.0368778  0.972893\n",
       " 0.283844  0.357319   0.503794\n",
       "\n",
       "[:, :, 4, 4, 6] =\n",
       " 0.317535  0.0833181  0.696742\n",
       " 0.290227  0.0418396  0.905296\n",
       "\n",
       "[:, :, 1, 5, 6] =\n",
       " 0.850256  0.819062  0.101762\n",
       " 0.282389  0.064263  0.990418\n",
       "\n",
       "[:, :, 2, 5, 6] =\n",
       " 0.271429  0.542337  0.350774\n",
       " 0.925239  0.192906  0.0472564\n",
       "\n",
       "[:, :, 3, 5, 6] =\n",
       " 0.542611  0.157868  0.976052\n",
       " 0.389382  0.903137  0.157019\n",
       "\n",
       "[:, :, 4, 5, 6] =\n",
       " 0.456516  0.250948  0.774075\n",
       " 0.836562  0.476072  0.903529"
      ]
     },
     "execution_count": 34,
     "metadata": {},
     "output_type": "execute_result"
    }
   ],
   "source": [
    "C = rand(2,3,4,5,6)"
   ]
  },
  {
   "cell_type": "markdown",
   "id": "d0dd2f76",
   "metadata": {},
   "source": [
    "### Dictionaries"
   ]
  },
  {
   "cell_type": "markdown",
   "id": "51ededf3",
   "metadata": {},
   "source": [
    "- If we have sets of data related to one another, we may choose to store that data in a dictionary. \n",
    "- We can create a dictionary using the ```Dict()``` function, which we can initialize as an empty dictionary or one storing key, value pairs.\n",
    "\n",
    "Syntax:\n",
    "\n",
    "Dict(key1 => value1, key2 => value2, ...)\n"
   ]
  },
  {
   "cell_type": "code",
   "execution_count": 35,
   "id": "9b0f61bc",
   "metadata": {},
   "outputs": [
    {
     "data": {
      "text/plain": [
       "Dict{String, String} with 2 entries:\n",
       "  \"George\"       => \"867-5309\"\n",
       "  \"Ghostbusters\" => \"555-2368\""
      ]
     },
     "execution_count": 35,
     "metadata": {},
     "output_type": "execute_result"
    }
   ],
   "source": [
    "myphonebook = Dict(\"George\" => \"867-5309\", \"Ghostbusters\" => \"555-2368\")"
   ]
  },
  {
   "cell_type": "code",
   "execution_count": 36,
   "id": "35a8af70",
   "metadata": {},
   "outputs": [
    {
     "data": {
      "text/plain": [
       "\"867-5309\""
      ]
     },
     "execution_count": 36,
     "metadata": {},
     "output_type": "execute_result"
    }
   ],
   "source": [
    "myphonebook[\"George\"] # we can access the element by using the key"
   ]
  },
  {
   "cell_type": "code",
   "execution_count": 37,
   "id": "33ca2f78",
   "metadata": {},
   "outputs": [
    {
     "data": {
      "text/plain": [
       "\"555-FILK\""
      ]
     },
     "execution_count": 37,
     "metadata": {},
     "output_type": "execute_result"
    }
   ],
   "source": [
    "myphonebook[\"Kramer\"] = \"555-FILK\" # new elements can be easily added"
   ]
  },
  {
   "cell_type": "markdown",
   "id": "2c50f4e7",
   "metadata": {},
   "source": [
    "### Tuples"
   ]
  },
  {
   "cell_type": "markdown",
   "id": "9067d80e",
   "metadata": {},
   "source": [
    "- We can create a tuple by enclosing an ordered collection of elements in ```( )```. \n",
    "    - Syntax is ```(item1, item2,...)```.\n",
    "\n",
    "- Julia does automatic packing and unpacking of tuples as ```(a, b) = 1, 2```.\n",
    "\n",
    "- Note that tuples are **immutable**!"
   ]
  },
  {
   "cell_type": "code",
   "execution_count": 38,
   "id": "5d8b3275",
   "metadata": {},
   "outputs": [
    {
     "data": {
      "text/plain": [
       "(\"penguins\", \"cats\", \"sugargliders\")"
      ]
     },
     "execution_count": 38,
     "metadata": {},
     "output_type": "execute_result"
    }
   ],
   "source": [
    "myfavoriteanimals = (\"penguins\", \"cats\", \"sugargliders\")"
   ]
  },
  {
   "cell_type": "code",
   "execution_count": 39,
   "id": "283f44fd",
   "metadata": {},
   "outputs": [
    {
     "data": {
      "text/plain": [
       "\"penguins\""
      ]
     },
     "execution_count": 39,
     "metadata": {},
     "output_type": "execute_result"
    }
   ],
   "source": [
    "myfavoriteanimals[1] # tuples can be indexed the same way as arrays"
   ]
  },
  {
   "cell_type": "code",
   "execution_count": 40,
   "id": "35495c35",
   "metadata": {},
   "outputs": [
    {
     "ename": "LoadError",
     "evalue": "MethodError: no method matching setindex!(::Tuple{String, String, String}, ::String, ::Int64)",
     "output_type": "error",
     "traceback": [
      "MethodError: no method matching setindex!(::Tuple{String, String, String}, ::String, ::Int64)",
      "",
      "Stacktrace:",
      " [1] top-level scope",
      "   @ In[40]:1"
     ]
    }
   ],
   "source": [
    "myfavoriteanimals[1] = \"otters\" #but not modified since they are immutable"
   ]
  },
  {
   "cell_type": "markdown",
   "id": "cb7f4977",
   "metadata": {},
   "source": [
    "### Big numbers"
   ]
  },
  {
   "cell_type": "markdown",
   "id": "a1c15736",
   "metadata": {},
   "source": [
    "Arbitrary precision arithmetics is also supported."
   ]
  },
  {
   "cell_type": "code",
   "execution_count": 41,
   "id": "3aa5e135",
   "metadata": {},
   "outputs": [
    {
     "data": {
      "text/plain": [
       "2.459565876494606882133333333333333333333333333333333333333333333333333333333344e+19"
      ]
     },
     "execution_count": 41,
     "metadata": {},
     "output_type": "execute_result"
    }
   ],
   "source": [
    "BigFloat(2.0^66) / 3"
   ]
  },
  {
   "cell_type": "markdown",
   "id": "7ed7d428",
   "metadata": {},
   "source": [
    "### Advanced: Dynamic types"
   ]
  },
  {
   "cell_type": "markdown",
   "id": "e5069935",
   "metadata": {},
   "source": [
    "- When evaluating ```1/3```, it equals ```0.3333...``` (which is what the user often meant). \n",
    "- However, not always! Then the ```::``` operator can be attached to the expressions. It is read as \"*is instance of*\"."
   ]
  },
  {
   "cell_type": "code",
   "execution_count": 43,
   "id": "9ee6230a",
   "metadata": {},
   "outputs": [
    {
     "data": {
      "text/plain": [
       "Int64"
      ]
     },
     "execution_count": 43,
     "metadata": {},
     "output_type": "execute_result"
    }
   ],
   "source": [
    "a = 1\n",
    "b = 3\n",
    "c = (a + b)::Int\n",
    "typeof(c)"
   ]
  },
  {
   "cell_type": "code",
   "execution_count": null,
   "id": "b63ab71a",
   "metadata": {},
   "outputs": [],
   "source": [
    "c"
   ]
  },
  {
   "cell_type": "markdown",
   "id": "bbdac399",
   "metadata": {},
   "source": [
    "### Control flow"
   ]
  },
  {
   "cell_type": "markdown",
   "id": "2fb409b0",
   "metadata": {},
   "source": [
    "Julia supports the common if, while and for structures:"
   ]
  },
  {
   "cell_type": "code",
   "execution_count": 44,
   "id": "7be754e9",
   "metadata": {},
   "outputs": [
    {
     "name": "stdout",
     "output_type": "stream",
     "text": [
      "Rachel"
     ]
    }
   ],
   "source": [
    "if c >= 10\n",
    "    print(\"Joey\")\n",
    "else\n",
    "    print(\"Rachel\")\n",
    "end\n",
    "     "
   ]
  },
  {
   "cell_type": "code",
   "execution_count": 47,
   "id": "86f21a77",
   "metadata": {},
   "outputs": [
    {
     "name": "stdout",
     "output_type": "stream",
     "text": [
      "Joey!\n",
      "Joey!\n",
      "Joey!\n",
      "Joey!\n",
      "Joey!\n"
     ]
    }
   ],
   "source": [
    "i = 1\n",
    "while i <= 5\n",
    "    println(\"Joey!\") # Print with a new line\n",
    "    i += 1\n",
    "end     "
   ]
  },
  {
   "cell_type": "code",
   "execution_count": 48,
   "id": "1ad45eea",
   "metadata": {},
   "outputs": [
    {
     "name": "stdout",
     "output_type": "stream",
     "text": [
      "1 Joey\n",
      "2 Joeys\n",
      "3 Joeys\n"
     ]
    }
   ],
   "source": [
    "for i = 1:3\n",
    "    print(\"$i Joey\") # '$' can be used to insert variables into text\n",
    "    if i>1\n",
    "        print(\"s\")\n",
    "    end\n",
    "    println() # Just a new line\n",
    "end"
   ]
  },
  {
   "cell_type": "markdown",
   "id": "d20d2abd",
   "metadata": {},
   "source": [
    "- Do not worry about writing loops: in Julia, they are as fast as writing vectorized code, and sometimes faster!"
   ]
  },
  {
   "cell_type": "markdown",
   "id": "ccf2ccb7",
   "metadata": {},
   "source": [
    "#### For loops for iteration"
   ]
  },
  {
   "cell_type": "markdown",
   "id": "07742abe",
   "metadata": {},
   "source": [
    "For loops can also be used to iterate over containers:"
   ]
  },
  {
   "cell_type": "code",
   "execution_count": 49,
   "id": "244f757c",
   "metadata": {},
   "outputs": [
    {
     "name": "stdout",
     "output_type": "stream",
     "text": [
      "1\n",
      "4\n",
      "0\n"
     ]
    }
   ],
   "source": [
    "for i in [1,4,0]\n",
    "    println(i)\n",
    "end"
   ]
  },
  {
   "cell_type": "code",
   "execution_count": 50,
   "id": "69a1313e",
   "metadata": {},
   "outputs": [
    {
     "name": "stdout",
     "output_type": "stream",
     "text": [
      "foo\n",
      "bar\n",
      "baz\n"
     ]
    }
   ],
   "source": [
    "for s ∈ [\"foo\",\"bar\",\"baz\"]\n",
    "    println(s)\n",
    "end"
   ]
  },
  {
   "cell_type": "markdown",
   "id": "779b249a",
   "metadata": {},
   "source": [
    "**Ternary operator**"
   ]
  },
  {
   "cell_type": "markdown",
   "id": "2b0da95f",
   "metadata": {},
   "source": [
    "Even though the name for this operation is scary, it is actually very easy to understand and handy to use. Syntax is:\n",
    "\n",
    "```condition ? do 1 : do 2```\n",
    "\n",
    "which is equal to writing\n",
    "\n",
    "if *condition*\n",
    "   \n",
    ">   *do 1*\n",
    "\n",
    "else\n",
    "\n",
    ">   *do 2*\n",
    "\n",
    "end\n"
   ]
  },
  {
   "cell_type": "code",
   "execution_count": 51,
   "id": "c121f804",
   "metadata": {},
   "outputs": [
    {
     "data": {
      "text/plain": [
       "2"
      ]
     },
     "execution_count": 51,
     "metadata": {},
     "output_type": "execute_result"
    }
   ],
   "source": [
    "# What does the followning code do? Try it out by giving values to `x` and `y`\n",
    "x = 1\n",
    "y = 2\n",
    "(x > y ) ? x : y"
   ]
  },
  {
   "cell_type": "code",
   "execution_count": 52,
   "id": "014e5d06",
   "metadata": {},
   "outputs": [
    {
     "name": "stdout",
     "output_type": "stream",
     "text": [
      "Julia!\n",
      "integer\n",
      "Julia!\n"
     ]
    }
   ],
   "source": [
    "function myFunction(x)\n",
    "    println(\"Julia!\")\n",
    "end\n",
    "\n",
    "function myFunction(x::Int) # only called when x is an integer\n",
    "    println(\"integer\")\n",
    "end\n",
    "\n",
    "myFunction(1.0)\n",
    "myFunction(1)\n",
    "myFunction(\"Joey\")"
   ]
  },
  {
   "cell_type": "markdown",
   "id": "511cb1cb",
   "metadata": {},
   "source": [
    "A lot more functionalities are available and for you to discover!"
   ]
  },
  {
   "cell_type": "code",
   "execution_count": null,
   "id": "39ade4f3",
   "metadata": {},
   "outputs": [],
   "source": [
    "l = [i^2 for i in 1:10 if i%2 == 0] # list comprehensions (similar to Python)"
   ]
  },
  {
   "cell_type": "markdown",
   "id": "9abc9838",
   "metadata": {},
   "source": [
    "### Functions"
   ]
  },
  {
   "cell_type": "markdown",
   "id": "2fd8a43e",
   "metadata": {},
   "source": [
    "Functions are the building blocks of Julia code, acting as the subroutines, procedures, blocks, and similar structural concepts found in other programming languages.\n",
    "\n",
    "- A function's job is to take a tuple of values as an argument list and return a value.\n",
    "- If the arguments contain mutable values like arrays, the array can be modified inside the function.\n",
    "    - By convention, an exclamation mark (!) at the end of a function's name indicates that the function may modify its arguments."
   ]
  },
  {
   "cell_type": "markdown",
   "id": "79aefe43",
   "metadata": {},
   "source": [
    "**How to declare a function**\n",
    "\n",
    "Julia gives us a few different ways to write a function. The first (and most standard) requires function and end keywords."
   ]
  },
  {
   "cell_type": "code",
   "execution_count": 53,
   "id": "fea0d618",
   "metadata": {},
   "outputs": [
    {
     "name": "stdout",
     "output_type": "stream",
     "text": [
      "Hi R2D2, nice to meet you!\n"
     ]
    }
   ],
   "source": [
    "function sayhi(name)\n",
    "    println(\"Hi $name, nice to meet you!\")\n",
    "end\n",
    "\n",
    "sayhi(\"R2D2\")"
   ]
  },
  {
   "cell_type": "code",
   "execution_count": 54,
   "id": "236163e8",
   "metadata": {},
   "outputs": [
    {
     "data": {
      "text/plain": [
       "1764"
      ]
     },
     "execution_count": 54,
     "metadata": {},
     "output_type": "execute_result"
    }
   ],
   "source": [
    "function f(x)\n",
    "    return x^2\n",
    "end\n",
    "\n",
    "f(42)"
   ]
  },
  {
   "cell_type": "markdown",
   "id": "74a8867f",
   "metadata": {},
   "source": [
    "**Single line function definitions**\n",
    "\n",
    "Alternatively, we could have spared a few lines of code and written:"
   ]
  },
  {
   "cell_type": "code",
   "execution_count": 55,
   "id": "1b1c46d0",
   "metadata": {},
   "outputs": [
    {
     "data": {
      "text/plain": [
       "sayhi2 (generic function with 1 method)"
      ]
     },
     "execution_count": 55,
     "metadata": {},
     "output_type": "execute_result"
    }
   ],
   "source": [
    "sayhi2(name) = println(\"Hi $name, nice to meet you!\")"
   ]
  },
  {
   "cell_type": "code",
   "execution_count": 56,
   "id": "748a971c",
   "metadata": {},
   "outputs": [
    {
     "data": {
      "text/plain": [
       "f2 (generic function with 1 method)"
      ]
     },
     "execution_count": 56,
     "metadata": {},
     "output_type": "execute_result"
    }
   ],
   "source": [
    "f2(x) = x^2"
   ]
  },
  {
   "cell_type": "markdown",
   "id": "0fc5160b",
   "metadata": {},
   "source": [
    "**Anonymous functions**\n",
    "\n",
    "Or we could have declared them as \"anonymous\" functions as\n"
   ]
  },
  {
   "cell_type": "code",
   "execution_count": 57,
   "id": "e57e2cda",
   "metadata": {},
   "outputs": [
    {
     "data": {
      "text/plain": [
       "#5 (generic function with 1 method)"
      ]
     },
     "execution_count": 57,
     "metadata": {},
     "output_type": "execute_result"
    }
   ],
   "source": [
    "sayhi3 = name -> println(\"Hi $name, nice to meet you!\")"
   ]
  },
  {
   "cell_type": "code",
   "execution_count": 58,
   "id": "7d4c9599",
   "metadata": {},
   "outputs": [
    {
     "data": {
      "text/plain": [
       "#7 (generic function with 1 method)"
      ]
     },
     "execution_count": 58,
     "metadata": {},
     "output_type": "execute_result"
    }
   ],
   "source": [
    "f3 = x -> x^2"
   ]
  },
  {
   "cell_type": "markdown",
   "id": "6dd6f93d",
   "metadata": {},
   "source": [
    "**Duck-typing in Julia**\n",
    "\n",
    "*If it quacks like a duck, it's a duck.*\n",
    "\n",
    "- Julia functions will just work on whatever input makes sense. \n",
    "- For example, sayhi works also with the name written as an integer:\n"
   ]
  },
  {
   "cell_type": "code",
   "execution_count": 59,
   "id": "27548b4d",
   "metadata": {},
   "outputs": [
    {
     "name": "stdout",
     "output_type": "stream",
     "text": [
      "Hi 55595472, nice to meet you!\n"
     ]
    }
   ],
   "source": [
    "sayhi(55595472)"
   ]
  },
  {
   "cell_type": "markdown",
   "id": "7f6b645f",
   "metadata": {},
   "source": [
    "And ```f``` will work on a matrix:"
   ]
  },
  {
   "cell_type": "code",
   "execution_count": 60,
   "id": "7959f1ac",
   "metadata": {},
   "outputs": [
    {
     "data": {
      "text/plain": [
       "3×3 Matrix{Float64}:\n",
       " 0.359929  0.276443  0.443073\n",
       " 0.257346  0.33424   0.95638\n",
       " 0.077483  0.951192  0.891265"
      ]
     },
     "execution_count": 60,
     "metadata": {},
     "output_type": "execute_result"
    }
   ],
   "source": [
    "A = rand(3,3)\n",
    "A"
   ]
  },
  {
   "cell_type": "code",
   "execution_count": 61,
   "id": "fc974315",
   "metadata": {},
   "outputs": [
    {
     "data": {
      "text/plain": [
       "3×3 Matrix{Float64}:\n",
       " 0.235021  0.613346  0.818755\n",
       " 0.252744  1.09256   1.28607\n",
       " 0.341731  1.18711   1.73839"
      ]
     },
     "execution_count": 61,
     "metadata": {},
     "output_type": "execute_result"
    }
   ],
   "source": [
    "f(A)"
   ]
  },
  {
   "cell_type": "markdown",
   "id": "e16ba55c",
   "metadata": {},
   "source": [
    "**Mutating vs. non-mutating functions**\n",
    "\n",
    "- By convention, functions followed by ```!``` alter their contents and functions lacking ! do not.\n",
    "\n",
    "- For example, let's look at the difference between sort and sort!.\n"
   ]
  },
  {
   "cell_type": "code",
   "execution_count": 62,
   "id": "0322b3f6",
   "metadata": {},
   "outputs": [
    {
     "data": {
      "text/plain": [
       "3-element Vector{Int64}:\n",
       " 3\n",
       " 5\n",
       " 2"
      ]
     },
     "execution_count": 62,
     "metadata": {},
     "output_type": "execute_result"
    }
   ],
   "source": [
    "v = [3,5,2]"
   ]
  },
  {
   "cell_type": "code",
   "execution_count": 63,
   "id": "4e48ae03",
   "metadata": {},
   "outputs": [
    {
     "data": {
      "text/plain": [
       "3-element Vector{Int64}:\n",
       " 2\n",
       " 3\n",
       " 5"
      ]
     },
     "execution_count": 63,
     "metadata": {},
     "output_type": "execute_result"
    }
   ],
   "source": [
    "sort(v)"
   ]
  },
  {
   "cell_type": "code",
   "execution_count": 64,
   "id": "8aba2b59",
   "metadata": {},
   "outputs": [
    {
     "data": {
      "text/plain": [
       "3-element Vector{Int64}:\n",
       " 3\n",
       " 5\n",
       " 2"
      ]
     },
     "execution_count": 64,
     "metadata": {},
     "output_type": "execute_result"
    }
   ],
   "source": [
    "v"
   ]
  },
  {
   "cell_type": "markdown",
   "id": "3eb27938",
   "metadata": {},
   "source": [
    "- ```sort(v)``` returns a sorted array that contains the same elements as ```v```, but ```v``` is left unchanged.\n",
    "\n",
    "- On the other hand, when we run ```sort!(v)``` the content of ```v``` is really modified.\n"
   ]
  },
  {
   "cell_type": "code",
   "execution_count": 65,
   "id": "fb8c97c1",
   "metadata": {},
   "outputs": [
    {
     "data": {
      "text/plain": [
       "3-element Vector{Int64}:\n",
       " 2\n",
       " 3\n",
       " 5"
      ]
     },
     "execution_count": 65,
     "metadata": {},
     "output_type": "execute_result"
    }
   ],
   "source": [
    "sort!(v)"
   ]
  },
  {
   "cell_type": "code",
   "execution_count": 66,
   "id": "4dbcd064",
   "metadata": {},
   "outputs": [
    {
     "data": {
      "text/plain": [
       "3-element Vector{Int64}:\n",
       " 2\n",
       " 3\n",
       " 5"
      ]
     },
     "execution_count": 66,
     "metadata": {},
     "output_type": "execute_result"
    }
   ],
   "source": [
    "v"
   ]
  },
  {
   "cell_type": "markdown",
   "id": "61ca897f",
   "metadata": {},
   "source": [
    "#### Some higher-order functions: ```map```"
   ]
  },
  {
   "cell_type": "markdown",
   "id": "41493224",
   "metadata": {},
   "source": [
    "- ```map``` is a \"higher-order\" function in Julia that takes a function as one of its input arguments. \n",
    "- ```map``` then applies that function to every element of the data structure you pass.\n",
    "\n",
    "For example\n",
    "\n",
    "```map(f, [1,2,3])```\n",
    "\n",
    "will correspond to\n",
    "\n",
    "```[f(1), f(2), f(3)]```\n",
    "\n"
   ]
  },
  {
   "cell_type": "markdown",
   "id": "d1ac952c",
   "metadata": {},
   "source": [
    "#### Some higher-order functions: ```broadcast```\n"
   ]
  },
  {
   "cell_type": "markdown",
   "id": "92164da5",
   "metadata": {},
   "source": [
    "- ```broadcast``` is another higher-order function like ```map```. ```broadcast``` is actually a generalization, so it can do what map but also more!\n",
    "\n",
    "- Syntax is the same\n",
    "\n",
    "```broadcast(f, [1,2,3])```\n",
    "\n",
    "And so we have again applied f (squared) to all elements of [1,2,3]."
   ]
  },
  {
   "cell_type": "markdown",
   "id": "a6420b58",
   "metadata": {},
   "source": [
    "#### Broadcasting (or vectorizing)"
   ]
  },
  {
   "cell_type": "markdown",
   "id": "2e68d218",
   "metadata": {},
   "source": [
    "Some syntactic sugar for calling ```broadcast``` is to place ```.``` between the name of the function you want to broadcast and its input arguments.\n",
    "\n",
    "For example\n",
    "\n",
    "```broadcast(f, [1,2,3])```\n",
    "\n",
    "is the same as\n",
    "\n",
    "```f.([1,2,3])```\n",
    "\n",
    "Note that this is not the same as ```f([1,2,3])``` because we can not square a vector!\n",
    "\n",
    "Let's try broadcasting for a matrix ```A```:\n"
   ]
  },
  {
   "cell_type": "code",
   "execution_count": 67,
   "id": "26ea2101",
   "metadata": {},
   "outputs": [
    {
     "data": {
      "text/plain": [
       "3×3 Matrix{Int64}:\n",
       " 1  2  3\n",
       " 4  5  6\n",
       " 7  8  9"
      ]
     },
     "execution_count": 67,
     "metadata": {},
     "output_type": "execute_result"
    }
   ],
   "source": [
    "A = [i + 3j for j in 0:2, i in 1:3]"
   ]
  },
  {
   "cell_type": "code",
   "execution_count": 68,
   "id": "4285e9eb",
   "metadata": {},
   "outputs": [
    {
     "data": {
      "text/plain": [
       "3×3 Matrix{Int64}:\n",
       "  30   36   42\n",
       "  66   81   96\n",
       " 102  126  150"
      ]
     },
     "execution_count": 68,
     "metadata": {},
     "output_type": "execute_result"
    }
   ],
   "source": [
    "f(A)"
   ]
  },
  {
   "cell_type": "code",
   "execution_count": 69,
   "id": "b380c909",
   "metadata": {},
   "outputs": [
    {
     "data": {
      "text/plain": [
       "3×3 Matrix{Int64}:\n",
       "  1   4   9\n",
       " 16  25  36\n",
       " 49  64  81"
      ]
     },
     "execution_count": 69,
     "metadata": {},
     "output_type": "execute_result"
    }
   ],
   "source": [
    "B = f.(A)"
   ]
  },
  {
   "cell_type": "markdown",
   "id": "334e4b3e",
   "metadata": {},
   "source": [
    "#### Dot syntax for vectorization"
   ]
  },
  {
   "cell_type": "markdown",
   "id": "85324b31",
   "metadata": {},
   "source": [
    "The dot syntax allows to write complex compound elementwise expressions in a way that looks natural/closer to mathematical notation.\n",
    "\n",
    "For example:"
   ]
  },
  {
   "cell_type": "code",
   "execution_count": 70,
   "id": "32a6f53d",
   "metadata": {},
   "outputs": [
    {
     "data": {
      "text/plain": [
       "3×3 Matrix{Float64}:\n",
       "  3.0   6.0   9.0\n",
       " 12.0  15.0  18.0\n",
       " 21.0  24.0  27.0"
      ]
     },
     "execution_count": 70,
     "metadata": {},
     "output_type": "execute_result"
    }
   ],
   "source": [
    "A + 2 .* f.(A) ./ A"
   ]
  },
  {
   "cell_type": "markdown",
   "id": "1a6c271f",
   "metadata": {},
   "source": [
    "Instead of the more nasty looking version with broadcast as"
   ]
  },
  {
   "cell_type": "code",
   "execution_count": 71,
   "id": "bda4c7a1",
   "metadata": {},
   "outputs": [
    {
     "data": {
      "text/plain": [
       "3×3 Matrix{Float64}:\n",
       "  3.0   6.0   9.0\n",
       " 12.0  15.0  18.0\n",
       " 21.0  24.0  27.0"
      ]
     },
     "execution_count": 71,
     "metadata": {},
     "output_type": "execute_result"
    }
   ],
   "source": [
    "broadcast(x-> x + 2 * f(x) / x, A) "
   ]
  },
  {
   "cell_type": "markdown",
   "id": "5dcb363f",
   "metadata": {},
   "source": [
    "### Navigating Julia"
   ]
  },
  {
   "cell_type": "markdown",
   "id": "bcf1a35f",
   "metadata": {},
   "source": [
    "Julia has a package manager to quickly download, install, update and uninstall new tools (packages)"
   ]
  },
  {
   "cell_type": "code",
   "execution_count": 72,
   "id": "2d0e28c8",
   "metadata": {},
   "outputs": [
    {
     "ename": "LoadError",
     "evalue": "InterruptException:",
     "output_type": "error",
     "traceback": [
      "InterruptException:",
      "",
      "Stacktrace:",
      " [1] add(pkgs::Vector{Pkg.Types.PackageSpec})",
      "   @ Pkg.API /Applications/Julia-1.8.app/Contents/Resources/julia/share/julia/stdlib/v1.8/Pkg/src/API.jl:145",
      " [2] #add#27",
      "   @ /Applications/Julia-1.8.app/Contents/Resources/julia/share/julia/stdlib/v1.8/Pkg/src/API.jl:144 [inlined]",
      " [3] add",
      "   @ /Applications/Julia-1.8.app/Contents/Resources/julia/share/julia/stdlib/v1.8/Pkg/src/API.jl:144 [inlined]",
      " [4] #add#26",
      "   @ /Applications/Julia-1.8.app/Contents/Resources/julia/share/julia/stdlib/v1.8/Pkg/src/API.jl:143 [inlined]",
      " [5] add(pkg::String)",
      "   @ Pkg.API /Applications/Julia-1.8.app/Contents/Resources/julia/share/julia/stdlib/v1.8/Pkg/src/API.jl:143"
     ]
    }
   ],
   "source": [
    "using Pkg\n",
    "# Add Packages Plots, and Pyplot (can take some time)\n",
    "Pkg.add(\"Plots\")\n",
    "Pkg.add(\"PyPlot\")\n",
    "# Update\n",
    "Pkg.update()\n",
    "#Remove:\n",
    "# Pkg.rm(\"PyPlot\")"
   ]
  },
  {
   "cell_type": "markdown",
   "id": "c6727d98",
   "metadata": {},
   "source": [
    "Use ? to get the documentation of a function:"
   ]
  },
  {
   "cell_type": "code",
   "execution_count": 73,
   "id": "69034433",
   "metadata": {},
   "outputs": [
    {
     "name": "stdout",
     "output_type": "stream",
     "text": [
      "search: w\u001b[0m\u001b[1me\u001b[22m\u001b[0m\u001b[1mi\u001b[22m\u001b[0m\u001b[1mg\u001b[22mhted_color_mean sav\u001b[0m\u001b[1me\u001b[22mf\u001b[0m\u001b[1mi\u001b[22m\u001b[0m\u001b[1mg\u001b[22m l\u001b[0m\u001b[1me\u001b[22mad\u001b[0m\u001b[1mi\u001b[22mn\u001b[0m\u001b[1mg\u001b[22m_ones l\u001b[0m\u001b[1me\u001b[22mad\u001b[0m\u001b[1mi\u001b[22mn\u001b[0m\u001b[1mg\u001b[22m_zeros disabl\u001b[0m\u001b[1me\u001b[22m_s\u001b[0m\u001b[1mi\u001b[22m\u001b[0m\u001b[1mg\u001b[22mint\n",
      "\n",
      "Couldn't find \u001b[36meig\u001b[39m\n",
      "Perhaps you meant big, ceil, reim, edit, exit, eof, eps, esc, exp, end or pie\n"
     ]
    },
    {
     "data": {
      "text/latex": [
       "No documentation found.\n",
       "\n",
       "Binding \\texttt{eig} does not exist.\n",
       "\n"
      ],
      "text/markdown": [
       "No documentation found.\n",
       "\n",
       "Binding `eig` does not exist.\n"
      ],
      "text/plain": [
       "  No documentation found.\n",
       "\n",
       "  Binding \u001b[36meig\u001b[39m does not exist."
      ]
     },
     "execution_count": 73,
     "metadata": {},
     "output_type": "execute_result"
    }
   ],
   "source": [
    "?eig"
   ]
  },
  {
   "cell_type": "markdown",
   "id": "363a4e59",
   "metadata": {},
   "source": [
    "Use tab-completion to auto-complete functions and variables names: try myF<TAB>:"
   ]
  },
  {
   "cell_type": "code",
   "execution_count": null,
   "id": "8f53f84d",
   "metadata": {},
   "outputs": [],
   "source": [
    "myFunction\n",
    "factorial"
   ]
  },
  {
   "cell_type": "markdown",
   "id": "795b1cb6",
   "metadata": {},
   "source": [
    "The ```methods``` function lists all of the different implementations of a function depending on the input types. Click on the link to see the Julia source code."
   ]
  },
  {
   "cell_type": "code",
   "execution_count": 74,
   "id": "fb69c52c",
   "metadata": {},
   "outputs": [
    {
     "data": {
      "text/html": [
       "# 19 methods for generic function <b>sin</b>:<ul><li> sin(x::<b>T</b>)<i> where T<:Union{Float32, Float64}</i> in Base.Math at <a href=\"https://github.com/JuliaLang/julia/tree/36034abf26062acad4af9dcec7c4fc53b260dbb4/base/special/trig.jl#L29\" target=\"_blank\">special/trig.jl:29</a></li> <li> sin(c::<b>AbstractGray</b>) in ColorVectorSpace at <a href=\"file:///Users/carsten/.julia/packages/ColorVectorSpace/tLy1N/src/ColorVectorSpace.jl\" target=\"_blank\">/Users/carsten/.julia/packages/ColorVectorSpace/tLy1N/src/ColorVectorSpace.jl:303</a></li> <li> sin(J::<b>LinearAlgebra.UniformScaling</b>) in LinearAlgebra at <a href=\"file:///Users/julia/.julia/scratchspaces/a66863c6-20e8-4ff4-8a62-49f30b1f605e/agent-cache/default-macmini-x64-6.0/build/default-macmini-x64-6-0/julialang/julia-release-1-dot-8/usr/share/julia/stdlib/v1.8/LinearAlgebra/src/uniformscaling.jl\" target=\"_blank\">/Applications/Julia-1.8.app/Contents/Resources/julia/share/julia/stdlib/v1.8/LinearAlgebra/src/uniformscaling.jl:173</a></li> <li> sin(D::<b>LinearAlgebra.Diagonal</b>) in LinearAlgebra at <a href=\"file:///Users/julia/.julia/scratchspaces/a66863c6-20e8-4ff4-8a62-49f30b1f605e/agent-cache/default-macmini-x64-6.0/build/default-macmini-x64-6-0/julialang/julia-release-1-dot-8/usr/share/julia/stdlib/v1.8/LinearAlgebra/src/diagonal.jl\" target=\"_blank\">/Applications/Julia-1.8.app/Contents/Resources/julia/share/julia/stdlib/v1.8/LinearAlgebra/src/diagonal.jl:674</a></li> <li> sin(A::<b>LinearAlgebra.Hermitian{var\"#s884\", S} where {var\"#s884\"<:Complex, S<:(AbstractMatrix{<:var\"#s884\"})}</b>) in LinearAlgebra at <a href=\"file:///Users/julia/.julia/scratchspaces/a66863c6-20e8-4ff4-8a62-49f30b1f605e/agent-cache/default-macmini-x64-6.0/build/default-macmini-x64-6-0/julialang/julia-release-1-dot-8/usr/share/julia/stdlib/v1.8/LinearAlgebra/src/symmetric.jl\" target=\"_blank\">/Applications/Julia-1.8.app/Contents/Resources/julia/share/julia/stdlib/v1.8/LinearAlgebra/src/symmetric.jl:731</a></li> <li> sin(A::<b>Union{LinearAlgebra.Hermitian{var\"#s885\", S}, LinearAlgebra.Symmetric{var\"#s885\", S}} where {var\"#s885\"<:Real, S}</b>) in LinearAlgebra at <a href=\"file:///Users/julia/.julia/scratchspaces/a66863c6-20e8-4ff4-8a62-49f30b1f605e/agent-cache/default-macmini-x64-6.0/build/default-macmini-x64-6-0/julialang/julia-release-1-dot-8/usr/share/julia/stdlib/v1.8/LinearAlgebra/src/symmetric.jl\" target=\"_blank\">/Applications/Julia-1.8.app/Contents/Resources/julia/share/julia/stdlib/v1.8/LinearAlgebra/src/symmetric.jl:727</a></li> <li> sin(A::<b>AbstractMatrix{<:Real}</b>) in LinearAlgebra at <a href=\"file:///Users/julia/.julia/scratchspaces/a66863c6-20e8-4ff4-8a62-49f30b1f605e/agent-cache/default-macmini-x64-6.0/build/default-macmini-x64-6-0/julialang/julia-release-1-dot-8/usr/share/julia/stdlib/v1.8/LinearAlgebra/src/dense.jl\" target=\"_blank\">/Applications/Julia-1.8.app/Contents/Resources/julia/share/julia/stdlib/v1.8/LinearAlgebra/src/dense.jl:948</a></li> <li> sin(A::<b>AbstractMatrix{<:Complex}</b>) in LinearAlgebra at <a href=\"file:///Users/julia/.julia/scratchspaces/a66863c6-20e8-4ff4-8a62-49f30b1f605e/agent-cache/default-macmini-x64-6.0/build/default-macmini-x64-6-0/julialang/julia-release-1-dot-8/usr/share/julia/stdlib/v1.8/LinearAlgebra/src/dense.jl\" target=\"_blank\">/Applications/Julia-1.8.app/Contents/Resources/julia/share/julia/stdlib/v1.8/LinearAlgebra/src/dense.jl:955</a></li> <li> sin(x::<b>BigFloat</b>) in Base.MPFR at <a href=\"https://github.com/JuliaLang/julia/tree/36034abf26062acad4af9dcec7c4fc53b260dbb4/base/mpfr.jl#L750\" target=\"_blank\">mpfr.jl:750</a></li> <li> sin(::<b>IrrationalConstants.Halfπ</b>) in IrrationalConstants at <a href=\"file:///Users/carsten/.julia/packages/IrrationalConstants/vp5v4/src/trigonometric.jl\" target=\"_blank\">/Users/carsten/.julia/packages/IrrationalConstants/vp5v4/src/trigonometric.jl:10</a></li> <li> sin(::<b>IrrationalConstants.Twoπ</b>) in IrrationalConstants at <a href=\"file:///Users/carsten/.julia/packages/IrrationalConstants/vp5v4/src/trigonometric.jl\" target=\"_blank\">/Users/carsten/.julia/packages/IrrationalConstants/vp5v4/src/trigonometric.jl:8</a></li> <li> sin(a::<b>ComplexF16</b>) in Base.Math at <a href=\"https://github.com/JuliaLang/julia/tree/36034abf26062acad4af9dcec7c4fc53b260dbb4/base/math.jl#L1353\" target=\"_blank\">math.jl:1353</a></li> <li> sin(z::<b>Complex{T}</b>)<i> where T</i> in Base at <a href=\"https://github.com/JuliaLang/julia/tree/36034abf26062acad4af9dcec7c4fc53b260dbb4/base/complex.jl#L873\" target=\"_blank\">complex.jl:873</a></li> <li> sin(::<b>IrrationalConstants.Quartπ</b>) in IrrationalConstants at <a href=\"file:///Users/carsten/.julia/packages/IrrationalConstants/vp5v4/src/trigonometric.jl\" target=\"_blank\">/Users/carsten/.julia/packages/IrrationalConstants/vp5v4/src/trigonometric.jl:11</a></li> <li> sin(::<b>IrrationalConstants.Fourπ</b>) in IrrationalConstants at <a href=\"file:///Users/carsten/.julia/packages/IrrationalConstants/vp5v4/src/trigonometric.jl\" target=\"_blank\">/Users/carsten/.julia/packages/IrrationalConstants/vp5v4/src/trigonometric.jl:9</a></li> <li> sin(a::<b>Float16</b>) in Base.Math at <a href=\"https://github.com/JuliaLang/julia/tree/36034abf26062acad4af9dcec7c4fc53b260dbb4/base/math.jl#L1352\" target=\"_blank\">math.jl:1352</a></li> <li> sin(::<b>Irrational{:π}</b>) in Base.MathConstants at <a href=\"https://github.com/JuliaLang/julia/tree/36034abf26062acad4af9dcec7c4fc53b260dbb4/base/mathconstants.jl#L126\" target=\"_blank\">mathconstants.jl:126</a></li> <li> sin(x::<b>Real</b>) in Base.Math at <a href=\"https://github.com/JuliaLang/julia/tree/36034abf26062acad4af9dcec7c4fc53b260dbb4/base/math.jl#L1369\" target=\"_blank\">math.jl:1369</a></li> <li> sin(::<b>Missing</b>) in Base.Math at <a href=\"https://github.com/JuliaLang/julia/tree/36034abf26062acad4af9dcec7c4fc53b260dbb4/base/math.jl#L1374\" target=\"_blank\">math.jl:1374</a></li> </ul>"
      ],
      "text/plain": [
       "# 19 methods for generic function \"sin\":\n",
       "[1] sin(x::T) where T<:Union{Float32, Float64} in Base.Math at special/trig.jl:29\n",
       "[2] sin(c::AbstractGray) in ColorVectorSpace at /Users/carsten/.julia/packages/ColorVectorSpace/tLy1N/src/ColorVectorSpace.jl:303\n",
       "[3] sin(J::LinearAlgebra.UniformScaling) in LinearAlgebra at /Applications/Julia-1.8.app/Contents/Resources/julia/share/julia/stdlib/v1.8/LinearAlgebra/src/uniformscaling.jl:173\n",
       "[4] sin(D::LinearAlgebra.Diagonal) in LinearAlgebra at /Applications/Julia-1.8.app/Contents/Resources/julia/share/julia/stdlib/v1.8/LinearAlgebra/src/diagonal.jl:674\n",
       "[5] sin(A::LinearAlgebra.Hermitian{var\"#s884\", S} where {var\"#s884\"<:Complex, S<:(AbstractMatrix{<:var\"#s884\"})}) in LinearAlgebra at /Applications/Julia-1.8.app/Contents/Resources/julia/share/julia/stdlib/v1.8/LinearAlgebra/src/symmetric.jl:731\n",
       "[6] sin(A::Union{LinearAlgebra.Hermitian{var\"#s885\", S}, LinearAlgebra.Symmetric{var\"#s885\", S}} where {var\"#s885\"<:Real, S}) in LinearAlgebra at /Applications/Julia-1.8.app/Contents/Resources/julia/share/julia/stdlib/v1.8/LinearAlgebra/src/symmetric.jl:727\n",
       "[7] sin(A::AbstractMatrix{<:Real}) in LinearAlgebra at /Applications/Julia-1.8.app/Contents/Resources/julia/share/julia/stdlib/v1.8/LinearAlgebra/src/dense.jl:948\n",
       "[8] sin(A::AbstractMatrix{<:Complex}) in LinearAlgebra at /Applications/Julia-1.8.app/Contents/Resources/julia/share/julia/stdlib/v1.8/LinearAlgebra/src/dense.jl:955\n",
       "[9] sin(x::BigFloat) in Base.MPFR at mpfr.jl:750\n",
       "[10] sin(::IrrationalConstants.Halfπ) in IrrationalConstants at /Users/carsten/.julia/packages/IrrationalConstants/vp5v4/src/trigonometric.jl:10\n",
       "[11] sin(::IrrationalConstants.Twoπ) in IrrationalConstants at /Users/carsten/.julia/packages/IrrationalConstants/vp5v4/src/trigonometric.jl:8\n",
       "[12] sin(a::ComplexF16) in Base.Math at math.jl:1353\n",
       "[13] sin(z::Complex{T}) where T in Base at complex.jl:873\n",
       "[14] sin(::IrrationalConstants.Quartπ) in IrrationalConstants at /Users/carsten/.julia/packages/IrrationalConstants/vp5v4/src/trigonometric.jl:11\n",
       "[15] sin(::IrrationalConstants.Fourπ) in IrrationalConstants at /Users/carsten/.julia/packages/IrrationalConstants/vp5v4/src/trigonometric.jl:9\n",
       "[16] sin(a::Float16) in Base.Math at math.jl:1352\n",
       "[17] sin(::Irrational{:π}) in Base.MathConstants at mathconstants.jl:126\n",
       "[18] sin(x::Real) in Base.Math at math.jl:1369\n",
       "[19] sin(::Missing) in Base.Math at math.jl:1374"
      ]
     },
     "execution_count": 74,
     "metadata": {},
     "output_type": "execute_result"
    }
   ],
   "source": [
    "methods(sin)"
   ]
  },
  {
   "cell_type": "markdown",
   "id": "15270cef",
   "metadata": {},
   "source": [
    "### Plotting in IJulia(Jupyter)"
   ]
  },
  {
   "cell_type": "markdown",
   "id": "5ff22346",
   "metadata": {},
   "source": [
    "There are several Julia plotting packages.\n",
    "\n",
    "- ```PyPlot.jl``` is a Julia interface to Matplotlib, and should feel familiar to both MATLAB and Python users.\n",
    "- ```Gadfly``` is written entirely in Julia, inspired by ggplot2, and concentrates on statistical graphics.\n",
    "- ```Plotly``` supports Julia.\n",
    "- ```Plots``` is a meta plotting package, that can use any other plotting package to make the same plot\n",
    "And a lot more\n",
    "\n",
    "Jupyter/IJulia will render the plots directly on the notebook!"
   ]
  },
  {
   "cell_type": "code",
   "execution_count": 75,
   "id": "e3fa95c8",
   "metadata": {},
   "outputs": [
    {
     "ename": "LoadError",
     "evalue": "MethodError: no method matching sin(::Vector{Float64})\n\u001b[0mClosest candidates are:\n\u001b[0m  sin(\u001b[91m::T\u001b[39m) where T<:Union{Float32, Float64} at special/trig.jl:29\n\u001b[0m  sin(\u001b[91m::AbstractGray\u001b[39m) at ~/.julia/packages/ColorVectorSpace/tLy1N/src/ColorVectorSpace.jl:303\n\u001b[0m  sin(\u001b[91m::LinearAlgebra.UniformScaling\u001b[39m) at /Applications/Julia-1.8.app/Contents/Resources/julia/share/julia/stdlib/v1.8/LinearAlgebra/src/uniformscaling.jl:173\n\u001b[0m  ...",
     "output_type": "error",
     "traceback": [
      "MethodError: no method matching sin(::Vector{Float64})\n\u001b[0mClosest candidates are:\n\u001b[0m  sin(\u001b[91m::T\u001b[39m) where T<:Union{Float32, Float64} at special/trig.jl:29\n\u001b[0m  sin(\u001b[91m::AbstractGray\u001b[39m) at ~/.julia/packages/ColorVectorSpace/tLy1N/src/ColorVectorSpace.jl:303\n\u001b[0m  sin(\u001b[91m::LinearAlgebra.UniformScaling\u001b[39m) at /Applications/Julia-1.8.app/Contents/Resources/julia/share/julia/stdlib/v1.8/LinearAlgebra/src/uniformscaling.jl:173\n\u001b[0m  ...",
      "",
      "Stacktrace:",
      " [1] top-level scope",
      "   @ In[75]:4"
     ]
    }
   ],
   "source": [
    "using Plots\n",
    "pyplot() #plot using Matplotlib\n",
    "x = range(0,5,1000)\n",
    "plot(x, sin(x.^2))"
   ]
  },
  {
   "cell_type": "markdown",
   "id": "3a61496f",
   "metadata": {},
   "source": [
    "Note that the first plot while always take a few seconds to be drawn, a consequence of Julia's just in time compilation. Lots of other plot types are available."
   ]
  },
  {
   "cell_type": "markdown",
   "id": "cbccbb64",
   "metadata": {},
   "source": [
    "\n",
    "### Ecosystem\n",
    "\n",
    "- Julia has a large ecosystem of packages, maintained by a wide variety of people.\n",
    "\n",
    "- In the best of academic ideals, Julia users from across the world come together to create mutually compatible and supporting packages for their domains. \n",
    "- To manage these collections of packages they often use ```GitHub``` organisations\n"
   ]
  },
  {
   "cell_type": "markdown",
   "id": "22bc219f",
   "metadata": {},
   "source": [
    "#### Julia package ecosystem pulse"
   ]
  },
  {
   "cell_type": "markdown",
   "id": "219722df",
   "metadata": {},
   "source": [
    "![](Images/juliapackageecosystem.svg)"
   ]
  },
  {
   "cell_type": "markdown",
   "id": "f7c0e0c1",
   "metadata": {},
   "source": [
    "#### General\n",
    "\n",
    "- ```JuliaDocs``` – Documentation-related packages for Julia\n",
    "- ```Julia-i18n``` – Internationalization (i18n) and localization (L10n) for Julia\n",
    "- ```JuliaTime``` – Date and time libraries\n",
    "- ```JuliaPraxis``` – Best practices\n",
    "- ```JuliaEditorSupport``` – Extensions/Plugins for text editors and IDEs\n",
    "- ```Juno``` – The Juno IDE for Atom\n",
    "\n"
   ]
  },
  {
   "cell_type": "markdown",
   "id": "3cf97335",
   "metadata": {},
   "source": [
    "\n",
    "#### Computing\n",
    "\n",
    "- ```JuliaArrays``` – Custom array types (and utilities for building array types)\n",
    "- ```JuliaBerry``` – Julia resources for the Raspberry Pi\n",
    "- ```JuliaCI``` – Continuous Integration Support for Julia packages\n",
    "- ```JuliaGPU``` – GPU computing\n",
    "- ```JuliaInterop``` – Easy interoperability between Julia and not-Julia\n",
    "- ```JuliaIO``` – IO-related functionality, such as serialization\n",
    "- ```JuliaParallel``` – Parallel programming in Julia\n",
    "- ```JuliaWeb``` – Web stack\n",
    "\n"
   ]
  },
  {
   "cell_type": "markdown",
   "id": "eedecaa0",
   "metadata": {},
   "source": [
    "#### Mathematics\n",
    "\n",
    "- ```JuliaDiff``` – Differentiation tools\n",
    "- ```JuliaDiffEq``` – Differential equation solving and analysis\n",
    "- ```JuliaGeometry``` – Computational Geometry\n",
    "- ```JuliaGraphs``` – Graph Theory and Implementation\n",
    "- ```JuliaIntervals``` - Rigorous numerics with interval arithmetic & applications\n",
    "- ```JuliaMath``` – Mathematics made easy in Julia\n",
    "- ```JuliaOpt``` – Optimization\n",
    "- ```JuliaPolyhedra``` – Polyhedral computation\n",
    "- ```JuliaSparse``` – Sparse matrix solvers\n",
    "\n"
   ]
  },
  {
   "cell_type": "markdown",
   "id": "9d68410a",
   "metadata": {},
   "source": [
    "#### Scientific domains\n",
    "\n",
    "- ```BioJulia``` – Biology\n",
    "- ```EcoJulia``` – Ecology\n",
    "- ```JuliaAstro``` – Astronomy\n",
    "- ```JuliaDSP``` – Digital signal processing\n",
    "- ```JuliaQuant``` – Finance\n",
    "- ```JuliaQuantum``` – Julia libraries for quantum science and technology\n",
    "- ```JuliaPhysics``` – Physics\n",
    "- ```JuliaDynamics``` - Dynamical systems, nonlinear dynamics and chaos.\n",
    "\n"
   ]
  },
  {
   "cell_type": "markdown",
   "id": "21c33e46",
   "metadata": {},
   "source": [
    "#### Data sciences\n",
    "\n",
    "- ```JuliaML``` – Machine Learning\n",
    "- ```JuliaStats``` – Statistics\n",
    "- ```JuliaImages``` – Image Processing\n",
    "- ```JuliaText``` – Natural Language Processing (NLP), Computational Linguistics and (textual) Information Retrieval\n",
    "- ```JuliaDatabases``` – Various database drivers for Julia\n",
    "- ```JuliaData``` – Data manipulation, storage, and I/O in Julia\n",
    "\n"
   ]
  },
  {
   "cell_type": "markdown",
   "id": "315bec9c",
   "metadata": {},
   "source": [
    "### Writing fast code"
   ]
  },
  {
   "cell_type": "markdown",
   "id": "13e7f636",
   "metadata": {},
   "source": [
    "#### Type instability"
   ]
  },
  {
   "cell_type": "code",
   "execution_count": 77,
   "id": "e7b520d3",
   "metadata": {},
   "outputs": [
    {
     "data": {
      "text/plain": [
       "pos (generic function with 1 method)"
      ]
     },
     "execution_count": 77,
     "metadata": {},
     "output_type": "execute_result"
    }
   ],
   "source": [
    "function pos(x)\n",
    "    if x < 0\n",
    "        return 0\n",
    "    else\n",
    "        return x\n",
    "    end\n",
    "end"
   ]
  },
  {
   "cell_type": "code",
   "execution_count": 78,
   "id": "9cdf6d04",
   "metadata": {},
   "outputs": [
    {
     "data": {
      "text/plain": [
       "1.5"
      ]
     },
     "execution_count": 78,
     "metadata": {},
     "output_type": "execute_result"
    }
   ],
   "source": [
    "pos(1.5)"
   ]
  },
  {
   "cell_type": "code",
   "execution_count": 79,
   "id": "5ff0e8e1",
   "metadata": {},
   "outputs": [
    {
     "data": {
      "text/plain": [
       "0"
      ]
     },
     "execution_count": 79,
     "metadata": {},
     "output_type": "execute_result"
    }
   ],
   "source": [
    "pos(-2.5)"
   ]
  },
  {
   "cell_type": "code",
   "execution_count": 80,
   "id": "2ef0ef26",
   "metadata": {},
   "outputs": [
    {
     "data": {
      "text/plain": [
       "Float64"
      ]
     },
     "execution_count": 80,
     "metadata": {},
     "output_type": "execute_result"
    }
   ],
   "source": [
    "typeof(pos(1.5))"
   ]
  },
  {
   "cell_type": "code",
   "execution_count": 81,
   "id": "a26571d2",
   "metadata": {},
   "outputs": [
    {
     "data": {
      "text/plain": [
       "Int64"
      ]
     },
     "execution_count": 81,
     "metadata": {},
     "output_type": "execute_result"
    }
   ],
   "source": [
    "typeof(pos(-2.5))"
   ]
  },
  {
   "cell_type": "markdown",
   "id": "99893b92",
   "metadata": {},
   "source": [
    "![](Images/uhoh.png)"
   ]
  },
  {
   "cell_type": "markdown",
   "id": "192b371f",
   "metadata": {},
   "source": [
    "- Historically important perfomance issue.\n",
    "- Since version 1.0 compiler can handle simple cases of type instabilities."
   ]
  },
  {
   "cell_type": "code",
   "execution_count": 82,
   "id": "e291e04c",
   "metadata": {},
   "outputs": [
    {
     "data": {
      "text/plain": [
       "pos_fixed (generic function with 1 method)"
      ]
     },
     "execution_count": 82,
     "metadata": {},
     "output_type": "execute_result"
    }
   ],
   "source": [
    "function pos_fixed(x)\n",
    "    if x < 0\n",
    "        return zero(x)\n",
    "    else\n",
    "        return x\n",
    "    end\n",
    "end"
   ]
  },
  {
   "cell_type": "code",
   "execution_count": 83,
   "id": "fd72ea20",
   "metadata": {},
   "outputs": [
    {
     "data": {
      "text/plain": [
       "Float64"
      ]
     },
     "execution_count": 83,
     "metadata": {},
     "output_type": "execute_result"
    }
   ],
   "source": [
    "typeof(pos_fixed(-2.5))"
   ]
  },
  {
   "cell_type": "markdown",
   "id": "058ce878",
   "metadata": {},
   "source": [
    "Another example:"
   ]
  },
  {
   "cell_type": "code",
   "execution_count": null,
   "id": "5dc94f39",
   "metadata": {},
   "outputs": [],
   "source": [
    "function sumsqrt(n)\n",
    "    r = 0 \n",
    "    for i = 1:n\n",
    "        r = r + sqrt(i)\n",
    "    end\n",
    "    return r\n",
    "end"
   ]
  },
  {
   "cell_type": "markdown",
   "id": "b7e2ac3c",
   "metadata": {},
   "source": [
    "```r``` changes type within the loop (from int to float)"
   ]
  },
  {
   "cell_type": "markdown",
   "id": "1725acaa",
   "metadata": {},
   "source": [
    "#### Fast function calls"
   ]
  },
  {
   "cell_type": "markdown",
   "id": "11f96c15",
   "metadata": {},
   "source": [
    "- Rule of thumb: don't use **global variables**."
   ]
  },
  {
   "cell_type": "markdown",
   "id": "91bc5918",
   "metadata": {},
   "source": [
    "- Julia is fast because the compiler can make optimizations based on type inference.\n",
    "- A global variable can come from anywhere and the compiler can't do any inference at compile time."
   ]
  },
  {
   "cell_type": "code",
   "execution_count": 85,
   "id": "7a3bcdfc",
   "metadata": {},
   "outputs": [
    {
     "data": {
      "text/plain": [
       "pow_array (generic function with 1 method)"
      ]
     },
     "execution_count": 85,
     "metadata": {},
     "output_type": "execute_result"
    }
   ],
   "source": [
    "p = 2 # global variable\n",
    "\n",
    "function pow_array(x::Vector{Float64})\n",
    "    s = 0.0\n",
    "    for y in x\n",
    "        s = s + y^p\n",
    "    end\n",
    "    return s\n",
    "end\n"
   ]
  },
  {
   "cell_type": "code",
   "execution_count": 86,
   "id": "a6ce5790",
   "metadata": {},
   "outputs": [
    {
     "name": "stdout",
     "output_type": "stream",
     "text": [
      "  0.154807 seconds (30.03 k allocations: 469.969 KiB, 93.96% gc time, 5.39% compilation time)\n"
     ]
    },
    {
     "data": {
      "text/plain": [
       "3318.477989624753"
      ]
     },
     "execution_count": 86,
     "metadata": {},
     "output_type": "execute_result"
    }
   ],
   "source": [
    "t = rand(10000)\n",
    "\n",
    "@time pow_array(t)"
   ]
  },
  {
   "cell_type": "code",
   "execution_count": 88,
   "id": "7d140913",
   "metadata": {},
   "outputs": [
    {
     "data": {
      "text/plain": [
       "pow_array (generic function with 1 method)"
      ]
     },
     "execution_count": 88,
     "metadata": {},
     "output_type": "execute_result"
    }
   ],
   "source": [
    "const pfixed = 2 # const global variable\n",
    "\n",
    "function pow_array(x::Vector{Float64})\n",
    "    s = 0.0\n",
    "    for y in x\n",
    "        s = s + y^pfixed\n",
    "    end\n",
    "    return s\n",
    "end"
   ]
  },
  {
   "cell_type": "code",
   "execution_count": 89,
   "id": "a36a8776",
   "metadata": {},
   "outputs": [
    {
     "name": "stdout",
     "output_type": "stream",
     "text": [
      "  0.000181 seconds\n"
     ]
    },
    {
     "data": {
      "text/plain": [
       "3308.57984533142"
      ]
     },
     "execution_count": 89,
     "metadata": {},
     "output_type": "execute_result"
    }
   ],
   "source": [
    "t = rand(10000)\n",
    "\n",
    "@time pow_array(t)"
   ]
  },
  {
   "cell_type": "markdown",
   "id": "8d472017",
   "metadata": {},
   "source": [
    "#### The @fastmath macro"
   ]
  },
  {
   "cell_type": "markdown",
   "id": "d687d204",
   "metadata": {},
   "source": [
    "- All basic floating point arithmetics in Julia follow strict **IEEE 754** semantics.\n",
    "- Basic mathematical operations and functions are guaranteed to be accurate to within **1 ULP**.\n",
    "- However, algorithms do not always require the full precision of the IEEE rules, and demand higher performance.\n",
    "- In these situations, it is possible to trade some accuracy for performance."
   ]
  },
  {
   "cell_type": "code",
   "execution_count": 90,
   "id": "dadd5bf1",
   "metadata": {},
   "outputs": [
    {
     "data": {
      "text/plain": [
       "sum_diff (generic function with 1 method)"
      ]
     },
     "execution_count": 90,
     "metadata": {},
     "output_type": "execute_result"
    }
   ],
   "source": [
    "function sum_diff(x)\n",
    "    n = length(x)\n",
    "    d = 1 / (n - 1)\n",
    "    s = zero(eltype(x))\n",
    "    s = s + (x[2] - x[1]) / d\n",
    "    for i in 2:length(x) - 1\n",
    "        s = s + (x[i+1] - x[i]) / (2*d)\n",
    "    end\n",
    "    s = s + (x[n] - x[n-1]) / d\n",
    "end"
   ]
  },
  {
   "cell_type": "code",
   "execution_count": 91,
   "id": "bd4335b8",
   "metadata": {},
   "outputs": [
    {
     "data": {
      "text/plain": [
       "sum_diff_fast (generic function with 1 method)"
      ]
     },
     "execution_count": 91,
     "metadata": {},
     "output_type": "execute_result"
    }
   ],
   "source": [
    "function sum_diff_fast(x)\n",
    "    n = length(x)\n",
    "    d = 1 / (n - 1)\n",
    "    s = zero(eltype(x))\n",
    "    @fastmath s = s + (x[2] - x[1]) / d\n",
    "    @fastmath for i in 2:length(x) - 1\n",
    "        s = s + (x[i+1] - x[i]) / (2*d)\n",
    "    end\n",
    "    @fastmath s = s + (x[n] - x[n-1]) / d\n",
    "end"
   ]
  },
  {
   "cell_type": "code",
   "execution_count": 101,
   "id": "65be2df3",
   "metadata": {},
   "outputs": [
    {
     "name": "stdout",
     "output_type": "stream",
     "text": [
      "  0.016263 seconds (1 allocation: 16 bytes)\n"
     ]
    },
    {
     "data": {
      "text/plain": [
       "641078.6587498917"
      ]
     },
     "execution_count": 101,
     "metadata": {},
     "output_type": "execute_result"
    }
   ],
   "source": [
    "t = rand(2000000)\n",
    "\n",
    "@time sum_diff(t)"
   ]
  },
  {
   "cell_type": "code",
   "execution_count": 102,
   "id": "122d5918",
   "metadata": {},
   "outputs": [
    {
     "name": "stdout",
     "output_type": "stream",
     "text": [
      "  0.002038 seconds (1 allocation: 16 bytes)\n"
     ]
    },
    {
     "data": {
      "text/plain": [
       "641078.6587554562"
      ]
     },
     "execution_count": 102,
     "metadata": {},
     "output_type": "execute_result"
    }
   ],
   "source": [
    "@time sum_diff_fast(t)"
   ]
  },
  {
   "cell_type": "code",
   "execution_count": null,
   "id": "aeb424ef",
   "metadata": {},
   "outputs": [],
   "source": []
  }
 ],
 "metadata": {
  "kernelspec": {
   "display_name": "Julia 1.8.2",
   "language": "julia",
   "name": "julia-1.8"
  },
  "language_info": {
   "file_extension": ".jl",
   "mimetype": "application/julia",
   "name": "julia",
   "version": "1.8.2"
  }
 },
 "nbformat": 4,
 "nbformat_minor": 5
}
