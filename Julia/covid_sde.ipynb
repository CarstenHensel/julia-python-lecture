{
 "cells": [
  {
   "cell_type": "markdown",
   "id": "16be4a29",
   "metadata": {},
   "source": [
    "\n",
    "<a id='covid-sde'></a>"
   ]
  },
  {
   "cell_type": "markdown",
   "id": "6035158b",
   "metadata": {},
   "source": [
    "# Modeling Shocks in COVID 19 with Stochastic Differential Equations"
   ]
  },
  {
   "cell_type": "markdown",
   "id": "da5b8e2b",
   "metadata": {},
   "source": [
    "## Contents\n",
    "\n",
    "- [Modeling Shocks in COVID 19 with Stochastic Differential Equations](#Modeling-Shocks-in-COVID-19-with-Stochastic-Differential-Equations)  \n",
    "  - [Overview](#Overview)  \n",
    "  - [The Basic SIR/SIRD Model](#The-Basic-SIR/SIRD-Model)  \n",
    "  - [Introduction to SDEs](#Introduction-to-SDEs)  \n",
    "  - [Ending Lockdown](#Ending-Lockdown)  \n",
    "  - [Reinfection](#Reinfection)  "
   ]
  },
  {
   "cell_type": "markdown",
   "id": "204cb7b4",
   "metadata": {},
   "source": [
    "## Overview\n",
    "\n",
    "Coauthored with Chris Rackauckas\n",
    "\n",
    "This lecture continues the analyzing of the COVID-19 pandemic established in [this lecture](https://julia.quantecon.org/seir_model.html).\n",
    "\n",
    "As before, the model is inspired by\n",
    "\n",
    "- Notes from [Andrew Atkeson](https://sites.google.com/site/andyatkeson/) and [NBER Working Paper No. 26867](https://www.nber.org/papers/w26867)  \n",
    "- [Estimating and Forecasting Disease Scenarios for COVID-19 with an SIR Model](https://www.nber.org/papers/w27335) by Andrew Atkeson, Karen Kopecky and Tao Zha  \n",
    "- [Estimating and Simulating a SIRD Model of COVID-19 for Many Countries, States, and Cities](https://www.nber.org/papers/w27128) by Jesús Fernández-Villaverde and Charles I. Jones  \n",
    "- Further variations on the classic SIR model in Julia  [here](https://github.com/epirecipes/sir-julia).  \n",
    "\n",
    "\n",
    "Here we extend the model to include policy-relevant aggregate shocks."
   ]
  },
  {
   "cell_type": "markdown",
   "id": "ebe91e0d",
   "metadata": {},
   "source": [
    "### Continuous-Time Stochastic Processes\n",
    "\n",
    "In continuous-time, there is an important distinction between randomness that leads to continuous paths vs. those which have ([almost surely right-continuous](https://en.wikipedia.org/wiki/C%C3%A0dl%C3%A0g)) jumps in their paths.  The most tractable of these includes the theory of [Levy Processes](https://en.wikipedia.org/wiki/L%C3%A9vy_process).\n",
    "\n",
    "Among the appealing features of Levy Processes is that they fit well into the sorts of Markov modeling techniques that economists tend to use in discrete time, and usually fulfill the measurability required for calculating expected present discounted values.\n",
    "\n",
    "Unlike in discrete-time, where a modeller has license to be creative, the rules of continuous-time stochastic processes are much stricter.  One can show that a Levy process’s noise can be decomposed into two portions:\n",
    "\n",
    "1. [Weiner Processes](https://en.wikipedia.org/wiki/Wiener_process) (as known as Brownian Motion) which leads to a diffusion equations, and is the only continuous-time Levy process with continuous paths  \n",
    "1. [Poisson Processes](https://en.wikipedia.org/wiki/Poisson_point_process) with an arrival rate of jumps in the variable.  \n",
    "\n",
    "\n",
    "Every other Levy Process can be represented by these building blocks (e.g. a [Diffusion Process](https://en.wikipedia.org/wiki/Diffusion_process) such as Geometric Brownian Motion is a transformation of a Weiner process, a [jump diffusion](https://en.wikipedia.org/wiki/Jump_diffusion#In_economics_and_finance) is a diffusion process with a Poisson arrival of jumps, and a continuous-time markov chain (CMTC) is a Poisson process jumping between a finite number of states).\n",
    "\n",
    "In this lecture, we will examine shocks driven by transformations of Brownian motion, as the prototypical Stochastic Differential Equation (SDE)."
   ]
  },
  {
   "cell_type": "code",
   "execution_count": 4,
   "id": "7990ad80",
   "metadata": {},
   "outputs": [
    {
     "name": "stderr",
     "output_type": "stream",
     "text": [
      "\u001b[32m\u001b[1m   Resolving\u001b[22m\u001b[39m package versions...\n",
      "\u001b[32m\u001b[1m  No Changes\u001b[22m\u001b[39m to `~/.julia/environments/v1.8/Project.toml`\n",
      "\u001b[32m\u001b[1m  No Changes\u001b[22m\u001b[39m to `~/.julia/environments/v1.8/Manifest.toml`\n",
      "\u001b[32m\u001b[1m   Resolving\u001b[22m\u001b[39m package versions...\n",
      "\u001b[32m\u001b[1m    Updating\u001b[22m\u001b[39m `~/.julia/environments/v1.8/Project.toml`\n",
      " \u001b[90m [37e2e46d] \u001b[39m\u001b[92m+ LinearAlgebra\u001b[39m\n",
      "\u001b[32m\u001b[1m  No Changes\u001b[22m\u001b[39m to `~/.julia/environments/v1.8/Manifest.toml`\n",
      "\u001b[32m\u001b[1m   Resolving\u001b[22m\u001b[39m package versions...\n",
      "\u001b[32m\u001b[1m    Updating\u001b[22m\u001b[39m `~/.julia/environments/v1.8/Project.toml`\n",
      " \u001b[90m [9a3f8284] \u001b[39m\u001b[92m+ Random\u001b[39m\n",
      "\u001b[32m\u001b[1m  No Changes\u001b[22m\u001b[39m to `~/.julia/environments/v1.8/Manifest.toml`\n",
      "\u001b[32m\u001b[1m   Resolving\u001b[22m\u001b[39m package versions...\n",
      "\u001b[32m\u001b[1m    Updating\u001b[22m\u001b[39m `~/.julia/environments/v1.8/Project.toml`\n",
      " \u001b[90m [2f01184e] \u001b[39m\u001b[92m+ SparseArrays\u001b[39m\n",
      "\u001b[32m\u001b[1m  No Changes\u001b[22m\u001b[39m to `~/.julia/environments/v1.8/Manifest.toml`\n",
      "\u001b[32m\u001b[1m   Resolving\u001b[22m\u001b[39m package versions...\n",
      "\u001b[32m\u001b[1m    Updating\u001b[22m\u001b[39m `~/.julia/environments/v1.8/Project.toml`\n",
      " \u001b[90m [10745b16] \u001b[39m\u001b[92m+ Statistics\u001b[39m\n",
      "\u001b[32m\u001b[1m  No Changes\u001b[22m\u001b[39m to `~/.julia/environments/v1.8/Manifest.toml`\n"
     ]
    }
   ],
   "source": [
    "import Pkg \n",
    "Pkg.add(\"LaTeXStrings\")\n",
    "Pkg.add(\"LinearAlgebra\")\n",
    "Pkg.add(\"Random\")\n",
    "Pkg.add(\"SparseArrays\")\n",
    "Pkg.add(\"Statistics\")"
   ]
  },
  {
   "cell_type": "code",
   "execution_count": 6,
   "id": "feda3e0a",
   "metadata": {
    "hide-output": false
   },
   "outputs": [],
   "source": [
    "using LaTeXStrings, LinearAlgebra, Random, SparseArrays, Statistics"
   ]
  },
  {
   "cell_type": "markdown",
   "id": "64c87bee",
   "metadata": {},
   "source": [
    "In addition, we will be exploring packages within the [SciML ecosystem](https://github.com/SciML/) and\n",
    "others covered in previous lectures"
   ]
  },
  {
   "cell_type": "code",
   "execution_count": 7,
   "id": "512b242e",
   "metadata": {},
   "outputs": [
    {
     "name": "stderr",
     "output_type": "stream",
     "text": [
      "\u001b[32m\u001b[1m   Resolving\u001b[22m\u001b[39m package versions...\n",
      "\u001b[32m\u001b[1m    Updating\u001b[22m\u001b[39m `~/.julia/environments/v1.8/Project.toml`\n",
      " \u001b[90m [1dea7af3] \u001b[39m\u001b[92m+ OrdinaryDiffEq v6.53.3\u001b[39m\n",
      "\u001b[32m\u001b[1m  No Changes\u001b[22m\u001b[39m to `~/.julia/environments/v1.8/Manifest.toml`\n",
      "\u001b[32m\u001b[1m   Resolving\u001b[22m\u001b[39m package versions...\n",
      "\u001b[32m\u001b[1m    Updating\u001b[22m\u001b[39m `~/.julia/environments/v1.8/Project.toml`\n",
      " \u001b[90m [789caeaf] \u001b[39m\u001b[92m+ StochasticDiffEq v6.61.1\u001b[39m\n",
      "\u001b[32m\u001b[1m  No Changes\u001b[22m\u001b[39m to `~/.julia/environments/v1.8/Manifest.toml`\n",
      "\u001b[32m\u001b[1m   Resolving\u001b[22m\u001b[39m package versions...\n",
      "\u001b[32m\u001b[1m    Updating\u001b[22m\u001b[39m `~/.julia/environments/v1.8/Project.toml`\n",
      " \u001b[90m [d96e819e] \u001b[39m\u001b[92m+ Parameters v0.12.3\u001b[39m\n",
      "\u001b[32m\u001b[1m  No Changes\u001b[22m\u001b[39m to `~/.julia/environments/v1.8/Manifest.toml`\n",
      "\u001b[32m\u001b[1m   Resolving\u001b[22m\u001b[39m package versions...\n",
      "\u001b[32m\u001b[1m  No Changes\u001b[22m\u001b[39m to `~/.julia/environments/v1.8/Project.toml`\n",
      "\u001b[32m\u001b[1m  No Changes\u001b[22m\u001b[39m to `~/.julia/environments/v1.8/Manifest.toml`\n"
     ]
    }
   ],
   "source": [
    "Pkg.add(\"OrdinaryDiffEq\")\n",
    "Pkg.add(\"StochasticDiffEq\")\n",
    "Pkg.add(\"Parameters\")\n",
    "Pkg.add(\"Plots\")"
   ]
  },
  {
   "cell_type": "code",
   "execution_count": 8,
   "id": "810a80c5",
   "metadata": {
    "hide-output": false
   },
   "outputs": [],
   "source": [
    "using OrdinaryDiffEq, StochasticDiffEq\n",
    "using Parameters, Plots"
   ]
  },
  {
   "cell_type": "markdown",
   "id": "c5adfdf3",
   "metadata": {},
   "source": [
    "## The Basic SIR/SIRD Model\n",
    "\n",
    "To demonstrate another common [compartmentalized model](https://en.wikipedia.org/wiki/Compartmental_models_in_epidemiology#Elaborations_on_the_basic_SIR_model) we will change the [previous SEIR](https://julia.quantecon.org/seir_model.html) model to remove the exposed state, and more carefully manage the death state, D.\n",
    "\n",
    "The states are are now: susceptible (S), infected (I), resistant (R), or dead (D).\n",
    "\n",
    "Comments:\n",
    "\n",
    "- Unlike the previous SEIR model, the R state is only for those recovered, alive, and currently resistant.  \n",
    "- As before, we start by assuming those have recovered have acquired immunity.  \n",
    "- Later, we could consider transitions from R to S if resistance is not permanent due to virus mutation, etc.  "
   ]
  },
  {
   "cell_type": "markdown",
   "id": "17d09708",
   "metadata": {},
   "source": [
    "### Transition Rates\n",
    "\n",
    "See the [previous lecture](https://julia.quantecon.org/seir_model.html), for a more detailed development of the model.\n",
    "\n",
    "- $ \\beta(t) $ is called the *transmission rate* or *effective contact rate* (the rate at which individuals bump into others and expose them to the virus)  \n",
    "- $ \\gamma $ is called the *resolution rate* (the rate at which infected people recover or die)  \n",
    "- $ \\delta(t) \\in [0, 1] $ is the *death probability*  \n",
    "- As before, we re-parameterize as $ R_0(t) := \\beta(t) / \\gamma $, where $ R_0 $ has previous interpretation  \n",
    "\n",
    "\n",
    "Jumping directly to the equations in $ s, i, r, d $ already normalized by $ N $,\n",
    "\n",
    "\n",
    "<a id='equation-sird'></a>\n",
    "$$\n",
    "\\begin{aligned}\n",
    "     d s  & = - \\gamma \\, R_0 \\, s \\,  i \\, dt\n",
    "     \\\\\n",
    "      d i  & = \\left(\\gamma \\, R_0 \\, s \\,  i  - \\gamma  \\, i \\right) dt\n",
    "     \\\\\n",
    "     d r  & = (1-\\delta) \\gamma  \\, i \\, dt\n",
    "     \\\\\n",
    "     d d  & = \\delta  \\, \\gamma  \\, i \\, dt\n",
    "     \\\\\n",
    "\\end{aligned} \\tag{45.1}\n",
    "$$\n",
    "\n",
    "Note that the notation has changed to heuristically put the $ dt $ on the right hand side, which will be used when adding the stochastic shocks."
   ]
  },
  {
   "cell_type": "markdown",
   "id": "78b2f3b6",
   "metadata": {},
   "source": [
    "## Introduction to SDEs\n",
    "\n",
    "We start by extending our model to include randomness in $ R_0(t) $ and then the mortality rate $ \\delta(t) $.\n",
    "\n",
    "The result is a system of Stochastic Differential Equations (SDEs)."
   ]
  },
  {
   "cell_type": "markdown",
   "id": "80e227e7",
   "metadata": {},
   "source": [
    "### Shocks to Transmission Rates\n",
    "\n",
    "As before, we assume that the basic reproduction number, $ R_0(t) $, follows a process with a reversion to a value $ \\bar{R}_0(t) $ which could conceivably be influenced by policy.  The intuition is that even if the targeted $ \\bar{R}_0(t) $ was changed through social distancing/etc., lags in behavior and implementation would smooth out the transition, where $ \\eta $ governs the speed of $ R_0(t) $ moves towards $ \\bar{R}_0(t) $.\n",
    "\n",
    "Beyond changes in policy, randomness in $ R_0(t) $ may come from shocks to the $ \\beta(t) $ process.  For example,\n",
    "\n",
    "- Misinformation on Facebook spreading non-uniformly.  \n",
    "- Large political rallies, elections, or protests.  \n",
    "- Deviations in the implementation and timing of lockdown policy between demographics, locations, or businesses within the system.  \n",
    "- Aggregate shocks in opening/closing industries.  \n",
    "\n",
    "\n",
    "To implement these sorts of randomness, we will add on a diffusion term with an instantaneous volatility of $ \\sigma \\sqrt{R_0} $.\n",
    "\n",
    "- This equation is used in the [Cox-Ingersoll-Ross](https://en.wikipedia.org/wiki/Cox%E2%80%93Ingersoll%E2%80%93Ross_model) and [Heston](https://en.wikipedia.org/wiki/Heston_model) models of interest rates and stochastic volatility.  \n",
    "- The scaling by the $ \\sqrt{R_0} $ ensure that the process stays weakly positive.  The heuristic explanation is that the variance of the shocks converges to zero as R₀ goes to zero, enabling the upwards drift to dominate.  \n",
    "- See [here](https://en.wikipedia.org/wiki/Cox%E2%80%93Ingersoll%E2%80%93Ross_model#Distribution) for a heuristic description of when the process is weakly and strictly positive.  \n",
    "\n",
    "\n",
    "The notation for this [SDE](https://en.wikipedia.org/wiki/Stochastic_differential_equation#Use_in_probability_and_mathematical_finance) is then\n",
    "\n",
    "\n",
    "<a id='equation-rsde'></a>\n",
    "$$\n",
    "\\begin{aligned}\n",
    "d R_{0t} &= \\eta (\\bar{R}_{0t} - R_{0t}) dt + \\sigma \\sqrt{R_{0t}} dW_t\\\\\n",
    "\\end{aligned} \\tag{45.2}\n",
    "$$\n",
    "\n",
    "where $ W $ is standard Brownian motion (i.e a [Weiner Process](https://en.wikipedia.org/wiki/Wiener_process).\n",
    "\n",
    "Heuristically, if $ \\sigma = 0 $, divide this equation by $ dt $ and it nests the original ODE used in the previous lecture.\n",
    "\n",
    "While we do not consider any calibration for the $ \\sigma $ parameter, empirical studies such as [Estimating and Simulating a SIRD Model of COVID-19 for Many Countries, States, and Cities](https://www.nber.org/papers/w27128) (Figure 6) show highly volatile $ R_0(t) $ estimates over time.\n",
    "\n",
    "Even after lockdowns are first implemented, we see variation between 0.5 and 1.5.  Since countries are made of interconnecting cities with such variable contact rates, a high $ \\sigma $ seems reasonable both intuitively and empirically."
   ]
  },
  {
   "cell_type": "markdown",
   "id": "499ea004",
   "metadata": {},
   "source": [
    "### Mortality Rates\n",
    "\n",
    "Unlike the previous lecture, we will build up towards mortality rates which change over time.\n",
    "\n",
    "Imperfect mixing of different demographic groups could lead to aggregate shocks in mortality (e.g. if a retirement home is afflicted vs. an elementary school).  These sorts of relatively small changes might be best modeled as a continuous path process.\n",
    "\n",
    "Let $ \\delta(t) $ be the mortality rate and in addition,\n",
    "\n",
    "- Assume that the base mortality rate is $ \\bar{\\delta} $, which acts as the mean of the process, reverting at rate $ \\theta $. In more elaborate models, this could be time-varying.  \n",
    "- The diffusion term has a volatility $ \\xi\\sqrt{\\delta (1 - \\delta)} $.  \n",
    "- As the process gets closer to either $ \\delta = 1 $ or $ \\delta = 0 $, the volatility goes to 0, which acts as a force to allow the mean reversion to keep the process within the bounds  \n",
    "- Unlike the well-studied Cox-Ingersoll-Ross model, we make no claims on the long-run behavior of this process, but will be examining the behavior on a small timescale so this is not an issue.  \n",
    "\n",
    "\n",
    "Given this, the stochastic process for the mortality rate is,\n",
    "\n",
    "\n",
    "<a id='equation-dmt'></a>\n",
    "$$\n",
    "\\begin{aligned}\n",
    "d \\delta_t & = \\theta (\\bar{\\delta} - \\delta_t) dt + \\xi \\sqrt{(\\delta_t (1-\\delta_t)} d W_t\\\\\n",
    "\\end{aligned} \\tag{45.3}\n",
    "$$\n",
    "\n",
    "Where the $ W_t $ Brownian motion is independent from the previous process."
   ]
  },
  {
   "cell_type": "markdown",
   "id": "588ed502",
   "metadata": {},
   "source": [
    "### System of SDEs\n",
    "\n",
    "The system [(45.1)](#equation-sird) can be written in vector form $ x := [s, i, r, d, R₀, \\delta] $ with parameter tuple parameter tuple $ p := (\\gamma, \\eta, \\sigma, \\theta, \\xi, \\bar{R}_0(\\cdot), \\bar{ \\delta}) $\n",
    "\n",
    "The general form of the SDE is.\n",
    "\n",
    "$$\n",
    "\\begin{aligned}\n",
    "d x_t &= F(x_t,t;p)dt + G(x_t,t;p) dW\n",
    "\\end{aligned}\n",
    "$$\n",
    "\n",
    "With the drift,\n",
    "\n",
    "\n",
    "<a id='equation-dfcvsde'></a>\n",
    "$$\n",
    "F(x,t;p) := \\begin{bmatrix}\n",
    "    -\\gamma \\, R_0 \\, s \\,  i\n",
    "    \\\\\n",
    "    \\gamma \\, R_0 \\,  s \\,  i  - \\gamma i\n",
    "    \\\\\n",
    "    (1-\\delta) \\gamma i\n",
    "    \\\\\n",
    "    \\delta \\gamma i\n",
    "    \\\\\n",
    "    \\eta (\\bar{R}_0(t) - R_0)\n",
    "    \\\\\n",
    "    \\theta (\\bar{\\delta} - \\delta)\n",
    "    \\\\\n",
    "\\end{bmatrix} \\tag{45.4}\n",
    "$$\n",
    "\n",
    "Here, it is convenient but not necessary for $ d W $ to have the same dimension as $ x $.  If so, then we can use a square matrix $ G(x,t;p) $ to associate the shocks with the appropriate $ x $ (e.g. diagonal noise, or using a covariance matrix).\n",
    "\n",
    "As the two independent sources of Brownian motion only affect the $ d R_0 $ and $ d \\delta $ terms (i.e. the 5th and 6th equations), define the covariance matrix as\n",
    "\n",
    "\n",
    "<a id='equation-dg'></a>\n",
    "$$\n",
    "\\begin{aligned}\n",
    "G(x, t) &:= diag\\left(\\begin{bmatrix} 0 & 0 & 0 & 0 & \\sigma \\sqrt{R_0} & \\xi \\sqrt{\\delta (1-\\delta)} \\end{bmatrix}\\right)\n",
    "\\end{aligned} \\tag{45.5}\n",
    "$$"
   ]
  },
  {
   "cell_type": "markdown",
   "id": "d849c922",
   "metadata": {},
   "source": [
    "### Implementation\n",
    "\n",
    "First, construct our $ F $ from [(45.4)](#equation-dfcvsde) and $ G $ from [(45.5)](#equation-dg)"
   ]
  },
  {
   "cell_type": "code",
   "execution_count": 9,
   "id": "045f7cb2",
   "metadata": {
    "hide-output": false
   },
   "outputs": [
    {
     "data": {
      "text/plain": [
       "G (generic function with 1 method)"
      ]
     },
     "execution_count": 9,
     "metadata": {},
     "output_type": "execute_result"
    }
   ],
   "source": [
    "function F(x, p, t)\n",
    "    s, i, r, d, R₀, δ = x\n",
    "    (;γ, R̄₀, η, σ, ξ, θ, δ_bar) = p\n",
    "\n",
    "    return [-γ*R₀*s*i;        # ds/dt\n",
    "            γ*R₀*s*i - γ*i;   # di/dt\n",
    "            (1-δ)*γ*i;        # dr/dt\n",
    "            δ*γ*i;            # dd/dt\n",
    "            η*(R̄₀(t, p) - R₀);# dR₀/dt\n",
    "            θ*(δ_bar - δ);    # dδ/dt\n",
    "            ]\n",
    "end\n",
    "\n",
    "function G(x, p, t)\n",
    "    s, i, r, d, R₀, δ = x\n",
    "    (;γ, R̄₀, η, σ, ξ, θ, δ_bar) = p\n",
    "\n",
    "    return [0; 0; 0; 0; σ*sqrt(R₀); ξ*sqrt(δ * (1-δ))]\n",
    "end"
   ]
  },
  {
   "cell_type": "markdown",
   "id": "d7f45539",
   "metadata": {},
   "source": [
    "Next create a settings generator, and then define a [SDEProblem](https://docs.sciml.ai/stable/tutorials/sde_example/#Example-2:-Systems-of-SDEs-with-Diagonal-Noise-1)  with Diagonal Noise."
   ]
  },
  {
   "cell_type": "code",
   "execution_count": 10,
   "id": "e7abe511",
   "metadata": {
    "hide-output": false
   },
   "outputs": [
    {
     "data": {
      "text/plain": [
       "\u001b[38;2;86;182;194mSDEProblem\u001b[0m with uType \u001b[38;2;86;182;194mVector{Float64}\u001b[0m and tType \u001b[38;2;86;182;194mFloat64\u001b[0m. In-place: \u001b[38;2;86;182;194mfalse\u001b[0m\n",
       "timespan: (0.0, 550.0)\n",
       "u0: 6-element Vector{Float64}:\n",
       " 0.9999242424242424\n",
       " 7.575757575757576e-5\n",
       " 0.0\n",
       " 0.0\n",
       " 0.5\n",
       " 0.01"
      ]
     },
     "execution_count": 10,
     "metadata": {},
     "output_type": "execute_result"
    }
   ],
   "source": [
    "p_gen = @with_kw (T = 550.0, γ = 1.0 / 18, η = 1.0 / 20,\n",
    "                  R₀_n = 1.6, R̄₀ = (t, p) -> p.R₀_n, δ_bar = 0.01,\n",
    "                  σ = 0.03, ξ = 0.004, θ = 0.2, N = 3.3E8)\n",
    "p =  p_gen()  # use all defaults\n",
    "i_0 = 25000 / p.N\n",
    "r_0 = 0.0\n",
    "d_0 = 0.0\n",
    "s_0 = 1.0 - i_0 - r_0 - d_0\n",
    "R̄₀_0 = 0.5  # starting in lockdown\n",
    "δ_0 = p.δ_bar\n",
    "x_0 = [s_0, i_0, r_0, d_0, R̄₀_0, δ_0]\n",
    "\n",
    "prob = SDEProblem(F, G, x_0, (0, p.T), p)"
   ]
  },
  {
   "cell_type": "markdown",
   "id": "145e8d19",
   "metadata": {},
   "source": [
    "We solve the problem with the [SOSRI](https://docs.sciml.ai/stable/solvers/sde_solve/#Full-List-of-Methods-1) algorithm (Adaptive strong order 1.5 methods for diagonal noise Ito and Stratonovich SDEs)."
   ]
  },
  {
   "cell_type": "code",
   "execution_count": 11,
   "id": "ecd337da",
   "metadata": {
    "hide-output": false
   },
   "outputs": [
    {
     "name": "stdout",
     "output_type": "stream",
     "text": [
      "length(sol_1.t) = 608\n"
     ]
    }
   ],
   "source": [
    "sol_1 = solve(prob, SOSRI());\n",
    "@show length(sol_1.t);"
   ]
  },
  {
   "cell_type": "markdown",
   "id": "6bf7f606",
   "metadata": {},
   "source": [
    "As in the deterministic case of the previous lecture, we are using an adaptive time-stepping method.  However, since this is an SDE, (1) you will tend to see more timesteps required due to the greater curvature; and (2) the number of timesteps will change with different shock realizations.\n",
    "\n",
    "With stochastic differential equations, a “solution” is akin to a simulation for a particular realization of the noise process.\n",
    "\n",
    "If we take two solutions and plot the number of infections, we will see differences over time:"
   ]
  },
  {
   "cell_type": "code",
   "execution_count": 12,
   "id": "e6f0fde9",
   "metadata": {
    "hide-output": false
   },
   "outputs": [
    {
     "name": "stderr",
     "output_type": "stream",
     "text": [
      "\u001b[33m\u001b[1m┌ \u001b[22m\u001b[39m\u001b[33m\u001b[1mWarning: \u001b[22m\u001b[39mTo maintain consistency with solution indexing, keyword argument vars will be removed in a future version. Please use keyword argument idxs instead.\n",
      "\u001b[33m\u001b[1m│ \u001b[22m\u001b[39m  caller = ip:0x0\n",
      "\u001b[33m\u001b[1m└ \u001b[22m\u001b[39m\u001b[90m@ Core :-1\u001b[39m\n"
     ]
    },
    {
     "data": {
      "image/svg+xml": [
       "<?xml version=\"1.0\" encoding=\"utf-8\"?>\n",
       "<svg xmlns=\"http://www.w3.org/2000/svg\" xmlns:xlink=\"http://www.w3.org/1999/xlink\" width=\"600\" height=\"400\" viewBox=\"0 0 2400 1600\">\n",
       "<defs>\n",
       "  <clipPath id=\"clip480\">\n",
       "    <rect x=\"0\" y=\"0\" width=\"2400\" height=\"1600\"/>\n",
       "  </clipPath>\n",
       "</defs>\n",
       "<path clip-path=\"url(#clip480)\" d=\"M0 1600 L2400 1600 L2400 0 L0 0  Z\" fill=\"#ffffff\" fill-rule=\"evenodd\" fill-opacity=\"1\"/>\n",
       "<defs>\n",
       "  <clipPath id=\"clip481\">\n",
       "    <rect x=\"480\" y=\"0\" width=\"1681\" height=\"1600\"/>\n",
       "  </clipPath>\n",
       "</defs>\n",
       "<path clip-path=\"url(#clip480)\" d=\"M250.028 1423.18 L2352.76 1423.18 L2352.76 123.472 L250.028 123.472  Z\" fill=\"#ffffff\" fill-rule=\"evenodd\" fill-opacity=\"1\"/>\n",
       "<defs>\n",
       "  <clipPath id=\"clip482\">\n",
       "    <rect x=\"250\" y=\"123\" width=\"2104\" height=\"1301\"/>\n",
       "  </clipPath>\n",
       "</defs>\n",
       "<polyline clip-path=\"url(#clip482)\" style=\"stroke:#000000; stroke-linecap:round; stroke-linejoin:round; stroke-width:2; stroke-opacity:0.1; fill:none\" points=\"250.028,1423.18 250.028,123.472 \"/>\n",
       "<polyline clip-path=\"url(#clip482)\" style=\"stroke:#000000; stroke-linecap:round; stroke-linejoin:round; stroke-width:2; stroke-opacity:0.1; fill:none\" points=\"632.342,1423.18 632.342,123.472 \"/>\n",
       "<polyline clip-path=\"url(#clip482)\" style=\"stroke:#000000; stroke-linecap:round; stroke-linejoin:round; stroke-width:2; stroke-opacity:0.1; fill:none\" points=\"1014.66,1423.18 1014.66,123.472 \"/>\n",
       "<polyline clip-path=\"url(#clip482)\" style=\"stroke:#000000; stroke-linecap:round; stroke-linejoin:round; stroke-width:2; stroke-opacity:0.1; fill:none\" points=\"1396.97,1423.18 1396.97,123.472 \"/>\n",
       "<polyline clip-path=\"url(#clip482)\" style=\"stroke:#000000; stroke-linecap:round; stroke-linejoin:round; stroke-width:2; stroke-opacity:0.1; fill:none\" points=\"1779.28,1423.18 1779.28,123.472 \"/>\n",
       "<polyline clip-path=\"url(#clip482)\" style=\"stroke:#000000; stroke-linecap:round; stroke-linejoin:round; stroke-width:2; stroke-opacity:0.1; fill:none\" points=\"2161.6,1423.18 2161.6,123.472 \"/>\n",
       "<polyline clip-path=\"url(#clip480)\" style=\"stroke:#000000; stroke-linecap:round; stroke-linejoin:round; stroke-width:4; stroke-opacity:1; fill:none\" points=\"250.028,1423.18 2352.76,1423.18 \"/>\n",
       "<polyline clip-path=\"url(#clip480)\" style=\"stroke:#000000; stroke-linecap:round; stroke-linejoin:round; stroke-width:4; stroke-opacity:1; fill:none\" points=\"250.028,1423.18 250.028,1404.28 \"/>\n",
       "<polyline clip-path=\"url(#clip480)\" style=\"stroke:#000000; stroke-linecap:round; stroke-linejoin:round; stroke-width:4; stroke-opacity:1; fill:none\" points=\"632.342,1423.18 632.342,1404.28 \"/>\n",
       "<polyline clip-path=\"url(#clip480)\" style=\"stroke:#000000; stroke-linecap:round; stroke-linejoin:round; stroke-width:4; stroke-opacity:1; fill:none\" points=\"1014.66,1423.18 1014.66,1404.28 \"/>\n",
       "<polyline clip-path=\"url(#clip480)\" style=\"stroke:#000000; stroke-linecap:round; stroke-linejoin:round; stroke-width:4; stroke-opacity:1; fill:none\" points=\"1396.97,1423.18 1396.97,1404.28 \"/>\n",
       "<polyline clip-path=\"url(#clip480)\" style=\"stroke:#000000; stroke-linecap:round; stroke-linejoin:round; stroke-width:4; stroke-opacity:1; fill:none\" points=\"1779.28,1423.18 1779.28,1404.28 \"/>\n",
       "<polyline clip-path=\"url(#clip480)\" style=\"stroke:#000000; stroke-linecap:round; stroke-linejoin:round; stroke-width:4; stroke-opacity:1; fill:none\" points=\"2161.6,1423.18 2161.6,1404.28 \"/>\n",
       "<path clip-path=\"url(#clip480)\" d=\"M250.028 1454.1 Q246.417 1454.1 244.588 1457.66 Q242.783 1461.2 242.783 1468.33 Q242.783 1475.44 244.588 1479.01 Q246.417 1482.55 250.028 1482.55 Q253.662 1482.55 255.468 1479.01 Q257.297 1475.44 257.297 1468.33 Q257.297 1461.2 255.468 1457.66 Q253.662 1454.1 250.028 1454.1 M250.028 1450.39 Q255.838 1450.39 258.894 1455 Q261.973 1459.58 261.973 1468.33 Q261.973 1477.06 258.894 1481.67 Q255.838 1486.25 250.028 1486.25 Q244.218 1486.25 241.139 1481.67 Q238.084 1477.06 238.084 1468.33 Q238.084 1459.58 241.139 1455 Q244.218 1450.39 250.028 1450.39 Z\" fill=\"#000000\" fill-rule=\"nonzero\" fill-opacity=\"1\" /><path clip-path=\"url(#clip480)\" d=\"M591.949 1481.64 L599.588 1481.64 L599.588 1455.28 L591.278 1456.95 L591.278 1452.69 L599.542 1451.02 L604.217 1451.02 L604.217 1481.64 L611.856 1481.64 L611.856 1485.58 L591.949 1485.58 L591.949 1481.64 Z\" fill=\"#000000\" fill-rule=\"nonzero\" fill-opacity=\"1\" /><path clip-path=\"url(#clip480)\" d=\"M631.301 1454.1 Q627.69 1454.1 625.861 1457.66 Q624.055 1461.2 624.055 1468.33 Q624.055 1475.44 625.861 1479.01 Q627.69 1482.55 631.301 1482.55 Q634.935 1482.55 636.74 1479.01 Q638.569 1475.44 638.569 1468.33 Q638.569 1461.2 636.74 1457.66 Q634.935 1454.1 631.301 1454.1 M631.301 1450.39 Q637.111 1450.39 640.166 1455 Q643.245 1459.58 643.245 1468.33 Q643.245 1477.06 640.166 1481.67 Q637.111 1486.25 631.301 1486.25 Q625.49 1486.25 622.412 1481.67 Q619.356 1477.06 619.356 1468.33 Q619.356 1459.58 622.412 1455 Q625.49 1450.39 631.301 1450.39 Z\" fill=\"#000000\" fill-rule=\"nonzero\" fill-opacity=\"1\" /><path clip-path=\"url(#clip480)\" d=\"M661.462 1454.1 Q657.851 1454.1 656.023 1457.66 Q654.217 1461.2 654.217 1468.33 Q654.217 1475.44 656.023 1479.01 Q657.851 1482.55 661.462 1482.55 Q665.097 1482.55 666.902 1479.01 Q668.731 1475.44 668.731 1468.33 Q668.731 1461.2 666.902 1457.66 Q665.097 1454.1 661.462 1454.1 M661.462 1450.39 Q667.273 1450.39 670.328 1455 Q673.407 1459.58 673.407 1468.33 Q673.407 1477.06 670.328 1481.67 Q667.273 1486.25 661.462 1486.25 Q655.652 1486.25 652.574 1481.67 Q649.518 1477.06 649.518 1468.33 Q649.518 1459.58 652.574 1455 Q655.652 1450.39 661.462 1450.39 Z\" fill=\"#000000\" fill-rule=\"nonzero\" fill-opacity=\"1\" /><path clip-path=\"url(#clip480)\" d=\"M978.349 1481.64 L994.668 1481.64 L994.668 1485.58 L972.724 1485.58 L972.724 1481.64 Q975.386 1478.89 979.969 1474.26 Q984.576 1469.61 985.756 1468.27 Q988.001 1465.74 988.881 1464.01 Q989.784 1462.25 989.784 1460.56 Q989.784 1457.8 987.839 1456.07 Q985.918 1454.33 982.816 1454.33 Q980.617 1454.33 978.164 1455.09 Q975.733 1455.86 972.955 1457.41 L972.955 1452.69 Q975.779 1451.55 978.233 1450.97 Q980.687 1450.39 982.724 1450.39 Q988.094 1450.39 991.288 1453.08 Q994.483 1455.77 994.483 1460.26 Q994.483 1462.39 993.673 1464.31 Q992.886 1466.2 990.779 1468.8 Q990.201 1469.47 987.099 1472.69 Q983.997 1475.88 978.349 1481.64 Z\" fill=\"#000000\" fill-rule=\"nonzero\" fill-opacity=\"1\" /><path clip-path=\"url(#clip480)\" d=\"M1014.48 1454.1 Q1010.87 1454.1 1009.04 1457.66 Q1007.24 1461.2 1007.24 1468.33 Q1007.24 1475.44 1009.04 1479.01 Q1010.87 1482.55 1014.48 1482.55 Q1018.12 1482.55 1019.92 1479.01 Q1021.75 1475.44 1021.75 1468.33 Q1021.75 1461.2 1019.92 1457.66 Q1018.12 1454.1 1014.48 1454.1 M1014.48 1450.39 Q1020.29 1450.39 1023.35 1455 Q1026.43 1459.58 1026.43 1468.33 Q1026.43 1477.06 1023.35 1481.67 Q1020.29 1486.25 1014.48 1486.25 Q1008.67 1486.25 1005.59 1481.67 Q1002.54 1477.06 1002.54 1468.33 Q1002.54 1459.58 1005.59 1455 Q1008.67 1450.39 1014.48 1450.39 Z\" fill=\"#000000\" fill-rule=\"nonzero\" fill-opacity=\"1\" /><path clip-path=\"url(#clip480)\" d=\"M1044.64 1454.1 Q1041.03 1454.1 1039.2 1457.66 Q1037.4 1461.2 1037.4 1468.33 Q1037.4 1475.44 1039.2 1479.01 Q1041.03 1482.55 1044.64 1482.55 Q1048.28 1482.55 1050.08 1479.01 Q1051.91 1475.44 1051.91 1468.33 Q1051.91 1461.2 1050.08 1457.66 Q1048.28 1454.1 1044.64 1454.1 M1044.64 1450.39 Q1050.45 1450.39 1053.51 1455 Q1056.59 1459.58 1056.59 1468.33 Q1056.59 1477.06 1053.51 1481.67 Q1050.45 1486.25 1044.64 1486.25 Q1038.83 1486.25 1035.76 1481.67 Q1032.7 1477.06 1032.7 1468.33 Q1032.7 1459.58 1035.76 1455 Q1038.83 1450.39 1044.64 1450.39 Z\" fill=\"#000000\" fill-rule=\"nonzero\" fill-opacity=\"1\" /><path clip-path=\"url(#clip480)\" d=\"M1370.73 1466.95 Q1374.09 1467.66 1375.96 1469.93 Q1377.86 1472.2 1377.86 1475.53 Q1377.86 1480.65 1374.34 1483.45 Q1370.82 1486.25 1364.34 1486.25 Q1362.17 1486.25 1359.85 1485.81 Q1357.56 1485.39 1355.11 1484.54 L1355.11 1480.02 Q1357.05 1481.16 1359.37 1481.74 Q1361.68 1482.32 1364.2 1482.32 Q1368.6 1482.32 1370.89 1480.58 Q1373.21 1478.84 1373.21 1475.53 Q1373.21 1472.48 1371.06 1470.77 Q1368.93 1469.03 1365.11 1469.03 L1361.08 1469.03 L1361.08 1465.19 L1365.29 1465.19 Q1368.74 1465.19 1370.57 1463.82 Q1372.4 1462.43 1372.4 1459.84 Q1372.4 1457.18 1370.5 1455.77 Q1368.63 1454.33 1365.11 1454.33 Q1363.19 1454.33 1360.99 1454.75 Q1358.79 1455.16 1356.15 1456.04 L1356.15 1451.88 Q1358.81 1451.14 1361.13 1450.77 Q1363.46 1450.39 1365.52 1450.39 Q1370.85 1450.39 1373.95 1452.83 Q1377.05 1455.23 1377.05 1459.35 Q1377.05 1462.22 1375.41 1464.21 Q1373.76 1466.18 1370.73 1466.95 Z\" fill=\"#000000\" fill-rule=\"nonzero\" fill-opacity=\"1\" /><path clip-path=\"url(#clip480)\" d=\"M1396.73 1454.1 Q1393.12 1454.1 1391.29 1457.66 Q1389.48 1461.2 1389.48 1468.33 Q1389.48 1475.44 1391.29 1479.01 Q1393.12 1482.55 1396.73 1482.55 Q1400.36 1482.55 1402.17 1479.01 Q1404 1475.44 1404 1468.33 Q1404 1461.2 1402.17 1457.66 Q1400.36 1454.1 1396.73 1454.1 M1396.73 1450.39 Q1402.54 1450.39 1405.59 1455 Q1408.67 1459.58 1408.67 1468.33 Q1408.67 1477.06 1405.59 1481.67 Q1402.54 1486.25 1396.73 1486.25 Q1390.92 1486.25 1387.84 1481.67 Q1384.78 1477.06 1384.78 1468.33 Q1384.78 1459.58 1387.84 1455 Q1390.92 1450.39 1396.73 1450.39 Z\" fill=\"#000000\" fill-rule=\"nonzero\" fill-opacity=\"1\" /><path clip-path=\"url(#clip480)\" d=\"M1426.89 1454.1 Q1423.28 1454.1 1421.45 1457.66 Q1419.64 1461.2 1419.64 1468.33 Q1419.64 1475.44 1421.45 1479.01 Q1423.28 1482.55 1426.89 1482.55 Q1430.52 1482.55 1432.33 1479.01 Q1434.16 1475.44 1434.16 1468.33 Q1434.16 1461.2 1432.33 1457.66 Q1430.52 1454.1 1426.89 1454.1 M1426.89 1450.39 Q1432.7 1450.39 1435.76 1455 Q1438.83 1459.58 1438.83 1468.33 Q1438.83 1477.06 1435.76 1481.67 Q1432.7 1486.25 1426.89 1486.25 Q1421.08 1486.25 1418 1481.67 Q1414.94 1477.06 1414.94 1468.33 Q1414.94 1459.58 1418 1455 Q1421.08 1450.39 1426.89 1450.39 Z\" fill=\"#000000\" fill-rule=\"nonzero\" fill-opacity=\"1\" /><path clip-path=\"url(#clip480)\" d=\"M1752.38 1455.09 L1740.57 1473.54 L1752.38 1473.54 L1752.38 1455.09 M1751.15 1451.02 L1757.03 1451.02 L1757.03 1473.54 L1761.96 1473.54 L1761.96 1477.43 L1757.03 1477.43 L1757.03 1485.58 L1752.38 1485.58 L1752.38 1477.43 L1736.77 1477.43 L1736.77 1472.92 L1751.15 1451.02 Z\" fill=\"#000000\" fill-rule=\"nonzero\" fill-opacity=\"1\" /><path clip-path=\"url(#clip480)\" d=\"M1779.69 1454.1 Q1776.08 1454.1 1774.25 1457.66 Q1772.44 1461.2 1772.44 1468.33 Q1772.44 1475.44 1774.25 1479.01 Q1776.08 1482.55 1779.69 1482.55 Q1783.32 1482.55 1785.13 1479.01 Q1786.96 1475.44 1786.96 1468.33 Q1786.96 1461.2 1785.13 1457.66 Q1783.32 1454.1 1779.69 1454.1 M1779.69 1450.39 Q1785.5 1450.39 1788.56 1455 Q1791.63 1459.58 1791.63 1468.33 Q1791.63 1477.06 1788.56 1481.67 Q1785.5 1486.25 1779.69 1486.25 Q1773.88 1486.25 1770.8 1481.67 Q1767.75 1477.06 1767.75 1468.33 Q1767.75 1459.58 1770.8 1455 Q1773.88 1450.39 1779.69 1450.39 Z\" fill=\"#000000\" fill-rule=\"nonzero\" fill-opacity=\"1\" /><path clip-path=\"url(#clip480)\" d=\"M1809.85 1454.1 Q1806.24 1454.1 1804.41 1457.66 Q1802.61 1461.2 1802.61 1468.33 Q1802.61 1475.44 1804.41 1479.01 Q1806.24 1482.55 1809.85 1482.55 Q1813.49 1482.55 1815.29 1479.01 Q1817.12 1475.44 1817.12 1468.33 Q1817.12 1461.2 1815.29 1457.66 Q1813.49 1454.1 1809.85 1454.1 M1809.85 1450.39 Q1815.66 1450.39 1818.72 1455 Q1821.8 1459.58 1821.8 1468.33 Q1821.8 1477.06 1818.72 1481.67 Q1815.66 1486.25 1809.85 1486.25 Q1804.04 1486.25 1800.96 1481.67 Q1797.91 1477.06 1797.91 1468.33 Q1797.91 1459.58 1800.96 1455 Q1804.04 1450.39 1809.85 1450.39 Z\" fill=\"#000000\" fill-rule=\"nonzero\" fill-opacity=\"1\" /><path clip-path=\"url(#clip480)\" d=\"M2121.22 1451.02 L2139.57 1451.02 L2139.57 1454.96 L2125.5 1454.96 L2125.5 1463.43 Q2126.52 1463.08 2127.54 1462.92 Q2128.56 1462.73 2129.57 1462.73 Q2135.36 1462.73 2138.74 1465.9 Q2142.12 1469.08 2142.12 1474.49 Q2142.12 1480.07 2138.65 1483.17 Q2135.18 1486.25 2128.86 1486.25 Q2126.68 1486.25 2124.41 1485.88 Q2122.17 1485.51 2119.76 1484.77 L2119.76 1480.07 Q2121.84 1481.2 2124.06 1481.76 Q2126.29 1482.32 2128.76 1482.32 Q2132.77 1482.32 2135.11 1480.21 Q2137.44 1478.1 2137.44 1474.49 Q2137.44 1470.88 2135.11 1468.77 Q2132.77 1466.67 2128.76 1466.67 Q2126.89 1466.67 2125.01 1467.08 Q2123.16 1467.5 2121.22 1468.38 L2121.22 1451.02 Z\" fill=\"#000000\" fill-rule=\"nonzero\" fill-opacity=\"1\" /><path clip-path=\"url(#clip480)\" d=\"M2161.33 1454.1 Q2157.72 1454.1 2155.89 1457.66 Q2154.09 1461.2 2154.09 1468.33 Q2154.09 1475.44 2155.89 1479.01 Q2157.72 1482.55 2161.33 1482.55 Q2164.97 1482.55 2166.77 1479.01 Q2168.6 1475.44 2168.6 1468.33 Q2168.6 1461.2 2166.77 1457.66 Q2164.97 1454.1 2161.33 1454.1 M2161.33 1450.39 Q2167.14 1450.39 2170.2 1455 Q2173.28 1459.58 2173.28 1468.33 Q2173.28 1477.06 2170.2 1481.67 Q2167.14 1486.25 2161.33 1486.25 Q2155.52 1486.25 2152.44 1481.67 Q2149.39 1477.06 2149.39 1468.33 Q2149.39 1459.58 2152.44 1455 Q2155.52 1450.39 2161.33 1450.39 Z\" fill=\"#000000\" fill-rule=\"nonzero\" fill-opacity=\"1\" /><path clip-path=\"url(#clip480)\" d=\"M2191.49 1454.1 Q2187.88 1454.1 2186.05 1457.66 Q2184.25 1461.2 2184.25 1468.33 Q2184.25 1475.44 2186.05 1479.01 Q2187.88 1482.55 2191.49 1482.55 Q2195.13 1482.55 2196.93 1479.01 Q2198.76 1475.44 2198.76 1468.33 Q2198.76 1461.2 2196.93 1457.66 Q2195.13 1454.1 2191.49 1454.1 M2191.49 1450.39 Q2197.3 1450.39 2200.36 1455 Q2203.44 1459.58 2203.44 1468.33 Q2203.44 1477.06 2200.36 1481.67 Q2197.3 1486.25 2191.49 1486.25 Q2185.68 1486.25 2182.61 1481.67 Q2179.55 1477.06 2179.55 1468.33 Q2179.55 1459.58 2182.61 1455 Q2185.68 1450.39 2191.49 1450.39 Z\" fill=\"#000000\" fill-rule=\"nonzero\" fill-opacity=\"1\" /><path clip-path=\"url(#clip480)\" d=\"M1309.86 1531.91 Q1309.86 1532.81 1309.44 1533.04 Q1309.03 1533.23 1307.87 1533.23 L1301.68 1533.23 L1296.79 1552.69 Q1296.4 1554.39 1296.4 1555.84 Q1296.4 1557.45 1296.88 1558.16 Q1297.4 1558.87 1298.46 1558.87 Q1300.56 1558.87 1302.81 1556.97 Q1305.1 1555.07 1307.03 1550.43 Q1307.29 1549.82 1307.42 1549.69 Q1307.58 1549.53 1308 1549.53 Q1308.8 1549.53 1308.8 1550.17 Q1308.8 1550.4 1308.35 1551.43 Q1307.93 1552.46 1307 1553.97 Q1306.09 1555.49 1304.9 1556.9 Q1303.74 1558.32 1301.97 1559.35 Q1300.2 1560.35 1298.3 1560.35 Q1295.63 1560.35 1293.92 1558.64 Q1292.25 1556.94 1292.25 1554.26 Q1292.25 1553.39 1292.92 1550.62 Q1293.6 1547.82 1297.27 1533.23 L1291.44 1533.23 Q1290.64 1533.23 1290.31 1533.2 Q1290.02 1533.17 1289.8 1533.01 Q1289.61 1532.81 1289.61 1532.43 Q1289.61 1531.82 1289.86 1531.56 Q1290.12 1531.27 1290.44 1531.24 Q1290.8 1531.17 1291.6 1531.17 L1297.79 1531.17 L1300.36 1520.71 Q1300.62 1519.67 1301.26 1519.09 Q1301.94 1518.48 1302.33 1518.42 Q1302.71 1518.32 1303 1518.32 Q1303.87 1518.32 1304.39 1518.81 Q1304.9 1519.26 1304.9 1520.09 Q1304.9 1520.54 1302.2 1531.17 L1308 1531.17 Q1308.74 1531.17 1309.03 1531.2 Q1309.35 1531.24 1309.61 1531.4 Q1309.86 1531.56 1309.86 1531.91 Z\" fill=\"#000000\" fill-rule=\"nonzero\" fill-opacity=\"1\" /><polyline clip-path=\"url(#clip482)\" style=\"stroke:#000000; stroke-linecap:round; stroke-linejoin:round; stroke-width:2; stroke-opacity:0.1; fill:none\" points=\"250.028,1387.24 2352.76,1387.24 \"/>\n",
       "<polyline clip-path=\"url(#clip482)\" style=\"stroke:#000000; stroke-linecap:round; stroke-linejoin:round; stroke-width:2; stroke-opacity:0.1; fill:none\" points=\"250.028,1114.65 2352.76,1114.65 \"/>\n",
       "<polyline clip-path=\"url(#clip482)\" style=\"stroke:#000000; stroke-linecap:round; stroke-linejoin:round; stroke-width:2; stroke-opacity:0.1; fill:none\" points=\"250.028,842.069 2352.76,842.069 \"/>\n",
       "<polyline clip-path=\"url(#clip482)\" style=\"stroke:#000000; stroke-linecap:round; stroke-linejoin:round; stroke-width:2; stroke-opacity:0.1; fill:none\" points=\"250.028,569.485 2352.76,569.485 \"/>\n",
       "<polyline clip-path=\"url(#clip482)\" style=\"stroke:#000000; stroke-linecap:round; stroke-linejoin:round; stroke-width:2; stroke-opacity:0.1; fill:none\" points=\"250.028,296.902 2352.76,296.902 \"/>\n",
       "<polyline clip-path=\"url(#clip480)\" style=\"stroke:#000000; stroke-linecap:round; stroke-linejoin:round; stroke-width:4; stroke-opacity:1; fill:none\" points=\"250.028,1423.18 250.028,123.472 \"/>\n",
       "<polyline clip-path=\"url(#clip480)\" style=\"stroke:#000000; stroke-linecap:round; stroke-linejoin:round; stroke-width:4; stroke-opacity:1; fill:none\" points=\"250.028,1387.24 268.926,1387.24 \"/>\n",
       "<polyline clip-path=\"url(#clip480)\" style=\"stroke:#000000; stroke-linecap:round; stroke-linejoin:round; stroke-width:4; stroke-opacity:1; fill:none\" points=\"250.028,1114.65 268.926,1114.65 \"/>\n",
       "<polyline clip-path=\"url(#clip480)\" style=\"stroke:#000000; stroke-linecap:round; stroke-linejoin:round; stroke-width:4; stroke-opacity:1; fill:none\" points=\"250.028,842.069 268.926,842.069 \"/>\n",
       "<polyline clip-path=\"url(#clip480)\" style=\"stroke:#000000; stroke-linecap:round; stroke-linejoin:round; stroke-width:4; stroke-opacity:1; fill:none\" points=\"250.028,569.485 268.926,569.485 \"/>\n",
       "<polyline clip-path=\"url(#clip480)\" style=\"stroke:#000000; stroke-linecap:round; stroke-linejoin:round; stroke-width:4; stroke-opacity:1; fill:none\" points=\"250.028,296.902 268.926,296.902 \"/>\n",
       "<path clip-path=\"url(#clip480)\" d=\"M126.691 1373.03 Q123.08 1373.03 121.251 1376.6 Q119.445 1380.14 119.445 1387.27 Q119.445 1394.38 121.251 1397.94 Q123.08 1401.48 126.691 1401.48 Q130.325 1401.48 132.13 1397.94 Q133.959 1394.38 133.959 1387.27 Q133.959 1380.14 132.13 1376.6 Q130.325 1373.03 126.691 1373.03 M126.691 1369.33 Q132.501 1369.33 135.556 1373.94 Q138.635 1378.52 138.635 1387.27 Q138.635 1396 135.556 1400.6 Q132.501 1405.19 126.691 1405.19 Q120.88 1405.19 117.802 1400.6 Q114.746 1396 114.746 1387.27 Q114.746 1378.52 117.802 1373.94 Q120.88 1369.33 126.691 1369.33 Z\" fill=\"#000000\" fill-rule=\"nonzero\" fill-opacity=\"1\" /><path clip-path=\"url(#clip480)\" d=\"M146.853 1398.64 L151.737 1398.64 L151.737 1404.52 L146.853 1404.52 L146.853 1398.64 Z\" fill=\"#000000\" fill-rule=\"nonzero\" fill-opacity=\"1\" /><path clip-path=\"url(#clip480)\" d=\"M171.922 1373.03 Q168.311 1373.03 166.482 1376.6 Q164.677 1380.14 164.677 1387.27 Q164.677 1394.38 166.482 1397.94 Q168.311 1401.48 171.922 1401.48 Q175.556 1401.48 177.362 1397.94 Q179.19 1394.38 179.19 1387.27 Q179.19 1380.14 177.362 1376.6 Q175.556 1373.03 171.922 1373.03 M171.922 1369.33 Q177.732 1369.33 180.788 1373.94 Q183.866 1378.52 183.866 1387.27 Q183.866 1396 180.788 1400.6 Q177.732 1405.19 171.922 1405.19 Q166.112 1405.19 163.033 1400.6 Q159.978 1396 159.978 1387.27 Q159.978 1378.52 163.033 1373.94 Q166.112 1369.33 171.922 1369.33 Z\" fill=\"#000000\" fill-rule=\"nonzero\" fill-opacity=\"1\" /><path clip-path=\"url(#clip480)\" d=\"M202.084 1373.03 Q198.473 1373.03 196.644 1376.6 Q194.838 1380.14 194.838 1387.27 Q194.838 1394.38 196.644 1397.94 Q198.473 1401.48 202.084 1401.48 Q205.718 1401.48 207.524 1397.94 Q209.352 1394.38 209.352 1387.27 Q209.352 1380.14 207.524 1376.6 Q205.718 1373.03 202.084 1373.03 M202.084 1369.33 Q207.894 1369.33 210.949 1373.94 Q214.028 1378.52 214.028 1387.27 Q214.028 1396 210.949 1400.6 Q207.894 1405.19 202.084 1405.19 Q196.274 1405.19 193.195 1400.6 Q190.139 1396 190.139 1387.27 Q190.139 1378.52 193.195 1373.94 Q196.274 1369.33 202.084 1369.33 Z\" fill=\"#000000\" fill-rule=\"nonzero\" fill-opacity=\"1\" /><path clip-path=\"url(#clip480)\" d=\"M128.288 1100.45 Q124.677 1100.45 122.848 1104.02 Q121.043 1107.56 121.043 1114.69 Q121.043 1121.79 122.848 1125.36 Q124.677 1128.9 128.288 1128.9 Q131.922 1128.9 133.728 1125.36 Q135.556 1121.79 135.556 1114.69 Q135.556 1107.56 133.728 1104.02 Q131.922 1100.45 128.288 1100.45 M128.288 1096.75 Q134.098 1096.75 137.154 1101.35 Q140.232 1105.94 140.232 1114.69 Q140.232 1123.41 137.154 1128.02 Q134.098 1132.6 128.288 1132.6 Q122.478 1132.6 119.399 1128.02 Q116.343 1123.41 116.343 1114.69 Q116.343 1105.94 119.399 1101.35 Q122.478 1096.75 128.288 1096.75 Z\" fill=\"#000000\" fill-rule=\"nonzero\" fill-opacity=\"1\" /><path clip-path=\"url(#clip480)\" d=\"M148.45 1126.05 L153.334 1126.05 L153.334 1131.93 L148.45 1131.93 L148.45 1126.05 Z\" fill=\"#000000\" fill-rule=\"nonzero\" fill-opacity=\"1\" /><path clip-path=\"url(#clip480)\" d=\"M173.519 1100.45 Q169.908 1100.45 168.079 1104.02 Q166.274 1107.56 166.274 1114.69 Q166.274 1121.79 168.079 1125.36 Q169.908 1128.9 173.519 1128.9 Q177.153 1128.9 178.959 1125.36 Q180.788 1121.79 180.788 1114.69 Q180.788 1107.56 178.959 1104.02 Q177.153 1100.45 173.519 1100.45 M173.519 1096.75 Q179.329 1096.75 182.385 1101.35 Q185.463 1105.94 185.463 1114.69 Q185.463 1123.41 182.385 1128.02 Q179.329 1132.6 173.519 1132.6 Q167.709 1132.6 164.63 1128.02 Q161.575 1123.41 161.575 1114.69 Q161.575 1105.94 164.63 1101.35 Q167.709 1096.75 173.519 1096.75 Z\" fill=\"#000000\" fill-rule=\"nonzero\" fill-opacity=\"1\" /><path clip-path=\"url(#clip480)\" d=\"M197.709 1128 L214.028 1128 L214.028 1131.93 L192.084 1131.93 L192.084 1128 Q194.746 1125.24 199.329 1120.61 Q203.936 1115.96 205.116 1114.62 Q207.362 1112.09 208.241 1110.36 Q209.144 1108.6 209.144 1106.91 Q209.144 1104.15 207.199 1102.42 Q205.278 1100.68 202.176 1100.68 Q199.977 1100.68 197.524 1101.45 Q195.093 1102.21 192.315 1103.76 L192.315 1099.04 Q195.139 1097.9 197.593 1097.33 Q200.047 1096.75 202.084 1096.75 Q207.454 1096.75 210.649 1099.43 Q213.843 1102.12 213.843 1106.61 Q213.843 1108.74 213.033 1110.66 Q212.246 1112.56 210.139 1115.15 Q209.561 1115.82 206.459 1119.04 Q203.357 1122.23 197.709 1128 Z\" fill=\"#000000\" fill-rule=\"nonzero\" fill-opacity=\"1\" /><path clip-path=\"url(#clip480)\" d=\"M126.205 827.868 Q122.593 827.868 120.765 831.432 Q118.959 834.974 118.959 842.104 Q118.959 849.21 120.765 852.775 Q122.593 856.316 126.205 856.316 Q129.839 856.316 131.644 852.775 Q133.473 849.21 133.473 842.104 Q133.473 834.974 131.644 831.432 Q129.839 827.868 126.205 827.868 M126.205 824.164 Q132.015 824.164 135.07 828.77 Q138.149 833.354 138.149 842.104 Q138.149 850.83 135.07 855.437 Q132.015 860.02 126.205 860.02 Q120.394 860.02 117.316 855.437 Q114.26 850.83 114.26 842.104 Q114.26 833.354 117.316 828.77 Q120.394 824.164 126.205 824.164 Z\" fill=\"#000000\" fill-rule=\"nonzero\" fill-opacity=\"1\" /><path clip-path=\"url(#clip480)\" d=\"M146.366 853.469 L151.251 853.469 L151.251 859.349 L146.366 859.349 L146.366 853.469 Z\" fill=\"#000000\" fill-rule=\"nonzero\" fill-opacity=\"1\" /><path clip-path=\"url(#clip480)\" d=\"M171.436 827.868 Q167.825 827.868 165.996 831.432 Q164.19 834.974 164.19 842.104 Q164.19 849.21 165.996 852.775 Q167.825 856.316 171.436 856.316 Q175.07 856.316 176.876 852.775 Q178.704 849.21 178.704 842.104 Q178.704 834.974 176.876 831.432 Q175.07 827.868 171.436 827.868 M171.436 824.164 Q177.246 824.164 180.301 828.77 Q183.38 833.354 183.38 842.104 Q183.38 850.83 180.301 855.437 Q177.246 860.02 171.436 860.02 Q165.626 860.02 162.547 855.437 Q159.491 850.83 159.491 842.104 Q159.491 833.354 162.547 828.77 Q165.626 824.164 171.436 824.164 Z\" fill=\"#000000\" fill-rule=\"nonzero\" fill-opacity=\"1\" /><path clip-path=\"url(#clip480)\" d=\"M204.445 828.863 L192.639 847.312 L204.445 847.312 L204.445 828.863 M203.218 824.789 L209.098 824.789 L209.098 847.312 L214.028 847.312 L214.028 851.201 L209.098 851.201 L209.098 859.349 L204.445 859.349 L204.445 851.201 L188.843 851.201 L188.843 846.687 L203.218 824.789 Z\" fill=\"#000000\" fill-rule=\"nonzero\" fill-opacity=\"1\" /><path clip-path=\"url(#clip480)\" d=\"M126.529 555.284 Q122.918 555.284 121.089 558.849 Q119.283 562.39 119.283 569.52 Q119.283 576.627 121.089 580.191 Q122.918 583.733 126.529 583.733 Q130.163 583.733 131.968 580.191 Q133.797 576.627 133.797 569.52 Q133.797 562.39 131.968 558.849 Q130.163 555.284 126.529 555.284 M126.529 551.58 Q132.339 551.58 135.394 556.187 Q138.473 560.77 138.473 569.52 Q138.473 578.247 135.394 582.853 Q132.339 587.437 126.529 587.437 Q120.718 587.437 117.64 582.853 Q114.584 578.247 114.584 569.52 Q114.584 560.77 117.64 556.187 Q120.718 551.58 126.529 551.58 Z\" fill=\"#000000\" fill-rule=\"nonzero\" fill-opacity=\"1\" /><path clip-path=\"url(#clip480)\" d=\"M146.691 580.886 L151.575 580.886 L151.575 586.765 L146.691 586.765 L146.691 580.886 Z\" fill=\"#000000\" fill-rule=\"nonzero\" fill-opacity=\"1\" /><path clip-path=\"url(#clip480)\" d=\"M171.76 555.284 Q168.149 555.284 166.32 558.849 Q164.515 562.39 164.515 569.52 Q164.515 576.627 166.32 580.191 Q168.149 583.733 171.76 583.733 Q175.394 583.733 177.2 580.191 Q179.028 576.627 179.028 569.52 Q179.028 562.39 177.2 558.849 Q175.394 555.284 171.76 555.284 M171.76 551.58 Q177.57 551.58 180.626 556.187 Q183.704 560.77 183.704 569.52 Q183.704 578.247 180.626 582.853 Q177.57 587.437 171.76 587.437 Q165.95 587.437 162.871 582.853 Q159.815 578.247 159.815 569.52 Q159.815 560.77 162.871 556.187 Q165.95 551.58 171.76 551.58 Z\" fill=\"#000000\" fill-rule=\"nonzero\" fill-opacity=\"1\" /><path clip-path=\"url(#clip480)\" d=\"M202.5 567.622 Q199.352 567.622 197.5 569.775 Q195.672 571.927 195.672 575.677 Q195.672 579.404 197.5 581.58 Q199.352 583.733 202.5 583.733 Q205.649 583.733 207.477 581.58 Q209.329 579.404 209.329 575.677 Q209.329 571.927 207.477 569.775 Q205.649 567.622 202.5 567.622 M211.783 552.969 L211.783 557.228 Q210.024 556.395 208.218 555.955 Q206.436 555.516 204.676 555.516 Q200.047 555.516 197.593 558.64 Q195.163 561.765 194.815 568.085 Q196.181 566.071 198.241 565.006 Q200.301 563.918 202.778 563.918 Q207.987 563.918 210.996 567.09 Q214.028 570.238 214.028 575.677 Q214.028 581.001 210.88 584.219 Q207.732 587.437 202.5 587.437 Q196.505 587.437 193.334 582.853 Q190.163 578.247 190.163 569.52 Q190.163 561.326 194.051 556.465 Q197.94 551.58 204.491 551.58 Q206.25 551.58 208.033 551.928 Q209.838 552.275 211.783 552.969 Z\" fill=\"#000000\" fill-rule=\"nonzero\" fill-opacity=\"1\" /><path clip-path=\"url(#clip480)\" d=\"M126.783 282.701 Q123.172 282.701 121.343 286.265 Q119.538 289.807 119.538 296.937 Q119.538 304.043 121.343 307.608 Q123.172 311.149 126.783 311.149 Q130.417 311.149 132.223 307.608 Q134.052 304.043 134.052 296.937 Q134.052 289.807 132.223 286.265 Q130.417 282.701 126.783 282.701 M126.783 278.997 Q132.593 278.997 135.649 283.603 Q138.728 288.187 138.728 296.937 Q138.728 305.663 135.649 310.27 Q132.593 314.853 126.783 314.853 Q120.973 314.853 117.894 310.27 Q114.839 305.663 114.839 296.937 Q114.839 288.187 117.894 283.603 Q120.973 278.997 126.783 278.997 Z\" fill=\"#000000\" fill-rule=\"nonzero\" fill-opacity=\"1\" /><path clip-path=\"url(#clip480)\" d=\"M146.945 308.302 L151.829 308.302 L151.829 314.182 L146.945 314.182 L146.945 308.302 Z\" fill=\"#000000\" fill-rule=\"nonzero\" fill-opacity=\"1\" /><path clip-path=\"url(#clip480)\" d=\"M172.014 282.701 Q168.403 282.701 166.575 286.265 Q164.769 289.807 164.769 296.937 Q164.769 304.043 166.575 307.608 Q168.403 311.149 172.014 311.149 Q175.649 311.149 177.454 307.608 Q179.283 304.043 179.283 296.937 Q179.283 289.807 177.454 286.265 Q175.649 282.701 172.014 282.701 M172.014 278.997 Q177.825 278.997 180.88 283.603 Q183.959 288.187 183.959 296.937 Q183.959 305.663 180.88 310.27 Q177.825 314.853 172.014 314.853 Q166.204 314.853 163.126 310.27 Q160.07 305.663 160.07 296.937 Q160.07 288.187 163.126 283.603 Q166.204 278.997 172.014 278.997 Z\" fill=\"#000000\" fill-rule=\"nonzero\" fill-opacity=\"1\" /><path clip-path=\"url(#clip480)\" d=\"M202.176 297.77 Q198.843 297.77 196.922 299.552 Q195.024 301.335 195.024 304.46 Q195.024 307.585 196.922 309.367 Q198.843 311.149 202.176 311.149 Q205.51 311.149 207.431 309.367 Q209.352 307.562 209.352 304.46 Q209.352 301.335 207.431 299.552 Q205.533 297.77 202.176 297.77 M197.5 295.779 Q194.491 295.038 192.801 292.978 Q191.135 290.918 191.135 287.955 Q191.135 283.812 194.075 281.404 Q197.037 278.997 202.176 278.997 Q207.338 278.997 210.278 281.404 Q213.218 283.812 213.218 287.955 Q213.218 290.918 211.528 292.978 Q209.861 295.038 206.875 295.779 Q210.255 296.566 212.13 298.858 Q214.028 301.15 214.028 304.46 Q214.028 309.483 210.949 312.168 Q207.894 314.853 202.176 314.853 Q196.459 314.853 193.38 312.168 Q190.325 309.483 190.325 304.46 Q190.325 301.15 192.223 298.858 Q194.121 296.566 197.5 295.779 M195.787 288.395 Q195.787 291.08 197.454 292.585 Q199.144 294.089 202.176 294.089 Q205.186 294.089 206.875 292.585 Q208.588 291.08 208.588 288.395 Q208.588 285.71 206.875 284.205 Q205.186 282.701 202.176 282.701 Q199.144 282.701 197.454 284.205 Q195.787 285.71 195.787 288.395 Z\" fill=\"#000000\" fill-rule=\"nonzero\" fill-opacity=\"1\" /><path clip-path=\"url(#clip480)\" d=\"M24.8606 806.044 Q26.2777 806.044 27.3404 807.204 Q28.371 808.331 28.371 809.555 Q28.371 810.682 27.6947 811.391 Q26.9862 812.067 25.9878 812.067 Q24.6674 812.067 23.5724 810.94 Q22.4774 809.812 22.4774 808.492 Q22.4774 807.397 23.1537 806.721 Q23.83 806.044 24.8606 806.044 M56.6478 805.465 Q56.9054 805.465 57.936 805.755 Q58.9344 806.044 60.4803 806.753 Q61.994 807.429 63.411 808.363 Q64.8281 809.297 65.8264 810.843 Q66.8248 812.357 66.8248 814.096 Q66.8248 816.447 65.2789 817.993 Q63.7331 819.506 61.4142 819.506 Q60.1582 819.506 56.1325 817.993 Q44.4096 813.613 43.9265 813.452 Q42.0907 812.711 40.4804 812.711 Q39.7397 812.711 39.2888 812.872 Q38.8057 813.033 38.6447 813.355 Q38.4515 813.677 38.4193 813.87 Q38.3871 814.031 38.3871 814.354 Q38.3871 816.254 40.3194 818.025 Q42.2518 819.796 46.5673 821.02 Q47.3725 821.278 47.5657 821.439 Q47.759 821.6 47.759 822.083 Q47.7268 822.888 47.0826 822.888 Q46.8894 822.888 46.1487 822.663 Q45.3757 822.437 44.2163 822.018 Q43.0247 821.6 41.8009 820.859 Q40.5448 820.118 39.4498 819.217 Q38.3548 818.283 37.6463 816.962 Q36.9378 815.642 36.9378 814.16 Q36.9378 811.745 38.5159 810.263 Q40.0618 808.75 42.3484 808.75 Q43.6044 808.75 45.8266 809.619 Q48.7251 810.682 49.6591 811.069 L56.5834 813.645 Q59.0954 814.579 59.8684 814.869 Q60.6091 815.126 61.5109 815.352 Q62.3804 815.545 63.1856 815.545 Q64.3128 815.545 64.8281 815.191 Q65.3434 814.804 65.3434 813.967 Q65.3434 811.648 63.0567 809.941 Q60.7379 808.234 57.1953 807.236 Q57.0987 807.204 56.9376 807.172 Q56.1325 806.914 56.0359 806.656 Q56.0037 806.527 56.0037 806.27 Q56.0037 805.465 56.6478 805.465 Z\" fill=\"#000000\" fill-rule=\"nonzero\" fill-opacity=\"1\" /><path clip-path=\"url(#clip480)\" d=\"M49.5947 794.824 Q38.4515 794.824 29.466 790.669 Q25.6979 788.898 22.5418 786.418 Q19.3856 783.938 18.0007 782.296 Q16.6159 780.653 16.6159 780.202 Q16.6159 779.558 17.26 779.526 Q17.5821 779.526 18.3872 780.395 Q29.2084 791.023 49.5947 790.991 Q70.0454 790.991 80.4479 780.653 Q81.5751 779.526 81.9294 779.526 Q82.5735 779.526 82.5735 780.202 Q82.5735 780.653 81.2531 782.231 Q79.9326 783.809 76.9053 786.257 Q73.8779 788.705 70.1742 790.476 Q61.1888 794.824 49.5947 794.824 Z\" fill=\"#000000\" fill-rule=\"nonzero\" fill-opacity=\"1\" /><path clip-path=\"url(#clip480)\" d=\"M38.3871 754.255 Q39.2888 754.255 39.5143 754.673 Q39.7075 755.092 39.7075 756.252 L39.7075 762.435 L59.1598 767.33 Q60.8667 767.717 62.316 767.717 Q63.9263 767.717 64.6348 767.234 Q65.3434 766.718 65.3434 765.656 Q65.3434 763.562 63.4432 761.308 Q61.5431 759.021 56.9054 757.089 Q56.2935 756.831 56.1647 756.702 Q56.0037 756.541 56.0037 756.123 Q56.0037 755.318 56.6478 755.318 Q56.8732 755.318 57.9038 755.768 Q58.9344 756.187 60.4481 757.121 Q61.9617 758.023 63.3788 759.215 Q64.7959 760.374 65.8264 762.145 Q66.8248 763.917 66.8248 765.817 Q66.8248 768.49 65.1179 770.197 Q63.411 771.871 60.7379 771.871 Q59.8684 771.871 57.0987 771.195 Q54.2967 770.519 39.7075 766.847 L39.7075 772.677 Q39.7075 773.482 39.6753 773.804 Q39.6431 774.094 39.4821 774.319 Q39.2888 774.512 38.9023 774.512 Q38.2904 774.512 38.0328 774.255 Q37.7429 773.997 37.7107 773.675 Q37.6463 773.321 37.6463 772.516 L37.6463 766.332 L27.1794 763.756 Q26.1488 763.498 25.5691 762.854 Q24.9572 762.177 24.8928 761.791 Q24.7962 761.405 24.7962 761.115 Q24.7962 760.245 25.2793 759.73 Q25.7302 759.215 26.5675 759.215 Q27.0184 759.215 37.6463 761.92 L37.6463 756.123 Q37.6463 755.382 37.6785 755.092 Q37.7107 754.77 37.8718 754.512 Q38.0328 754.255 38.3871 754.255 Z\" fill=\"#000000\" fill-rule=\"nonzero\" fill-opacity=\"1\" /><path clip-path=\"url(#clip480)\" d=\"M81.9294 749.091 Q81.6073 749.091 80.8022 748.254 Q69.981 737.626 49.5947 737.626 Q29.144 737.626 18.8059 747.835 Q17.6143 749.091 17.26 749.091 Q16.6159 749.091 16.6159 748.447 Q16.6159 747.996 17.9363 746.418 Q19.2568 744.808 22.2841 742.393 Q25.3115 739.945 29.0151 738.141 Q38.0006 733.794 49.5947 733.794 Q60.7379 733.794 69.7234 737.948 Q73.4914 739.719 76.6476 742.199 Q79.8038 744.679 81.1886 746.322 Q82.5735 747.964 82.5735 748.447 Q82.5735 749.091 81.9294 749.091 Z\" fill=\"#000000\" fill-rule=\"nonzero\" fill-opacity=\"1\" /><path clip-path=\"url(#clip480)\" d=\"M871.976 12.096 L882.994 12.096 L909.811 62.6918 L909.811 12.096 L917.751 12.096 L917.751 72.576 L906.733 72.576 L879.916 21.9802 L879.916 72.576 L871.976 72.576 L871.976 12.096 Z\" fill=\"#000000\" fill-rule=\"nonzero\" fill-opacity=\"1\" /><path clip-path=\"url(#clip480)\" d=\"M932.942 54.671 L932.942 27.2059 L940.396 27.2059 L940.396 54.3874 Q940.396 60.8284 942.907 64.0691 Q945.419 67.2693 950.442 67.2693 Q956.478 67.2693 959.962 63.421 Q963.486 59.5726 963.486 52.9291 L963.486 27.2059 L970.94 27.2059 L970.94 72.576 L963.486 72.576 L963.486 65.6084 Q960.772 69.7404 957.166 71.7658 Q953.602 73.7508 948.862 73.7508 Q941.044 73.7508 936.993 68.8897 Q932.942 64.0286 932.942 54.671 M951.698 26.1121 L951.698 26.1121 Z\" fill=\"#000000\" fill-rule=\"nonzero\" fill-opacity=\"1\" /><path clip-path=\"url(#clip480)\" d=\"M1021.62 35.9153 Q1024.41 30.8922 1028.3 28.5022 Q1032.19 26.1121 1037.46 26.1121 Q1044.54 26.1121 1048.39 31.0947 Q1052.24 36.0368 1052.24 45.1919 L1052.24 72.576 L1044.75 72.576 L1044.75 45.4349 Q1044.75 38.913 1042.44 35.7533 Q1040.13 32.5936 1035.39 32.5936 Q1029.6 32.5936 1026.23 36.4419 Q1022.87 40.2903 1022.87 46.9338 L1022.87 72.576 L1015.38 72.576 L1015.38 45.4349 Q1015.38 38.8725 1013.07 35.7533 Q1010.76 32.5936 1005.94 32.5936 Q1000.23 32.5936 996.865 36.4824 Q993.503 40.3308 993.503 46.9338 L993.503 72.576 L986.009 72.576 L986.009 27.2059 L993.503 27.2059 L993.503 34.2544 Q996.055 30.082 999.62 28.0971 Q1003.18 26.1121 1008.09 26.1121 Q1013.03 26.1121 1016.47 28.6237 Q1019.96 31.1352 1021.62 35.9153 Z\" fill=\"#000000\" fill-rule=\"nonzero\" fill-opacity=\"1\" /><path clip-path=\"url(#clip480)\" d=\"M1099.68 49.9314 Q1099.68 41.7081 1096.27 37.0496 Q1092.91 32.3505 1087 32.3505 Q1081.08 32.3505 1077.68 37.0496 Q1074.32 41.7081 1074.32 49.9314 Q1074.32 58.1548 1077.68 62.8538 Q1081.08 67.5124 1087 67.5124 Q1092.91 67.5124 1096.27 62.8538 Q1099.68 58.1548 1099.68 49.9314 M1074.32 34.0924 Q1076.67 30.0415 1080.23 28.0971 Q1083.84 26.1121 1088.82 26.1121 Q1097.08 26.1121 1102.23 32.6746 Q1107.41 39.2371 1107.41 49.9314 Q1107.41 60.6258 1102.23 67.1883 Q1097.08 73.7508 1088.82 73.7508 Q1083.84 73.7508 1080.23 71.8063 Q1076.67 69.8214 1074.32 65.7705 L1074.32 72.576 L1066.82 72.576 L1066.82 9.54393 L1074.32 9.54393 L1074.32 34.0924 Z\" fill=\"#000000\" fill-rule=\"nonzero\" fill-opacity=\"1\" /><path clip-path=\"url(#clip480)\" d=\"M1158.58 48.0275 L1158.58 51.6733 L1124.31 51.6733 Q1124.79 59.3701 1128.92 63.421 Q1133.1 67.4314 1140.51 67.4314 Q1144.8 67.4314 1148.81 66.3781 Q1152.87 65.3249 1156.84 63.2184 L1156.84 70.267 Q1152.83 71.9684 1148.61 72.8596 Q1144.4 73.7508 1140.06 73.7508 Q1129.21 73.7508 1122.85 67.4314 Q1116.53 61.1119 1116.53 50.3365 Q1116.53 39.1965 1122.52 32.6746 Q1128.56 26.1121 1138.77 26.1121 Q1147.92 26.1121 1153.23 32.0264 Q1158.58 37.9003 1158.58 48.0275 M1151.12 45.84 Q1151.04 39.7232 1147.68 36.0774 Q1144.36 32.4315 1138.85 32.4315 Q1132.61 32.4315 1128.84 35.9558 Q1125.12 39.4801 1124.55 45.8805 L1151.12 45.84 Z\" fill=\"#000000\" fill-rule=\"nonzero\" fill-opacity=\"1\" /><path clip-path=\"url(#clip480)\" d=\"M1197.1 34.1734 Q1195.85 33.4443 1194.35 33.1202 Q1192.89 32.7556 1191.11 32.7556 Q1184.79 32.7556 1181.38 36.8875 Q1178.02 40.9789 1178.02 48.6757 L1178.02 72.576 L1170.53 72.576 L1170.53 27.2059 L1178.02 27.2059 L1178.02 34.2544 Q1180.37 30.1225 1184.14 28.1376 Q1187.91 26.1121 1193.29 26.1121 Q1194.06 26.1121 1195 26.2337 Q1195.93 26.3147 1197.06 26.5172 L1197.1 34.1734 Z\" fill=\"#000000\" fill-rule=\"nonzero\" fill-opacity=\"1\" /><path clip-path=\"url(#clip480)\" d=\"M1248.87 32.4315 Q1242.88 32.4315 1239.39 37.1306 Q1235.91 41.7891 1235.91 49.9314 Q1235.91 58.0738 1239.35 62.7728 Q1242.84 67.4314 1248.87 67.4314 Q1254.83 67.4314 1258.31 62.7323 Q1261.79 58.0333 1261.79 49.9314 Q1261.79 41.8701 1258.31 37.1711 Q1254.83 32.4315 1248.87 32.4315 M1248.87 26.1121 Q1258.59 26.1121 1264.14 32.4315 Q1269.69 38.7509 1269.69 49.9314 Q1269.69 61.0714 1264.14 67.4314 Q1258.59 73.7508 1248.87 73.7508 Q1239.11 73.7508 1233.56 67.4314 Q1228.05 61.0714 1228.05 49.9314 Q1228.05 38.7509 1233.56 32.4315 Q1239.11 26.1121 1248.87 26.1121 Z\" fill=\"#000000\" fill-rule=\"nonzero\" fill-opacity=\"1\" /><path clip-path=\"url(#clip480)\" d=\"M1305.02 9.54393 L1305.02 15.7418 L1297.89 15.7418 Q1293.88 15.7418 1292.3 17.3622 Q1290.76 18.9825 1290.76 23.1955 L1290.76 27.2059 L1303.03 27.2059 L1303.03 32.9987 L1290.76 32.9987 L1290.76 72.576 L1283.26 72.576 L1283.26 32.9987 L1276.13 32.9987 L1276.13 27.2059 L1283.26 27.2059 L1283.26 24.0462 Q1283.26 16.471 1286.79 13.0277 Q1290.31 9.54393 1297.97 9.54393 L1305.02 9.54393 Z\" fill=\"#000000\" fill-rule=\"nonzero\" fill-opacity=\"1\" /><path clip-path=\"url(#clip480)\" d=\"M1337.95 12.096 L1346.13 12.096 L1346.13 72.576 L1337.95 72.576 L1337.95 12.096 Z\" fill=\"#000000\" fill-rule=\"nonzero\" fill-opacity=\"1\" /><path clip-path=\"url(#clip480)\" d=\"M1399.81 45.1919 L1399.81 72.576 L1392.36 72.576 L1392.36 45.4349 Q1392.36 38.994 1389.84 35.7938 Q1387.33 32.5936 1382.31 32.5936 Q1376.27 32.5936 1372.79 36.4419 Q1369.31 40.2903 1369.31 46.9338 L1369.31 72.576 L1361.81 72.576 L1361.81 27.2059 L1369.31 27.2059 L1369.31 34.2544 Q1371.98 30.163 1375.58 28.1376 Q1379.23 26.1121 1383.97 26.1121 Q1391.79 26.1121 1395.8 30.9732 Q1399.81 35.7938 1399.81 45.1919 Z\" fill=\"#000000\" fill-rule=\"nonzero\" fill-opacity=\"1\" /><path clip-path=\"url(#clip480)\" d=\"M1437.64 9.54393 L1437.64 15.7418 L1430.51 15.7418 Q1426.5 15.7418 1424.92 17.3622 Q1423.39 18.9825 1423.39 23.1955 L1423.39 27.2059 L1435.66 27.2059 L1435.66 32.9987 L1423.39 32.9987 L1423.39 72.576 L1415.89 72.576 L1415.89 32.9987 L1408.76 32.9987 L1408.76 27.2059 L1415.89 27.2059 L1415.89 24.0462 Q1415.89 16.471 1419.42 13.0277 Q1422.94 9.54393 1430.6 9.54393 L1437.64 9.54393 Z\" fill=\"#000000\" fill-rule=\"nonzero\" fill-opacity=\"1\" /><path clip-path=\"url(#clip480)\" d=\"M1482.69 48.0275 L1482.69 51.6733 L1448.42 51.6733 Q1448.91 59.3701 1453.04 63.421 Q1457.21 67.4314 1464.62 67.4314 Q1468.92 67.4314 1472.93 66.3781 Q1476.98 65.3249 1480.95 63.2184 L1480.95 70.267 Q1476.94 71.9684 1472.73 72.8596 Q1468.51 73.7508 1464.18 73.7508 Q1453.32 73.7508 1446.96 67.4314 Q1440.64 61.1119 1440.64 50.3365 Q1440.64 39.1965 1446.64 32.6746 Q1452.67 26.1121 1462.88 26.1121 Q1472.04 26.1121 1477.34 32.0264 Q1482.69 37.9003 1482.69 48.0275 M1475.24 45.84 Q1475.16 39.7232 1471.79 36.0774 Q1468.47 32.4315 1462.96 32.4315 Q1456.72 32.4315 1452.96 35.9558 Q1449.23 39.4801 1448.66 45.8805 L1475.24 45.84 Z\" fill=\"#000000\" fill-rule=\"nonzero\" fill-opacity=\"1\" /><path clip-path=\"url(#clip480)\" d=\"M1527.57 28.9478 L1527.57 35.9153 Q1524.41 34.1734 1521.21 33.3227 Q1518.05 32.4315 1514.81 32.4315 Q1507.56 32.4315 1503.55 37.0496 Q1499.54 41.6271 1499.54 49.9314 Q1499.54 58.2358 1503.55 62.8538 Q1507.56 67.4314 1514.81 67.4314 Q1518.05 67.4314 1521.21 66.5807 Q1524.41 65.6895 1527.57 63.9476 L1527.57 70.8341 Q1524.46 72.2924 1521.09 73.0216 Q1517.77 73.7508 1514 73.7508 Q1503.75 73.7508 1497.72 67.3098 Q1491.68 60.8689 1491.68 49.9314 Q1491.68 38.832 1497.76 32.472 Q1503.88 26.1121 1514.49 26.1121 Q1517.93 26.1121 1521.21 26.8413 Q1524.5 27.5299 1527.57 28.9478 Z\" fill=\"#000000\" fill-rule=\"nonzero\" fill-opacity=\"1\" /><path clip-path=\"url(#clip480)\" d=\"M1547.91 14.324 L1547.91 27.2059 L1563.26 27.2059 L1563.26 32.9987 L1547.91 32.9987 L1547.91 57.6282 Q1547.91 63.1779 1549.41 64.7578 Q1550.95 66.3376 1555.61 66.3376 L1563.26 66.3376 L1563.26 72.576 L1555.61 72.576 Q1546.98 72.576 1543.7 69.3758 Q1540.42 66.1351 1540.42 57.6282 L1540.42 32.9987 L1534.95 32.9987 L1534.95 27.2059 L1540.42 27.2059 L1540.42 14.324 L1547.91 14.324 Z\" fill=\"#000000\" fill-rule=\"nonzero\" fill-opacity=\"1\" /><path clip-path=\"url(#clip480)\" d=\"M1573.07 27.2059 L1580.52 27.2059 L1580.52 72.576 L1573.07 72.576 L1573.07 27.2059 M1573.07 9.54393 L1580.52 9.54393 L1580.52 18.9825 L1573.07 18.9825 L1573.07 9.54393 Z\" fill=\"#000000\" fill-rule=\"nonzero\" fill-opacity=\"1\" /><path clip-path=\"url(#clip480)\" d=\"M1613.7 32.4315 Q1607.7 32.4315 1604.22 37.1306 Q1600.73 41.7891 1600.73 49.9314 Q1600.73 58.0738 1604.18 62.7728 Q1607.66 67.4314 1613.7 67.4314 Q1619.65 67.4314 1623.14 62.7323 Q1626.62 58.0333 1626.62 49.9314 Q1626.62 41.8701 1623.14 37.1711 Q1619.65 32.4315 1613.7 32.4315 M1613.7 26.1121 Q1623.42 26.1121 1628.97 32.4315 Q1634.52 38.7509 1634.52 49.9314 Q1634.52 61.0714 1628.97 67.4314 Q1623.42 73.7508 1613.7 73.7508 Q1603.93 73.7508 1598.38 67.4314 Q1592.87 61.0714 1592.87 49.9314 Q1592.87 38.7509 1598.38 32.4315 Q1603.93 26.1121 1613.7 26.1121 Z\" fill=\"#000000\" fill-rule=\"nonzero\" fill-opacity=\"1\" /><path clip-path=\"url(#clip480)\" d=\"M1684.59 45.1919 L1684.59 72.576 L1677.13 72.576 L1677.13 45.4349 Q1677.13 38.994 1674.62 35.7938 Q1672.11 32.5936 1667.09 32.5936 Q1661.05 32.5936 1657.57 36.4419 Q1654.08 40.2903 1654.08 46.9338 L1654.08 72.576 L1646.59 72.576 L1646.59 27.2059 L1654.08 27.2059 L1654.08 34.2544 Q1656.76 30.163 1660.36 28.1376 Q1664.01 26.1121 1668.75 26.1121 Q1676.57 26.1121 1680.58 30.9732 Q1684.59 35.7938 1684.59 45.1919 Z\" fill=\"#000000\" fill-rule=\"nonzero\" fill-opacity=\"1\" /><path clip-path=\"url(#clip480)\" d=\"M1728.38 28.5427 L1728.38 35.5912 Q1725.22 33.9709 1721.82 33.1607 Q1718.41 32.3505 1714.77 32.3505 Q1709.22 32.3505 1706.42 34.0519 Q1703.67 35.7533 1703.67 39.156 Q1703.67 41.7486 1705.65 43.2475 Q1707.64 44.7058 1713.63 46.0426 L1716.18 46.6097 Q1724.12 48.3111 1727.45 51.4303 Q1730.81 54.509 1730.81 60.0587 Q1730.81 66.3781 1725.79 70.0644 Q1720.8 73.7508 1712.05 73.7508 Q1708.41 73.7508 1704.44 73.0216 Q1700.51 72.3329 1696.13 70.9151 L1696.13 63.2184 Q1700.26 65.3654 1704.27 66.4591 Q1708.29 67.5124 1712.21 67.5124 Q1717.48 67.5124 1720.32 65.73 Q1723.15 63.9071 1723.15 60.6258 Q1723.15 57.5877 1721.09 55.9673 Q1719.06 54.3469 1712.13 52.8481 L1709.54 52.2405 Q1702.61 50.7821 1699.54 47.7845 Q1696.46 44.7463 1696.46 39.4801 Q1696.46 33.0797 1700.99 29.5959 Q1705.53 26.1121 1713.88 26.1121 Q1718.01 26.1121 1721.65 26.7198 Q1725.3 27.3274 1728.38 28.5427 Z\" fill=\"#000000\" fill-rule=\"nonzero\" fill-opacity=\"1\" /><polyline clip-path=\"url(#clip482)\" style=\"stroke:#009af9; stroke-linecap:round; stroke-linejoin:round; stroke-width:4; stroke-opacity:1; fill:none\" points=\"250.028,1386.2 250.085,1386.2 250.098,1386.2 250.113,1386.2 250.131,1386.2 250.15,1386.2 250.172,1386.2 250.196,1386.2 250.224,1386.2 250.254,1386.21 250.289,1386.21 250.328,1386.21 250.372,1386.21 250.422,1386.21 250.478,1386.21 250.54,1386.21 250.611,1386.21 250.69,1386.21 250.779,1386.21 250.88,1386.21 250.993,1386.21 251.12,1386.21 251.263,1386.21 251.424,1386.21 251.604,1386.21 251.807,1386.22 252.029,1386.22 252.271,1386.22 252.531,1386.22 252.806,1386.22 253.096,1386.23 253.4,1386.23 253.716,1386.23 254.043,1386.23 254.381,1386.23 254.726,1386.24 255.077,1386.24 255.434,1386.24 255.799,1386.24 256.17,1386.25 256.547,1386.25 256.928,1386.25 257.314,1386.25 257.7,1386.26 258.091,1386.26 258.486,1386.26 258.886,1386.26 259.288,1386.27 259.692,1386.27 260.101,1386.27 260.512,1386.27 260.929,1386.28 261.353,1386.28 261.783,1386.28 262.218,1386.28 262.657,1386.29 263.1,1386.29 263.543,1386.29 263.988,1386.29 264.44,1386.29 264.893,1386.3 265.351,1386.3 265.818,1386.3 266.292,1386.3 266.77,1386.31 267.252,1386.31 267.743,1386.31 268.245,1386.31 268.755,1386.31 269.273,1386.32 269.797,1386.32 270.325,1386.32 270.856,1386.32 271.395,1386.32 271.934,1386.32 272.472,1386.33 273.013,1386.33 273.557,1386.33 274.1,1386.33 274.642,1386.33 275.187,1386.34 275.735,1386.34 276.283,1386.34 276.826,1386.34 277.37,1386.34 277.92,1386.35 278.477,1386.35 279.041,1386.35 279.611,1386.35 280.183,1386.35 280.758,1386.35 281.336,1386.36 281.92,1386.36 282.508,1386.36 283.102,1386.36 283.702,1386.36 284.313,1386.36 284.927,1386.37 285.547,1386.37 286.171,1386.37 286.804,1386.37 287.448,1386.37 288.104,1386.37 288.767,1386.37 289.44,1386.37 290.126,1386.37 290.834,1386.38 291.549,1386.38 292.267,1386.38 292.996,1386.38 293.736,1386.38 294.484,1386.38 295.23,1386.38 295.973,1386.38 296.718,1386.38 297.465,1386.38 298.214,1386.38 298.966,1386.38 299.728,1386.39 300.497,1386.39 301.27,1386.39 302.051,1386.39 302.839,1386.39 303.642,1386.39 304.459,1386.39 305.279,1386.39 306.115,1386.39 306.96,1386.39 307.83,1386.39 308.728,1386.39 309.653,1386.39 310.607,1386.39 311.58,1386.39 312.583,1386.38 313.621,1386.38 314.667,1386.38 315.741,1386.38 316.828,1386.38 317.913,1386.38 319.005,1386.38 320.142,1386.37 321.336,1386.37 322.582,1386.37 323.903,1386.36 325.298,1386.36 326.75,1386.36 328.322,1386.35 329.96,1386.34 331.636,1386.34 333.398,1386.33 335.195,1386.32 337.017,1386.32 338.764,1386.31 340.539,1386.31 342.301,1386.3 344.112,1386.29 345.915,1386.29 347.804,1386.28 349.711,1386.27 351.61,1386.27 353.445,1386.26 355.252,1386.26 356.987,1386.25 358.695,1386.25 360.376,1386.24 362.056,1386.23 363.727,1386.23 365.39,1386.22 367.05,1386.22 368.684,1386.21 370.356,1386.21 372.079,1386.2 373.889,1386.19 375.788,1386.18 377.668,1386.18 379.54,1386.17 381.46,1386.16 383.428,1386.15 385.406,1386.14 387.401,1386.13 389.426,1386.12 391.523,1386.11 393.802,1386.1 396.288,1386.08 398.893,1386.06 401.497,1386.04 404.259,1386.02 407.272,1386 410.406,1385.97 413.932,1385.94 417.854,1385.91 422.164,1385.86 427.012,1385.8 432.467,1385.74 438.603,1385.66 445.507,1385.57 453.172,1385.44 461.795,1385.28 469.225,1385.14 477.26,1384.97 486.002,1384.77 495.301,1384.53 505.764,1384.25 514.847,1384.01 525.065,1383.72 536.188,1383.38 548.463,1382.93 562.272,1382.22 568.776,1381.81 574.676,1381.43 580.31,1381.04 585.855,1380.64 591.262,1380.21 596.281,1379.8 601.335,1379.38 606.47,1378.93 611.904,1378.43 617.482,1377.87 622.689,1377.28 627.613,1376.74 632.589,1376.16 638.179,1375.44 643.076,1374.73 647.805,1374.02 652.23,1373.31 656.681,1372.6 661.036,1371.93 665.936,1371.13 670.848,1370.27 675.907,1369.37 681.451,1368.36 687.488,1367.07 693.145,1365.67 697.822,1364.5 702.84,1363.16 707.565,1361.84 712.292,1360.45 717.055,1359.03 721.834,1357.7 727.211,1356.05 732.458,1354.33 738.058,1352.41 743.931,1350.34 750.538,1347.77 756.642,1345.44 763.509,1342.68 771.235,1339.2 777.816,1335.95 784.565,1332.59 792.159,1328.3 799.611,1324.08 807.609,1319.44 816.606,1314.7 825.094,1309.8 834.057,1303.94 844.14,1297.04 854.65,1289.86 865.308,1282.25 873.627,1275.93 882.627,1268.44 892.752,1259.87 902.052,1251.03 911.165,1241 921.417,1228.65 932.118,1213.86 943.071,1195.71 952.002,1180.62 961.867,1162.28 970.938,1146.09 980.917,1128.18 990.448,1109.51 999.73,1088.19 1008.79,1063.71 1016.2,1042.56 1023.47,1022.39 1030.65,1002.58 1037.87,983.89 1044.93,967.838 1051.29,953.903 1057.03,942.119 1062.59,931.136 1067.61,920.196 1072.46,908.124 1077.58,894.925 1082.67,881.612 1087.77,868.886 1092.66,857.346 1097.21,847.361 1101.58,836.719 1106.04,826.36 1110.29,814.653 1114.75,803.899 1119.01,793.276 1123.25,782.955 1127.46,772.672 1131.55,762.307 1135.67,750.811 1139.84,739.844 1143.97,729.685 1147.93,719.655 1151.93,709.154 1155.9,697.738 1159.96,686.659 1163.95,676.562 1167.88,665.911 1171.8,653.65 1175.78,643.119 1179.7,632.547 1183.55,621.435 1187.45,610.491 1191.3,598.377 1195.13,586.858 1198.93,575.564 1202.7,565.057 1206.45,555.802 1210.17,546.691 1213.84,539.35 1217.43,531.522 1221.04,522.827 1224.61,514.516 1228.2,507.196 1231.72,500.107 1235.22,493.251 1238.7,486.249 1242.16,478.959 1245.63,469.784 1249.09,459.722 1252.44,449.303 1255.75,437.752 1258.89,428.845 1262.08,420.261 1265.29,412.052 1268.46,405.46 1271.69,400.48 1274.92,396.402 1278.16,390.928 1281.4,386.079 1284.65,380.855 1287.89,377.167 1291.14,374.4 1294.37,370.34 1297.62,364.788 1300.83,358.42 1303.98,351.98 1307.03,346.259 1310.08,341.602 1313.15,337.361 1316.23,334.767 1319.35,332.216 1322.48,330.092 1325.62,328.401 1328.76,328.05 1331.94,326.727 1335.12,324.476 1338.25,322.938 1341.41,321.509 1344.55,320.87 1347.71,321.529 1350.91,321.789 1354.11,322.634 1357.32,322.771 1360.51,323.4 1363.73,325.322 1366.97,327.209 1370.23,328.698 1373.47,329.262 1376.67,328.778 1379.78,328.289 1382.77,329.889 1385.95,332.899 1389.13,337.226 1392.4,341.789 1395.7,346.006 1399.01,348.229 1402.28,348.85 1405.34,349.275 1408.32,349.576 1411.23,348.689 1413.92,348.881 1416.62,349.436 1419.31,351.076 1422.02,353.028 1424.76,354.905 1427.49,356.139 1430.09,357.118 1432.65,357.584 1435.13,357.7 1437.48,357.782 1439.78,358.081 1442.04,359.396 1444.34,361.06 1446.66,363.328 1449.01,365.676 1451.34,368.675 1453.75,371.517 1456.17,373.649 1458.47,376.422 1460.81,379.951 1463.26,383.337 1465.68,386.611 1468.08,389.383 1470.43,391.43 1472.67,393.665 1474.9,395.851 1477.11,398.025 1479.24,400.518 1481.38,403.342 1483.53,406.225 1485.69,409.004 1487.81,411.654 1489.94,414.229 1491.98,417.283 1494.09,420.834 1496.2,423.908 1498.3,426.837 1500.34,429.363 1502.31,432.099 1504.3,434.587 1506.25,437.298 1508.17,440.14 1510.1,443.162 1512.03,445.938 1513.92,448.574 1515.79,451.158 1517.65,453.622 1519.44,456.11 1521.25,458.617 1523.04,461.294 1524.8,464.131 1526.6,466.875 1528.37,469.535 1530.12,472.314 1531.86,474.833 1533.58,477.345 1535.28,480.13 1536.98,483.339 1538.73,486.847 1540.49,490.859 1542.33,495.168 1544.19,499.601 1546.1,503.874 1547.98,508.096 1549.85,512.554 1551.77,516.984 1553.68,521.321 1555.59,525.687 1557.48,530.255 1559.39,534.961 1561.32,539.727 1563.27,544.592 1565.21,549.729 1567.21,554.923 1569.21,560.008 1571.2,564.875 1573.14,570.14 1575.15,575.855 1577.23,581.847 1579.31,587.818 1581.43,594.148 1583.59,600.55 1585.77,607.549 1588.1,615.027 1590.5,622.408 1592.86,629.358 1595.16,636.282 1597.51,643.746 1599.94,651.716 1602.5,660.131 1605.1,669.012 1607.87,678.394 1610.68,687.605 1613.51,697.15 1616.45,707.307 1619.58,718.473 1622.93,730.221 1626.4,742.612 1630.18,755.959 1634.19,769.714 1638.17,783.656 1642.46,798.876 1647.29,815.643 1652.15,832.359 1657.56,850.428 1663.22,868.46 1668.94,886.079 1674.47,902.516 1680.55,919.845 1686.29,935.815 1692.17,951.915 1698.36,967.825 1704.75,983.296 1710.25,996.451 1715.57,1009.1 1721.53,1022.82 1727.32,1036.22 1733.83,1050.77 1740.67,1065.07 1747.38,1078.37 1753.87,1090.29 1759.53,1100.66 1765.25,1111.39 1771.7,1122.98 1778.47,1135.33 1786.1,1148.74 1793.86,1161.97 1800.97,1173.41 1808.96,1185.91 1816.08,1196.31 1823.61,1206.67 1830.94,1216.46 1838.42,1225.9 1845.21,1233.92 1852.85,1242.72 1858.87,1249.46 1863.1,1254.23 1866.83,1258.34 1870.34,1262.09 1873.66,1265.47 1877,1268.75 1880.4,1272.01 1883.73,1275.1 1886.97,1278 1890.42,1281.04 1893.78,1283.98 1896.81,1286.59 1899.76,1289.01 1902.88,1291.51 1905.83,1293.83 1908.96,1296.25 1911.81,1298.37 1914.8,1300.51 1917.99,1302.7 1921.2,1304.78 1924.81,1307.05 1928.87,1309.58 1932.91,1312.05 1936.78,1314.34 1940.75,1316.59 1944.79,1318.77 1949.33,1321.16 1953.61,1323.29 1958.42,1325.61 1963.73,1327.95 1969.69,1330.37 1976.41,1333.02 1983.96,1335.78 1991.7,1338.43 1998.24,1340.48 2004.49,1342.38 2010.6,1344.21 2017.48,1346.12 2023.59,1347.78 2029.77,1349.4 2036.62,1351.12 2042.91,1352.64 2049.99,1354.23 2055.94,1355.53 2062.14,1356.86 2069.12,1358.31 2076.84,1359.87 2085.4,1361.57 2095.02,1363.45 2101.98,1364.76 2107.7,1365.76 2113.33,1366.66 2119.67,1367.6 2126.8,1368.6 2133.27,1369.48 2140.56,1370.43 2147.83,1371.32 2154.83,1372.13 2162.72,1373.03 2166.93,1373.48 2171.67,1373.98 2176.14,1374.44 2181.02,1374.92 2186.22,1375.42 2191.07,1375.87 2196,1376.31 2200.75,1376.72 2205.25,1377.08 2210.33,1377.49 2215.09,1377.86 2219.65,1378.2 2224.19,1378.51 2229.3,1378.85 2235.05,1379.21 2241.02,1379.58 2246.11,1379.88 2251.34,1380.18 2257.2,1380.49 2263.78,1380.82 2270.6,1381.15 2277.28,1381.45 2284.64,1381.75 2292.93,1382.09 2298.36,1382.3 2304.47,1382.52 2311.34,1382.76 2317.77,1382.99 2322.9,1383.16 2327.48,1383.31 2331.71,1383.45 2335.89,1383.58 2340.19,1383.7 2344.85,1383.83 2349.61,1383.95 2352.76,1384.03 \"/>\n",
       "<polyline clip-path=\"url(#clip482)\" style=\"stroke:#e26f46; stroke-linecap:round; stroke-linejoin:round; stroke-width:4; stroke-opacity:1; fill:none\" points=\"250.028,1386.2 250.085,1386.2 250.098,1386.2 250.113,1386.2 250.131,1386.2 250.15,1386.2 250.172,1386.2 250.196,1386.2 250.223,1386.2 250.254,1386.21 250.289,1386.21 250.328,1386.21 250.372,1386.21 250.421,1386.21 250.477,1386.21 250.54,1386.21 250.61,1386.21 250.689,1386.21 250.779,1386.21 250.879,1386.21 250.992,1386.21 251.119,1386.21 251.261,1386.21 251.422,1386.21 251.603,1386.22 251.805,1386.22 252.027,1386.22 252.267,1386.22 252.525,1386.22 252.8,1386.22 253.089,1386.23 253.391,1386.23 253.704,1386.23 254.029,1386.23 254.362,1386.23 254.704,1386.24 255.054,1386.24 255.411,1386.24 255.776,1386.24 256.145,1386.25 256.519,1386.25 256.896,1386.25 257.277,1386.25 257.66,1386.26 258.046,1386.26 258.436,1386.26 258.828,1386.26 259.223,1386.27 259.621,1386.27 260.022,1386.27 260.426,1386.27 260.837,1386.28 261.252,1386.28 261.672,1386.28 262.097,1386.28 262.526,1386.29 262.96,1386.29 263.396,1386.29 263.833,1386.29 264.271,1386.3 264.713,1386.3 265.157,1386.3 265.603,1386.3 266.051,1386.31 266.498,1386.31 266.951,1386.31 267.408,1386.31 267.87,1386.31 268.335,1386.32 268.8,1386.32 269.266,1386.32 269.731,1386.32 270.199,1386.33 270.674,1386.33 271.154,1386.33 271.639,1386.33 272.127,1386.33 272.62,1386.34 273.116,1386.34 273.613,1386.34 274.112,1386.34 274.612,1386.34 275.115,1386.35 275.622,1386.35 276.134,1386.35 276.646,1386.35 277.161,1386.35 277.68,1386.36 278.204,1386.36 278.733,1386.36 279.27,1386.36 279.815,1386.36 280.37,1386.36 280.933,1386.37 281.503,1386.37 282.084,1386.37 282.676,1386.37 283.28,1386.37 283.893,1386.37 284.517,1386.37 285.15,1386.37 285.793,1386.38 286.436,1386.38 287.091,1386.38 287.758,1386.38 288.439,1386.38 289.139,1386.38 289.853,1386.38 290.568,1386.38 291.28,1386.38 291.995,1386.39 292.715,1386.39 293.431,1386.39 294.152,1386.39 294.879,1386.39 295.6,1386.39 296.335,1386.39 297.077,1386.39 297.826,1386.39 298.588,1386.39 299.371,1386.39 300.171,1386.39 300.989,1386.39 301.815,1386.39 302.64,1386.39 303.467,1386.39 304.3,1386.4 305.149,1386.4 306.005,1386.4 306.87,1386.4 307.748,1386.4 308.635,1386.4 309.544,1386.4 310.464,1386.39 311.413,1386.39 312.386,1386.39 313.386,1386.39 314.432,1386.39 315.49,1386.39 316.589,1386.39 317.694,1386.39 318.84,1386.38 320.014,1386.38 321.237,1386.38 322.526,1386.38 323.848,1386.37 325.208,1386.37 326.593,1386.36 328.04,1386.36 329.536,1386.36 331.035,1386.35 332.558,1386.35 334.091,1386.34 335.64,1386.34 337.23,1386.33 338.861,1386.33 340.51,1386.32 342.145,1386.32 343.817,1386.31 345.528,1386.31 347.196,1386.3 348.903,1386.3 350.573,1386.29 352.307,1386.29 354.141,1386.28 356.06,1386.27 358.035,1386.26 360.027,1386.25 362.176,1386.24 364.463,1386.23 366.848,1386.21 369.268,1386.2 371.91,1386.18 374.676,1386.17 377.542,1386.15 380.47,1386.13 383.578,1386.11 386.737,1386.09 390.127,1386.06 393.859,1386.03 398.058,1385.99 402.254,1385.95 406.58,1385.92 410.663,1385.89 414.613,1385.86 418.287,1385.82 422.348,1385.79 426.461,1385.74 431.087,1385.69 436.292,1385.62 442.148,1385.55 447.841,1385.47 454.246,1385.38 461.451,1385.24 469.025,1385.08 475.776,1384.93 483.371,1384.75 490.772,1384.53 496.791,1384.35 502.925,1384.16 509.164,1383.95 515.614,1383.72 521.612,1383.48 527.823,1383.24 534.258,1382.95 540.877,1382.61 546.243,1382.32 551.876,1381.99 557.231,1381.65 562.112,1381.33 566.952,1380.98 571.597,1380.64 576.302,1380.28 580.946,1379.89 585.311,1379.51 589.654,1379.1 593.786,1378.69 597.893,1378.28 602.194,1377.85 606.563,1377.42 611.479,1376.91 617.008,1376.33 622.427,1375.73 628.524,1375.04 635.382,1374.17 642.351,1373.18 648.6,1372.32 655.631,1371.35 663.062,1370.28 671.423,1369.13 678.853,1368.16 684.451,1367.39 690.748,1366.56 696.009,1365.81 701.453,1365.01 707.069,1364.11 713.161,1363.01 720.015,1361.82 726.321,1360.62 732.841,1359.28 740.177,1357.64 748.429,1355.54 757.713,1353.16 765.778,1350.79 774.852,1348.06 782.467,1345.72 790.554,1343.33 797.556,1341.05 804.401,1338.71 812.103,1336.06 819.222,1333.21 827.232,1329.88 836.243,1326.13 843.547,1322.81 851.461,1318.94 860.364,1314.3 868.218,1309.73 877.053,1304.65 885.877,1300.17 891.494,1297.48 896.615,1294.57 901.981,1291.13 908.018,1286.51 914.809,1281.02 922.449,1275.08 930.124,1268.4 937.529,1261.93 945.86,1253.78 953.832,1244.24 962.8,1232.56 971.317,1220.56 980.154,1207.26 988.762,1193.93 998.432,1177.15 1006.84,1162.01 1015.34,1146.6 1024.83,1128.63 1033.81,1112.21 1042.82,1098.04 1050.01,1084.82 1057.92,1069.18 1065.08,1051.92 1072.97,1031.09 1080.02,1012.13 1087.2,988.944 1093.72,965.504 1099.24,943.909 1104.34,922.87 1108.98,903.327 1113.49,884.396 1117.79,865.619 1121.93,846.726 1125.78,828.298 1129.43,809.457 1132.84,791.73 1136.11,774.913 1139.3,759.75 1142.62,744.691 1145.99,727.184 1149.18,710.885 1152.3,695.481 1155.5,679.652 1158.67,664.895 1161.86,651.409 1165.17,637.947 1168.56,623.682 1171.95,609.515 1175.33,596.159 1178.73,584.062 1182.17,571.092 1185.62,558.37 1189.05,545.932 1192.48,533.112 1195.89,520.214 1199.28,504.73 1202.57,489.295 1205.71,477.075 1208.95,464.129 1212.17,449.939 1215.26,437.196 1218.35,425.574 1221.47,413.92 1224.54,402.338 1227.61,390.638 1230.61,380.364 1233.66,370.339 1236.67,360.277 1239.69,350.333 1242.67,340.826 1245.65,329.881 1248.58,318.828 1251.43,306.551 1254.21,294.571 1256.88,284.325 1259.59,273.932 1262.27,264.069 1264.91,254.291 1267.54,244.632 1270.12,236.264 1272.74,228.341 1275.35,219.346 1277.91,211.948 1280.47,205.741 1283.1,199.222 1285.7,193.13 1288.31,188.157 1290.95,183.426 1293.59,180.159 1296.26,177.901 1298.94,176.123 1301.62,173.54 1304.33,171.415 1307.03,169.938 1309.75,168.864 1312.48,169.244 1315.2,169.044 1317.93,167.894 1320.68,166.874 1323.44,165.749 1326.2,164.355 1328.95,162.784 1331.71,161.122 1334.44,160.793 1337.2,160.256 1339.96,160.42 1342.73,161.007 1345.52,162.778 1348.33,166.332 1351.14,169.047 1353.97,170.738 1356.79,173.272 1359.65,175.977 1362.51,179.311 1365.39,182.394 1368.29,183.679 1371.13,185.749 1373.99,187.749 1376.83,190.779 1379.71,193.887 1382.59,197.807 1385.49,202.354 1388.44,206.617 1391.37,211.171 1394.33,215.722 1397.28,219.921 1400.23,223.392 1403.11,228.15 1406.03,235.353 1409.07,243.787 1412.13,251.198 1415.23,256.016 1418.23,260.707 1421.15,266.456 1424.18,272.508 1427.15,279.37 1430.24,287.802 1433.39,296.968 1436.61,305.741 1439.83,314.902 1443.11,323.794 1446.37,333.041 1449.7,342.156 1453.03,351.398 1456.35,360.005 1459.66,369.12 1462.99,378.893 1466.4,389.182 1469.83,399.579 1473.31,410.507 1476.86,421.305 1480.42,432.18 1483.99,443.281 1487.6,455.795 1491.32,468.842 1495.16,480.82 1498.95,492.094 1502.59,503.467 1506.34,515.314 1510.11,527.513 1514.06,540.039 1517.88,552.743 1521.92,566.654 1526.04,580.711 1530.25,595.024 1534.56,608.99 1538.88,623.478 1543.3,639.271 1547.98,656.02 1552.75,674.049 1557.56,691.383 1562.49,708.686 1567.63,727.264 1572.71,745.391 1577.79,763.349 1582.87,780.336 1588.31,798.59 1593.82,816.52 1599.36,833.398 1605.41,851.818 1611.6,871.242 1617.28,888.078 1623.23,905.066 1629.48,922.489 1635.95,939.355 1642.79,956.523 1650.22,973.813 1657.9,991.333 1665.57,1008.91 1673.98,1027.05 1682.76,1045.65 1692.15,1064.51 1701.13,1080.79 1711.23,1097.76 1720.78,1112.08 1727.23,1120.53 1732.9,1127.98 1738.16,1134.75 1743.33,1141.42 1748.29,1147.88 1753.61,1154.62 1758.79,1160.89 1763.92,1166.82 1768.51,1172.21 1773.24,1177.66 1778.05,1183.43 1783.47,1189.91 1789.56,1196.84 1795.49,1203.62 1802.16,1210.69 1807.81,1216.67 1814.18,1223.09 1821.34,1230.37 1829.39,1238.06 1837.48,1245.23 1846,1252.35 1854.07,1259.05 1863.14,1266.48 1873.35,1274.28 1884.48,1281.87 1894.11,1288.31 1904.93,1295.3 1917.11,1302.61 1926.29,1307.66 1936.61,1312.8 1948.23,1318.34 1961.29,1324.08 1974.56,1329.57 1985.36,1333.69 1997.51,1337.74 2011.18,1341.97 2025.3,1346.05 2041.18,1350.27 2053.64,1353.32 2065.23,1356.03 2075.32,1358.13 2086.66,1360.38 2097.04,1362.33 2105.86,1363.79 2115.78,1365.31 2126.94,1366.88 2139.5,1368.48 2151.97,1369.83 2157.82,1370.44 2164.41,1371.07 2170.27,1371.66 2176.86,1372.3 2184.28,1372.97 2190.3,1373.52 2197.08,1374.1 2204.71,1374.71 2210.7,1375.2 2217.44,1375.75 2225.01,1376.33 2233.54,1376.93 2243.13,1377.58 2253.92,1378.26 2263.86,1378.84 2275.05,1379.41 2283.74,1379.82 2290.65,1380.13 2298.43,1380.46 2304.89,1380.75 2312.15,1381.06 2320.32,1381.39 2329.52,1381.75 2339.86,1382.15 2345.28,1382.35 2351.38,1382.56 2352.76,1382.61 \"/>\n",
       "<path clip-path=\"url(#clip480)\" d=\"M1797.32 322.316 L2282.66 322.316 L2282.66 166.796 L1797.32 166.796  Z\" fill=\"#ffffff\" fill-rule=\"evenodd\" fill-opacity=\"1\"/>\n",
       "<polyline clip-path=\"url(#clip480)\" style=\"stroke:#000000; stroke-linecap:round; stroke-linejoin:round; stroke-width:4; stroke-opacity:1; fill:none\" points=\"1797.32,322.316 2282.66,322.316 2282.66,166.796 1797.32,166.796 1797.32,322.316 \"/>\n",
       "<polyline clip-path=\"url(#clip480)\" style=\"stroke:#009af9; stroke-linecap:round; stroke-linejoin:round; stroke-width:4; stroke-opacity:1; fill:none\" points=\"1820.69,218.636 1960.87,218.636 \"/>\n",
       "<path clip-path=\"url(#clip480)\" d=\"M1984.23 201.356 L2013.47 201.356 L2013.47 205.291 L2001.2 205.291 L2001.2 235.916 L1996.5 235.916 L1996.5 205.291 L1984.23 205.291 L1984.23 201.356 Z\" fill=\"#000000\" fill-rule=\"nonzero\" fill-opacity=\"1\" /><path clip-path=\"url(#clip480)\" d=\"M2025.85 213.971 Q2025.14 213.555 2024.28 213.37 Q2023.45 213.161 2022.43 213.161 Q2018.82 213.161 2016.87 215.522 Q2014.95 217.86 2014.95 222.258 L2014.95 235.916 L2010.67 235.916 L2010.67 209.99 L2014.95 209.99 L2014.95 214.018 Q2016.29 211.657 2018.45 210.522 Q2020.6 209.365 2023.68 209.365 Q2024.12 209.365 2024.65 209.434 Q2025.18 209.481 2025.83 209.596 L2025.85 213.971 Z\" fill=\"#000000\" fill-rule=\"nonzero\" fill-opacity=\"1\" /><path clip-path=\"url(#clip480)\" d=\"M2042.1 222.883 Q2036.94 222.883 2034.95 224.064 Q2032.96 225.244 2032.96 228.092 Q2032.96 230.36 2034.44 231.703 Q2035.95 233.022 2038.52 233.022 Q2042.06 233.022 2044.19 230.522 Q2046.34 227.999 2046.34 223.832 L2046.34 222.883 L2042.1 222.883 M2050.6 221.124 L2050.6 235.916 L2046.34 235.916 L2046.34 231.981 Q2044.88 234.342 2042.71 235.476 Q2040.53 236.587 2037.38 236.587 Q2033.4 236.587 2031.04 234.365 Q2028.7 232.119 2028.7 228.369 Q2028.7 223.994 2031.62 221.772 Q2034.56 219.55 2040.37 219.55 L2046.34 219.55 L2046.34 219.133 Q2046.34 216.194 2044.4 214.596 Q2042.47 212.976 2038.98 212.976 Q2036.76 212.976 2034.65 213.508 Q2032.54 214.041 2030.6 215.106 L2030.6 211.17 Q2032.94 210.268 2035.14 209.828 Q2037.33 209.365 2039.42 209.365 Q2045.04 209.365 2047.82 212.282 Q2050.6 215.198 2050.6 221.124 Z\" fill=\"#000000\" fill-rule=\"nonzero\" fill-opacity=\"1\" /><path clip-path=\"url(#clip480)\" d=\"M2059.37 209.99 L2063.63 209.99 L2063.63 236.379 Q2063.63 241.332 2061.73 243.555 Q2059.86 245.777 2055.67 245.777 L2054.05 245.777 L2054.05 242.166 L2055.18 242.166 Q2057.61 242.166 2058.49 241.031 Q2059.37 239.92 2059.37 236.379 L2059.37 209.99 M2059.37 199.897 L2063.63 199.897 L2063.63 205.291 L2059.37 205.291 L2059.37 199.897 Z\" fill=\"#000000\" fill-rule=\"nonzero\" fill-opacity=\"1\" /><path clip-path=\"url(#clip480)\" d=\"M2094.72 221.888 L2094.72 223.971 L2075.14 223.971 Q2075.41 228.369 2077.77 230.684 Q2080.16 232.976 2084.39 232.976 Q2086.85 232.976 2089.14 232.374 Q2091.46 231.772 2093.72 230.569 L2093.72 234.596 Q2091.43 235.568 2089.02 236.078 Q2086.62 236.587 2084.14 236.587 Q2077.94 236.587 2074.3 232.976 Q2070.69 229.365 2070.69 223.207 Q2070.69 216.842 2074.12 213.115 Q2077.57 209.365 2083.4 209.365 Q2088.63 209.365 2091.66 212.745 Q2094.72 216.101 2094.72 221.888 M2090.46 220.638 Q2090.41 217.143 2088.49 215.059 Q2086.59 212.976 2083.45 212.976 Q2079.88 212.976 2077.73 214.99 Q2075.6 217.004 2075.27 220.661 L2090.46 220.638 Z\" fill=\"#000000\" fill-rule=\"nonzero\" fill-opacity=\"1\" /><path clip-path=\"url(#clip480)\" d=\"M2120.37 210.985 L2120.37 214.967 Q2118.56 213.971 2116.73 213.485 Q2114.93 212.976 2113.08 212.976 Q2108.93 212.976 2106.64 215.615 Q2104.35 218.231 2104.35 222.976 Q2104.35 227.721 2106.64 230.36 Q2108.93 232.976 2113.08 232.976 Q2114.93 232.976 2116.73 232.49 Q2118.56 231.981 2120.37 230.985 L2120.37 234.92 Q2118.58 235.754 2116.66 236.17 Q2114.77 236.587 2112.61 236.587 Q2106.76 236.587 2103.31 232.906 Q2099.86 229.226 2099.86 222.976 Q2099.86 216.633 2103.33 212.999 Q2106.83 209.365 2112.89 209.365 Q2114.86 209.365 2116.73 209.782 Q2118.61 210.175 2120.37 210.985 Z\" fill=\"#000000\" fill-rule=\"nonzero\" fill-opacity=\"1\" /><path clip-path=\"url(#clip480)\" d=\"M2131.99 202.629 L2131.99 209.99 L2140.76 209.99 L2140.76 213.3 L2131.99 213.3 L2131.99 227.374 Q2131.99 230.545 2132.84 231.448 Q2133.72 232.351 2136.39 232.351 L2140.76 232.351 L2140.76 235.916 L2136.39 235.916 Q2131.45 235.916 2129.58 234.087 Q2127.7 232.235 2127.7 227.374 L2127.7 213.3 L2124.58 213.3 L2124.58 209.99 L2127.7 209.99 L2127.7 202.629 L2131.99 202.629 Z\" fill=\"#000000\" fill-rule=\"nonzero\" fill-opacity=\"1\" /><path clip-path=\"url(#clip480)\" d=\"M2156.41 212.976 Q2152.98 212.976 2150.99 215.661 Q2149 218.323 2149 222.976 Q2149 227.629 2150.97 230.314 Q2152.96 232.976 2156.41 232.976 Q2159.81 232.976 2161.8 230.291 Q2163.79 227.606 2163.79 222.976 Q2163.79 218.37 2161.8 215.684 Q2159.81 212.976 2156.41 212.976 M2156.41 209.365 Q2161.96 209.365 2165.14 212.976 Q2168.31 216.587 2168.31 222.976 Q2168.31 229.342 2165.14 232.976 Q2161.96 236.587 2156.41 236.587 Q2150.83 236.587 2147.66 232.976 Q2144.51 229.342 2144.51 222.976 Q2144.51 216.587 2147.66 212.976 Q2150.83 209.365 2156.41 209.365 Z\" fill=\"#000000\" fill-rule=\"nonzero\" fill-opacity=\"1\" /><path clip-path=\"url(#clip480)\" d=\"M2190.39 213.971 Q2189.67 213.555 2188.82 213.37 Q2187.98 213.161 2186.96 213.161 Q2183.35 213.161 2181.41 215.522 Q2179.49 217.86 2179.49 222.258 L2179.49 235.916 L2175.2 235.916 L2175.2 209.99 L2179.49 209.99 L2179.49 214.018 Q2180.83 211.657 2182.98 210.522 Q2185.14 209.365 2188.21 209.365 Q2188.65 209.365 2189.19 209.434 Q2189.72 209.481 2190.37 209.596 L2190.39 213.971 Z\" fill=\"#000000\" fill-rule=\"nonzero\" fill-opacity=\"1\" /><path clip-path=\"url(#clip480)\" d=\"M2205.64 238.323 Q2203.84 242.953 2202.13 244.365 Q2200.41 245.777 2197.54 245.777 L2194.14 245.777 L2194.14 242.212 L2196.64 242.212 Q2198.4 242.212 2199.37 241.379 Q2200.34 240.545 2201.52 237.443 L2202.29 235.499 L2191.8 209.99 L2196.32 209.99 L2204.42 230.268 L2212.52 209.99 L2217.03 209.99 L2205.64 238.323 Z\" fill=\"#000000\" fill-rule=\"nonzero\" fill-opacity=\"1\" /><path clip-path=\"url(#clip480)\" d=\"M2239.39 231.981 L2247.03 231.981 L2247.03 205.615 L2238.72 207.282 L2238.72 203.022 L2246.99 201.356 L2251.66 201.356 L2251.66 231.981 L2259.3 231.981 L2259.3 235.916 L2239.39 235.916 L2239.39 231.981 Z\" fill=\"#000000\" fill-rule=\"nonzero\" fill-opacity=\"1\" /><polyline clip-path=\"url(#clip480)\" style=\"stroke:#e26f46; stroke-linecap:round; stroke-linejoin:round; stroke-width:4; stroke-opacity:1; fill:none\" points=\"1820.69,270.476 1960.87,270.476 \"/>\n",
       "<path clip-path=\"url(#clip480)\" d=\"M1984.23 253.196 L2013.47 253.196 L2013.47 257.131 L2001.2 257.131 L2001.2 287.756 L1996.5 287.756 L1996.5 257.131 L1984.23 257.131 L1984.23 253.196 Z\" fill=\"#000000\" fill-rule=\"nonzero\" fill-opacity=\"1\" /><path clip-path=\"url(#clip480)\" d=\"M2025.85 265.811 Q2025.14 265.395 2024.28 265.21 Q2023.45 265.001 2022.43 265.001 Q2018.82 265.001 2016.87 267.362 Q2014.95 269.7 2014.95 274.098 L2014.95 287.756 L2010.67 287.756 L2010.67 261.83 L2014.95 261.83 L2014.95 265.858 Q2016.29 263.497 2018.45 262.362 Q2020.6 261.205 2023.68 261.205 Q2024.12 261.205 2024.65 261.274 Q2025.18 261.321 2025.83 261.436 L2025.85 265.811 Z\" fill=\"#000000\" fill-rule=\"nonzero\" fill-opacity=\"1\" /><path clip-path=\"url(#clip480)\" d=\"M2042.1 274.723 Q2036.94 274.723 2034.95 275.904 Q2032.96 277.084 2032.96 279.932 Q2032.96 282.2 2034.44 283.543 Q2035.95 284.862 2038.52 284.862 Q2042.06 284.862 2044.19 282.362 Q2046.34 279.839 2046.34 275.672 L2046.34 274.723 L2042.1 274.723 M2050.6 272.964 L2050.6 287.756 L2046.34 287.756 L2046.34 283.821 Q2044.88 286.182 2042.71 287.316 Q2040.53 288.427 2037.38 288.427 Q2033.4 288.427 2031.04 286.205 Q2028.7 283.959 2028.7 280.209 Q2028.7 275.834 2031.62 273.612 Q2034.56 271.39 2040.37 271.39 L2046.34 271.39 L2046.34 270.973 Q2046.34 268.034 2044.4 266.436 Q2042.47 264.816 2038.98 264.816 Q2036.76 264.816 2034.65 265.348 Q2032.54 265.881 2030.6 266.946 L2030.6 263.01 Q2032.94 262.108 2035.14 261.668 Q2037.33 261.205 2039.42 261.205 Q2045.04 261.205 2047.82 264.122 Q2050.6 267.038 2050.6 272.964 Z\" fill=\"#000000\" fill-rule=\"nonzero\" fill-opacity=\"1\" /><path clip-path=\"url(#clip480)\" d=\"M2059.37 261.83 L2063.63 261.83 L2063.63 288.219 Q2063.63 293.172 2061.73 295.395 Q2059.86 297.617 2055.67 297.617 L2054.05 297.617 L2054.05 294.006 L2055.18 294.006 Q2057.61 294.006 2058.49 292.871 Q2059.37 291.76 2059.37 288.219 L2059.37 261.83 M2059.37 251.737 L2063.63 251.737 L2063.63 257.131 L2059.37 257.131 L2059.37 251.737 Z\" fill=\"#000000\" fill-rule=\"nonzero\" fill-opacity=\"1\" /><path clip-path=\"url(#clip480)\" d=\"M2094.72 273.728 L2094.72 275.811 L2075.14 275.811 Q2075.41 280.209 2077.77 282.524 Q2080.16 284.816 2084.39 284.816 Q2086.85 284.816 2089.14 284.214 Q2091.46 283.612 2093.72 282.409 L2093.72 286.436 Q2091.43 287.408 2089.02 287.918 Q2086.62 288.427 2084.14 288.427 Q2077.94 288.427 2074.3 284.816 Q2070.69 281.205 2070.69 275.047 Q2070.69 268.682 2074.12 264.955 Q2077.57 261.205 2083.4 261.205 Q2088.63 261.205 2091.66 264.585 Q2094.72 267.941 2094.72 273.728 M2090.46 272.478 Q2090.41 268.983 2088.49 266.899 Q2086.59 264.816 2083.45 264.816 Q2079.88 264.816 2077.73 266.83 Q2075.6 268.844 2075.27 272.501 L2090.46 272.478 Z\" fill=\"#000000\" fill-rule=\"nonzero\" fill-opacity=\"1\" /><path clip-path=\"url(#clip480)\" d=\"M2120.37 262.825 L2120.37 266.807 Q2118.56 265.811 2116.73 265.325 Q2114.93 264.816 2113.08 264.816 Q2108.93 264.816 2106.64 267.455 Q2104.35 270.071 2104.35 274.816 Q2104.35 279.561 2106.64 282.2 Q2108.93 284.816 2113.08 284.816 Q2114.93 284.816 2116.73 284.33 Q2118.56 283.821 2120.37 282.825 L2120.37 286.76 Q2118.58 287.594 2116.66 288.01 Q2114.77 288.427 2112.61 288.427 Q2106.76 288.427 2103.31 284.746 Q2099.86 281.066 2099.86 274.816 Q2099.86 268.473 2103.33 264.839 Q2106.83 261.205 2112.89 261.205 Q2114.86 261.205 2116.73 261.622 Q2118.61 262.015 2120.37 262.825 Z\" fill=\"#000000\" fill-rule=\"nonzero\" fill-opacity=\"1\" /><path clip-path=\"url(#clip480)\" d=\"M2131.99 254.469 L2131.99 261.83 L2140.76 261.83 L2140.76 265.14 L2131.99 265.14 L2131.99 279.214 Q2131.99 282.385 2132.84 283.288 Q2133.72 284.191 2136.39 284.191 L2140.76 284.191 L2140.76 287.756 L2136.39 287.756 Q2131.45 287.756 2129.58 285.927 Q2127.7 284.075 2127.7 279.214 L2127.7 265.14 L2124.58 265.14 L2124.58 261.83 L2127.7 261.83 L2127.7 254.469 L2131.99 254.469 Z\" fill=\"#000000\" fill-rule=\"nonzero\" fill-opacity=\"1\" /><path clip-path=\"url(#clip480)\" d=\"M2156.41 264.816 Q2152.98 264.816 2150.99 267.501 Q2149 270.163 2149 274.816 Q2149 279.469 2150.97 282.154 Q2152.96 284.816 2156.41 284.816 Q2159.81 284.816 2161.8 282.131 Q2163.79 279.446 2163.79 274.816 Q2163.79 270.21 2161.8 267.524 Q2159.81 264.816 2156.41 264.816 M2156.41 261.205 Q2161.96 261.205 2165.14 264.816 Q2168.31 268.427 2168.31 274.816 Q2168.31 281.182 2165.14 284.816 Q2161.96 288.427 2156.41 288.427 Q2150.83 288.427 2147.66 284.816 Q2144.51 281.182 2144.51 274.816 Q2144.51 268.427 2147.66 264.816 Q2150.83 261.205 2156.41 261.205 Z\" fill=\"#000000\" fill-rule=\"nonzero\" fill-opacity=\"1\" /><path clip-path=\"url(#clip480)\" d=\"M2190.39 265.811 Q2189.67 265.395 2188.82 265.21 Q2187.98 265.001 2186.96 265.001 Q2183.35 265.001 2181.41 267.362 Q2179.49 269.7 2179.49 274.098 L2179.49 287.756 L2175.2 287.756 L2175.2 261.83 L2179.49 261.83 L2179.49 265.858 Q2180.83 263.497 2182.98 262.362 Q2185.14 261.205 2188.21 261.205 Q2188.65 261.205 2189.19 261.274 Q2189.72 261.321 2190.37 261.436 L2190.39 265.811 Z\" fill=\"#000000\" fill-rule=\"nonzero\" fill-opacity=\"1\" /><path clip-path=\"url(#clip480)\" d=\"M2205.64 290.163 Q2203.84 294.793 2202.13 296.205 Q2200.41 297.617 2197.54 297.617 L2194.14 297.617 L2194.14 294.052 L2196.64 294.052 Q2198.4 294.052 2199.37 293.219 Q2200.34 292.385 2201.52 289.283 L2202.29 287.339 L2191.8 261.83 L2196.32 261.83 L2204.42 282.108 L2212.52 261.83 L2217.03 261.83 L2205.64 290.163 Z\" fill=\"#000000\" fill-rule=\"nonzero\" fill-opacity=\"1\" /><path clip-path=\"url(#clip480)\" d=\"M2242.61 283.821 L2258.93 283.821 L2258.93 287.756 L2236.99 287.756 L2236.99 283.821 Q2239.65 281.066 2244.23 276.436 Q2248.84 271.784 2250.02 270.441 Q2252.26 267.918 2253.14 266.182 Q2254.05 264.423 2254.05 262.733 Q2254.05 259.978 2252.1 258.242 Q2250.18 256.506 2247.08 256.506 Q2244.88 256.506 2242.43 257.27 Q2240 258.034 2237.22 259.585 L2237.22 254.862 Q2240.04 253.728 2242.5 253.149 Q2244.95 252.571 2246.99 252.571 Q2252.36 252.571 2255.55 255.256 Q2258.75 257.941 2258.75 262.432 Q2258.75 264.561 2257.94 266.483 Q2257.15 268.381 2255.04 270.973 Q2254.46 271.645 2251.36 274.862 Q2248.26 278.057 2242.61 283.821 Z\" fill=\"#000000\" fill-rule=\"nonzero\" fill-opacity=\"1\" /></svg>\n"
      ]
     },
     "execution_count": 12,
     "metadata": {},
     "output_type": "execute_result"
    },
    {
     "data": {
      "image/svg+xml": [
       "<?xml version=\"1.0\" encoding=\"utf-8\"?>\n",
       "<svg xmlns=\"http://www.w3.org/2000/svg\" xmlns:xlink=\"http://www.w3.org/1999/xlink\" width=\"600\" height=\"400\" viewBox=\"0 0 2400 1600\">\n",
       "<defs>\n",
       "  <clipPath id=\"clip480\">\n",
       "    <rect x=\"0\" y=\"0\" width=\"2400\" height=\"1600\"/>\n",
       "  </clipPath>\n",
       "</defs>\n",
       "<path clip-path=\"url(#clip480)\" d=\"M0 1600 L2400 1600 L2400 0 L0 0  Z\" fill=\"#ffffff\" fill-rule=\"evenodd\" fill-opacity=\"1\"/>\n",
       "<defs>\n",
       "  <clipPath id=\"clip481\">\n",
       "    <rect x=\"480\" y=\"0\" width=\"1681\" height=\"1600\"/>\n",
       "  </clipPath>\n",
       "</defs>\n",
       "<path clip-path=\"url(#clip480)\" d=\"M250.028 1423.18 L2352.76 1423.18 L2352.76 123.472 L250.028 123.472  Z\" fill=\"#ffffff\" fill-rule=\"evenodd\" fill-opacity=\"1\"/>\n",
       "<defs>\n",
       "  <clipPath id=\"clip482\">\n",
       "    <rect x=\"250\" y=\"123\" width=\"2104\" height=\"1301\"/>\n",
       "  </clipPath>\n",
       "</defs>\n",
       "<polyline clip-path=\"url(#clip482)\" style=\"stroke:#000000; stroke-linecap:round; stroke-linejoin:round; stroke-width:2; stroke-opacity:0.1; fill:none\" points=\"250.028,1423.18 250.028,123.472 \"/>\n",
       "<polyline clip-path=\"url(#clip482)\" style=\"stroke:#000000; stroke-linecap:round; stroke-linejoin:round; stroke-width:2; stroke-opacity:0.1; fill:none\" points=\"632.342,1423.18 632.342,123.472 \"/>\n",
       "<polyline clip-path=\"url(#clip482)\" style=\"stroke:#000000; stroke-linecap:round; stroke-linejoin:round; stroke-width:2; stroke-opacity:0.1; fill:none\" points=\"1014.66,1423.18 1014.66,123.472 \"/>\n",
       "<polyline clip-path=\"url(#clip482)\" style=\"stroke:#000000; stroke-linecap:round; stroke-linejoin:round; stroke-width:2; stroke-opacity:0.1; fill:none\" points=\"1396.97,1423.18 1396.97,123.472 \"/>\n",
       "<polyline clip-path=\"url(#clip482)\" style=\"stroke:#000000; stroke-linecap:round; stroke-linejoin:round; stroke-width:2; stroke-opacity:0.1; fill:none\" points=\"1779.28,1423.18 1779.28,123.472 \"/>\n",
       "<polyline clip-path=\"url(#clip482)\" style=\"stroke:#000000; stroke-linecap:round; stroke-linejoin:round; stroke-width:2; stroke-opacity:0.1; fill:none\" points=\"2161.6,1423.18 2161.6,123.472 \"/>\n",
       "<polyline clip-path=\"url(#clip480)\" style=\"stroke:#000000; stroke-linecap:round; stroke-linejoin:round; stroke-width:4; stroke-opacity:1; fill:none\" points=\"250.028,1423.18 2352.76,1423.18 \"/>\n",
       "<polyline clip-path=\"url(#clip480)\" style=\"stroke:#000000; stroke-linecap:round; stroke-linejoin:round; stroke-width:4; stroke-opacity:1; fill:none\" points=\"250.028,1423.18 250.028,1404.28 \"/>\n",
       "<polyline clip-path=\"url(#clip480)\" style=\"stroke:#000000; stroke-linecap:round; stroke-linejoin:round; stroke-width:4; stroke-opacity:1; fill:none\" points=\"632.342,1423.18 632.342,1404.28 \"/>\n",
       "<polyline clip-path=\"url(#clip480)\" style=\"stroke:#000000; stroke-linecap:round; stroke-linejoin:round; stroke-width:4; stroke-opacity:1; fill:none\" points=\"1014.66,1423.18 1014.66,1404.28 \"/>\n",
       "<polyline clip-path=\"url(#clip480)\" style=\"stroke:#000000; stroke-linecap:round; stroke-linejoin:round; stroke-width:4; stroke-opacity:1; fill:none\" points=\"1396.97,1423.18 1396.97,1404.28 \"/>\n",
       "<polyline clip-path=\"url(#clip480)\" style=\"stroke:#000000; stroke-linecap:round; stroke-linejoin:round; stroke-width:4; stroke-opacity:1; fill:none\" points=\"1779.28,1423.18 1779.28,1404.28 \"/>\n",
       "<polyline clip-path=\"url(#clip480)\" style=\"stroke:#000000; stroke-linecap:round; stroke-linejoin:round; stroke-width:4; stroke-opacity:1; fill:none\" points=\"2161.6,1423.18 2161.6,1404.28 \"/>\n",
       "<path clip-path=\"url(#clip480)\" d=\"M250.028 1454.1 Q246.417 1454.1 244.588 1457.66 Q242.783 1461.2 242.783 1468.33 Q242.783 1475.44 244.588 1479.01 Q246.417 1482.55 250.028 1482.55 Q253.662 1482.55 255.468 1479.01 Q257.297 1475.44 257.297 1468.33 Q257.297 1461.2 255.468 1457.66 Q253.662 1454.1 250.028 1454.1 M250.028 1450.39 Q255.838 1450.39 258.894 1455 Q261.973 1459.58 261.973 1468.33 Q261.973 1477.06 258.894 1481.67 Q255.838 1486.25 250.028 1486.25 Q244.218 1486.25 241.139 1481.67 Q238.084 1477.06 238.084 1468.33 Q238.084 1459.58 241.139 1455 Q244.218 1450.39 250.028 1450.39 Z\" fill=\"#000000\" fill-rule=\"nonzero\" fill-opacity=\"1\" /><path clip-path=\"url(#clip480)\" d=\"M591.949 1481.64 L599.588 1481.64 L599.588 1455.28 L591.278 1456.95 L591.278 1452.69 L599.542 1451.02 L604.217 1451.02 L604.217 1481.64 L611.856 1481.64 L611.856 1485.58 L591.949 1485.58 L591.949 1481.64 Z\" fill=\"#000000\" fill-rule=\"nonzero\" fill-opacity=\"1\" /><path clip-path=\"url(#clip480)\" d=\"M631.301 1454.1 Q627.69 1454.1 625.861 1457.66 Q624.055 1461.2 624.055 1468.33 Q624.055 1475.44 625.861 1479.01 Q627.69 1482.55 631.301 1482.55 Q634.935 1482.55 636.74 1479.01 Q638.569 1475.44 638.569 1468.33 Q638.569 1461.2 636.74 1457.66 Q634.935 1454.1 631.301 1454.1 M631.301 1450.39 Q637.111 1450.39 640.166 1455 Q643.245 1459.58 643.245 1468.33 Q643.245 1477.06 640.166 1481.67 Q637.111 1486.25 631.301 1486.25 Q625.49 1486.25 622.412 1481.67 Q619.356 1477.06 619.356 1468.33 Q619.356 1459.58 622.412 1455 Q625.49 1450.39 631.301 1450.39 Z\" fill=\"#000000\" fill-rule=\"nonzero\" fill-opacity=\"1\" /><path clip-path=\"url(#clip480)\" d=\"M661.462 1454.1 Q657.851 1454.1 656.023 1457.66 Q654.217 1461.2 654.217 1468.33 Q654.217 1475.44 656.023 1479.01 Q657.851 1482.55 661.462 1482.55 Q665.097 1482.55 666.902 1479.01 Q668.731 1475.44 668.731 1468.33 Q668.731 1461.2 666.902 1457.66 Q665.097 1454.1 661.462 1454.1 M661.462 1450.39 Q667.273 1450.39 670.328 1455 Q673.407 1459.58 673.407 1468.33 Q673.407 1477.06 670.328 1481.67 Q667.273 1486.25 661.462 1486.25 Q655.652 1486.25 652.574 1481.67 Q649.518 1477.06 649.518 1468.33 Q649.518 1459.58 652.574 1455 Q655.652 1450.39 661.462 1450.39 Z\" fill=\"#000000\" fill-rule=\"nonzero\" fill-opacity=\"1\" /><path clip-path=\"url(#clip480)\" d=\"M978.349 1481.64 L994.668 1481.64 L994.668 1485.58 L972.724 1485.58 L972.724 1481.64 Q975.386 1478.89 979.969 1474.26 Q984.576 1469.61 985.756 1468.27 Q988.001 1465.74 988.881 1464.01 Q989.784 1462.25 989.784 1460.56 Q989.784 1457.8 987.839 1456.07 Q985.918 1454.33 982.816 1454.33 Q980.617 1454.33 978.164 1455.09 Q975.733 1455.86 972.955 1457.41 L972.955 1452.69 Q975.779 1451.55 978.233 1450.97 Q980.687 1450.39 982.724 1450.39 Q988.094 1450.39 991.288 1453.08 Q994.483 1455.77 994.483 1460.26 Q994.483 1462.39 993.673 1464.31 Q992.886 1466.2 990.779 1468.8 Q990.201 1469.47 987.099 1472.69 Q983.997 1475.88 978.349 1481.64 Z\" fill=\"#000000\" fill-rule=\"nonzero\" fill-opacity=\"1\" /><path clip-path=\"url(#clip480)\" d=\"M1014.48 1454.1 Q1010.87 1454.1 1009.04 1457.66 Q1007.24 1461.2 1007.24 1468.33 Q1007.24 1475.44 1009.04 1479.01 Q1010.87 1482.55 1014.48 1482.55 Q1018.12 1482.55 1019.92 1479.01 Q1021.75 1475.44 1021.75 1468.33 Q1021.75 1461.2 1019.92 1457.66 Q1018.12 1454.1 1014.48 1454.1 M1014.48 1450.39 Q1020.29 1450.39 1023.35 1455 Q1026.43 1459.58 1026.43 1468.33 Q1026.43 1477.06 1023.35 1481.67 Q1020.29 1486.25 1014.48 1486.25 Q1008.67 1486.25 1005.59 1481.67 Q1002.54 1477.06 1002.54 1468.33 Q1002.54 1459.58 1005.59 1455 Q1008.67 1450.39 1014.48 1450.39 Z\" fill=\"#000000\" fill-rule=\"nonzero\" fill-opacity=\"1\" /><path clip-path=\"url(#clip480)\" d=\"M1044.64 1454.1 Q1041.03 1454.1 1039.2 1457.66 Q1037.4 1461.2 1037.4 1468.33 Q1037.4 1475.44 1039.2 1479.01 Q1041.03 1482.55 1044.64 1482.55 Q1048.28 1482.55 1050.08 1479.01 Q1051.91 1475.44 1051.91 1468.33 Q1051.91 1461.2 1050.08 1457.66 Q1048.28 1454.1 1044.64 1454.1 M1044.64 1450.39 Q1050.45 1450.39 1053.51 1455 Q1056.59 1459.58 1056.59 1468.33 Q1056.59 1477.06 1053.51 1481.67 Q1050.45 1486.25 1044.64 1486.25 Q1038.83 1486.25 1035.76 1481.67 Q1032.7 1477.06 1032.7 1468.33 Q1032.7 1459.58 1035.76 1455 Q1038.83 1450.39 1044.64 1450.39 Z\" fill=\"#000000\" fill-rule=\"nonzero\" fill-opacity=\"1\" /><path clip-path=\"url(#clip480)\" d=\"M1370.73 1466.95 Q1374.09 1467.66 1375.96 1469.93 Q1377.86 1472.2 1377.86 1475.53 Q1377.86 1480.65 1374.34 1483.45 Q1370.82 1486.25 1364.34 1486.25 Q1362.17 1486.25 1359.85 1485.81 Q1357.56 1485.39 1355.11 1484.54 L1355.11 1480.02 Q1357.05 1481.16 1359.37 1481.74 Q1361.68 1482.32 1364.2 1482.32 Q1368.6 1482.32 1370.89 1480.58 Q1373.21 1478.84 1373.21 1475.53 Q1373.21 1472.48 1371.06 1470.77 Q1368.93 1469.03 1365.11 1469.03 L1361.08 1469.03 L1361.08 1465.19 L1365.29 1465.19 Q1368.74 1465.19 1370.57 1463.82 Q1372.4 1462.43 1372.4 1459.84 Q1372.4 1457.18 1370.5 1455.77 Q1368.63 1454.33 1365.11 1454.33 Q1363.19 1454.33 1360.99 1454.75 Q1358.79 1455.16 1356.15 1456.04 L1356.15 1451.88 Q1358.81 1451.14 1361.13 1450.77 Q1363.46 1450.39 1365.52 1450.39 Q1370.85 1450.39 1373.95 1452.83 Q1377.05 1455.23 1377.05 1459.35 Q1377.05 1462.22 1375.41 1464.21 Q1373.76 1466.18 1370.73 1466.95 Z\" fill=\"#000000\" fill-rule=\"nonzero\" fill-opacity=\"1\" /><path clip-path=\"url(#clip480)\" d=\"M1396.73 1454.1 Q1393.12 1454.1 1391.29 1457.66 Q1389.48 1461.2 1389.48 1468.33 Q1389.48 1475.44 1391.29 1479.01 Q1393.12 1482.55 1396.73 1482.55 Q1400.36 1482.55 1402.17 1479.01 Q1404 1475.44 1404 1468.33 Q1404 1461.2 1402.17 1457.66 Q1400.36 1454.1 1396.73 1454.1 M1396.73 1450.39 Q1402.54 1450.39 1405.59 1455 Q1408.67 1459.58 1408.67 1468.33 Q1408.67 1477.06 1405.59 1481.67 Q1402.54 1486.25 1396.73 1486.25 Q1390.92 1486.25 1387.84 1481.67 Q1384.78 1477.06 1384.78 1468.33 Q1384.78 1459.58 1387.84 1455 Q1390.92 1450.39 1396.73 1450.39 Z\" fill=\"#000000\" fill-rule=\"nonzero\" fill-opacity=\"1\" /><path clip-path=\"url(#clip480)\" d=\"M1426.89 1454.1 Q1423.28 1454.1 1421.45 1457.66 Q1419.64 1461.2 1419.64 1468.33 Q1419.64 1475.44 1421.45 1479.01 Q1423.28 1482.55 1426.89 1482.55 Q1430.52 1482.55 1432.33 1479.01 Q1434.16 1475.44 1434.16 1468.33 Q1434.16 1461.2 1432.33 1457.66 Q1430.52 1454.1 1426.89 1454.1 M1426.89 1450.39 Q1432.7 1450.39 1435.76 1455 Q1438.83 1459.58 1438.83 1468.33 Q1438.83 1477.06 1435.76 1481.67 Q1432.7 1486.25 1426.89 1486.25 Q1421.08 1486.25 1418 1481.67 Q1414.94 1477.06 1414.94 1468.33 Q1414.94 1459.58 1418 1455 Q1421.08 1450.39 1426.89 1450.39 Z\" fill=\"#000000\" fill-rule=\"nonzero\" fill-opacity=\"1\" /><path clip-path=\"url(#clip480)\" d=\"M1752.38 1455.09 L1740.57 1473.54 L1752.38 1473.54 L1752.38 1455.09 M1751.15 1451.02 L1757.03 1451.02 L1757.03 1473.54 L1761.96 1473.54 L1761.96 1477.43 L1757.03 1477.43 L1757.03 1485.58 L1752.38 1485.58 L1752.38 1477.43 L1736.77 1477.43 L1736.77 1472.92 L1751.15 1451.02 Z\" fill=\"#000000\" fill-rule=\"nonzero\" fill-opacity=\"1\" /><path clip-path=\"url(#clip480)\" d=\"M1779.69 1454.1 Q1776.08 1454.1 1774.25 1457.66 Q1772.44 1461.2 1772.44 1468.33 Q1772.44 1475.44 1774.25 1479.01 Q1776.08 1482.55 1779.69 1482.55 Q1783.32 1482.55 1785.13 1479.01 Q1786.96 1475.44 1786.96 1468.33 Q1786.96 1461.2 1785.13 1457.66 Q1783.32 1454.1 1779.69 1454.1 M1779.69 1450.39 Q1785.5 1450.39 1788.56 1455 Q1791.63 1459.58 1791.63 1468.33 Q1791.63 1477.06 1788.56 1481.67 Q1785.5 1486.25 1779.69 1486.25 Q1773.88 1486.25 1770.8 1481.67 Q1767.75 1477.06 1767.75 1468.33 Q1767.75 1459.58 1770.8 1455 Q1773.88 1450.39 1779.69 1450.39 Z\" fill=\"#000000\" fill-rule=\"nonzero\" fill-opacity=\"1\" /><path clip-path=\"url(#clip480)\" d=\"M1809.85 1454.1 Q1806.24 1454.1 1804.41 1457.66 Q1802.61 1461.2 1802.61 1468.33 Q1802.61 1475.44 1804.41 1479.01 Q1806.24 1482.55 1809.85 1482.55 Q1813.49 1482.55 1815.29 1479.01 Q1817.12 1475.44 1817.12 1468.33 Q1817.12 1461.2 1815.29 1457.66 Q1813.49 1454.1 1809.85 1454.1 M1809.85 1450.39 Q1815.66 1450.39 1818.72 1455 Q1821.8 1459.58 1821.8 1468.33 Q1821.8 1477.06 1818.72 1481.67 Q1815.66 1486.25 1809.85 1486.25 Q1804.04 1486.25 1800.96 1481.67 Q1797.91 1477.06 1797.91 1468.33 Q1797.91 1459.58 1800.96 1455 Q1804.04 1450.39 1809.85 1450.39 Z\" fill=\"#000000\" fill-rule=\"nonzero\" fill-opacity=\"1\" /><path clip-path=\"url(#clip480)\" d=\"M2121.22 1451.02 L2139.57 1451.02 L2139.57 1454.96 L2125.5 1454.96 L2125.5 1463.43 Q2126.52 1463.08 2127.54 1462.92 Q2128.56 1462.73 2129.57 1462.73 Q2135.36 1462.73 2138.74 1465.9 Q2142.12 1469.08 2142.12 1474.49 Q2142.12 1480.07 2138.65 1483.17 Q2135.18 1486.25 2128.86 1486.25 Q2126.68 1486.25 2124.41 1485.88 Q2122.17 1485.51 2119.76 1484.77 L2119.76 1480.07 Q2121.84 1481.2 2124.06 1481.76 Q2126.29 1482.32 2128.76 1482.32 Q2132.77 1482.32 2135.11 1480.21 Q2137.44 1478.1 2137.44 1474.49 Q2137.44 1470.88 2135.11 1468.77 Q2132.77 1466.67 2128.76 1466.67 Q2126.89 1466.67 2125.01 1467.08 Q2123.16 1467.5 2121.22 1468.38 L2121.22 1451.02 Z\" fill=\"#000000\" fill-rule=\"nonzero\" fill-opacity=\"1\" /><path clip-path=\"url(#clip480)\" d=\"M2161.33 1454.1 Q2157.72 1454.1 2155.89 1457.66 Q2154.09 1461.2 2154.09 1468.33 Q2154.09 1475.44 2155.89 1479.01 Q2157.72 1482.55 2161.33 1482.55 Q2164.97 1482.55 2166.77 1479.01 Q2168.6 1475.44 2168.6 1468.33 Q2168.6 1461.2 2166.77 1457.66 Q2164.97 1454.1 2161.33 1454.1 M2161.33 1450.39 Q2167.14 1450.39 2170.2 1455 Q2173.28 1459.58 2173.28 1468.33 Q2173.28 1477.06 2170.2 1481.67 Q2167.14 1486.25 2161.33 1486.25 Q2155.52 1486.25 2152.44 1481.67 Q2149.39 1477.06 2149.39 1468.33 Q2149.39 1459.58 2152.44 1455 Q2155.52 1450.39 2161.33 1450.39 Z\" fill=\"#000000\" fill-rule=\"nonzero\" fill-opacity=\"1\" /><path clip-path=\"url(#clip480)\" d=\"M2191.49 1454.1 Q2187.88 1454.1 2186.05 1457.66 Q2184.25 1461.2 2184.25 1468.33 Q2184.25 1475.44 2186.05 1479.01 Q2187.88 1482.55 2191.49 1482.55 Q2195.13 1482.55 2196.93 1479.01 Q2198.76 1475.44 2198.76 1468.33 Q2198.76 1461.2 2196.93 1457.66 Q2195.13 1454.1 2191.49 1454.1 M2191.49 1450.39 Q2197.3 1450.39 2200.36 1455 Q2203.44 1459.58 2203.44 1468.33 Q2203.44 1477.06 2200.36 1481.67 Q2197.3 1486.25 2191.49 1486.25 Q2185.68 1486.25 2182.61 1481.67 Q2179.55 1477.06 2179.55 1468.33 Q2179.55 1459.58 2182.61 1455 Q2185.68 1450.39 2191.49 1450.39 Z\" fill=\"#000000\" fill-rule=\"nonzero\" fill-opacity=\"1\" /><path clip-path=\"url(#clip480)\" d=\"M1309.86 1531.91 Q1309.86 1532.81 1309.44 1533.04 Q1309.03 1533.23 1307.87 1533.23 L1301.68 1533.23 L1296.79 1552.69 Q1296.4 1554.39 1296.4 1555.84 Q1296.4 1557.45 1296.88 1558.16 Q1297.4 1558.87 1298.46 1558.87 Q1300.56 1558.87 1302.81 1556.97 Q1305.1 1555.07 1307.03 1550.43 Q1307.29 1549.82 1307.42 1549.69 Q1307.58 1549.53 1308 1549.53 Q1308.8 1549.53 1308.8 1550.17 Q1308.8 1550.4 1308.35 1551.43 Q1307.93 1552.46 1307 1553.97 Q1306.09 1555.49 1304.9 1556.9 Q1303.74 1558.32 1301.97 1559.35 Q1300.2 1560.35 1298.3 1560.35 Q1295.63 1560.35 1293.92 1558.64 Q1292.25 1556.94 1292.25 1554.26 Q1292.25 1553.39 1292.92 1550.62 Q1293.6 1547.82 1297.27 1533.23 L1291.44 1533.23 Q1290.64 1533.23 1290.31 1533.2 Q1290.02 1533.17 1289.8 1533.01 Q1289.61 1532.81 1289.61 1532.43 Q1289.61 1531.82 1289.86 1531.56 Q1290.12 1531.27 1290.44 1531.24 Q1290.8 1531.17 1291.6 1531.17 L1297.79 1531.17 L1300.36 1520.71 Q1300.62 1519.67 1301.26 1519.09 Q1301.94 1518.48 1302.33 1518.42 Q1302.71 1518.32 1303 1518.32 Q1303.87 1518.32 1304.39 1518.81 Q1304.9 1519.26 1304.9 1520.09 Q1304.9 1520.54 1302.2 1531.17 L1308 1531.17 Q1308.74 1531.17 1309.03 1531.2 Q1309.35 1531.24 1309.61 1531.4 Q1309.86 1531.56 1309.86 1531.91 Z\" fill=\"#000000\" fill-rule=\"nonzero\" fill-opacity=\"1\" /><polyline clip-path=\"url(#clip482)\" style=\"stroke:#000000; stroke-linecap:round; stroke-linejoin:round; stroke-width:2; stroke-opacity:0.1; fill:none\" points=\"250.028,1387.24 2352.76,1387.24 \"/>\n",
       "<polyline clip-path=\"url(#clip482)\" style=\"stroke:#000000; stroke-linecap:round; stroke-linejoin:round; stroke-width:2; stroke-opacity:0.1; fill:none\" points=\"250.028,1114.65 2352.76,1114.65 \"/>\n",
       "<polyline clip-path=\"url(#clip482)\" style=\"stroke:#000000; stroke-linecap:round; stroke-linejoin:round; stroke-width:2; stroke-opacity:0.1; fill:none\" points=\"250.028,842.069 2352.76,842.069 \"/>\n",
       "<polyline clip-path=\"url(#clip482)\" style=\"stroke:#000000; stroke-linecap:round; stroke-linejoin:round; stroke-width:2; stroke-opacity:0.1; fill:none\" points=\"250.028,569.485 2352.76,569.485 \"/>\n",
       "<polyline clip-path=\"url(#clip482)\" style=\"stroke:#000000; stroke-linecap:round; stroke-linejoin:round; stroke-width:2; stroke-opacity:0.1; fill:none\" points=\"250.028,296.902 2352.76,296.902 \"/>\n",
       "<polyline clip-path=\"url(#clip480)\" style=\"stroke:#000000; stroke-linecap:round; stroke-linejoin:round; stroke-width:4; stroke-opacity:1; fill:none\" points=\"250.028,1423.18 250.028,123.472 \"/>\n",
       "<polyline clip-path=\"url(#clip480)\" style=\"stroke:#000000; stroke-linecap:round; stroke-linejoin:round; stroke-width:4; stroke-opacity:1; fill:none\" points=\"250.028,1387.24 268.926,1387.24 \"/>\n",
       "<polyline clip-path=\"url(#clip480)\" style=\"stroke:#000000; stroke-linecap:round; stroke-linejoin:round; stroke-width:4; stroke-opacity:1; fill:none\" points=\"250.028,1114.65 268.926,1114.65 \"/>\n",
       "<polyline clip-path=\"url(#clip480)\" style=\"stroke:#000000; stroke-linecap:round; stroke-linejoin:round; stroke-width:4; stroke-opacity:1; fill:none\" points=\"250.028,842.069 268.926,842.069 \"/>\n",
       "<polyline clip-path=\"url(#clip480)\" style=\"stroke:#000000; stroke-linecap:round; stroke-linejoin:round; stroke-width:4; stroke-opacity:1; fill:none\" points=\"250.028,569.485 268.926,569.485 \"/>\n",
       "<polyline clip-path=\"url(#clip480)\" style=\"stroke:#000000; stroke-linecap:round; stroke-linejoin:round; stroke-width:4; stroke-opacity:1; fill:none\" points=\"250.028,296.902 268.926,296.902 \"/>\n",
       "<path clip-path=\"url(#clip480)\" d=\"M126.691 1373.03 Q123.08 1373.03 121.251 1376.6 Q119.445 1380.14 119.445 1387.27 Q119.445 1394.38 121.251 1397.94 Q123.08 1401.48 126.691 1401.48 Q130.325 1401.48 132.13 1397.94 Q133.959 1394.38 133.959 1387.27 Q133.959 1380.14 132.13 1376.6 Q130.325 1373.03 126.691 1373.03 M126.691 1369.33 Q132.501 1369.33 135.556 1373.94 Q138.635 1378.52 138.635 1387.27 Q138.635 1396 135.556 1400.6 Q132.501 1405.19 126.691 1405.19 Q120.88 1405.19 117.802 1400.6 Q114.746 1396 114.746 1387.27 Q114.746 1378.52 117.802 1373.94 Q120.88 1369.33 126.691 1369.33 Z\" fill=\"#000000\" fill-rule=\"nonzero\" fill-opacity=\"1\" /><path clip-path=\"url(#clip480)\" d=\"M146.853 1398.64 L151.737 1398.64 L151.737 1404.52 L146.853 1404.52 L146.853 1398.64 Z\" fill=\"#000000\" fill-rule=\"nonzero\" fill-opacity=\"1\" /><path clip-path=\"url(#clip480)\" d=\"M171.922 1373.03 Q168.311 1373.03 166.482 1376.6 Q164.677 1380.14 164.677 1387.27 Q164.677 1394.38 166.482 1397.94 Q168.311 1401.48 171.922 1401.48 Q175.556 1401.48 177.362 1397.94 Q179.19 1394.38 179.19 1387.27 Q179.19 1380.14 177.362 1376.6 Q175.556 1373.03 171.922 1373.03 M171.922 1369.33 Q177.732 1369.33 180.788 1373.94 Q183.866 1378.52 183.866 1387.27 Q183.866 1396 180.788 1400.6 Q177.732 1405.19 171.922 1405.19 Q166.112 1405.19 163.033 1400.6 Q159.978 1396 159.978 1387.27 Q159.978 1378.52 163.033 1373.94 Q166.112 1369.33 171.922 1369.33 Z\" fill=\"#000000\" fill-rule=\"nonzero\" fill-opacity=\"1\" /><path clip-path=\"url(#clip480)\" d=\"M202.084 1373.03 Q198.473 1373.03 196.644 1376.6 Q194.838 1380.14 194.838 1387.27 Q194.838 1394.38 196.644 1397.94 Q198.473 1401.48 202.084 1401.48 Q205.718 1401.48 207.524 1397.94 Q209.352 1394.38 209.352 1387.27 Q209.352 1380.14 207.524 1376.6 Q205.718 1373.03 202.084 1373.03 M202.084 1369.33 Q207.894 1369.33 210.949 1373.94 Q214.028 1378.52 214.028 1387.27 Q214.028 1396 210.949 1400.6 Q207.894 1405.19 202.084 1405.19 Q196.274 1405.19 193.195 1400.6 Q190.139 1396 190.139 1387.27 Q190.139 1378.52 193.195 1373.94 Q196.274 1369.33 202.084 1369.33 Z\" fill=\"#000000\" fill-rule=\"nonzero\" fill-opacity=\"1\" /><path clip-path=\"url(#clip480)\" d=\"M128.288 1100.45 Q124.677 1100.45 122.848 1104.02 Q121.043 1107.56 121.043 1114.69 Q121.043 1121.79 122.848 1125.36 Q124.677 1128.9 128.288 1128.9 Q131.922 1128.9 133.728 1125.36 Q135.556 1121.79 135.556 1114.69 Q135.556 1107.56 133.728 1104.02 Q131.922 1100.45 128.288 1100.45 M128.288 1096.75 Q134.098 1096.75 137.154 1101.35 Q140.232 1105.94 140.232 1114.69 Q140.232 1123.41 137.154 1128.02 Q134.098 1132.6 128.288 1132.6 Q122.478 1132.6 119.399 1128.02 Q116.343 1123.41 116.343 1114.69 Q116.343 1105.94 119.399 1101.35 Q122.478 1096.75 128.288 1096.75 Z\" fill=\"#000000\" fill-rule=\"nonzero\" fill-opacity=\"1\" /><path clip-path=\"url(#clip480)\" d=\"M148.45 1126.05 L153.334 1126.05 L153.334 1131.93 L148.45 1131.93 L148.45 1126.05 Z\" fill=\"#000000\" fill-rule=\"nonzero\" fill-opacity=\"1\" /><path clip-path=\"url(#clip480)\" d=\"M173.519 1100.45 Q169.908 1100.45 168.079 1104.02 Q166.274 1107.56 166.274 1114.69 Q166.274 1121.79 168.079 1125.36 Q169.908 1128.9 173.519 1128.9 Q177.153 1128.9 178.959 1125.36 Q180.788 1121.79 180.788 1114.69 Q180.788 1107.56 178.959 1104.02 Q177.153 1100.45 173.519 1100.45 M173.519 1096.75 Q179.329 1096.75 182.385 1101.35 Q185.463 1105.94 185.463 1114.69 Q185.463 1123.41 182.385 1128.02 Q179.329 1132.6 173.519 1132.6 Q167.709 1132.6 164.63 1128.02 Q161.575 1123.41 161.575 1114.69 Q161.575 1105.94 164.63 1101.35 Q167.709 1096.75 173.519 1096.75 Z\" fill=\"#000000\" fill-rule=\"nonzero\" fill-opacity=\"1\" /><path clip-path=\"url(#clip480)\" d=\"M197.709 1128 L214.028 1128 L214.028 1131.93 L192.084 1131.93 L192.084 1128 Q194.746 1125.24 199.329 1120.61 Q203.936 1115.96 205.116 1114.62 Q207.362 1112.09 208.241 1110.36 Q209.144 1108.6 209.144 1106.91 Q209.144 1104.15 207.199 1102.42 Q205.278 1100.68 202.176 1100.68 Q199.977 1100.68 197.524 1101.45 Q195.093 1102.21 192.315 1103.76 L192.315 1099.04 Q195.139 1097.9 197.593 1097.33 Q200.047 1096.75 202.084 1096.75 Q207.454 1096.75 210.649 1099.43 Q213.843 1102.12 213.843 1106.61 Q213.843 1108.74 213.033 1110.66 Q212.246 1112.56 210.139 1115.15 Q209.561 1115.82 206.459 1119.04 Q203.357 1122.23 197.709 1128 Z\" fill=\"#000000\" fill-rule=\"nonzero\" fill-opacity=\"1\" /><path clip-path=\"url(#clip480)\" d=\"M126.205 827.868 Q122.593 827.868 120.765 831.432 Q118.959 834.974 118.959 842.104 Q118.959 849.21 120.765 852.775 Q122.593 856.316 126.205 856.316 Q129.839 856.316 131.644 852.775 Q133.473 849.21 133.473 842.104 Q133.473 834.974 131.644 831.432 Q129.839 827.868 126.205 827.868 M126.205 824.164 Q132.015 824.164 135.07 828.77 Q138.149 833.354 138.149 842.104 Q138.149 850.83 135.07 855.437 Q132.015 860.02 126.205 860.02 Q120.394 860.02 117.316 855.437 Q114.26 850.83 114.26 842.104 Q114.26 833.354 117.316 828.77 Q120.394 824.164 126.205 824.164 Z\" fill=\"#000000\" fill-rule=\"nonzero\" fill-opacity=\"1\" /><path clip-path=\"url(#clip480)\" d=\"M146.366 853.469 L151.251 853.469 L151.251 859.349 L146.366 859.349 L146.366 853.469 Z\" fill=\"#000000\" fill-rule=\"nonzero\" fill-opacity=\"1\" /><path clip-path=\"url(#clip480)\" d=\"M171.436 827.868 Q167.825 827.868 165.996 831.432 Q164.19 834.974 164.19 842.104 Q164.19 849.21 165.996 852.775 Q167.825 856.316 171.436 856.316 Q175.07 856.316 176.876 852.775 Q178.704 849.21 178.704 842.104 Q178.704 834.974 176.876 831.432 Q175.07 827.868 171.436 827.868 M171.436 824.164 Q177.246 824.164 180.301 828.77 Q183.38 833.354 183.38 842.104 Q183.38 850.83 180.301 855.437 Q177.246 860.02 171.436 860.02 Q165.626 860.02 162.547 855.437 Q159.491 850.83 159.491 842.104 Q159.491 833.354 162.547 828.77 Q165.626 824.164 171.436 824.164 Z\" fill=\"#000000\" fill-rule=\"nonzero\" fill-opacity=\"1\" /><path clip-path=\"url(#clip480)\" d=\"M204.445 828.863 L192.639 847.312 L204.445 847.312 L204.445 828.863 M203.218 824.789 L209.098 824.789 L209.098 847.312 L214.028 847.312 L214.028 851.201 L209.098 851.201 L209.098 859.349 L204.445 859.349 L204.445 851.201 L188.843 851.201 L188.843 846.687 L203.218 824.789 Z\" fill=\"#000000\" fill-rule=\"nonzero\" fill-opacity=\"1\" /><path clip-path=\"url(#clip480)\" d=\"M126.529 555.284 Q122.918 555.284 121.089 558.849 Q119.283 562.39 119.283 569.52 Q119.283 576.627 121.089 580.191 Q122.918 583.733 126.529 583.733 Q130.163 583.733 131.968 580.191 Q133.797 576.627 133.797 569.52 Q133.797 562.39 131.968 558.849 Q130.163 555.284 126.529 555.284 M126.529 551.58 Q132.339 551.58 135.394 556.187 Q138.473 560.77 138.473 569.52 Q138.473 578.247 135.394 582.853 Q132.339 587.437 126.529 587.437 Q120.718 587.437 117.64 582.853 Q114.584 578.247 114.584 569.52 Q114.584 560.77 117.64 556.187 Q120.718 551.58 126.529 551.58 Z\" fill=\"#000000\" fill-rule=\"nonzero\" fill-opacity=\"1\" /><path clip-path=\"url(#clip480)\" d=\"M146.691 580.886 L151.575 580.886 L151.575 586.765 L146.691 586.765 L146.691 580.886 Z\" fill=\"#000000\" fill-rule=\"nonzero\" fill-opacity=\"1\" /><path clip-path=\"url(#clip480)\" d=\"M171.76 555.284 Q168.149 555.284 166.32 558.849 Q164.515 562.39 164.515 569.52 Q164.515 576.627 166.32 580.191 Q168.149 583.733 171.76 583.733 Q175.394 583.733 177.2 580.191 Q179.028 576.627 179.028 569.52 Q179.028 562.39 177.2 558.849 Q175.394 555.284 171.76 555.284 M171.76 551.58 Q177.57 551.58 180.626 556.187 Q183.704 560.77 183.704 569.52 Q183.704 578.247 180.626 582.853 Q177.57 587.437 171.76 587.437 Q165.95 587.437 162.871 582.853 Q159.815 578.247 159.815 569.52 Q159.815 560.77 162.871 556.187 Q165.95 551.58 171.76 551.58 Z\" fill=\"#000000\" fill-rule=\"nonzero\" fill-opacity=\"1\" /><path clip-path=\"url(#clip480)\" d=\"M202.5 567.622 Q199.352 567.622 197.5 569.775 Q195.672 571.927 195.672 575.677 Q195.672 579.404 197.5 581.58 Q199.352 583.733 202.5 583.733 Q205.649 583.733 207.477 581.58 Q209.329 579.404 209.329 575.677 Q209.329 571.927 207.477 569.775 Q205.649 567.622 202.5 567.622 M211.783 552.969 L211.783 557.228 Q210.024 556.395 208.218 555.955 Q206.436 555.516 204.676 555.516 Q200.047 555.516 197.593 558.64 Q195.163 561.765 194.815 568.085 Q196.181 566.071 198.241 565.006 Q200.301 563.918 202.778 563.918 Q207.987 563.918 210.996 567.09 Q214.028 570.238 214.028 575.677 Q214.028 581.001 210.88 584.219 Q207.732 587.437 202.5 587.437 Q196.505 587.437 193.334 582.853 Q190.163 578.247 190.163 569.52 Q190.163 561.326 194.051 556.465 Q197.94 551.58 204.491 551.58 Q206.25 551.58 208.033 551.928 Q209.838 552.275 211.783 552.969 Z\" fill=\"#000000\" fill-rule=\"nonzero\" fill-opacity=\"1\" /><path clip-path=\"url(#clip480)\" d=\"M126.783 282.701 Q123.172 282.701 121.343 286.265 Q119.538 289.807 119.538 296.937 Q119.538 304.043 121.343 307.608 Q123.172 311.149 126.783 311.149 Q130.417 311.149 132.223 307.608 Q134.052 304.043 134.052 296.937 Q134.052 289.807 132.223 286.265 Q130.417 282.701 126.783 282.701 M126.783 278.997 Q132.593 278.997 135.649 283.603 Q138.728 288.187 138.728 296.937 Q138.728 305.663 135.649 310.27 Q132.593 314.853 126.783 314.853 Q120.973 314.853 117.894 310.27 Q114.839 305.663 114.839 296.937 Q114.839 288.187 117.894 283.603 Q120.973 278.997 126.783 278.997 Z\" fill=\"#000000\" fill-rule=\"nonzero\" fill-opacity=\"1\" /><path clip-path=\"url(#clip480)\" d=\"M146.945 308.302 L151.829 308.302 L151.829 314.182 L146.945 314.182 L146.945 308.302 Z\" fill=\"#000000\" fill-rule=\"nonzero\" fill-opacity=\"1\" /><path clip-path=\"url(#clip480)\" d=\"M172.014 282.701 Q168.403 282.701 166.575 286.265 Q164.769 289.807 164.769 296.937 Q164.769 304.043 166.575 307.608 Q168.403 311.149 172.014 311.149 Q175.649 311.149 177.454 307.608 Q179.283 304.043 179.283 296.937 Q179.283 289.807 177.454 286.265 Q175.649 282.701 172.014 282.701 M172.014 278.997 Q177.825 278.997 180.88 283.603 Q183.959 288.187 183.959 296.937 Q183.959 305.663 180.88 310.27 Q177.825 314.853 172.014 314.853 Q166.204 314.853 163.126 310.27 Q160.07 305.663 160.07 296.937 Q160.07 288.187 163.126 283.603 Q166.204 278.997 172.014 278.997 Z\" fill=\"#000000\" fill-rule=\"nonzero\" fill-opacity=\"1\" /><path clip-path=\"url(#clip480)\" d=\"M202.176 297.77 Q198.843 297.77 196.922 299.552 Q195.024 301.335 195.024 304.46 Q195.024 307.585 196.922 309.367 Q198.843 311.149 202.176 311.149 Q205.51 311.149 207.431 309.367 Q209.352 307.562 209.352 304.46 Q209.352 301.335 207.431 299.552 Q205.533 297.77 202.176 297.77 M197.5 295.779 Q194.491 295.038 192.801 292.978 Q191.135 290.918 191.135 287.955 Q191.135 283.812 194.075 281.404 Q197.037 278.997 202.176 278.997 Q207.338 278.997 210.278 281.404 Q213.218 283.812 213.218 287.955 Q213.218 290.918 211.528 292.978 Q209.861 295.038 206.875 295.779 Q210.255 296.566 212.13 298.858 Q214.028 301.15 214.028 304.46 Q214.028 309.483 210.949 312.168 Q207.894 314.853 202.176 314.853 Q196.459 314.853 193.38 312.168 Q190.325 309.483 190.325 304.46 Q190.325 301.15 192.223 298.858 Q194.121 296.566 197.5 295.779 M195.787 288.395 Q195.787 291.08 197.454 292.585 Q199.144 294.089 202.176 294.089 Q205.186 294.089 206.875 292.585 Q208.588 291.08 208.588 288.395 Q208.588 285.71 206.875 284.205 Q205.186 282.701 202.176 282.701 Q199.144 282.701 197.454 284.205 Q195.787 285.71 195.787 288.395 Z\" fill=\"#000000\" fill-rule=\"nonzero\" fill-opacity=\"1\" /><path clip-path=\"url(#clip480)\" d=\"M24.8606 806.044 Q26.2777 806.044 27.3404 807.204 Q28.371 808.331 28.371 809.555 Q28.371 810.682 27.6947 811.391 Q26.9862 812.067 25.9878 812.067 Q24.6674 812.067 23.5724 810.94 Q22.4774 809.812 22.4774 808.492 Q22.4774 807.397 23.1537 806.721 Q23.83 806.044 24.8606 806.044 M56.6478 805.465 Q56.9054 805.465 57.936 805.755 Q58.9344 806.044 60.4803 806.753 Q61.994 807.429 63.411 808.363 Q64.8281 809.297 65.8264 810.843 Q66.8248 812.357 66.8248 814.096 Q66.8248 816.447 65.2789 817.993 Q63.7331 819.506 61.4142 819.506 Q60.1582 819.506 56.1325 817.993 Q44.4096 813.613 43.9265 813.452 Q42.0907 812.711 40.4804 812.711 Q39.7397 812.711 39.2888 812.872 Q38.8057 813.033 38.6447 813.355 Q38.4515 813.677 38.4193 813.87 Q38.3871 814.031 38.3871 814.354 Q38.3871 816.254 40.3194 818.025 Q42.2518 819.796 46.5673 821.02 Q47.3725 821.278 47.5657 821.439 Q47.759 821.6 47.759 822.083 Q47.7268 822.888 47.0826 822.888 Q46.8894 822.888 46.1487 822.663 Q45.3757 822.437 44.2163 822.018 Q43.0247 821.6 41.8009 820.859 Q40.5448 820.118 39.4498 819.217 Q38.3548 818.283 37.6463 816.962 Q36.9378 815.642 36.9378 814.16 Q36.9378 811.745 38.5159 810.263 Q40.0618 808.75 42.3484 808.75 Q43.6044 808.75 45.8266 809.619 Q48.7251 810.682 49.6591 811.069 L56.5834 813.645 Q59.0954 814.579 59.8684 814.869 Q60.6091 815.126 61.5109 815.352 Q62.3804 815.545 63.1856 815.545 Q64.3128 815.545 64.8281 815.191 Q65.3434 814.804 65.3434 813.967 Q65.3434 811.648 63.0567 809.941 Q60.7379 808.234 57.1953 807.236 Q57.0987 807.204 56.9376 807.172 Q56.1325 806.914 56.0359 806.656 Q56.0037 806.527 56.0037 806.27 Q56.0037 805.465 56.6478 805.465 Z\" fill=\"#000000\" fill-rule=\"nonzero\" fill-opacity=\"1\" /><path clip-path=\"url(#clip480)\" d=\"M49.5947 794.824 Q38.4515 794.824 29.466 790.669 Q25.6979 788.898 22.5418 786.418 Q19.3856 783.938 18.0007 782.296 Q16.6159 780.653 16.6159 780.202 Q16.6159 779.558 17.26 779.526 Q17.5821 779.526 18.3872 780.395 Q29.2084 791.023 49.5947 790.991 Q70.0454 790.991 80.4479 780.653 Q81.5751 779.526 81.9294 779.526 Q82.5735 779.526 82.5735 780.202 Q82.5735 780.653 81.2531 782.231 Q79.9326 783.809 76.9053 786.257 Q73.8779 788.705 70.1742 790.476 Q61.1888 794.824 49.5947 794.824 Z\" fill=\"#000000\" fill-rule=\"nonzero\" fill-opacity=\"1\" /><path clip-path=\"url(#clip480)\" d=\"M38.3871 754.255 Q39.2888 754.255 39.5143 754.673 Q39.7075 755.092 39.7075 756.252 L39.7075 762.435 L59.1598 767.33 Q60.8667 767.717 62.316 767.717 Q63.9263 767.717 64.6348 767.234 Q65.3434 766.718 65.3434 765.656 Q65.3434 763.562 63.4432 761.308 Q61.5431 759.021 56.9054 757.089 Q56.2935 756.831 56.1647 756.702 Q56.0037 756.541 56.0037 756.123 Q56.0037 755.318 56.6478 755.318 Q56.8732 755.318 57.9038 755.768 Q58.9344 756.187 60.4481 757.121 Q61.9617 758.023 63.3788 759.215 Q64.7959 760.374 65.8264 762.145 Q66.8248 763.917 66.8248 765.817 Q66.8248 768.49 65.1179 770.197 Q63.411 771.871 60.7379 771.871 Q59.8684 771.871 57.0987 771.195 Q54.2967 770.519 39.7075 766.847 L39.7075 772.677 Q39.7075 773.482 39.6753 773.804 Q39.6431 774.094 39.4821 774.319 Q39.2888 774.512 38.9023 774.512 Q38.2904 774.512 38.0328 774.255 Q37.7429 773.997 37.7107 773.675 Q37.6463 773.321 37.6463 772.516 L37.6463 766.332 L27.1794 763.756 Q26.1488 763.498 25.5691 762.854 Q24.9572 762.177 24.8928 761.791 Q24.7962 761.405 24.7962 761.115 Q24.7962 760.245 25.2793 759.73 Q25.7302 759.215 26.5675 759.215 Q27.0184 759.215 37.6463 761.92 L37.6463 756.123 Q37.6463 755.382 37.6785 755.092 Q37.7107 754.77 37.8718 754.512 Q38.0328 754.255 38.3871 754.255 Z\" fill=\"#000000\" fill-rule=\"nonzero\" fill-opacity=\"1\" /><path clip-path=\"url(#clip480)\" d=\"M81.9294 749.091 Q81.6073 749.091 80.8022 748.254 Q69.981 737.626 49.5947 737.626 Q29.144 737.626 18.8059 747.835 Q17.6143 749.091 17.26 749.091 Q16.6159 749.091 16.6159 748.447 Q16.6159 747.996 17.9363 746.418 Q19.2568 744.808 22.2841 742.393 Q25.3115 739.945 29.0151 738.141 Q38.0006 733.794 49.5947 733.794 Q60.7379 733.794 69.7234 737.948 Q73.4914 739.719 76.6476 742.199 Q79.8038 744.679 81.1886 746.322 Q82.5735 747.964 82.5735 748.447 Q82.5735 749.091 81.9294 749.091 Z\" fill=\"#000000\" fill-rule=\"nonzero\" fill-opacity=\"1\" /><path clip-path=\"url(#clip480)\" d=\"M871.976 12.096 L882.994 12.096 L909.811 62.6918 L909.811 12.096 L917.751 12.096 L917.751 72.576 L906.733 72.576 L879.916 21.9802 L879.916 72.576 L871.976 72.576 L871.976 12.096 Z\" fill=\"#000000\" fill-rule=\"nonzero\" fill-opacity=\"1\" /><path clip-path=\"url(#clip480)\" d=\"M932.942 54.671 L932.942 27.2059 L940.396 27.2059 L940.396 54.3874 Q940.396 60.8284 942.907 64.0691 Q945.419 67.2693 950.442 67.2693 Q956.478 67.2693 959.962 63.421 Q963.486 59.5726 963.486 52.9291 L963.486 27.2059 L970.94 27.2059 L970.94 72.576 L963.486 72.576 L963.486 65.6084 Q960.772 69.7404 957.166 71.7658 Q953.602 73.7508 948.862 73.7508 Q941.044 73.7508 936.993 68.8897 Q932.942 64.0286 932.942 54.671 M951.698 26.1121 L951.698 26.1121 Z\" fill=\"#000000\" fill-rule=\"nonzero\" fill-opacity=\"1\" /><path clip-path=\"url(#clip480)\" d=\"M1021.62 35.9153 Q1024.41 30.8922 1028.3 28.5022 Q1032.19 26.1121 1037.46 26.1121 Q1044.54 26.1121 1048.39 31.0947 Q1052.24 36.0368 1052.24 45.1919 L1052.24 72.576 L1044.75 72.576 L1044.75 45.4349 Q1044.75 38.913 1042.44 35.7533 Q1040.13 32.5936 1035.39 32.5936 Q1029.6 32.5936 1026.23 36.4419 Q1022.87 40.2903 1022.87 46.9338 L1022.87 72.576 L1015.38 72.576 L1015.38 45.4349 Q1015.38 38.8725 1013.07 35.7533 Q1010.76 32.5936 1005.94 32.5936 Q1000.23 32.5936 996.865 36.4824 Q993.503 40.3308 993.503 46.9338 L993.503 72.576 L986.009 72.576 L986.009 27.2059 L993.503 27.2059 L993.503 34.2544 Q996.055 30.082 999.62 28.0971 Q1003.18 26.1121 1008.09 26.1121 Q1013.03 26.1121 1016.47 28.6237 Q1019.96 31.1352 1021.62 35.9153 Z\" fill=\"#000000\" fill-rule=\"nonzero\" fill-opacity=\"1\" /><path clip-path=\"url(#clip480)\" d=\"M1099.68 49.9314 Q1099.68 41.7081 1096.27 37.0496 Q1092.91 32.3505 1087 32.3505 Q1081.08 32.3505 1077.68 37.0496 Q1074.32 41.7081 1074.32 49.9314 Q1074.32 58.1548 1077.68 62.8538 Q1081.08 67.5124 1087 67.5124 Q1092.91 67.5124 1096.27 62.8538 Q1099.68 58.1548 1099.68 49.9314 M1074.32 34.0924 Q1076.67 30.0415 1080.23 28.0971 Q1083.84 26.1121 1088.82 26.1121 Q1097.08 26.1121 1102.23 32.6746 Q1107.41 39.2371 1107.41 49.9314 Q1107.41 60.6258 1102.23 67.1883 Q1097.08 73.7508 1088.82 73.7508 Q1083.84 73.7508 1080.23 71.8063 Q1076.67 69.8214 1074.32 65.7705 L1074.32 72.576 L1066.82 72.576 L1066.82 9.54393 L1074.32 9.54393 L1074.32 34.0924 Z\" fill=\"#000000\" fill-rule=\"nonzero\" fill-opacity=\"1\" /><path clip-path=\"url(#clip480)\" d=\"M1158.58 48.0275 L1158.58 51.6733 L1124.31 51.6733 Q1124.79 59.3701 1128.92 63.421 Q1133.1 67.4314 1140.51 67.4314 Q1144.8 67.4314 1148.81 66.3781 Q1152.87 65.3249 1156.84 63.2184 L1156.84 70.267 Q1152.83 71.9684 1148.61 72.8596 Q1144.4 73.7508 1140.06 73.7508 Q1129.21 73.7508 1122.85 67.4314 Q1116.53 61.1119 1116.53 50.3365 Q1116.53 39.1965 1122.52 32.6746 Q1128.56 26.1121 1138.77 26.1121 Q1147.92 26.1121 1153.23 32.0264 Q1158.58 37.9003 1158.58 48.0275 M1151.12 45.84 Q1151.04 39.7232 1147.68 36.0774 Q1144.36 32.4315 1138.85 32.4315 Q1132.61 32.4315 1128.84 35.9558 Q1125.12 39.4801 1124.55 45.8805 L1151.12 45.84 Z\" fill=\"#000000\" fill-rule=\"nonzero\" fill-opacity=\"1\" /><path clip-path=\"url(#clip480)\" d=\"M1197.1 34.1734 Q1195.85 33.4443 1194.35 33.1202 Q1192.89 32.7556 1191.11 32.7556 Q1184.79 32.7556 1181.38 36.8875 Q1178.02 40.9789 1178.02 48.6757 L1178.02 72.576 L1170.53 72.576 L1170.53 27.2059 L1178.02 27.2059 L1178.02 34.2544 Q1180.37 30.1225 1184.14 28.1376 Q1187.91 26.1121 1193.29 26.1121 Q1194.06 26.1121 1195 26.2337 Q1195.93 26.3147 1197.06 26.5172 L1197.1 34.1734 Z\" fill=\"#000000\" fill-rule=\"nonzero\" fill-opacity=\"1\" /><path clip-path=\"url(#clip480)\" d=\"M1248.87 32.4315 Q1242.88 32.4315 1239.39 37.1306 Q1235.91 41.7891 1235.91 49.9314 Q1235.91 58.0738 1239.35 62.7728 Q1242.84 67.4314 1248.87 67.4314 Q1254.83 67.4314 1258.31 62.7323 Q1261.79 58.0333 1261.79 49.9314 Q1261.79 41.8701 1258.31 37.1711 Q1254.83 32.4315 1248.87 32.4315 M1248.87 26.1121 Q1258.59 26.1121 1264.14 32.4315 Q1269.69 38.7509 1269.69 49.9314 Q1269.69 61.0714 1264.14 67.4314 Q1258.59 73.7508 1248.87 73.7508 Q1239.11 73.7508 1233.56 67.4314 Q1228.05 61.0714 1228.05 49.9314 Q1228.05 38.7509 1233.56 32.4315 Q1239.11 26.1121 1248.87 26.1121 Z\" fill=\"#000000\" fill-rule=\"nonzero\" fill-opacity=\"1\" /><path clip-path=\"url(#clip480)\" d=\"M1305.02 9.54393 L1305.02 15.7418 L1297.89 15.7418 Q1293.88 15.7418 1292.3 17.3622 Q1290.76 18.9825 1290.76 23.1955 L1290.76 27.2059 L1303.03 27.2059 L1303.03 32.9987 L1290.76 32.9987 L1290.76 72.576 L1283.26 72.576 L1283.26 32.9987 L1276.13 32.9987 L1276.13 27.2059 L1283.26 27.2059 L1283.26 24.0462 Q1283.26 16.471 1286.79 13.0277 Q1290.31 9.54393 1297.97 9.54393 L1305.02 9.54393 Z\" fill=\"#000000\" fill-rule=\"nonzero\" fill-opacity=\"1\" /><path clip-path=\"url(#clip480)\" d=\"M1337.95 12.096 L1346.13 12.096 L1346.13 72.576 L1337.95 72.576 L1337.95 12.096 Z\" fill=\"#000000\" fill-rule=\"nonzero\" fill-opacity=\"1\" /><path clip-path=\"url(#clip480)\" d=\"M1399.81 45.1919 L1399.81 72.576 L1392.36 72.576 L1392.36 45.4349 Q1392.36 38.994 1389.84 35.7938 Q1387.33 32.5936 1382.31 32.5936 Q1376.27 32.5936 1372.79 36.4419 Q1369.31 40.2903 1369.31 46.9338 L1369.31 72.576 L1361.81 72.576 L1361.81 27.2059 L1369.31 27.2059 L1369.31 34.2544 Q1371.98 30.163 1375.58 28.1376 Q1379.23 26.1121 1383.97 26.1121 Q1391.79 26.1121 1395.8 30.9732 Q1399.81 35.7938 1399.81 45.1919 Z\" fill=\"#000000\" fill-rule=\"nonzero\" fill-opacity=\"1\" /><path clip-path=\"url(#clip480)\" d=\"M1437.64 9.54393 L1437.64 15.7418 L1430.51 15.7418 Q1426.5 15.7418 1424.92 17.3622 Q1423.39 18.9825 1423.39 23.1955 L1423.39 27.2059 L1435.66 27.2059 L1435.66 32.9987 L1423.39 32.9987 L1423.39 72.576 L1415.89 72.576 L1415.89 32.9987 L1408.76 32.9987 L1408.76 27.2059 L1415.89 27.2059 L1415.89 24.0462 Q1415.89 16.471 1419.42 13.0277 Q1422.94 9.54393 1430.6 9.54393 L1437.64 9.54393 Z\" fill=\"#000000\" fill-rule=\"nonzero\" fill-opacity=\"1\" /><path clip-path=\"url(#clip480)\" d=\"M1482.69 48.0275 L1482.69 51.6733 L1448.42 51.6733 Q1448.91 59.3701 1453.04 63.421 Q1457.21 67.4314 1464.62 67.4314 Q1468.92 67.4314 1472.93 66.3781 Q1476.98 65.3249 1480.95 63.2184 L1480.95 70.267 Q1476.94 71.9684 1472.73 72.8596 Q1468.51 73.7508 1464.18 73.7508 Q1453.32 73.7508 1446.96 67.4314 Q1440.64 61.1119 1440.64 50.3365 Q1440.64 39.1965 1446.64 32.6746 Q1452.67 26.1121 1462.88 26.1121 Q1472.04 26.1121 1477.34 32.0264 Q1482.69 37.9003 1482.69 48.0275 M1475.24 45.84 Q1475.16 39.7232 1471.79 36.0774 Q1468.47 32.4315 1462.96 32.4315 Q1456.72 32.4315 1452.96 35.9558 Q1449.23 39.4801 1448.66 45.8805 L1475.24 45.84 Z\" fill=\"#000000\" fill-rule=\"nonzero\" fill-opacity=\"1\" /><path clip-path=\"url(#clip480)\" d=\"M1527.57 28.9478 L1527.57 35.9153 Q1524.41 34.1734 1521.21 33.3227 Q1518.05 32.4315 1514.81 32.4315 Q1507.56 32.4315 1503.55 37.0496 Q1499.54 41.6271 1499.54 49.9314 Q1499.54 58.2358 1503.55 62.8538 Q1507.56 67.4314 1514.81 67.4314 Q1518.05 67.4314 1521.21 66.5807 Q1524.41 65.6895 1527.57 63.9476 L1527.57 70.8341 Q1524.46 72.2924 1521.09 73.0216 Q1517.77 73.7508 1514 73.7508 Q1503.75 73.7508 1497.72 67.3098 Q1491.68 60.8689 1491.68 49.9314 Q1491.68 38.832 1497.76 32.472 Q1503.88 26.1121 1514.49 26.1121 Q1517.93 26.1121 1521.21 26.8413 Q1524.5 27.5299 1527.57 28.9478 Z\" fill=\"#000000\" fill-rule=\"nonzero\" fill-opacity=\"1\" /><path clip-path=\"url(#clip480)\" d=\"M1547.91 14.324 L1547.91 27.2059 L1563.26 27.2059 L1563.26 32.9987 L1547.91 32.9987 L1547.91 57.6282 Q1547.91 63.1779 1549.41 64.7578 Q1550.95 66.3376 1555.61 66.3376 L1563.26 66.3376 L1563.26 72.576 L1555.61 72.576 Q1546.98 72.576 1543.7 69.3758 Q1540.42 66.1351 1540.42 57.6282 L1540.42 32.9987 L1534.95 32.9987 L1534.95 27.2059 L1540.42 27.2059 L1540.42 14.324 L1547.91 14.324 Z\" fill=\"#000000\" fill-rule=\"nonzero\" fill-opacity=\"1\" /><path clip-path=\"url(#clip480)\" d=\"M1573.07 27.2059 L1580.52 27.2059 L1580.52 72.576 L1573.07 72.576 L1573.07 27.2059 M1573.07 9.54393 L1580.52 9.54393 L1580.52 18.9825 L1573.07 18.9825 L1573.07 9.54393 Z\" fill=\"#000000\" fill-rule=\"nonzero\" fill-opacity=\"1\" /><path clip-path=\"url(#clip480)\" d=\"M1613.7 32.4315 Q1607.7 32.4315 1604.22 37.1306 Q1600.73 41.7891 1600.73 49.9314 Q1600.73 58.0738 1604.18 62.7728 Q1607.66 67.4314 1613.7 67.4314 Q1619.65 67.4314 1623.14 62.7323 Q1626.62 58.0333 1626.62 49.9314 Q1626.62 41.8701 1623.14 37.1711 Q1619.65 32.4315 1613.7 32.4315 M1613.7 26.1121 Q1623.42 26.1121 1628.97 32.4315 Q1634.52 38.7509 1634.52 49.9314 Q1634.52 61.0714 1628.97 67.4314 Q1623.42 73.7508 1613.7 73.7508 Q1603.93 73.7508 1598.38 67.4314 Q1592.87 61.0714 1592.87 49.9314 Q1592.87 38.7509 1598.38 32.4315 Q1603.93 26.1121 1613.7 26.1121 Z\" fill=\"#000000\" fill-rule=\"nonzero\" fill-opacity=\"1\" /><path clip-path=\"url(#clip480)\" d=\"M1684.59 45.1919 L1684.59 72.576 L1677.13 72.576 L1677.13 45.4349 Q1677.13 38.994 1674.62 35.7938 Q1672.11 32.5936 1667.09 32.5936 Q1661.05 32.5936 1657.57 36.4419 Q1654.08 40.2903 1654.08 46.9338 L1654.08 72.576 L1646.59 72.576 L1646.59 27.2059 L1654.08 27.2059 L1654.08 34.2544 Q1656.76 30.163 1660.36 28.1376 Q1664.01 26.1121 1668.75 26.1121 Q1676.57 26.1121 1680.58 30.9732 Q1684.59 35.7938 1684.59 45.1919 Z\" fill=\"#000000\" fill-rule=\"nonzero\" fill-opacity=\"1\" /><path clip-path=\"url(#clip480)\" d=\"M1728.38 28.5427 L1728.38 35.5912 Q1725.22 33.9709 1721.82 33.1607 Q1718.41 32.3505 1714.77 32.3505 Q1709.22 32.3505 1706.42 34.0519 Q1703.67 35.7533 1703.67 39.156 Q1703.67 41.7486 1705.65 43.2475 Q1707.64 44.7058 1713.63 46.0426 L1716.18 46.6097 Q1724.12 48.3111 1727.45 51.4303 Q1730.81 54.509 1730.81 60.0587 Q1730.81 66.3781 1725.79 70.0644 Q1720.8 73.7508 1712.05 73.7508 Q1708.41 73.7508 1704.44 73.0216 Q1700.51 72.3329 1696.13 70.9151 L1696.13 63.2184 Q1700.26 65.3654 1704.27 66.4591 Q1708.29 67.5124 1712.21 67.5124 Q1717.48 67.5124 1720.32 65.73 Q1723.15 63.9071 1723.15 60.6258 Q1723.15 57.5877 1721.09 55.9673 Q1719.06 54.3469 1712.13 52.8481 L1709.54 52.2405 Q1702.61 50.7821 1699.54 47.7845 Q1696.46 44.7463 1696.46 39.4801 Q1696.46 33.0797 1700.99 29.5959 Q1705.53 26.1121 1713.88 26.1121 Q1718.01 26.1121 1721.65 26.7198 Q1725.3 27.3274 1728.38 28.5427 Z\" fill=\"#000000\" fill-rule=\"nonzero\" fill-opacity=\"1\" /><polyline clip-path=\"url(#clip482)\" style=\"stroke:#009af9; stroke-linecap:round; stroke-linejoin:round; stroke-width:4; stroke-opacity:1; fill:none\" points=\"250.028,1386.2 250.085,1386.2 250.098,1386.2 250.113,1386.2 250.131,1386.2 250.15,1386.2 250.172,1386.2 250.196,1386.2 250.224,1386.2 250.254,1386.21 250.289,1386.21 250.328,1386.21 250.372,1386.21 250.422,1386.21 250.478,1386.21 250.54,1386.21 250.611,1386.21 250.69,1386.21 250.779,1386.21 250.88,1386.21 250.993,1386.21 251.12,1386.21 251.263,1386.21 251.424,1386.21 251.604,1386.21 251.807,1386.22 252.029,1386.22 252.271,1386.22 252.531,1386.22 252.806,1386.22 253.096,1386.23 253.4,1386.23 253.716,1386.23 254.043,1386.23 254.381,1386.23 254.726,1386.24 255.077,1386.24 255.434,1386.24 255.799,1386.24 256.17,1386.25 256.547,1386.25 256.928,1386.25 257.314,1386.25 257.7,1386.26 258.091,1386.26 258.486,1386.26 258.886,1386.26 259.288,1386.27 259.692,1386.27 260.101,1386.27 260.512,1386.27 260.929,1386.28 261.353,1386.28 261.783,1386.28 262.218,1386.28 262.657,1386.29 263.1,1386.29 263.543,1386.29 263.988,1386.29 264.44,1386.29 264.893,1386.3 265.351,1386.3 265.818,1386.3 266.292,1386.3 266.77,1386.31 267.252,1386.31 267.743,1386.31 268.245,1386.31 268.755,1386.31 269.273,1386.32 269.797,1386.32 270.325,1386.32 270.856,1386.32 271.395,1386.32 271.934,1386.32 272.472,1386.33 273.013,1386.33 273.557,1386.33 274.1,1386.33 274.642,1386.33 275.187,1386.34 275.735,1386.34 276.283,1386.34 276.826,1386.34 277.37,1386.34 277.92,1386.35 278.477,1386.35 279.041,1386.35 279.611,1386.35 280.183,1386.35 280.758,1386.35 281.336,1386.36 281.92,1386.36 282.508,1386.36 283.102,1386.36 283.702,1386.36 284.313,1386.36 284.927,1386.37 285.547,1386.37 286.171,1386.37 286.804,1386.37 287.448,1386.37 288.104,1386.37 288.767,1386.37 289.44,1386.37 290.126,1386.37 290.834,1386.38 291.549,1386.38 292.267,1386.38 292.996,1386.38 293.736,1386.38 294.484,1386.38 295.23,1386.38 295.973,1386.38 296.718,1386.38 297.465,1386.38 298.214,1386.38 298.966,1386.38 299.728,1386.39 300.497,1386.39 301.27,1386.39 302.051,1386.39 302.839,1386.39 303.642,1386.39 304.459,1386.39 305.279,1386.39 306.115,1386.39 306.96,1386.39 307.83,1386.39 308.728,1386.39 309.653,1386.39 310.607,1386.39 311.58,1386.39 312.583,1386.38 313.621,1386.38 314.667,1386.38 315.741,1386.38 316.828,1386.38 317.913,1386.38 319.005,1386.38 320.142,1386.37 321.336,1386.37 322.582,1386.37 323.903,1386.36 325.298,1386.36 326.75,1386.36 328.322,1386.35 329.96,1386.34 331.636,1386.34 333.398,1386.33 335.195,1386.32 337.017,1386.32 338.764,1386.31 340.539,1386.31 342.301,1386.3 344.112,1386.29 345.915,1386.29 347.804,1386.28 349.711,1386.27 351.61,1386.27 353.445,1386.26 355.252,1386.26 356.987,1386.25 358.695,1386.25 360.376,1386.24 362.056,1386.23 363.727,1386.23 365.39,1386.22 367.05,1386.22 368.684,1386.21 370.356,1386.21 372.079,1386.2 373.889,1386.19 375.788,1386.18 377.668,1386.18 379.54,1386.17 381.46,1386.16 383.428,1386.15 385.406,1386.14 387.401,1386.13 389.426,1386.12 391.523,1386.11 393.802,1386.1 396.288,1386.08 398.893,1386.06 401.497,1386.04 404.259,1386.02 407.272,1386 410.406,1385.97 413.932,1385.94 417.854,1385.91 422.164,1385.86 427.012,1385.8 432.467,1385.74 438.603,1385.66 445.507,1385.57 453.172,1385.44 461.795,1385.28 469.225,1385.14 477.26,1384.97 486.002,1384.77 495.301,1384.53 505.764,1384.25 514.847,1384.01 525.065,1383.72 536.188,1383.38 548.463,1382.93 562.272,1382.22 568.776,1381.81 574.676,1381.43 580.31,1381.04 585.855,1380.64 591.262,1380.21 596.281,1379.8 601.335,1379.38 606.47,1378.93 611.904,1378.43 617.482,1377.87 622.689,1377.28 627.613,1376.74 632.589,1376.16 638.179,1375.44 643.076,1374.73 647.805,1374.02 652.23,1373.31 656.681,1372.6 661.036,1371.93 665.936,1371.13 670.848,1370.27 675.907,1369.37 681.451,1368.36 687.488,1367.07 693.145,1365.67 697.822,1364.5 702.84,1363.16 707.565,1361.84 712.292,1360.45 717.055,1359.03 721.834,1357.7 727.211,1356.05 732.458,1354.33 738.058,1352.41 743.931,1350.34 750.538,1347.77 756.642,1345.44 763.509,1342.68 771.235,1339.2 777.816,1335.95 784.565,1332.59 792.159,1328.3 799.611,1324.08 807.609,1319.44 816.606,1314.7 825.094,1309.8 834.057,1303.94 844.14,1297.04 854.65,1289.86 865.308,1282.25 873.627,1275.93 882.627,1268.44 892.752,1259.87 902.052,1251.03 911.165,1241 921.417,1228.65 932.118,1213.86 943.071,1195.71 952.002,1180.62 961.867,1162.28 970.938,1146.09 980.917,1128.18 990.448,1109.51 999.73,1088.19 1008.79,1063.71 1016.2,1042.56 1023.47,1022.39 1030.65,1002.58 1037.87,983.89 1044.93,967.838 1051.29,953.903 1057.03,942.119 1062.59,931.136 1067.61,920.196 1072.46,908.124 1077.58,894.925 1082.67,881.612 1087.77,868.886 1092.66,857.346 1097.21,847.361 1101.58,836.719 1106.04,826.36 1110.29,814.653 1114.75,803.899 1119.01,793.276 1123.25,782.955 1127.46,772.672 1131.55,762.307 1135.67,750.811 1139.84,739.844 1143.97,729.685 1147.93,719.655 1151.93,709.154 1155.9,697.738 1159.96,686.659 1163.95,676.562 1167.88,665.911 1171.8,653.65 1175.78,643.119 1179.7,632.547 1183.55,621.435 1187.45,610.491 1191.3,598.377 1195.13,586.858 1198.93,575.564 1202.7,565.057 1206.45,555.802 1210.17,546.691 1213.84,539.35 1217.43,531.522 1221.04,522.827 1224.61,514.516 1228.2,507.196 1231.72,500.107 1235.22,493.251 1238.7,486.249 1242.16,478.959 1245.63,469.784 1249.09,459.722 1252.44,449.303 1255.75,437.752 1258.89,428.845 1262.08,420.261 1265.29,412.052 1268.46,405.46 1271.69,400.48 1274.92,396.402 1278.16,390.928 1281.4,386.079 1284.65,380.855 1287.89,377.167 1291.14,374.4 1294.37,370.34 1297.62,364.788 1300.83,358.42 1303.98,351.98 1307.03,346.259 1310.08,341.602 1313.15,337.361 1316.23,334.767 1319.35,332.216 1322.48,330.092 1325.62,328.401 1328.76,328.05 1331.94,326.727 1335.12,324.476 1338.25,322.938 1341.41,321.509 1344.55,320.87 1347.71,321.529 1350.91,321.789 1354.11,322.634 1357.32,322.771 1360.51,323.4 1363.73,325.322 1366.97,327.209 1370.23,328.698 1373.47,329.262 1376.67,328.778 1379.78,328.289 1382.77,329.889 1385.95,332.899 1389.13,337.226 1392.4,341.789 1395.7,346.006 1399.01,348.229 1402.28,348.85 1405.34,349.275 1408.32,349.576 1411.23,348.689 1413.92,348.881 1416.62,349.436 1419.31,351.076 1422.02,353.028 1424.76,354.905 1427.49,356.139 1430.09,357.118 1432.65,357.584 1435.13,357.7 1437.48,357.782 1439.78,358.081 1442.04,359.396 1444.34,361.06 1446.66,363.328 1449.01,365.676 1451.34,368.675 1453.75,371.517 1456.17,373.649 1458.47,376.422 1460.81,379.951 1463.26,383.337 1465.68,386.611 1468.08,389.383 1470.43,391.43 1472.67,393.665 1474.9,395.851 1477.11,398.025 1479.24,400.518 1481.38,403.342 1483.53,406.225 1485.69,409.004 1487.81,411.654 1489.94,414.229 1491.98,417.283 1494.09,420.834 1496.2,423.908 1498.3,426.837 1500.34,429.363 1502.31,432.099 1504.3,434.587 1506.25,437.298 1508.17,440.14 1510.1,443.162 1512.03,445.938 1513.92,448.574 1515.79,451.158 1517.65,453.622 1519.44,456.11 1521.25,458.617 1523.04,461.294 1524.8,464.131 1526.6,466.875 1528.37,469.535 1530.12,472.314 1531.86,474.833 1533.58,477.345 1535.28,480.13 1536.98,483.339 1538.73,486.847 1540.49,490.859 1542.33,495.168 1544.19,499.601 1546.1,503.874 1547.98,508.096 1549.85,512.554 1551.77,516.984 1553.68,521.321 1555.59,525.687 1557.48,530.255 1559.39,534.961 1561.32,539.727 1563.27,544.592 1565.21,549.729 1567.21,554.923 1569.21,560.008 1571.2,564.875 1573.14,570.14 1575.15,575.855 1577.23,581.847 1579.31,587.818 1581.43,594.148 1583.59,600.55 1585.77,607.549 1588.1,615.027 1590.5,622.408 1592.86,629.358 1595.16,636.282 1597.51,643.746 1599.94,651.716 1602.5,660.131 1605.1,669.012 1607.87,678.394 1610.68,687.605 1613.51,697.15 1616.45,707.307 1619.58,718.473 1622.93,730.221 1626.4,742.612 1630.18,755.959 1634.19,769.714 1638.17,783.656 1642.46,798.876 1647.29,815.643 1652.15,832.359 1657.56,850.428 1663.22,868.46 1668.94,886.079 1674.47,902.516 1680.55,919.845 1686.29,935.815 1692.17,951.915 1698.36,967.825 1704.75,983.296 1710.25,996.451 1715.57,1009.1 1721.53,1022.82 1727.32,1036.22 1733.83,1050.77 1740.67,1065.07 1747.38,1078.37 1753.87,1090.29 1759.53,1100.66 1765.25,1111.39 1771.7,1122.98 1778.47,1135.33 1786.1,1148.74 1793.86,1161.97 1800.97,1173.41 1808.96,1185.91 1816.08,1196.31 1823.61,1206.67 1830.94,1216.46 1838.42,1225.9 1845.21,1233.92 1852.85,1242.72 1858.87,1249.46 1863.1,1254.23 1866.83,1258.34 1870.34,1262.09 1873.66,1265.47 1877,1268.75 1880.4,1272.01 1883.73,1275.1 1886.97,1278 1890.42,1281.04 1893.78,1283.98 1896.81,1286.59 1899.76,1289.01 1902.88,1291.51 1905.83,1293.83 1908.96,1296.25 1911.81,1298.37 1914.8,1300.51 1917.99,1302.7 1921.2,1304.78 1924.81,1307.05 1928.87,1309.58 1932.91,1312.05 1936.78,1314.34 1940.75,1316.59 1944.79,1318.77 1949.33,1321.16 1953.61,1323.29 1958.42,1325.61 1963.73,1327.95 1969.69,1330.37 1976.41,1333.02 1983.96,1335.78 1991.7,1338.43 1998.24,1340.48 2004.49,1342.38 2010.6,1344.21 2017.48,1346.12 2023.59,1347.78 2029.77,1349.4 2036.62,1351.12 2042.91,1352.64 2049.99,1354.23 2055.94,1355.53 2062.14,1356.86 2069.12,1358.31 2076.84,1359.87 2085.4,1361.57 2095.02,1363.45 2101.98,1364.76 2107.7,1365.76 2113.33,1366.66 2119.67,1367.6 2126.8,1368.6 2133.27,1369.48 2140.56,1370.43 2147.83,1371.32 2154.83,1372.13 2162.72,1373.03 2166.93,1373.48 2171.67,1373.98 2176.14,1374.44 2181.02,1374.92 2186.22,1375.42 2191.07,1375.87 2196,1376.31 2200.75,1376.72 2205.25,1377.08 2210.33,1377.49 2215.09,1377.86 2219.65,1378.2 2224.19,1378.51 2229.3,1378.85 2235.05,1379.21 2241.02,1379.58 2246.11,1379.88 2251.34,1380.18 2257.2,1380.49 2263.78,1380.82 2270.6,1381.15 2277.28,1381.45 2284.64,1381.75 2292.93,1382.09 2298.36,1382.3 2304.47,1382.52 2311.34,1382.76 2317.77,1382.99 2322.9,1383.16 2327.48,1383.31 2331.71,1383.45 2335.89,1383.58 2340.19,1383.7 2344.85,1383.83 2349.61,1383.95 2352.76,1384.03 \"/>\n",
       "<polyline clip-path=\"url(#clip482)\" style=\"stroke:#e26f46; stroke-linecap:round; stroke-linejoin:round; stroke-width:4; stroke-opacity:1; fill:none\" points=\"250.028,1386.2 250.085,1386.2 250.098,1386.2 250.113,1386.2 250.131,1386.2 250.15,1386.2 250.172,1386.2 250.196,1386.2 250.223,1386.2 250.254,1386.21 250.289,1386.21 250.328,1386.21 250.372,1386.21 250.421,1386.21 250.477,1386.21 250.54,1386.21 250.61,1386.21 250.689,1386.21 250.779,1386.21 250.879,1386.21 250.992,1386.21 251.119,1386.21 251.261,1386.21 251.422,1386.21 251.603,1386.22 251.805,1386.22 252.027,1386.22 252.267,1386.22 252.525,1386.22 252.8,1386.22 253.089,1386.23 253.391,1386.23 253.704,1386.23 254.029,1386.23 254.362,1386.23 254.704,1386.24 255.054,1386.24 255.411,1386.24 255.776,1386.24 256.145,1386.25 256.519,1386.25 256.896,1386.25 257.277,1386.25 257.66,1386.26 258.046,1386.26 258.436,1386.26 258.828,1386.26 259.223,1386.27 259.621,1386.27 260.022,1386.27 260.426,1386.27 260.837,1386.28 261.252,1386.28 261.672,1386.28 262.097,1386.28 262.526,1386.29 262.96,1386.29 263.396,1386.29 263.833,1386.29 264.271,1386.3 264.713,1386.3 265.157,1386.3 265.603,1386.3 266.051,1386.31 266.498,1386.31 266.951,1386.31 267.408,1386.31 267.87,1386.31 268.335,1386.32 268.8,1386.32 269.266,1386.32 269.731,1386.32 270.199,1386.33 270.674,1386.33 271.154,1386.33 271.639,1386.33 272.127,1386.33 272.62,1386.34 273.116,1386.34 273.613,1386.34 274.112,1386.34 274.612,1386.34 275.115,1386.35 275.622,1386.35 276.134,1386.35 276.646,1386.35 277.161,1386.35 277.68,1386.36 278.204,1386.36 278.733,1386.36 279.27,1386.36 279.815,1386.36 280.37,1386.36 280.933,1386.37 281.503,1386.37 282.084,1386.37 282.676,1386.37 283.28,1386.37 283.893,1386.37 284.517,1386.37 285.15,1386.37 285.793,1386.38 286.436,1386.38 287.091,1386.38 287.758,1386.38 288.439,1386.38 289.139,1386.38 289.853,1386.38 290.568,1386.38 291.28,1386.38 291.995,1386.39 292.715,1386.39 293.431,1386.39 294.152,1386.39 294.879,1386.39 295.6,1386.39 296.335,1386.39 297.077,1386.39 297.826,1386.39 298.588,1386.39 299.371,1386.39 300.171,1386.39 300.989,1386.39 301.815,1386.39 302.64,1386.39 303.467,1386.39 304.3,1386.4 305.149,1386.4 306.005,1386.4 306.87,1386.4 307.748,1386.4 308.635,1386.4 309.544,1386.4 310.464,1386.39 311.413,1386.39 312.386,1386.39 313.386,1386.39 314.432,1386.39 315.49,1386.39 316.589,1386.39 317.694,1386.39 318.84,1386.38 320.014,1386.38 321.237,1386.38 322.526,1386.38 323.848,1386.37 325.208,1386.37 326.593,1386.36 328.04,1386.36 329.536,1386.36 331.035,1386.35 332.558,1386.35 334.091,1386.34 335.64,1386.34 337.23,1386.33 338.861,1386.33 340.51,1386.32 342.145,1386.32 343.817,1386.31 345.528,1386.31 347.196,1386.3 348.903,1386.3 350.573,1386.29 352.307,1386.29 354.141,1386.28 356.06,1386.27 358.035,1386.26 360.027,1386.25 362.176,1386.24 364.463,1386.23 366.848,1386.21 369.268,1386.2 371.91,1386.18 374.676,1386.17 377.542,1386.15 380.47,1386.13 383.578,1386.11 386.737,1386.09 390.127,1386.06 393.859,1386.03 398.058,1385.99 402.254,1385.95 406.58,1385.92 410.663,1385.89 414.613,1385.86 418.287,1385.82 422.348,1385.79 426.461,1385.74 431.087,1385.69 436.292,1385.62 442.148,1385.55 447.841,1385.47 454.246,1385.38 461.451,1385.24 469.025,1385.08 475.776,1384.93 483.371,1384.75 490.772,1384.53 496.791,1384.35 502.925,1384.16 509.164,1383.95 515.614,1383.72 521.612,1383.48 527.823,1383.24 534.258,1382.95 540.877,1382.61 546.243,1382.32 551.876,1381.99 557.231,1381.65 562.112,1381.33 566.952,1380.98 571.597,1380.64 576.302,1380.28 580.946,1379.89 585.311,1379.51 589.654,1379.1 593.786,1378.69 597.893,1378.28 602.194,1377.85 606.563,1377.42 611.479,1376.91 617.008,1376.33 622.427,1375.73 628.524,1375.04 635.382,1374.17 642.351,1373.18 648.6,1372.32 655.631,1371.35 663.062,1370.28 671.423,1369.13 678.853,1368.16 684.451,1367.39 690.748,1366.56 696.009,1365.81 701.453,1365.01 707.069,1364.11 713.161,1363.01 720.015,1361.82 726.321,1360.62 732.841,1359.28 740.177,1357.64 748.429,1355.54 757.713,1353.16 765.778,1350.79 774.852,1348.06 782.467,1345.72 790.554,1343.33 797.556,1341.05 804.401,1338.71 812.103,1336.06 819.222,1333.21 827.232,1329.88 836.243,1326.13 843.547,1322.81 851.461,1318.94 860.364,1314.3 868.218,1309.73 877.053,1304.65 885.877,1300.17 891.494,1297.48 896.615,1294.57 901.981,1291.13 908.018,1286.51 914.809,1281.02 922.449,1275.08 930.124,1268.4 937.529,1261.93 945.86,1253.78 953.832,1244.24 962.8,1232.56 971.317,1220.56 980.154,1207.26 988.762,1193.93 998.432,1177.15 1006.84,1162.01 1015.34,1146.6 1024.83,1128.63 1033.81,1112.21 1042.82,1098.04 1050.01,1084.82 1057.92,1069.18 1065.08,1051.92 1072.97,1031.09 1080.02,1012.13 1087.2,988.944 1093.72,965.504 1099.24,943.909 1104.34,922.87 1108.98,903.327 1113.49,884.396 1117.79,865.619 1121.93,846.726 1125.78,828.298 1129.43,809.457 1132.84,791.73 1136.11,774.913 1139.3,759.75 1142.62,744.691 1145.99,727.184 1149.18,710.885 1152.3,695.481 1155.5,679.652 1158.67,664.895 1161.86,651.409 1165.17,637.947 1168.56,623.682 1171.95,609.515 1175.33,596.159 1178.73,584.062 1182.17,571.092 1185.62,558.37 1189.05,545.932 1192.48,533.112 1195.89,520.214 1199.28,504.73 1202.57,489.295 1205.71,477.075 1208.95,464.129 1212.17,449.939 1215.26,437.196 1218.35,425.574 1221.47,413.92 1224.54,402.338 1227.61,390.638 1230.61,380.364 1233.66,370.339 1236.67,360.277 1239.69,350.333 1242.67,340.826 1245.65,329.881 1248.58,318.828 1251.43,306.551 1254.21,294.571 1256.88,284.325 1259.59,273.932 1262.27,264.069 1264.91,254.291 1267.54,244.632 1270.12,236.264 1272.74,228.341 1275.35,219.346 1277.91,211.948 1280.47,205.741 1283.1,199.222 1285.7,193.13 1288.31,188.157 1290.95,183.426 1293.59,180.159 1296.26,177.901 1298.94,176.123 1301.62,173.54 1304.33,171.415 1307.03,169.938 1309.75,168.864 1312.48,169.244 1315.2,169.044 1317.93,167.894 1320.68,166.874 1323.44,165.749 1326.2,164.355 1328.95,162.784 1331.71,161.122 1334.44,160.793 1337.2,160.256 1339.96,160.42 1342.73,161.007 1345.52,162.778 1348.33,166.332 1351.14,169.047 1353.97,170.738 1356.79,173.272 1359.65,175.977 1362.51,179.311 1365.39,182.394 1368.29,183.679 1371.13,185.749 1373.99,187.749 1376.83,190.779 1379.71,193.887 1382.59,197.807 1385.49,202.354 1388.44,206.617 1391.37,211.171 1394.33,215.722 1397.28,219.921 1400.23,223.392 1403.11,228.15 1406.03,235.353 1409.07,243.787 1412.13,251.198 1415.23,256.016 1418.23,260.707 1421.15,266.456 1424.18,272.508 1427.15,279.37 1430.24,287.802 1433.39,296.968 1436.61,305.741 1439.83,314.902 1443.11,323.794 1446.37,333.041 1449.7,342.156 1453.03,351.398 1456.35,360.005 1459.66,369.12 1462.99,378.893 1466.4,389.182 1469.83,399.579 1473.31,410.507 1476.86,421.305 1480.42,432.18 1483.99,443.281 1487.6,455.795 1491.32,468.842 1495.16,480.82 1498.95,492.094 1502.59,503.467 1506.34,515.314 1510.11,527.513 1514.06,540.039 1517.88,552.743 1521.92,566.654 1526.04,580.711 1530.25,595.024 1534.56,608.99 1538.88,623.478 1543.3,639.271 1547.98,656.02 1552.75,674.049 1557.56,691.383 1562.49,708.686 1567.63,727.264 1572.71,745.391 1577.79,763.349 1582.87,780.336 1588.31,798.59 1593.82,816.52 1599.36,833.398 1605.41,851.818 1611.6,871.242 1617.28,888.078 1623.23,905.066 1629.48,922.489 1635.95,939.355 1642.79,956.523 1650.22,973.813 1657.9,991.333 1665.57,1008.91 1673.98,1027.05 1682.76,1045.65 1692.15,1064.51 1701.13,1080.79 1711.23,1097.76 1720.78,1112.08 1727.23,1120.53 1732.9,1127.98 1738.16,1134.75 1743.33,1141.42 1748.29,1147.88 1753.61,1154.62 1758.79,1160.89 1763.92,1166.82 1768.51,1172.21 1773.24,1177.66 1778.05,1183.43 1783.47,1189.91 1789.56,1196.84 1795.49,1203.62 1802.16,1210.69 1807.81,1216.67 1814.18,1223.09 1821.34,1230.37 1829.39,1238.06 1837.48,1245.23 1846,1252.35 1854.07,1259.05 1863.14,1266.48 1873.35,1274.28 1884.48,1281.87 1894.11,1288.31 1904.93,1295.3 1917.11,1302.61 1926.29,1307.66 1936.61,1312.8 1948.23,1318.34 1961.29,1324.08 1974.56,1329.57 1985.36,1333.69 1997.51,1337.74 2011.18,1341.97 2025.3,1346.05 2041.18,1350.27 2053.64,1353.32 2065.23,1356.03 2075.32,1358.13 2086.66,1360.38 2097.04,1362.33 2105.86,1363.79 2115.78,1365.31 2126.94,1366.88 2139.5,1368.48 2151.97,1369.83 2157.82,1370.44 2164.41,1371.07 2170.27,1371.66 2176.86,1372.3 2184.28,1372.97 2190.3,1373.52 2197.08,1374.1 2204.71,1374.71 2210.7,1375.2 2217.44,1375.75 2225.01,1376.33 2233.54,1376.93 2243.13,1377.58 2253.92,1378.26 2263.86,1378.84 2275.05,1379.41 2283.74,1379.82 2290.65,1380.13 2298.43,1380.46 2304.89,1380.75 2312.15,1381.06 2320.32,1381.39 2329.52,1381.75 2339.86,1382.15 2345.28,1382.35 2351.38,1382.56 2352.76,1382.61 \"/>\n",
       "<path clip-path=\"url(#clip480)\" d=\"M1797.32 322.316 L2282.66 322.316 L2282.66 166.796 L1797.32 166.796  Z\" fill=\"#ffffff\" fill-rule=\"evenodd\" fill-opacity=\"1\"/>\n",
       "<polyline clip-path=\"url(#clip480)\" style=\"stroke:#000000; stroke-linecap:round; stroke-linejoin:round; stroke-width:4; stroke-opacity:1; fill:none\" points=\"1797.32,322.316 2282.66,322.316 2282.66,166.796 1797.32,166.796 1797.32,322.316 \"/>\n",
       "<polyline clip-path=\"url(#clip480)\" style=\"stroke:#009af9; stroke-linecap:round; stroke-linejoin:round; stroke-width:4; stroke-opacity:1; fill:none\" points=\"1820.69,218.636 1960.87,218.636 \"/>\n",
       "<path clip-path=\"url(#clip480)\" d=\"M1984.23 201.356 L2013.47 201.356 L2013.47 205.291 L2001.2 205.291 L2001.2 235.916 L1996.5 235.916 L1996.5 205.291 L1984.23 205.291 L1984.23 201.356 Z\" fill=\"#000000\" fill-rule=\"nonzero\" fill-opacity=\"1\" /><path clip-path=\"url(#clip480)\" d=\"M2025.85 213.971 Q2025.14 213.555 2024.28 213.37 Q2023.45 213.161 2022.43 213.161 Q2018.82 213.161 2016.87 215.522 Q2014.95 217.86 2014.95 222.258 L2014.95 235.916 L2010.67 235.916 L2010.67 209.99 L2014.95 209.99 L2014.95 214.018 Q2016.29 211.657 2018.45 210.522 Q2020.6 209.365 2023.68 209.365 Q2024.12 209.365 2024.65 209.434 Q2025.18 209.481 2025.83 209.596 L2025.85 213.971 Z\" fill=\"#000000\" fill-rule=\"nonzero\" fill-opacity=\"1\" /><path clip-path=\"url(#clip480)\" d=\"M2042.1 222.883 Q2036.94 222.883 2034.95 224.064 Q2032.96 225.244 2032.96 228.092 Q2032.96 230.36 2034.44 231.703 Q2035.95 233.022 2038.52 233.022 Q2042.06 233.022 2044.19 230.522 Q2046.34 227.999 2046.34 223.832 L2046.34 222.883 L2042.1 222.883 M2050.6 221.124 L2050.6 235.916 L2046.34 235.916 L2046.34 231.981 Q2044.88 234.342 2042.71 235.476 Q2040.53 236.587 2037.38 236.587 Q2033.4 236.587 2031.04 234.365 Q2028.7 232.119 2028.7 228.369 Q2028.7 223.994 2031.62 221.772 Q2034.56 219.55 2040.37 219.55 L2046.34 219.55 L2046.34 219.133 Q2046.34 216.194 2044.4 214.596 Q2042.47 212.976 2038.98 212.976 Q2036.76 212.976 2034.65 213.508 Q2032.54 214.041 2030.6 215.106 L2030.6 211.17 Q2032.94 210.268 2035.14 209.828 Q2037.33 209.365 2039.42 209.365 Q2045.04 209.365 2047.82 212.282 Q2050.6 215.198 2050.6 221.124 Z\" fill=\"#000000\" fill-rule=\"nonzero\" fill-opacity=\"1\" /><path clip-path=\"url(#clip480)\" d=\"M2059.37 209.99 L2063.63 209.99 L2063.63 236.379 Q2063.63 241.332 2061.73 243.555 Q2059.86 245.777 2055.67 245.777 L2054.05 245.777 L2054.05 242.166 L2055.18 242.166 Q2057.61 242.166 2058.49 241.031 Q2059.37 239.92 2059.37 236.379 L2059.37 209.99 M2059.37 199.897 L2063.63 199.897 L2063.63 205.291 L2059.37 205.291 L2059.37 199.897 Z\" fill=\"#000000\" fill-rule=\"nonzero\" fill-opacity=\"1\" /><path clip-path=\"url(#clip480)\" d=\"M2094.72 221.888 L2094.72 223.971 L2075.14 223.971 Q2075.41 228.369 2077.77 230.684 Q2080.16 232.976 2084.39 232.976 Q2086.85 232.976 2089.14 232.374 Q2091.46 231.772 2093.72 230.569 L2093.72 234.596 Q2091.43 235.568 2089.02 236.078 Q2086.62 236.587 2084.14 236.587 Q2077.94 236.587 2074.3 232.976 Q2070.69 229.365 2070.69 223.207 Q2070.69 216.842 2074.12 213.115 Q2077.57 209.365 2083.4 209.365 Q2088.63 209.365 2091.66 212.745 Q2094.72 216.101 2094.72 221.888 M2090.46 220.638 Q2090.41 217.143 2088.49 215.059 Q2086.59 212.976 2083.45 212.976 Q2079.88 212.976 2077.73 214.99 Q2075.6 217.004 2075.27 220.661 L2090.46 220.638 Z\" fill=\"#000000\" fill-rule=\"nonzero\" fill-opacity=\"1\" /><path clip-path=\"url(#clip480)\" d=\"M2120.37 210.985 L2120.37 214.967 Q2118.56 213.971 2116.73 213.485 Q2114.93 212.976 2113.08 212.976 Q2108.93 212.976 2106.64 215.615 Q2104.35 218.231 2104.35 222.976 Q2104.35 227.721 2106.64 230.36 Q2108.93 232.976 2113.08 232.976 Q2114.93 232.976 2116.73 232.49 Q2118.56 231.981 2120.37 230.985 L2120.37 234.92 Q2118.58 235.754 2116.66 236.17 Q2114.77 236.587 2112.61 236.587 Q2106.76 236.587 2103.31 232.906 Q2099.86 229.226 2099.86 222.976 Q2099.86 216.633 2103.33 212.999 Q2106.83 209.365 2112.89 209.365 Q2114.86 209.365 2116.73 209.782 Q2118.61 210.175 2120.37 210.985 Z\" fill=\"#000000\" fill-rule=\"nonzero\" fill-opacity=\"1\" /><path clip-path=\"url(#clip480)\" d=\"M2131.99 202.629 L2131.99 209.99 L2140.76 209.99 L2140.76 213.3 L2131.99 213.3 L2131.99 227.374 Q2131.99 230.545 2132.84 231.448 Q2133.72 232.351 2136.39 232.351 L2140.76 232.351 L2140.76 235.916 L2136.39 235.916 Q2131.45 235.916 2129.58 234.087 Q2127.7 232.235 2127.7 227.374 L2127.7 213.3 L2124.58 213.3 L2124.58 209.99 L2127.7 209.99 L2127.7 202.629 L2131.99 202.629 Z\" fill=\"#000000\" fill-rule=\"nonzero\" fill-opacity=\"1\" /><path clip-path=\"url(#clip480)\" d=\"M2156.41 212.976 Q2152.98 212.976 2150.99 215.661 Q2149 218.323 2149 222.976 Q2149 227.629 2150.97 230.314 Q2152.96 232.976 2156.41 232.976 Q2159.81 232.976 2161.8 230.291 Q2163.79 227.606 2163.79 222.976 Q2163.79 218.37 2161.8 215.684 Q2159.81 212.976 2156.41 212.976 M2156.41 209.365 Q2161.96 209.365 2165.14 212.976 Q2168.31 216.587 2168.31 222.976 Q2168.31 229.342 2165.14 232.976 Q2161.96 236.587 2156.41 236.587 Q2150.83 236.587 2147.66 232.976 Q2144.51 229.342 2144.51 222.976 Q2144.51 216.587 2147.66 212.976 Q2150.83 209.365 2156.41 209.365 Z\" fill=\"#000000\" fill-rule=\"nonzero\" fill-opacity=\"1\" /><path clip-path=\"url(#clip480)\" d=\"M2190.39 213.971 Q2189.67 213.555 2188.82 213.37 Q2187.98 213.161 2186.96 213.161 Q2183.35 213.161 2181.41 215.522 Q2179.49 217.86 2179.49 222.258 L2179.49 235.916 L2175.2 235.916 L2175.2 209.99 L2179.49 209.99 L2179.49 214.018 Q2180.83 211.657 2182.98 210.522 Q2185.14 209.365 2188.21 209.365 Q2188.65 209.365 2189.19 209.434 Q2189.72 209.481 2190.37 209.596 L2190.39 213.971 Z\" fill=\"#000000\" fill-rule=\"nonzero\" fill-opacity=\"1\" /><path clip-path=\"url(#clip480)\" d=\"M2205.64 238.323 Q2203.84 242.953 2202.13 244.365 Q2200.41 245.777 2197.54 245.777 L2194.14 245.777 L2194.14 242.212 L2196.64 242.212 Q2198.4 242.212 2199.37 241.379 Q2200.34 240.545 2201.52 237.443 L2202.29 235.499 L2191.8 209.99 L2196.32 209.99 L2204.42 230.268 L2212.52 209.99 L2217.03 209.99 L2205.64 238.323 Z\" fill=\"#000000\" fill-rule=\"nonzero\" fill-opacity=\"1\" /><path clip-path=\"url(#clip480)\" d=\"M2239.39 231.981 L2247.03 231.981 L2247.03 205.615 L2238.72 207.282 L2238.72 203.022 L2246.99 201.356 L2251.66 201.356 L2251.66 231.981 L2259.3 231.981 L2259.3 235.916 L2239.39 235.916 L2239.39 231.981 Z\" fill=\"#000000\" fill-rule=\"nonzero\" fill-opacity=\"1\" /><polyline clip-path=\"url(#clip480)\" style=\"stroke:#e26f46; stroke-linecap:round; stroke-linejoin:round; stroke-width:4; stroke-opacity:1; fill:none\" points=\"1820.69,270.476 1960.87,270.476 \"/>\n",
       "<path clip-path=\"url(#clip480)\" d=\"M1984.23 253.196 L2013.47 253.196 L2013.47 257.131 L2001.2 257.131 L2001.2 287.756 L1996.5 287.756 L1996.5 257.131 L1984.23 257.131 L1984.23 253.196 Z\" fill=\"#000000\" fill-rule=\"nonzero\" fill-opacity=\"1\" /><path clip-path=\"url(#clip480)\" d=\"M2025.85 265.811 Q2025.14 265.395 2024.28 265.21 Q2023.45 265.001 2022.43 265.001 Q2018.82 265.001 2016.87 267.362 Q2014.95 269.7 2014.95 274.098 L2014.95 287.756 L2010.67 287.756 L2010.67 261.83 L2014.95 261.83 L2014.95 265.858 Q2016.29 263.497 2018.45 262.362 Q2020.6 261.205 2023.68 261.205 Q2024.12 261.205 2024.65 261.274 Q2025.18 261.321 2025.83 261.436 L2025.85 265.811 Z\" fill=\"#000000\" fill-rule=\"nonzero\" fill-opacity=\"1\" /><path clip-path=\"url(#clip480)\" d=\"M2042.1 274.723 Q2036.94 274.723 2034.95 275.904 Q2032.96 277.084 2032.96 279.932 Q2032.96 282.2 2034.44 283.543 Q2035.95 284.862 2038.52 284.862 Q2042.06 284.862 2044.19 282.362 Q2046.34 279.839 2046.34 275.672 L2046.34 274.723 L2042.1 274.723 M2050.6 272.964 L2050.6 287.756 L2046.34 287.756 L2046.34 283.821 Q2044.88 286.182 2042.71 287.316 Q2040.53 288.427 2037.38 288.427 Q2033.4 288.427 2031.04 286.205 Q2028.7 283.959 2028.7 280.209 Q2028.7 275.834 2031.62 273.612 Q2034.56 271.39 2040.37 271.39 L2046.34 271.39 L2046.34 270.973 Q2046.34 268.034 2044.4 266.436 Q2042.47 264.816 2038.98 264.816 Q2036.76 264.816 2034.65 265.348 Q2032.54 265.881 2030.6 266.946 L2030.6 263.01 Q2032.94 262.108 2035.14 261.668 Q2037.33 261.205 2039.42 261.205 Q2045.04 261.205 2047.82 264.122 Q2050.6 267.038 2050.6 272.964 Z\" fill=\"#000000\" fill-rule=\"nonzero\" fill-opacity=\"1\" /><path clip-path=\"url(#clip480)\" d=\"M2059.37 261.83 L2063.63 261.83 L2063.63 288.219 Q2063.63 293.172 2061.73 295.395 Q2059.86 297.617 2055.67 297.617 L2054.05 297.617 L2054.05 294.006 L2055.18 294.006 Q2057.61 294.006 2058.49 292.871 Q2059.37 291.76 2059.37 288.219 L2059.37 261.83 M2059.37 251.737 L2063.63 251.737 L2063.63 257.131 L2059.37 257.131 L2059.37 251.737 Z\" fill=\"#000000\" fill-rule=\"nonzero\" fill-opacity=\"1\" /><path clip-path=\"url(#clip480)\" d=\"M2094.72 273.728 L2094.72 275.811 L2075.14 275.811 Q2075.41 280.209 2077.77 282.524 Q2080.16 284.816 2084.39 284.816 Q2086.85 284.816 2089.14 284.214 Q2091.46 283.612 2093.72 282.409 L2093.72 286.436 Q2091.43 287.408 2089.02 287.918 Q2086.62 288.427 2084.14 288.427 Q2077.94 288.427 2074.3 284.816 Q2070.69 281.205 2070.69 275.047 Q2070.69 268.682 2074.12 264.955 Q2077.57 261.205 2083.4 261.205 Q2088.63 261.205 2091.66 264.585 Q2094.72 267.941 2094.72 273.728 M2090.46 272.478 Q2090.41 268.983 2088.49 266.899 Q2086.59 264.816 2083.45 264.816 Q2079.88 264.816 2077.73 266.83 Q2075.6 268.844 2075.27 272.501 L2090.46 272.478 Z\" fill=\"#000000\" fill-rule=\"nonzero\" fill-opacity=\"1\" /><path clip-path=\"url(#clip480)\" d=\"M2120.37 262.825 L2120.37 266.807 Q2118.56 265.811 2116.73 265.325 Q2114.93 264.816 2113.08 264.816 Q2108.93 264.816 2106.64 267.455 Q2104.35 270.071 2104.35 274.816 Q2104.35 279.561 2106.64 282.2 Q2108.93 284.816 2113.08 284.816 Q2114.93 284.816 2116.73 284.33 Q2118.56 283.821 2120.37 282.825 L2120.37 286.76 Q2118.58 287.594 2116.66 288.01 Q2114.77 288.427 2112.61 288.427 Q2106.76 288.427 2103.31 284.746 Q2099.86 281.066 2099.86 274.816 Q2099.86 268.473 2103.33 264.839 Q2106.83 261.205 2112.89 261.205 Q2114.86 261.205 2116.73 261.622 Q2118.61 262.015 2120.37 262.825 Z\" fill=\"#000000\" fill-rule=\"nonzero\" fill-opacity=\"1\" /><path clip-path=\"url(#clip480)\" d=\"M2131.99 254.469 L2131.99 261.83 L2140.76 261.83 L2140.76 265.14 L2131.99 265.14 L2131.99 279.214 Q2131.99 282.385 2132.84 283.288 Q2133.72 284.191 2136.39 284.191 L2140.76 284.191 L2140.76 287.756 L2136.39 287.756 Q2131.45 287.756 2129.58 285.927 Q2127.7 284.075 2127.7 279.214 L2127.7 265.14 L2124.58 265.14 L2124.58 261.83 L2127.7 261.83 L2127.7 254.469 L2131.99 254.469 Z\" fill=\"#000000\" fill-rule=\"nonzero\" fill-opacity=\"1\" /><path clip-path=\"url(#clip480)\" d=\"M2156.41 264.816 Q2152.98 264.816 2150.99 267.501 Q2149 270.163 2149 274.816 Q2149 279.469 2150.97 282.154 Q2152.96 284.816 2156.41 284.816 Q2159.81 284.816 2161.8 282.131 Q2163.79 279.446 2163.79 274.816 Q2163.79 270.21 2161.8 267.524 Q2159.81 264.816 2156.41 264.816 M2156.41 261.205 Q2161.96 261.205 2165.14 264.816 Q2168.31 268.427 2168.31 274.816 Q2168.31 281.182 2165.14 284.816 Q2161.96 288.427 2156.41 288.427 Q2150.83 288.427 2147.66 284.816 Q2144.51 281.182 2144.51 274.816 Q2144.51 268.427 2147.66 264.816 Q2150.83 261.205 2156.41 261.205 Z\" fill=\"#000000\" fill-rule=\"nonzero\" fill-opacity=\"1\" /><path clip-path=\"url(#clip480)\" d=\"M2190.39 265.811 Q2189.67 265.395 2188.82 265.21 Q2187.98 265.001 2186.96 265.001 Q2183.35 265.001 2181.41 267.362 Q2179.49 269.7 2179.49 274.098 L2179.49 287.756 L2175.2 287.756 L2175.2 261.83 L2179.49 261.83 L2179.49 265.858 Q2180.83 263.497 2182.98 262.362 Q2185.14 261.205 2188.21 261.205 Q2188.65 261.205 2189.19 261.274 Q2189.72 261.321 2190.37 261.436 L2190.39 265.811 Z\" fill=\"#000000\" fill-rule=\"nonzero\" fill-opacity=\"1\" /><path clip-path=\"url(#clip480)\" d=\"M2205.64 290.163 Q2203.84 294.793 2202.13 296.205 Q2200.41 297.617 2197.54 297.617 L2194.14 297.617 L2194.14 294.052 L2196.64 294.052 Q2198.4 294.052 2199.37 293.219 Q2200.34 292.385 2201.52 289.283 L2202.29 287.339 L2191.8 261.83 L2196.32 261.83 L2204.42 282.108 L2212.52 261.83 L2217.03 261.83 L2205.64 290.163 Z\" fill=\"#000000\" fill-rule=\"nonzero\" fill-opacity=\"1\" /><path clip-path=\"url(#clip480)\" d=\"M2242.61 283.821 L2258.93 283.821 L2258.93 287.756 L2236.99 287.756 L2236.99 283.821 Q2239.65 281.066 2244.23 276.436 Q2248.84 271.784 2250.02 270.441 Q2252.26 267.918 2253.14 266.182 Q2254.05 264.423 2254.05 262.733 Q2254.05 259.978 2252.1 258.242 Q2250.18 256.506 2247.08 256.506 Q2244.88 256.506 2242.43 257.27 Q2240 258.034 2237.22 259.585 L2237.22 254.862 Q2240.04 253.728 2242.5 253.149 Q2244.95 252.571 2246.99 252.571 Q2252.36 252.571 2255.55 255.256 Q2258.75 257.941 2258.75 262.432 Q2258.75 264.561 2257.94 266.483 Q2257.15 268.381 2255.04 270.973 Q2254.46 271.645 2251.36 274.862 Q2248.26 278.057 2242.61 283.821 Z\" fill=\"#000000\" fill-rule=\"nonzero\" fill-opacity=\"1\" /></svg>\n"
      ]
     },
     "execution_count": 12,
     "metadata": {},
     "output_type": "execute_result"
    }
   ],
   "source": [
    "sol_2 = solve(prob, SOSRI())\n",
    "plot(sol_1, vars=[2], title = \"Number of Infections\", label = \"Trajectory 1\",\n",
    "     lm = 2, xlabel = L\"t\", ylabel = L\"i(t)\")\n",
    "plot!(sol_2, vars=[2], label = \"Trajectory 2\", lm = 2, xlabel = L\"t\", ylabel = L\"i(t)\")"
   ]
  },
  {
   "cell_type": "markdown",
   "id": "fa368a62",
   "metadata": {},
   "source": [
    "The same holds for other variables such as the cumulative deaths, mortality, and $ R_0 $:"
   ]
  },
  {
   "cell_type": "code",
   "execution_count": 13,
   "id": "2869c65d",
   "metadata": {
    "hide-output": false
   },
   "outputs": [],
   "source": [
    "plot_1 = plot(sol_1, vars=[4], title = \"Cumulative Death Proportion\", label = \"Trajectory 1\",\n",
    "              lw = 2, xlabel = L\"t\", ylabel = L\"d(t)\", legend = :topleft)\n",
    "plot!(plot_1, sol_2, vars=[4], label = \"Trajectory 2\", lw = 2, xlabel = L\"t\")\n",
    "plot_2 = plot(sol_1, vars=[3], title = \"Cumulative Recovered Proportion\", label = \"Trajectory 1\",\n",
    "              lw = 2, xlabel = L\"t\", ylabel = L\"d(t)\", legend = :topleft)\n",
    "plot!(plot_2, sol_2, vars=[3], label = \"Trajectory 2\", lw = 2, xlabel = L\"t\")\n",
    "plot_3 = plot(sol_1, vars=[5], title = L\"$R_0$ transition from lockdown\", label = \"Trajectory 1\",\n",
    "              lw = 2, xlabel = L\"t\", ylabel = L\"R_0(t)\")\n",
    "plot!(plot_3, sol_2, vars=[5], label = \"Trajectory 2\", lw = 2, xlabel = L\"t\")\n",
    "plot_4 = plot(sol_1, vars=[6], title = \"Mortality Rate\", label = \"Trajectory 1\",\n",
    "              lw = 2, xlabel = L\"t\", ylabel = L\"\\delta(t)\", ylim = (0.006, 0.014))\n",
    "plot!(plot_4, sol_2, vars=[6], label = \"Trajectory 2\", lw = 2, xlabel = L\"t\")\n",
    "plot(plot_1, plot_2, plot_3, plot_4, size = (900, 600))"
   ]
  },
  {
   "cell_type": "markdown",
   "id": "ad94a91f",
   "metadata": {},
   "source": [
    "See [here](https://diffeq.sciml.ai/stable/solvers/sde_solve/#Recommended-Methods-1) for comments on finding the appropriate SDE algorithm given the structure of $ F(x, t) $ and $ G(x, t) $\n",
    "\n",
    "- If $ G $ has diagonal noise (i.e. $ G(x, t) $ is a diagonal, and possibly a function of the state), then `SOSRI` is the typical choice.  \n",
    "- If $ G $ has additive (i.e. $ G(t) $ is a independent from the state), then `SOSRA` is usually the best algorithm for even mildly stiff $ F $.  \n",
    "- If the noise process is more general, `LambaEM` and `RKMilGeneral` are flexible to all noise processes.  \n",
    "- If high accuracy and adaptivity are not required, then `EM` (i.e. Euler-Maruyama method typically used by economists) is flexible in its ability to handle different noise processes.  "
   ]
  },
  {
   "cell_type": "markdown",
   "id": "ef1707c4",
   "metadata": {},
   "source": [
    "### Ensembles\n",
    "\n",
    "While individual simulations are useful, you often want to look at an ensemble of trajectories of the SDE in order to get an accurate picture of how the system evolves.\n",
    "\n",
    "To do this, use the `EnsembleProblem` in order to have the solution compute multiple trajectories at once. The returned `EnsembleSolution` acts like an array of solutions but is imbued to plot recipes to showcase aggregate quantities.\n",
    "\n",
    "For example:"
   ]
  },
  {
   "cell_type": "code",
   "execution_count": 14,
   "id": "1576b54c",
   "metadata": {
    "hide-output": false
   },
   "outputs": [],
   "source": [
    "ensembleprob = EnsembleProblem(prob)\n",
    "sol = solve(ensembleprob, SOSRI(), EnsembleSerial(), trajectories = 10)\n",
    "plot(sol, vars = [2], title = \"Infection Simulations\", ylabel = L\"i(t)\", xlabel = L\"t\", lm = 2)"
   ]
  },
  {
   "cell_type": "markdown",
   "id": "c48c8fae",
   "metadata": {},
   "source": [
    "Or, more frequently, you may want to run many trajectories and plot quantiles, which can be automatically run in [parallel](https://docs.sciml.ai/stable/features/ensemble/) using multiple threads, processes, or GPUs. Here we showcase `EnsembleSummary` which calculates summary information from an ensemble and plots the mean of the solution along with calculated quantiles of the simulation:"
   ]
  },
  {
   "cell_type": "code",
   "execution_count": 15,
   "id": "a6ee1cf7",
   "metadata": {
    "hide-output": false
   },
   "outputs": [],
   "source": [
    "trajectories = 100  # choose larger for smoother quantiles\n",
    "sol = solve(ensembleprob, SOSRI(), EnsembleThreads(), trajectories = trajectories)\n",
    "summ = EnsembleSummary(sol) # defaults to saving 0.05, 0.95 quantiles\n",
    "plot(summ, idxs = (2,), title = \"Quantiles of Infections Ensemble\", ylabel = L\"i(t)\",\n",
    "     xlabel = L\"t\", labels = \"Middle 95% Quantile\", legend = :topright)"
   ]
  },
  {
   "cell_type": "markdown",
   "id": "153e59c2",
   "metadata": {},
   "source": [
    "In addition, you can calculate more quantiles and stack graphs"
   ]
  },
  {
   "cell_type": "code",
   "execution_count": 16,
   "id": "e1eac9a6",
   "metadata": {
    "hide-output": false
   },
   "outputs": [],
   "source": [
    "sol = solve(ensembleprob, SOSRI(), EnsembleThreads(), trajectories = trajectories)\n",
    "summ = EnsembleSummary(sol) # defaults to saving 0.05, 0.95 quantiles\n",
    "summ2 = EnsembleSummary(sol, quantiles = (0.25, 0.75))\n",
    "\n",
    "plot(summ, idxs = (2,4,5,6),\n",
    "    title = [\"Proportion Infected\" \"Proportion Dead\" L\"R_0\" L\"\\delta\"],\n",
    "    ylabel = [L\"i(t)\" L\"d(t)\" L\"R_0(t)\" L\"\\delta(t)\"], xlabel = L\"t\",\n",
    "    legend = [:topleft :topleft :bottomright :bottomright],\n",
    "    labels = \"Middle 95% Quantile\", layout = (2, 2), size = (900, 600))\n",
    "plot!(summ2, idxs = (2,4,5,6),\n",
    "    labels = \"Middle 50% Quantile\", legend =  [:topleft :topleft :bottomright :bottomright])"
   ]
  },
  {
   "cell_type": "markdown",
   "id": "1657ca8f",
   "metadata": {},
   "source": [
    "Some additional features of the ensemble and SDE infrastructure are\n",
    "\n",
    "- [Plotting](https://diffeq.sciml.ai/stable/basics/plot/)  \n",
    "- [Noise Processes](https://diffeq.sciml.ai/stable/features/noise_process/), [Non-diagonal noise](https://diffeq.sciml.ai/stable/tutorials/sde_example/#Example-4:-Systems-of-SDEs-with-Non-Diagonal-Noise-1), and [Correlated Noise](https://diffeq.sciml.ai/stable/tutorials/sde_example/#Example:-Spatially-Colored-Noise-in-the-Heston-Model-1)  \n",
    "- [Parallel Ensemble features](https://diffeq.sciml.ai/stable/features/ensemble/)  \n",
    "- Transforming the ensemble calculations with an [output_func or reduction](https://diffeq.sciml.ai/stable/features/ensemble/#Building-a-Problem-1)  \n",
    "- Auto-GPU accelerated by using `EnsembleGPUArray()` from [DiffEqGPU](https://github.com/SciML/DiffEqGPU.jl/)  "
   ]
  },
  {
   "cell_type": "markdown",
   "id": "7684834c",
   "metadata": {},
   "source": [
    "### Changing Mitigation\n",
    "\n",
    "Consider a policy maker who wants to consider the impact of relaxing lockdown at various speeds.\n",
    "\n",
    "We will shut down the shocks to the mortality rate (i.e. $ \\xi = 0 $) to focus on the variation caused by the volatility in $ R_0(t) $.\n",
    "\n",
    "Consider $ \\eta = 1/50 $ and $ \\eta = 1/20 $, where we start at the same initial condition of $ R_0(0) = 0.5 $."
   ]
  },
  {
   "cell_type": "code",
   "execution_count": 17,
   "id": "f45eaf26",
   "metadata": {
    "hide-output": false
   },
   "outputs": [],
   "source": [
    "function generate_η_experiment(η; p_gen = p_gen, trajectories = 100,\n",
    "                              saveat = 1.0, x_0 = x_0, T = 120.0)\n",
    "    p = p_gen(η = η, ξ = 0.0)\n",
    "    ensembleprob = EnsembleProblem(SDEProblem(F, G, x_0, (0, T), p))\n",
    "    sol = solve(ensembleprob, SOSRI(), EnsembleThreads(),\n",
    "                trajectories = trajectories, saveat = saveat)\n",
    "    return EnsembleSummary(sol)\n",
    "end\n",
    "\n",
    "# Evaluate two different lockdown scenarios\n",
    "η_1 = 1/50\n",
    "η_2 = 1/20\n",
    "summ_1 = generate_η_experiment(η_1)\n",
    "summ_2 = generate_η_experiment(η_2)\n",
    "plot(summ_1, idxs = (4,5),\n",
    "    title = [\"Proportion Dead\" L\"R_0\"],\n",
    "    ylabel = [L\"d(t)\" L\"R_0(t)\"], xlabel = L\"t\",\n",
    "    legend = [:topleft :bottomright],\n",
    "    labels = L\"Middle 95% Quantile, $\\eta = %$η_1$\",\n",
    "    layout = (2, 1), size = (900, 900), fillalpha = 0.5)\n",
    "plot!(summ_2, idxs = (4,5),\n",
    "    legend = [:topleft :bottomright],\n",
    "    labels = L\"Middle 95% Quantile, $\\eta = %$η_2$\", size = (900, 900), fillalpha = 0.5)"
   ]
  },
  {
   "cell_type": "markdown",
   "id": "1248b143",
   "metadata": {},
   "source": [
    "While the the mean of the $ d(t) $ increases, unsurprisingly, we see that the 95% quantile for later time periods is also much larger - even after the $ R_0 $ has converged.\n",
    "\n",
    "That is, volatile contact rates (and hence $ R_0 $) can interact to make catastrophic worst-case scenarios due to the nonlinear dynamics of the system."
   ]
  },
  {
   "cell_type": "markdown",
   "id": "70cee062",
   "metadata": {},
   "source": [
    "## Ending Lockdown\n",
    "\n",
    "As in the deterministic lecture, we can consider two mitigation scenarios\n",
    "\n",
    "1. choose $ \\bar{R}_0(t) $ to target $ R_0 = 0.5 $ for 30 days and then $ R_0 = 2 $ for the remaining 17 months. This corresponds to lifting lockdown in 30 days.  \n",
    "1. target $ R_0 = 0.5 $ for 120 days and then $ R_0 = 2 $ for the remaining 14 months. This corresponds to lifting lockdown in 4 months.  \n",
    "\n",
    "\n",
    "Since empirical estimates of $ R_0(t) $ discussed in [[FVJ20](https://julia.quantecon.org/../zreferences.html#id6)] and other papers show it to have wide variation, we will maintain a fairly larger $ \\sigma $.\n",
    "\n",
    "We start the model with 100,000 active infections."
   ]
  },
  {
   "cell_type": "code",
   "execution_count": 18,
   "id": "b9ee3809",
   "metadata": {
    "hide-output": false
   },
   "outputs": [],
   "source": [
    "R₀_L = 0.5  # lockdown\n",
    "η_experiment = 1.0/10\n",
    "σ_experiment = 0.04\n",
    "R̄₀_lift_early(t, p) = t < 30.0 ? R₀_L : 2.0\n",
    "R̄₀_lift_late(t, p) = t < 120.0 ? R₀_L : 2.0\n",
    "\n",
    "p_early = p_gen(R̄₀ = R̄₀_lift_early, η = η_experiment, σ = σ_experiment)\n",
    "p_late = p_gen(R̄₀ = R̄₀_lift_late, η = η_experiment, σ = σ_experiment)\n",
    "\n",
    "\n",
    "# initial conditions\n",
    "i_0 = 100000 / p_early.N\n",
    "r_0 = 0.0\n",
    "d_0 = 0.0\n",
    "s_0 = 1.0 - i_0 - r_0 - d_0\n",
    "δ_0 = p_early.δ_bar\n",
    "\n",
    "x_0 = [s_0, i_0, r_0, d_0, R₀_L, δ_0]  # start in lockdown\n",
    "prob_early = SDEProblem(F, G, x_0, (0, p_early.T), p_early)\n",
    "prob_late = SDEProblem(F, G, x_0, (0, p_late.T), p_late)"
   ]
  },
  {
   "cell_type": "markdown",
   "id": "2c73d812",
   "metadata": {},
   "source": [
    "Simulating for a single realization of the shocks, we see the results are qualitatively similar to what we had before"
   ]
  },
  {
   "cell_type": "code",
   "execution_count": 19,
   "id": "56f8dad7",
   "metadata": {
    "hide-output": false
   },
   "outputs": [],
   "source": [
    "sol_early = solve(prob_early, SOSRI())\n",
    "sol_late = solve(prob_late, SOSRI())\n",
    "plot(sol_early, vars = [5, 1,2,4],\n",
    "    title = [L\"R_0\" \"Susceptible\" \"Infected\" \"Dead\"],\n",
    "    layout = (2, 2), size = (900, 600),\n",
    "    ylabel = [L\"R_0(t)\" L\"s(t)\" L\"i(t)\" L\"d(t)\"], xlabel = L\"t\",\n",
    "        legend = [:bottomright :topright :topright :topleft],\n",
    "        label = [\"Early\" \"Early\" \"Early\" \"Early\"])\n",
    "plot!(sol_late, vars = [5, 1,2,4],\n",
    "        legend = [:bottomright :topright :topright :topleft],\n",
    "        label = [\"Late\" \"Late\" \"Late\" \"Late\"], xlabel = L\"t\")"
   ]
  },
  {
   "cell_type": "markdown",
   "id": "d15d1802",
   "metadata": {},
   "source": [
    "However, note that this masks highly volatile values induced by the in $ R_0 $ variation, as seen in the ensemble"
   ]
  },
  {
   "cell_type": "code",
   "execution_count": 20,
   "id": "b6098a7c",
   "metadata": {
    "hide-output": false
   },
   "outputs": [],
   "source": [
    "trajectories = 400\n",
    "saveat = 1.0\n",
    "ensemble_sol_early = solve(EnsembleProblem(prob_early), SOSRI(),\n",
    "                           EnsembleThreads(), trajectories = trajectories, saveat = saveat)\n",
    "ensemble_sol_late = solve(EnsembleProblem(prob_late), SOSRI(),\n",
    "                          EnsembleThreads(), trajectories = trajectories, saveat = saveat)\n",
    "summ_early = EnsembleSummary(ensemble_sol_early)\n",
    "summ_late = EnsembleSummary(ensemble_sol_late)\n",
    "\n",
    "plot(summ_early, idxs = (5, 1, 2, 4),\n",
    "    title = [L\"R_0\" \"Susceptible\" \"Infected\" \"Dead\"], layout = (2, 2), size = (900, 600),\n",
    "    ylabel = [L\"R_0(t)\" L\"s(t)\" L\"i(t)\" L\"d(t)\"], xlabel = L\"t\",\n",
    "    legend = [:bottomright :topright :topright :topleft],\n",
    "    label = [\"Early\" \"Early\" \"Early\" \"Early\"])\n",
    "plot!(summ_late, idxs = (5, 1,2,4),\n",
    "    legend = [:bottomright :topright :topright :topleft],\n",
    "    label = [\"Late\" \"Late\" \"Late\" \"Late\"])"
   ]
  },
  {
   "cell_type": "markdown",
   "id": "3d3c4924",
   "metadata": {},
   "source": [
    "Finally, rather than looking at the ensemble summary, we can use data directly from the ensemble to do our own analysis.\n",
    "\n",
    "For example, evaluating at an intermediate (`t = 350`) and final time step."
   ]
  },
  {
   "cell_type": "code",
   "execution_count": 21,
   "id": "749bc848",
   "metadata": {
    "hide-output": false
   },
   "outputs": [],
   "source": [
    "N = p_early.N\n",
    "t_1 = 350\n",
    "t_2 = p_early.T  # i.e. the last element\n",
    "bins_1 = range(0.000, 0.009, length = 30)\n",
    "bins_2 = 30  # number rather than grid.\n",
    "\n",
    "hist_1 = histogram([ensemble_sol_early.u[i](t_1)[4] for i in 1:trajectories],\n",
    "                   fillalpha = 0.5, normalize = :probability,\n",
    "                   legend = :topleft, bins = bins_1,\n",
    "                   label = \"Early\", title = L\"Death Proportion at $t = %$t_1$\")\n",
    "histogram!(hist_1, [ensemble_sol_late.u[i](t_1)[4] for i in 1:trajectories],\n",
    "           label = \"Late\", fillalpha = 0.5, normalize = :probability, bins = bins_1)\n",
    "hist_2 = histogram([ensemble_sol_early.u[i][4, end] for i in 1:trajectories],\n",
    "                   fillalpha = 0.5, normalize = :probability, bins = bins_2,\n",
    "                   label = \"Early\", title = L\"Death Proportion at $t = %$t_2$\")\n",
    "histogram!(hist_2, [ensemble_sol_late.u[i][4, end] for i in 1:trajectories],\n",
    "           label = \"Late\", fillalpha = 0.5, normalize = :probability, bins = bins_2)\n",
    "plot(hist_1, hist_2, size = (600,600), layout = (2, 1))"
   ]
  },
  {
   "cell_type": "markdown",
   "id": "71df761a",
   "metadata": {},
   "source": [
    "This shows that there are significant differences after a year, but by 550 days the graphs largely coincide.\n",
    "\n",
    "In the above code given the return from `solve` on an `EnsembleProblem` , e.g. `ensemble_sol = solve(...)`\n",
    "\n",
    "- You can access the i’th simulation as `ensemble_sol[i]`, which then has all of the standard [solution handling](https://diffeq.sciml.ai/stable/basics/solution/) features  \n",
    "- You can evaluate at a real time period, `t`, with `ensemble_sol[i](t)`.  Or access the 4th element with `ensemble_sol[i](t)[4]`  \n",
    "- If the `t` was not exactly one of the `saveat` values (if specified) or the adaptive timesteps (if it was not), then it will use interpolation  \n",
    "- Alternatively, to access the results of the ODE as a grid exactly at the timesteps, where `j` is timestep index, use `ensemble_sol[i][j]` or the 4th element with `ensemble_sol[i][4, j]`  \n",
    "- Warning: unless you have chosen a `saveat` grid, the timesteps will not be aligned between simulations.   That is, `ensemble_sol[i_1].t` wouldn’t match `ensemble_sol[i_2].t`.  In that case, use interpolation with `ensemble_sol[i_1](t)` etc.  "
   ]
  },
  {
   "cell_type": "markdown",
   "id": "e8a5c381",
   "metadata": {},
   "source": [
    "## Reinfection\n",
    "\n",
    "As a final experiment, consider a model where the immunity is only temporary, and individuals become susceptible again.\n",
    "\n",
    "In particular, assume that at rate $ \\nu $ immunity is lost.  For illustration, we will examine the case if the average immunity lasts 12 months (i.e. $ 1/\\nu = 360 $)\n",
    "\n",
    "The transition modifies the differential equation [(45.1)](#equation-sird) to become\n",
    "\n",
    "\n",
    "<a id='equation-sirdre'></a>\n",
    "$$\n",
    "\\begin{aligned}\n",
    "     d s  & = \\left(- \\gamma \\, R_0 \\, s \\,  i + \\nu \\, r \\right) dt\n",
    "     \\\\\n",
    "      d i  & = \\left(\\gamma \\, R_0 \\, s \\,  i  - \\gamma i \\right) dt\n",
    "     \\\\\n",
    "     d r  & = \\left((1-\\delta) \\gamma  i - \\nu \\, r\\right) dt\n",
    "     \\\\\n",
    "     d d  & = \\delta \\gamma  i \\, dt\n",
    "     \\\\\n",
    "\\end{aligned} \\tag{45.6}\n",
    "$$\n",
    "\n",
    "This change modifies the underlying `F` function and adds a parameter, but otherwise the model remains the same.\n",
    "\n",
    "We will redo the “Ending Lockdown” simulation from above, where the only difference is the new transition."
   ]
  },
  {
   "cell_type": "code",
   "execution_count": 22,
   "id": "de733b0b",
   "metadata": {
    "hide-output": false
   },
   "outputs": [],
   "source": [
    "function F_reinfect(x, p, t)\n",
    "    s, i, r, d, R₀, δ = x\n",
    "    (;γ, R̄₀, η, σ, ξ, θ, δ_bar, ν) = p\n",
    "\n",
    "    return [-γ*R₀*s*i + ν*r;  # ds/dt\n",
    "            γ*R₀*s*i - γ*i;   # di/dt\n",
    "            (1-δ)*γ*i - ν*r   # dr/dt\n",
    "            δ*γ*i;            # dd/dt\n",
    "            η*(R̄₀(t, p) - R₀);# dR₀/dt\n",
    "            θ*(δ_bar - δ);    # dδ/dt\n",
    "            ]\n",
    "end\n",
    "\n",
    "p_re_gen = @with_kw ( T = 550.0, γ = 1.0 / 18, η = 1.0 / 20,\n",
    "                R₀_n = 1.6, R̄₀ = (t, p) -> p.R₀_n,\n",
    "                δ_bar = 0.01, σ = 0.03, ξ = 0.004, θ = 0.2, N = 3.3E8, ν = 1/360)\n",
    "\n",
    "p_re_early = p_re_gen(R̄₀ = R̄₀_lift_early, η = η_experiment, σ = σ_experiment)\n",
    "p_re_late = p_re_gen(R̄₀ = R̄₀_lift_late, η = η_experiment, σ = σ_experiment)\n",
    "\n",
    "trajectories = 400\n",
    "saveat = 1.0\n",
    "prob_re_early = SDEProblem(F_reinfect, G, x_0, (0, p_re_early.T), p_re_early)\n",
    "prob_re_late = SDEProblem(F_reinfect, G, x_0, (0, p_re_late.T), p_re_late)\n",
    "ensemble_sol_re_early = solve(EnsembleProblem(prob_re_early), SOSRI(), EnsembleThreads(),\n",
    "                              trajectories = trajectories, saveat = saveat)\n",
    "ensemble_sol_re_late = solve(EnsembleProblem(prob_re_late), SOSRI(), EnsembleThreads(),\n",
    "                              trajectories = trajectories, saveat = saveat)\n",
    "summ_re_early = EnsembleSummary(ensemble_sol_re_early)\n",
    "summ_re_late = EnsembleSummary(ensemble_sol_re_late)"
   ]
  },
  {
   "cell_type": "markdown",
   "id": "284b6245",
   "metadata": {},
   "source": [
    "The ensemble simulations for the $ \\nu = 0 $ and $ \\nu > 0 $ can be compared to see the impact in the absence of medical innovations."
   ]
  },
  {
   "cell_type": "code",
   "execution_count": 23,
   "id": "4bc6c51e",
   "metadata": {
    "hide-output": false
   },
   "outputs": [],
   "source": [
    "plot(summ_late, idxs = (1, 2, 3, 4),\n",
    "    title = [\"Susceptible\" \"Infected\" \"Recovered\" \"Dead\"],\n",
    "    layout = (2, 2), size = (900, 600),\n",
    "    ylabel = [L\"s(t)\" L\"i(t)\" L\"r(t)\" L\"d(t)\"], xlabel = L\"t\",\n",
    "    legend = :topleft,\n",
    "    label = [L\"s(t)\" L\"i(t)\" L\"r(t)\" L\"d(t)\"])\n",
    "plot!(summ_re_late, idxs =  (1, 2, 3, 4),\n",
    "    legend = :topleft,\n",
    "    label = [L\"s(t); \\nu > 0\" L\"i(t); \\nu > 0\" L\"r(t); \\nu > 0\" L\"d(t); \\nu > 0\"])"
   ]
  },
  {
   "cell_type": "markdown",
   "id": "9c339b5f",
   "metadata": {},
   "source": [
    "Finally, we can examine the same early vs. late lockdown histogram"
   ]
  },
  {
   "cell_type": "code",
   "execution_count": 24,
   "id": "ca60ffd5",
   "metadata": {
    "hide-output": false
   },
   "outputs": [],
   "source": [
    "bins_re_1 = range(0.003, 0.010, length = 50)\n",
    "bins_re_2 = range(0.0085, 0.0102, length = 50)\n",
    "hist_re_1 = histogram([ensemble_sol_re_early.u[i](t_1)[4] for i in 1:trajectories],\n",
    "                    fillalpha = 0.5, normalize = :probability,\n",
    "                    legend = :topleft, bins = bins_re_1,\n",
    "                    label = \"Early\", title = L\"Death Proportion at $t = %$t_1$\")\n",
    "histogram!(hist_re_1, [ensemble_sol_re_late.u[i](t_1)[4] for i in 1:trajectories],\n",
    "        label = \"Late\", fillalpha = 0.5, normalize = :probability, bins = bins_re_1)\n",
    "hist_re_2 = histogram([ensemble_sol_re_early.u[i][4, end] for i in 1:trajectories],\n",
    "                    fillalpha = 0.5, normalize = :probability, bins = bins_re_2,\n",
    "                    label = \"Early\", title = L\"Death Proportion at $t = %$t_2$\")\n",
    "histogram!(hist_re_2, [ensemble_sol_re_late.u[i][4, end] for i in 1:trajectories],\n",
    "        label = \"Late\", fillalpha = 0.5, normalize = :probability,\n",
    "        bins =  bins = bins_re_2)\n",
    "plot(hist_re_1, hist_re_2, size = (600,600), layout = (2, 1))"
   ]
  },
  {
   "cell_type": "markdown",
   "id": "249cc14b",
   "metadata": {},
   "source": [
    "In this case, there are significant differences between the early and late deaths and high variance.\n",
    "\n",
    "This bleak simulation has assumed that no individuals has long-term immunity and that there will be no medical advancements on that time horizon - both of which are unlikely to be true.\n",
    "\n",
    "Nevertheless, it suggest that the timing of lifting lockdown has a more profound impact after 18 months if we allow stochastic shocks imperfect immunity."
   ]
  },
  {
   "cell_type": "code",
   "execution_count": null,
   "id": "87e2603a",
   "metadata": {},
   "outputs": [],
   "source": []
  }
 ],
 "metadata": {
  "date": 1672949733.5988162,
  "filename": "covid_sde.md",
  "kernelspec": {
   "display_name": "Julia 1.8.2",
   "language": "julia",
   "name": "julia-1.8"
  },
  "language_info": {
   "file_extension": ".jl",
   "mimetype": "application/julia",
   "name": "julia",
   "version": "1.8.2"
  },
  "title": "Modeling Shocks in COVID 19 with Stochastic Differential Equations"
 },
 "nbformat": 4,
 "nbformat_minor": 5
}
